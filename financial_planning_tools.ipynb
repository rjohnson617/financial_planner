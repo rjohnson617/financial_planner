{
 "cells": [
  {
   "cell_type": "markdown",
   "metadata": {},
   "source": [
    "# Financial Planning with APIs and Simulations\n",
    "\n",
    "In this Challenge, you’ll create two financial analysis tools by using a single Jupyter notebook:\n",
    "\n",
    "Part 1: A financial planner for emergencies. The members will be able to use this tool to visualize their current savings. The members can then determine if they have enough reserves for an emergency fund.\n",
    "\n",
    "Part 2: A financial planner for retirement. This tool will forecast the performance of their retirement portfolio in 30 years. To do this, the tool will make an Alpaca API call via the Alpaca SDK to get historical price data for use in Monte Carlo simulations.\n",
    "\n",
    "You’ll use the information from the Monte Carlo simulation to answer questions about the portfolio in your Jupyter notebook.\n",
    "\n"
   ]
  },
  {
   "cell_type": "code",
   "execution_count": 30,
   "metadata": {},
   "outputs": [],
   "source": [
    "# Import the required libraries and dependencies\n",
    "import os\n",
    "import requests\n",
    "import json\n",
    "import pandas as pd\n",
    "from dotenv import load_dotenv\n",
    "import alpaca_trade_api as tradeapi\n",
    "from MCForecastTools import MCSimulation\n",
    "from alpaca_trade_api import TimeFrame\n",
    "\n",
    "%matplotlib inline"
   ]
  },
  {
   "cell_type": "code",
   "execution_count": 31,
   "metadata": {},
   "outputs": [
    {
     "data": {
      "text/plain": [
       "True"
      ]
     },
     "execution_count": 31,
     "metadata": {},
     "output_type": "execute_result"
    }
   ],
   "source": [
    "# Load the environment variables from the .env file\n",
    "#by calling the load_dotenv function\n",
    "load_dotenv()"
   ]
  },
  {
   "cell_type": "markdown",
   "metadata": {},
   "source": [
    "## Part 1: Create a Financial Planner for Emergencies"
   ]
  },
  {
   "cell_type": "markdown",
   "metadata": {},
   "source": [
    "### Evaluate the Cryptocurrency Wallet by Using the Requests Library\n",
    "\n",
    "In this section, you’ll determine the current value of a member’s cryptocurrency wallet. You’ll collect the current prices for the Bitcoin and Ethereum cryptocurrencies by using the Python Requests library. For the prototype, you’ll assume that the member holds the 1.2 Bitcoins (BTC) and 5.3 Ethereum coins (ETH). To do all this, complete the following steps:\n",
    "\n",
    "1. Create a variable named `monthly_income`, and set its value to `12000`.\n",
    "\n",
    "2. Use the Requests library to get the current price (in US dollars) of Bitcoin (BTC) and Ethereum (ETH) by using the API endpoints that the starter code supplies.\n",
    "\n",
    "3. Navigate the JSON response object to access the current price of each coin, and store each in a variable.\n",
    "\n",
    "    > **Hint** Note the specific identifier for each cryptocurrency in the API JSON response. The Bitcoin identifier is `1`, and the Ethereum identifier is `1027`.\n",
    "\n",
    "4. Calculate the value, in US dollars, of the current amount of each cryptocurrency and of the entire cryptocurrency wallet.\n",
    "\n"
   ]
  },
  {
   "cell_type": "code",
   "execution_count": 32,
   "metadata": {},
   "outputs": [],
   "source": [
    "# The current number of coins for each cryptocurrency asset held in the portfolio.\n",
    "btc_coins = 1.2\n",
    "eth_coins = 5.3"
   ]
  },
  {
   "cell_type": "markdown",
   "metadata": {},
   "source": [
    "#### Step 1: Create a variable named `monthly_income`, and set its value to `12000`."
   ]
  },
  {
   "cell_type": "code",
   "execution_count": 4,
   "metadata": {},
   "outputs": [],
   "source": [
    "# The monthly amount for the member's household income\n",
    "monthly_income = 12000\n"
   ]
  },
  {
   "cell_type": "markdown",
   "metadata": {},
   "source": [
    "#### Review the endpoint URLs for the API calls to Free Crypto API in order to get the current pricing information for both BTC and ETH."
   ]
  },
  {
   "cell_type": "code",
   "execution_count": 5,
   "metadata": {},
   "outputs": [],
   "source": [
    "# The Free Crypto API Call endpoint URLs for the held cryptocurrency assets\n",
    "btc_url = \"https://api.alternative.me/v2/ticker/Bitcoin/?convert=USD\"\n",
    "eth_url = \"https://api.alternative.me/v2/ticker/Ethereum/?convert=USD\""
   ]
  },
  {
   "cell_type": "markdown",
   "metadata": {},
   "source": [
    "#### Step 2. Use the Requests library to get the current price (in US dollars) of Bitcoin (BTC) and Ethereum (ETH) by using the API endpoints that the starter code supplied."
   ]
  },
  {
   "cell_type": "code",
   "execution_count": 6,
   "metadata": {},
   "outputs": [
    {
     "name": "stdout",
     "output_type": "stream",
     "text": [
      "{\n",
      "    \"data\": {\n",
      "        \"1\": {\n",
      "            \"circulating_supply\": 18988950,\n",
      "            \"id\": 1,\n",
      "            \"last_updated\": 1647797968,\n",
      "            \"max_supply\": 21000000,\n",
      "            \"name\": \"Bitcoin\",\n",
      "            \"quotes\": {\n",
      "                \"USD\": {\n",
      "                    \"market_cap\": 783726830786,\n",
      "                    \"percent_change_1h\": -0.677988565912194,\n",
      "                    \"percent_change_24h\": -1.63236588514097,\n",
      "                    \"percent_change_7d\": 5.82298508750013,\n",
      "                    \"percentage_change_1h\": -0.677988565912194,\n",
      "                    \"percentage_change_24h\": -1.63236588514097,\n",
      "                    \"percentage_change_7d\": 5.82298508750013,\n",
      "                    \"price\": 41169.0,\n",
      "                    \"volume_24h\": 16642728074\n",
      "                }\n",
      "            },\n",
      "            \"rank\": 1,\n",
      "            \"symbol\": \"BTC\",\n",
      "            \"total_supply\": 18988950,\n",
      "            \"website_slug\": \"bitcoin\"\n",
      "        }\n",
      "    },\n",
      "    \"metadata\": {\n",
      "        \"error\": null,\n",
      "        \"num_cryptocurrencies\": 3105,\n",
      "        \"timestamp\": 1647797968\n",
      "    }\n",
      "}\n"
     ]
    }
   ],
   "source": [
    "# Using the Python requests library, make an API call to access the current price of BTC\n",
    "btc_response = requests.get(btc_url).json()\n",
    "\n",
    "# Use the json.dumps function to review the response data from the API call\n",
    "# Use the indent and sort_keys parameters to make the response object readable\n",
    "print(json.dumps(btc_response, indent=4, sort_keys=True))\n"
   ]
  },
  {
   "cell_type": "code",
   "execution_count": 7,
   "metadata": {},
   "outputs": [
    {
     "name": "stdout",
     "output_type": "stream",
     "text": [
      "{\n",
      "    \"data\": {\n",
      "        \"1027\": {\n",
      "            \"circulating_supply\": 120040150,\n",
      "            \"id\": 1027,\n",
      "            \"last_updated\": 1647798002,\n",
      "            \"max_supply\": 0,\n",
      "            \"name\": \"Ethereum\",\n",
      "            \"quotes\": {\n",
      "                \"USD\": {\n",
      "                    \"market_cap\": 341908939883,\n",
      "                    \"percent_change_1h\": -0.889858729218352,\n",
      "                    \"percent_change_24h\": -3.98766098710528,\n",
      "                    \"percent_change_7d\": 10.0817075276728,\n",
      "                    \"percentage_change_1h\": -0.889858729218352,\n",
      "                    \"percentage_change_24h\": -3.98766098710528,\n",
      "                    \"percentage_change_7d\": 10.0817075276728,\n",
      "                    \"price\": 2839.51,\n",
      "                    \"volume_24h\": 10883604621\n",
      "                }\n",
      "            },\n",
      "            \"rank\": 2,\n",
      "            \"symbol\": \"ETH\",\n",
      "            \"total_supply\": 120040150,\n",
      "            \"website_slug\": \"ethereum\"\n",
      "        }\n",
      "    },\n",
      "    \"metadata\": {\n",
      "        \"error\": null,\n",
      "        \"num_cryptocurrencies\": 3105,\n",
      "        \"timestamp\": 1647798002\n",
      "    }\n",
      "}\n"
     ]
    }
   ],
   "source": [
    "# Using the Python requests library, make an API call to access the current price ETH\n",
    "eth_response = requests.get(eth_url).json()\n",
    "\n",
    "# Use the json.dumps function to review the response data from the API call\n",
    "# Use the indent and sort_keys parameters to make the response object readable\n",
    "print(json.dumps(eth_response, indent=4, sort_keys=True))\n"
   ]
  },
  {
   "cell_type": "markdown",
   "metadata": {},
   "source": [
    "#### Step 3: Navigate the JSON response object to access the current price of each coin, and store each in a variable."
   ]
  },
  {
   "cell_type": "code",
   "execution_count": 8,
   "metadata": {},
   "outputs": [
    {
     "name": "stdout",
     "output_type": "stream",
     "text": [
      "The price for BTC is $ 41169.00\n"
     ]
    }
   ],
   "source": [
    "# Navigate the BTC response object to access the current price of BTC\n",
    "btc_price = btc_response['data']['1']['quotes']['USD']['price']\n",
    "\n",
    "# Print the current price of BTC\n",
    "print(f\"The price for BTC is ${btc_price: .2f}\")"
   ]
  },
  {
   "cell_type": "code",
   "execution_count": 9,
   "metadata": {},
   "outputs": [
    {
     "name": "stdout",
     "output_type": "stream",
     "text": [
      "The price for ETH is $ 2839.51\n"
     ]
    }
   ],
   "source": [
    "# Navigate the BTC response object to access the current price of ETH\n",
    "eth_price = eth_response['data']['1027']['quotes']['USD']['price']\n",
    "\n",
    "# Print the current price of ETH\n",
    "print(f\"The price for ETH is ${eth_price: .2f}\")"
   ]
  },
  {
   "cell_type": "markdown",
   "metadata": {},
   "source": [
    "### Step 4: Calculate the value, in US dollars, of the current amount of each cryptocurrency and of the entire cryptocurrency wallet."
   ]
  },
  {
   "cell_type": "code",
   "execution_count": 10,
   "metadata": {},
   "outputs": [
    {
     "name": "stdout",
     "output_type": "stream",
     "text": [
      "The current value of your BTC holdings is $ 49402.80\n"
     ]
    }
   ],
   "source": [
    "# Compute the current value of the BTC holding \n",
    "btc_value = btc_price * btc_coins\n",
    "\n",
    "# Print current value of your holding in BTC\n",
    "print(f\"The current value of your BTC holdings is ${btc_value: .2f}\")"
   ]
  },
  {
   "cell_type": "code",
   "execution_count": 11,
   "metadata": {},
   "outputs": [
    {
     "name": "stdout",
     "output_type": "stream",
     "text": [
      "The current value of your ETH holdings is $ 15049.40\n"
     ]
    }
   ],
   "source": [
    "# Compute the current value of the ETH holding \n",
    "eth_value = eth_price * eth_coins\n",
    "\n",
    "# Print current value of your holding in ETH\n",
    "print(f\"The current value of your ETH holdings is ${eth_value: .2f}\")"
   ]
  },
  {
   "cell_type": "code",
   "execution_count": 13,
   "metadata": {},
   "outputs": [
    {
     "name": "stdout",
     "output_type": "stream",
     "text": [
      "The total value of your cryptocurrency wallet is $ 64452.20\n"
     ]
    }
   ],
   "source": [
    "# Compute the total value of the cryptocurrency wallet\n",
    "# Add the value of the BTC holding to the value of the ETH holding\n",
    "total_crypto_wallet = btc_value + eth_value\n",
    "\n",
    "# Print current cryptocurrency wallet balance\n",
    "print(f\"The total value of your cryptocurrency wallet is ${total_crypto_wallet: .2f}\")"
   ]
  },
  {
   "cell_type": "markdown",
   "metadata": {},
   "source": [
    "### Evaluate the Stock and Bond Holdings by Using the Alpaca SDK\n",
    "\n",
    "In this section, you’ll determine the current value of a member’s stock and bond holdings. You’ll make an API call to Alpaca via the Alpaca SDK to get the current closing prices of the SPDR S&P 500 ETF Trust (ticker: SPY) and of the iShares Core US Aggregate Bond ETF (ticker: AGG). For the prototype, assume that the member holds 110 shares of SPY, which represents the stock portion of their portfolio, and 200 shares of AGG, which represents the bond portion. To do all this, complete the following steps:\n",
    "\n",
    "1. In the `Starter_Code` folder, create an environment file (`.env`) to store the values of your Alpaca API key and Alpaca secret key.\n",
    "\n",
    "2. Set the variables for the Alpaca API and secret keys. Using the Alpaca SDK, create the Alpaca `tradeapi.REST` object. In this object, include the parameters for the Alpaca API key, the secret key, and the version number.\n",
    "\n",
    "3. Set the following parameters for the Alpaca API call:\n",
    "\n",
    "    - `tickers`: Use the tickers for the member’s stock and bond holdings.\n",
    "\n",
    "    - `timeframe`: Use a time frame of one day.\n",
    "\n",
    "    - `start_date` and `end_date`: Use the same date for these parameters, and format them with the date of the previous weekday (or `2020-08-07`). This is because you want the one closing price for the most-recent trading day.\n",
    "\n",
    "4. Get the current closing prices for `SPY` and `AGG` by using the Alpaca `get_barset` function. Format the response as a Pandas DataFrame by including the `df` property at the end of the `get_barset` function.\n",
    "\n",
    "5. Navigating the Alpaca response DataFrame, select the `SPY` and `AGG` closing prices, and store them as variables.\n",
    "\n",
    "6. Calculate the value, in US dollars, of the current amount of shares in each of the stock and bond portions of the portfolio, and print the results.\n"
   ]
  },
  {
   "cell_type": "markdown",
   "metadata": {},
   "source": [
    "#### Review the total number of shares held in both (SPY) and (AGG)."
   ]
  },
  {
   "cell_type": "code",
   "execution_count": 12,
   "metadata": {},
   "outputs": [],
   "source": [
    "# Current amount of shares held in both the stock (SPY) and bond (AGG) portion of the portfolio.\n",
    "spy_shares = 110\n",
    "agg_shares = 200"
   ]
  },
  {
   "cell_type": "markdown",
   "metadata": {},
   "source": [
    "#### Step 1: In the `Starter_Code` folder, create an environment file (`.env`) to store the values of your Alpaca API key and Alpaca secret key."
   ]
  },
  {
   "cell_type": "markdown",
   "metadata": {},
   "source": [
    "#### Step 2: Set the variables for the Alpaca API and secret keys. Using the Alpaca SDK, create the Alpaca `tradeapi.REST` object. In this object, include the parameters for the Alpaca API key, the secret key, and the version number."
   ]
  },
  {
   "cell_type": "code",
   "execution_count": 33,
   "metadata": {},
   "outputs": [
    {
     "data": {
      "text/plain": [
       "str"
      ]
     },
     "metadata": {},
     "output_type": "display_data"
    },
    {
     "data": {
      "text/plain": [
       "str"
      ]
     },
     "metadata": {},
     "output_type": "display_data"
    }
   ],
   "source": [
    "# Set the variables for the Alpaca API and secret keys\n",
    "alpaca_api_key = os.getenv('Alpaca_API_Key')\n",
    "alpaca_secret_key = os.getenv('Alpaca_Secret_Key')\n",
    "\n",
    "display(type(alpaca_api_key))\n",
    "display(type(alpaca_secret_key))\n",
    "\n",
    "# Create the Alpaca tradeapi.REST object\n",
    "alpaca = tradeapi.REST(\n",
    "    alpaca_api_key,\n",
    "    alpaca_secret_key,\n",
    "    api_version='V2')"
   ]
  },
  {
   "cell_type": "markdown",
   "metadata": {},
   "source": [
    "#### Step 3: Set the following parameters for the Alpaca API call:\n",
    "\n",
    "- `tickers`: Use the tickers for the member’s stock and bond holdings.\n",
    "\n",
    "- `timeframe`: Use a time frame of one day.\n",
    "\n",
    "- `start_date` and `end_date`: Use the same date for these parameters, and format them with the date of the previous weekday (or `2020-08-07`). This is because you want the one closing price for the most-recent trading day.\n"
   ]
  },
  {
   "cell_type": "code",
   "execution_count": 34,
   "metadata": {},
   "outputs": [],
   "source": [
    "# Set the tickers for both the bond and stock portion of the portfolio\n",
    "tickers = ['SPY','AGG']\n",
    "\n",
    "# Set timeframe to 1D \n",
    "timeframe = TimeFrame.Day\n",
    "\n",
    "limit_rows = 1000\n",
    "\n",
    "# Format current date as ISO format\n",
    "# Set both the start and end date at the date of your prior weekday \n",
    "# This will give you the closing price of the previous trading day\n",
    "# Alternatively you can use a start and end date of 2020-08-07\n",
    "start_date = pd.Timestamp('2022-03-18', tz='America/New_York').isoformat()\n",
    "end_date = pd.Timestamp('2022-03-18', tz='America/New_York').isoformat()"
   ]
  },
  {
   "cell_type": "markdown",
   "metadata": {},
   "source": [
    "#### Step 4: Get the current closing prices for `SPY` and `AGG` by using the Alpaca `get_barset` function. Format the response as a Pandas DataFrame by including the `df` property at the end of the `get_barset` function."
   ]
  },
  {
   "cell_type": "code",
   "execution_count": 35,
   "metadata": {},
   "outputs": [
    {
     "data": {
      "text/html": [
       "<div>\n",
       "<style scoped>\n",
       "    .dataframe tbody tr th:only-of-type {\n",
       "        vertical-align: middle;\n",
       "    }\n",
       "\n",
       "    .dataframe tbody tr th {\n",
       "        vertical-align: top;\n",
       "    }\n",
       "\n",
       "    .dataframe thead th {\n",
       "        text-align: right;\n",
       "    }\n",
       "</style>\n",
       "<table border=\"1\" class=\"dataframe\">\n",
       "  <thead>\n",
       "    <tr style=\"text-align: right;\">\n",
       "      <th></th>\n",
       "      <th>open</th>\n",
       "      <th>high</th>\n",
       "      <th>low</th>\n",
       "      <th>close</th>\n",
       "      <th>volume</th>\n",
       "      <th>trade_count</th>\n",
       "      <th>vwap</th>\n",
       "      <th>symbol</th>\n",
       "    </tr>\n",
       "    <tr>\n",
       "      <th>timestamp</th>\n",
       "      <th></th>\n",
       "      <th></th>\n",
       "      <th></th>\n",
       "      <th></th>\n",
       "      <th></th>\n",
       "      <th></th>\n",
       "      <th></th>\n",
       "      <th></th>\n",
       "    </tr>\n",
       "  </thead>\n",
       "  <tbody>\n",
       "    <tr>\n",
       "      <th>2022-03-18 04:00:00+00:00</th>\n",
       "      <td>107.95</td>\n",
       "      <td>108.14</td>\n",
       "      <td>107.9203</td>\n",
       "      <td>108.10</td>\n",
       "      <td>7800354</td>\n",
       "      <td>23567</td>\n",
       "      <td>108.060585</td>\n",
       "      <td>AGG</td>\n",
       "    </tr>\n",
       "    <tr>\n",
       "      <th>2022-03-18 04:00:00+00:00</th>\n",
       "      <td>438.20</td>\n",
       "      <td>444.86</td>\n",
       "      <td>437.2200</td>\n",
       "      <td>444.52</td>\n",
       "      <td>102327793</td>\n",
       "      <td>790235</td>\n",
       "      <td>441.458916</td>\n",
       "      <td>SPY</td>\n",
       "    </tr>\n",
       "  </tbody>\n",
       "</table>\n",
       "</div>"
      ],
      "text/plain": [
       "                             open    high       low   close     volume  \\\n",
       "timestamp                                                                \n",
       "2022-03-18 04:00:00+00:00  107.95  108.14  107.9203  108.10    7800354   \n",
       "2022-03-18 04:00:00+00:00  438.20  444.86  437.2200  444.52  102327793   \n",
       "\n",
       "                           trade_count        vwap symbol  \n",
       "timestamp                                                  \n",
       "2022-03-18 04:00:00+00:00        23567  108.060585    AGG  \n",
       "2022-03-18 04:00:00+00:00       790235  441.458916    SPY  "
      ]
     },
     "execution_count": 35,
     "metadata": {},
     "output_type": "execute_result"
    }
   ],
   "source": [
    "# Use the Alpaca get_barset function to get current closing prices the portfolio\n",
    "# Be sure to set the `df` property after the function to format the response object as a DataFrame\n",
    "prices_df = alpaca.get_bars(tickers, timeframe ,start=start_date, end=end_date, limit=limit_rows).df\n",
    "\n",
    "# Review the first 5 rows of the Alpaca DataFrame\n",
    "prices_df.head()"
   ]
  },
  {
   "cell_type": "markdown",
   "metadata": {},
   "source": [
    "#### Step 5: Navigating the Alpaca response DataFrame, select the `SPY` and `AGG` closing prices, and store them as variables."
   ]
  },
  {
   "cell_type": "code",
   "execution_count": 49,
   "metadata": {},
   "outputs": [
    {
     "name": "stdout",
     "output_type": "stream",
     "text": [
      "The AGG closing price is: $ 108.10\n"
     ]
    }
   ],
   "source": [
    "# Access the closing price for AGG from the Alpaca DataFrame\n",
    "# Converting the value to a floating point number\n",
    "agg_close_price = float(alpaca.get_bars('AGG', timeframe ,start=start_date, end=end_date, limit=limit_rows).df['close'][0])\n",
    "\n",
    "# Print the AGG closing price\n",
    "print(f\"The AGG closing price is: ${agg_close_price: .2f}\")\n"
   ]
  },
  {
   "cell_type": "code",
   "execution_count": 50,
   "metadata": {},
   "outputs": [
    {
     "name": "stdout",
     "output_type": "stream",
     "text": [
      "The SPY closing price is: $ 444.52\n"
     ]
    }
   ],
   "source": [
    "# Access the closing price for SPY from the Alpaca DataFrame\n",
    "# Converting the value to a floating point number\n",
    "spy_close_price = float(alpaca.get_bars('SPY', timeframe ,start=start_date, end=end_date, limit=limit_rows).df['close'][0])\n",
    "\n",
    "# Print the SPY closing price\n",
    "print(f\"The SPY closing price is: ${spy_close_price: .2f}\")\n"
   ]
  },
  {
   "cell_type": "markdown",
   "metadata": {},
   "source": [
    "#### Step 6: Calculate the value, in US dollars, of the current amount of shares in each of the stock and bond portions of the portfolio, and print the results."
   ]
  },
  {
   "cell_type": "code",
   "execution_count": 51,
   "metadata": {},
   "outputs": [
    {
     "name": "stdout",
     "output_type": "stream",
     "text": [
      "The current value of the bond portion of the portfolio is: $ 21620.00\n"
     ]
    }
   ],
   "source": [
    "# Calculate the current value of the bond portion of the portfolio\n",
    "agg_value = agg_shares * agg_close_price\n",
    "\n",
    "# Print the current value of the bond portfolio\n",
    "print(f\"The current value of the bond portion of the portfolio is: ${agg_value: .2f}\")"
   ]
  },
  {
   "cell_type": "code",
   "execution_count": 52,
   "metadata": {},
   "outputs": [
    {
     "name": "stdout",
     "output_type": "stream",
     "text": [
      "The current value of the stock portion of the portfolio is: $ 48897.20\n"
     ]
    }
   ],
   "source": [
    "# Calculate the current value of the stock portion of the portfolio\n",
    "spy_value = spy_shares * spy_close_price\n",
    "\n",
    "# Print the current value of the stock portfolio\n",
    "print(f\"The current value of the stock portion of the portfolio is: ${spy_value: .2f}\")"
   ]
  },
  {
   "cell_type": "code",
   "execution_count": 53,
   "metadata": {},
   "outputs": [
    {
     "name": "stdout",
     "output_type": "stream",
     "text": [
      "The current balance of the stock and bond portion of the portfolio is: $ 70517.20\n"
     ]
    }
   ],
   "source": [
    "# Calculate the total value of the stock and bond portion of the portfolio\n",
    "total_stocks_bonds = agg_value + spy_value\n",
    "\n",
    "# Print the current balance of the stock and bond portion of the portfolio\n",
    "print(f\"The current balance of the stock and bond portion of the portfolio is: ${total_stocks_bonds: .2f}\")"
   ]
  },
  {
   "cell_type": "code",
   "execution_count": 54,
   "metadata": {},
   "outputs": [
    {
     "name": "stdout",
     "output_type": "stream",
     "text": [
      "The current value of the entire savings portfolion is: $ 134969.40\n"
     ]
    }
   ],
   "source": [
    "# Calculate the total value of the member's entire savings portfolio\n",
    "# Add the value of the cryptocurrency walled to the value of the total stocks and bonds\n",
    "total_portfolio = total_crypto_wallet + total_stocks_bonds\n",
    "\n",
    "# Print current cryptocurrency wallet balance\n",
    "print(f\"The current value of the entire savings portfolion is: ${total_portfolio: .2f}\")"
   ]
  },
  {
   "cell_type": "markdown",
   "metadata": {},
   "source": [
    "### Evaluate the Emergency Fund\n",
    "\n",
    "In this section, you’ll use the valuations for the cryptocurrency wallet and for the stock and bond portions of the portfolio to determine if the credit union member has enough savings to build an emergency fund into their financial plan. To do this, complete the following steps:\n",
    "\n",
    "1. Create a Python list named `savings_data` that has two elements. The first element contains the total value of the cryptocurrency wallet. The second element contains the total value of the stock and bond portions of the portfolio.\n",
    "\n",
    "2. Use the `savings_data` list to create a Pandas DataFrame named `savings_df`, and then display this DataFrame. The function to create the DataFrame should take the following three parameters:\n",
    "\n",
    "    - `savings_data`: Use the list that you just created.\n",
    "\n",
    "    - `columns`: Set this parameter equal to a Python list with a single value called `amount`.\n",
    "\n",
    "    - `index`: Set this parameter equal to a Python list with the values of `crypto` and `stock/bond`.\n",
    "\n",
    "3. Use the `savings_df` DataFrame to plot a pie chart that visualizes the composition of the member’s portfolio. The y-axis of the pie chart uses `amount`. Be sure to add a title.\n",
    "\n",
    "4. Using Python, determine if the current portfolio has enough to create an emergency fund as part of the member’s financial plan. Ideally, an emergency fund should equal to three times the member’s monthly income. To do this, implement the following steps:\n",
    "\n",
    "    1. Create a variable named `emergency_fund_value`, and set it equal to three times the value of the member’s `monthly_income` of $12000. (You set this earlier in Part 1).\n",
    "\n",
    "    2. Create a series of three if statements to determine if the member’s total portfolio is large enough to fund the emergency portfolio:\n",
    "\n",
    "        1. If the total portfolio value is greater than the emergency fund value, display a message congratulating the member for having enough money in this fund.\n",
    "\n",
    "        2. Else if the total portfolio value is equal to the emergency fund value, display a message congratulating the member on reaching this important financial goal.\n",
    "\n",
    "        3. Else the total portfolio is less than the emergency fund value, so display a message showing how many dollars away the member is from reaching the goal. (Subtract the total portfolio value from the emergency fund value.)\n"
   ]
  },
  {
   "cell_type": "markdown",
   "metadata": {},
   "source": [
    "#### Step 1: Create a Python list named `savings_data` that has two elements. The first element contains the total value of the cryptocurrency wallet. The second element contains the total value of the stock and bond portions of the portfolio."
   ]
  },
  {
   "cell_type": "code",
   "execution_count": 88,
   "metadata": {},
   "outputs": [
    {
     "data": {
      "text/plain": [
       "[64452.2, 70517.2]"
      ]
     },
     "execution_count": 88,
     "metadata": {},
     "output_type": "execute_result"
    }
   ],
   "source": [
    "# Consolidate financial assets data into a Python list\n",
    "savings_data = [round(total_crypto_wallet,2), round(total_stocks_bonds,2)]\n",
    "\n",
    "# Review the Python list savings_data\n",
    "savings_data\n",
    "    "
   ]
  },
  {
   "cell_type": "markdown",
   "metadata": {},
   "source": [
    "#### Step 2: Use the `savings_data` list to create a Pandas DataFrame named `savings_df`, and then display this DataFrame. The function to create the DataFrame should take the following three parameters:\n",
    "\n",
    "- `savings_data`: Use the list that you just created.\n",
    "\n",
    "- `columns`: Set this parameter equal to a Python list with a single value called `amount`.\n",
    "\n",
    "- `index`: Set this parameter equal to a Python list with the values of `crypto` and `stock/bond`.\n"
   ]
  },
  {
   "cell_type": "code",
   "execution_count": 89,
   "metadata": {},
   "outputs": [
    {
     "data": {
      "text/html": [
       "<div>\n",
       "<style scoped>\n",
       "    .dataframe tbody tr th:only-of-type {\n",
       "        vertical-align: middle;\n",
       "    }\n",
       "\n",
       "    .dataframe tbody tr th {\n",
       "        vertical-align: top;\n",
       "    }\n",
       "\n",
       "    .dataframe thead th {\n",
       "        text-align: right;\n",
       "    }\n",
       "</style>\n",
       "<table border=\"1\" class=\"dataframe\">\n",
       "  <thead>\n",
       "    <tr style=\"text-align: right;\">\n",
       "      <th></th>\n",
       "      <th>amount</th>\n",
       "    </tr>\n",
       "  </thead>\n",
       "  <tbody>\n",
       "    <tr>\n",
       "      <th>crypto</th>\n",
       "      <td>64452.2</td>\n",
       "    </tr>\n",
       "    <tr>\n",
       "      <th>stock/bond</th>\n",
       "      <td>70517.2</td>\n",
       "    </tr>\n",
       "  </tbody>\n",
       "</table>\n",
       "</div>"
      ],
      "text/plain": [
       "             amount\n",
       "crypto      64452.2\n",
       "stock/bond  70517.2"
      ]
     },
     "execution_count": 89,
     "metadata": {},
     "output_type": "execute_result"
    }
   ],
   "source": [
    "# Create a Pandas DataFrame called savings_df \n",
    "savings_index = ['crypto','stock/bond']\n",
    "#savings_df = pd.DataFrame(savings_data, index=savings_index, columns='amount')\n",
    "savings_df = pd.DataFrame(savings_data, index=savings_index, columns=['amount'])\n",
    "\n",
    "# Display the savings_df DataFrame\n",
    "savings_df\n"
   ]
  },
  {
   "cell_type": "markdown",
   "metadata": {},
   "source": [
    "#### Step 3: Use the `savings_df` DataFrame to plot a pie chart that visualizes the composition of the member’s portfolio. The y-axis of the pie chart uses `amount`. Be sure to add a title."
   ]
  },
  {
   "cell_type": "code",
   "execution_count": 93,
   "metadata": {},
   "outputs": [
    {
     "data": {
      "text/plain": [
       "<AxesSubplot:title={'center':'Investment Portfolio Composition'}, ylabel='amount'>"
      ]
     },
     "execution_count": 93,
     "metadata": {},
     "output_type": "execute_result"
    },
    {
     "data": {
      "image/png": "[encoded data removed]",
      "text/plain": [
       "<Figure size 720x720 with 1 Axes>"
      ]
     },
     "metadata": {},
     "output_type": "display_data"
    }
   ],
   "source": [
    "# Plot the total value of the member's portfolio (crypto and stock/bond) in a pie chart\n",
    "savings_df.plot.pie(figsize=(10,10), y = 'amount', title = 'Investment Portfolio Composition')\n"
   ]
  },
  {
   "cell_type": "markdown",
   "metadata": {},
   "source": [
    "#### Step 4: Using Python, determine if the current portfolio has enough to create an emergency fund as part of the member’s financial plan. Ideally, an emergency fund should equal to three times the member’s monthly income. To do this, implement the following steps:\n",
    "\n",
    "Step 1. Create a variable named `emergency_fund_value`, and set it equal to three times the value of the member’s `monthly_income` of 12000. (You set this earlier in Part 1).\n",
    "\n",
    "Step 2. Create a series of three if statements to determine if the member’s total portfolio is large enough to fund the emergency portfolio:\n",
    "\n",
    "* If the total portfolio value is greater than the emergency fund value, display a message congratulating the member for having enough money in this fund.\n",
    "\n",
    "* Else if the total portfolio value is equal to the emergency fund value, display a message congratulating the member on reaching this important financial goal.\n",
    "\n",
    "* Else the total portfolio is less than the emergency fund value, so display a message showing how many dollars away the member is from reaching the goal. (Subtract the total portfolio value from the emergency fund value.)\n"
   ]
  },
  {
   "cell_type": "markdown",
   "metadata": {},
   "source": [
    "##### Step 4-1: Create a variable named `emergency_fund_value`, and set it equal to three times the value of the member’s `monthly_income` of 12000. (You set this earlier in Part 1)."
   ]
  },
  {
   "cell_type": "code",
   "execution_count": 122,
   "metadata": {},
   "outputs": [],
   "source": [
    "# Create a variable named emergency_fund_value\n",
    "emergency_fund = monthly_income * 3"
   ]
  },
  {
   "cell_type": "markdown",
   "metadata": {},
   "source": [
    "##### Step 4-2: Create a series of three if statements to determine if the member’s total portfolio is large enough to fund the emergency portfolio:\n",
    "\n",
    "* If the total portfolio value is greater than the emergency fund value, display a message congratulating the member for having enough money in this fund.\n",
    "\n",
    "* Else if the total portfolio value is equal to the emergency fund value, display a message congratulating the member on reaching this important financial goal.\n",
    "\n",
    "* Else the total portfolio is less than the emergency fund value, so display a message showing how many dollars away the member is from reaching the goal. (Subtract the total portfolio value from the emergency fund value.)"
   ]
  },
  {
   "cell_type": "code",
   "execution_count": 125,
   "metadata": {},
   "outputs": [
    {
     "name": "stdout",
     "output_type": "stream",
     "text": [
      "Congratulations, you have enough money to support your emergency fund of $36000 with $ 98969.40 left to spare\n"
     ]
    }
   ],
   "source": [
    "# Evaluate the possibility of creating an emergency fund with 3 conditions:\n",
    "if total_portfolio > emergency_fund:\n",
    "    print(f\"Congratulations, you have enough money to support your emergency fund of ${emergency_fund} with ${(total_portfolio - emergency_fund): .2f} left to spare\")\n",
    "elif total_portfolio == float(emergency_fund):\n",
    "    print(\"Congratulations, you have enough money to support your emergency fund\")\n",
    "else:\n",
    "    print(f\"You do not have enough money for an emergency fund. Your total portfolio value is less than the emergency fund amount by ${(emergency_fund - total_portfolio): .2f}\")\n"
   ]
  },
  {
   "cell_type": "markdown",
   "metadata": {},
   "source": [
    "## Part 2: Create a Financial Planner for Retirement"
   ]
  },
  {
   "cell_type": "markdown",
   "metadata": {},
   "source": [
    "### Create the Monte Carlo Simulation\n",
    "\n",
    "In this section, you’ll use the MCForecastTools library to create a Monte Carlo simulation for the member’s savings portfolio. To do this, complete the following steps:\n",
    "\n",
    "1. Make an API call via the Alpaca SDK to get 3 years of historical closing prices for a traditional 60/40 portfolio split: 60% stocks (SPY) and 40% bonds (AGG).\n",
    "\n",
    "2. Run a Monte Carlo simulation of 500 samples and 30 years for the 60/40 portfolio, and then plot the results.The following image shows the overlay line plot resulting from a simulation with these characteristics. However, because a random number generator is used to run each live Monte Carlo simulation, your image will differ slightly from this exact image:\n",
    "\n",
    "![A screenshot depicts the resulting plot.](Images/5-4-monte-carlo-line-plot.png)\n",
    "\n",
    "3. Plot the probability distribution of the Monte Carlo simulation. Plot the probability distribution of the Monte Carlo simulation. The following image shows the histogram plot resulting from a simulation with these characteristics. However, because a random number generator is used to run each live Monte Carlo simulation, your image will differ slightly from this exact image:\n",
    "\n",
    "![A screenshot depicts the histogram plot.](Images/5-4-monte-carlo-histogram.png)\n",
    "\n",
    "4. Generate the summary statistics for the Monte Carlo simulation.\n",
    "\n"
   ]
  },
  {
   "cell_type": "markdown",
   "metadata": {},
   "source": [
    "#### Step 1: Make an API call via the Alpaca SDK to get 3 years of historical closing prices for a traditional 60/40 portfolio split: 60% stocks (SPY) and 40% bonds (AGG)."
   ]
  },
  {
   "cell_type": "code",
   "execution_count": 126,
   "metadata": {},
   "outputs": [],
   "source": [
    "# Set start and end dates of 3 years back from your current date\n",
    "# Alternatively, you can use an end date of 2020-08-07 and work 3 years back from that date \n",
    "start_date = pd.Timestamp('2019-03-18', tz='America/New_York').isoformat()\n",
    "end_date = pd.Timestamp('2022-03-18', tz='America/New_York').isoformat()\n",
    "\n",
    "# Set number of rows to 1000 to retrieve the maximum amount of rows\n",
    "limit_rows = 1000"
   ]
  },
  {
   "cell_type": "code",
   "execution_count": 130,
   "metadata": {},
   "outputs": [
    {
     "data": {
      "text/html": [
       "<div>\n",
       "<style scoped>\n",
       "    .dataframe tbody tr th:only-of-type {\n",
       "        vertical-align: middle;\n",
       "    }\n",
       "\n",
       "    .dataframe tbody tr th {\n",
       "        vertical-align: top;\n",
       "    }\n",
       "\n",
       "    .dataframe thead th {\n",
       "        text-align: right;\n",
       "    }\n",
       "</style>\n",
       "<table border=\"1\" class=\"dataframe\">\n",
       "  <thead>\n",
       "    <tr style=\"text-align: right;\">\n",
       "      <th></th>\n",
       "      <th>open</th>\n",
       "      <th>high</th>\n",
       "      <th>low</th>\n",
       "      <th>close</th>\n",
       "      <th>volume</th>\n",
       "      <th>trade_count</th>\n",
       "      <th>vwap</th>\n",
       "      <th>symbol</th>\n",
       "    </tr>\n",
       "    <tr>\n",
       "      <th>timestamp</th>\n",
       "      <th></th>\n",
       "      <th></th>\n",
       "      <th></th>\n",
       "      <th></th>\n",
       "      <th></th>\n",
       "      <th></th>\n",
       "      <th></th>\n",
       "      <th></th>\n",
       "    </tr>\n",
       "  </thead>\n",
       "  <tbody>\n",
       "    <tr>\n",
       "      <th>2019-03-18 04:00:00+00:00</th>\n",
       "      <td>107.67</td>\n",
       "      <td>107.7000</td>\n",
       "      <td>107.63</td>\n",
       "      <td>107.68</td>\n",
       "      <td>2295504</td>\n",
       "      <td>10320</td>\n",
       "      <td>107.669727</td>\n",
       "      <td>AGG</td>\n",
       "    </tr>\n",
       "    <tr>\n",
       "      <th>2019-03-19 04:00:00+00:00</th>\n",
       "      <td>107.58</td>\n",
       "      <td>107.7100</td>\n",
       "      <td>107.53</td>\n",
       "      <td>107.62</td>\n",
       "      <td>2928376</td>\n",
       "      <td>11343</td>\n",
       "      <td>107.624963</td>\n",
       "      <td>AGG</td>\n",
       "    </tr>\n",
       "    <tr>\n",
       "      <th>2019-03-20 04:00:00+00:00</th>\n",
       "      <td>107.71</td>\n",
       "      <td>108.0899</td>\n",
       "      <td>107.67</td>\n",
       "      <td>108.06</td>\n",
       "      <td>4237270</td>\n",
       "      <td>16333</td>\n",
       "      <td>107.889859</td>\n",
       "      <td>AGG</td>\n",
       "    </tr>\n",
       "    <tr>\n",
       "      <th>2019-03-21 04:00:00+00:00</th>\n",
       "      <td>108.13</td>\n",
       "      <td>108.1752</td>\n",
       "      <td>108.05</td>\n",
       "      <td>108.08</td>\n",
       "      <td>4192702</td>\n",
       "      <td>12205</td>\n",
       "      <td>108.099259</td>\n",
       "      <td>AGG</td>\n",
       "    </tr>\n",
       "    <tr>\n",
       "      <th>2019-03-22 04:00:00+00:00</th>\n",
       "      <td>108.46</td>\n",
       "      <td>108.7550</td>\n",
       "      <td>108.37</td>\n",
       "      <td>108.62</td>\n",
       "      <td>2464526</td>\n",
       "      <td>12307</td>\n",
       "      <td>108.613362</td>\n",
       "      <td>AGG</td>\n",
       "    </tr>\n",
       "  </tbody>\n",
       "</table>\n",
       "</div>"
      ],
      "text/plain": [
       "                             open      high     low   close   volume  \\\n",
       "timestamp                                                              \n",
       "2019-03-18 04:00:00+00:00  107.67  107.7000  107.63  107.68  2295504   \n",
       "2019-03-19 04:00:00+00:00  107.58  107.7100  107.53  107.62  2928376   \n",
       "2019-03-20 04:00:00+00:00  107.71  108.0899  107.67  108.06  4237270   \n",
       "2019-03-21 04:00:00+00:00  108.13  108.1752  108.05  108.08  4192702   \n",
       "2019-03-22 04:00:00+00:00  108.46  108.7550  108.37  108.62  2464526   \n",
       "\n",
       "                           trade_count        vwap symbol  \n",
       "timestamp                                                  \n",
       "2019-03-18 04:00:00+00:00        10320  107.669727    AGG  \n",
       "2019-03-19 04:00:00+00:00        11343  107.624963    AGG  \n",
       "2019-03-20 04:00:00+00:00        16333  107.889859    AGG  \n",
       "2019-03-21 04:00:00+00:00        12205  108.099259    AGG  \n",
       "2019-03-22 04:00:00+00:00        12307  108.613362    AGG  "
      ]
     },
     "metadata": {},
     "output_type": "display_data"
    },
    {
     "data": {
      "text/html": [
       "<div>\n",
       "<style scoped>\n",
       "    .dataframe tbody tr th:only-of-type {\n",
       "        vertical-align: middle;\n",
       "    }\n",
       "\n",
       "    .dataframe tbody tr th {\n",
       "        vertical-align: top;\n",
       "    }\n",
       "\n",
       "    .dataframe thead th {\n",
       "        text-align: right;\n",
       "    }\n",
       "</style>\n",
       "<table border=\"1\" class=\"dataframe\">\n",
       "  <thead>\n",
       "    <tr style=\"text-align: right;\">\n",
       "      <th></th>\n",
       "      <th>open</th>\n",
       "      <th>high</th>\n",
       "      <th>low</th>\n",
       "      <th>close</th>\n",
       "      <th>volume</th>\n",
       "      <th>trade_count</th>\n",
       "      <th>vwap</th>\n",
       "      <th>symbol</th>\n",
       "    </tr>\n",
       "    <tr>\n",
       "      <th>timestamp</th>\n",
       "      <th></th>\n",
       "      <th></th>\n",
       "      <th></th>\n",
       "      <th></th>\n",
       "      <th></th>\n",
       "      <th></th>\n",
       "      <th></th>\n",
       "      <th></th>\n",
       "    </tr>\n",
       "  </thead>\n",
       "  <tbody>\n",
       "    <tr>\n",
       "      <th>2020-02-24 05:00:00+00:00</th>\n",
       "      <td>323.17</td>\n",
       "      <td>333.5623</td>\n",
       "      <td>321.24</td>\n",
       "      <td>322.42</td>\n",
       "      <td>162311951</td>\n",
       "      <td>872759</td>\n",
       "      <td>324.325688</td>\n",
       "      <td>SPY</td>\n",
       "    </tr>\n",
       "    <tr>\n",
       "      <th>2020-02-25 05:00:00+00:00</th>\n",
       "      <td>323.97</td>\n",
       "      <td>324.6100</td>\n",
       "      <td>311.69</td>\n",
       "      <td>312.59</td>\n",
       "      <td>219005382</td>\n",
       "      <td>1448757</td>\n",
       "      <td>316.495238</td>\n",
       "      <td>SPY</td>\n",
       "    </tr>\n",
       "    <tr>\n",
       "      <th>2020-02-26 05:00:00+00:00</th>\n",
       "      <td>314.19</td>\n",
       "      <td>318.1100</td>\n",
       "      <td>310.70</td>\n",
       "      <td>311.61</td>\n",
       "      <td>195022730</td>\n",
       "      <td>1374137</td>\n",
       "      <td>313.607495</td>\n",
       "      <td>SPY</td>\n",
       "    </tr>\n",
       "    <tr>\n",
       "      <th>2020-02-27 05:00:00+00:00</th>\n",
       "      <td>305.42</td>\n",
       "      <td>311.5637</td>\n",
       "      <td>297.51</td>\n",
       "      <td>297.70</td>\n",
       "      <td>287045452</td>\n",
       "      <td>2154934</td>\n",
       "      <td>304.182190</td>\n",
       "      <td>SPY</td>\n",
       "    </tr>\n",
       "    <tr>\n",
       "      <th>2020-02-28 05:00:00+00:00</th>\n",
       "      <td>288.67</td>\n",
       "      <td>297.8920</td>\n",
       "      <td>285.54</td>\n",
       "      <td>296.24</td>\n",
       "      <td>389756653</td>\n",
       "      <td>2687374</td>\n",
       "      <td>292.306901</td>\n",
       "      <td>SPY</td>\n",
       "    </tr>\n",
       "  </tbody>\n",
       "</table>\n",
       "</div>"
      ],
      "text/plain": [
       "                             open      high     low   close     volume  \\\n",
       "timestamp                                                                \n",
       "2020-02-24 05:00:00+00:00  323.17  333.5623  321.24  322.42  162311951   \n",
       "2020-02-25 05:00:00+00:00  323.97  324.6100  311.69  312.59  219005382   \n",
       "2020-02-26 05:00:00+00:00  314.19  318.1100  310.70  311.61  195022730   \n",
       "2020-02-27 05:00:00+00:00  305.42  311.5637  297.51  297.70  287045452   \n",
       "2020-02-28 05:00:00+00:00  288.67  297.8920  285.54  296.24  389756653   \n",
       "\n",
       "                           trade_count        vwap symbol  \n",
       "timestamp                                                  \n",
       "2020-02-24 05:00:00+00:00       872759  324.325688    SPY  \n",
       "2020-02-25 05:00:00+00:00      1448757  316.495238    SPY  \n",
       "2020-02-26 05:00:00+00:00      1374137  313.607495    SPY  \n",
       "2020-02-27 05:00:00+00:00      2154934  304.182190    SPY  \n",
       "2020-02-28 05:00:00+00:00      2687374  292.306901    SPY  "
      ]
     },
     "metadata": {},
     "output_type": "display_data"
    }
   ],
   "source": [
    "# Use the Alpaca get_barset function to make the API call to get the 3 years worth of pricing data\n",
    "# The tickers and timeframe parameters should have been set in Part 1 of this activity \n",
    "# The start and end dates should be updated with the information set above\n",
    "# Remember to add the df property to the end of the call so the response is returned as a DataFrame\n",
    "hist_prices_df = alpaca.get_bars(tickers, timeframe ,start=start_date, end=end_date, limit=limit_rows).df\n",
    "\n",
    "\n",
    "# Display both the first and last five rows of the DataFrame\n",
    "display(hist_prices_df.head())\n",
    "display(hist_prices_df.tail())"
   ]
  },
  {
   "cell_type": "code",
   "execution_count": 131,
   "metadata": {},
   "outputs": [
    {
     "data": {
      "text/html": [
       "<div>\n",
       "<style scoped>\n",
       "    .dataframe tbody tr th:only-of-type {\n",
       "        vertical-align: middle;\n",
       "    }\n",
       "\n",
       "    .dataframe tbody tr th {\n",
       "        vertical-align: top;\n",
       "    }\n",
       "\n",
       "    .dataframe thead tr th {\n",
       "        text-align: left;\n",
       "    }\n",
       "\n",
       "    .dataframe thead tr:last-of-type th {\n",
       "        text-align: right;\n",
       "    }\n",
       "</style>\n",
       "<table border=\"1\" class=\"dataframe\">\n",
       "  <thead>\n",
       "    <tr>\n",
       "      <th></th>\n",
       "      <th colspan=\"7\" halign=\"left\">AGG</th>\n",
       "    </tr>\n",
       "    <tr>\n",
       "      <th></th>\n",
       "      <th>open</th>\n",
       "      <th>high</th>\n",
       "      <th>low</th>\n",
       "      <th>close</th>\n",
       "      <th>volume</th>\n",
       "      <th>trade_count</th>\n",
       "      <th>vwap</th>\n",
       "    </tr>\n",
       "    <tr>\n",
       "      <th>timestamp</th>\n",
       "      <th></th>\n",
       "      <th></th>\n",
       "      <th></th>\n",
       "      <th></th>\n",
       "      <th></th>\n",
       "      <th></th>\n",
       "      <th></th>\n",
       "    </tr>\n",
       "  </thead>\n",
       "  <tbody>\n",
       "    <tr>\n",
       "      <th>2019-03-18 04:00:00+00:00</th>\n",
       "      <td>107.67</td>\n",
       "      <td>107.7000</td>\n",
       "      <td>107.63</td>\n",
       "      <td>107.68</td>\n",
       "      <td>2295504</td>\n",
       "      <td>10320</td>\n",
       "      <td>107.669727</td>\n",
       "    </tr>\n",
       "    <tr>\n",
       "      <th>2019-03-19 04:00:00+00:00</th>\n",
       "      <td>107.58</td>\n",
       "      <td>107.7100</td>\n",
       "      <td>107.53</td>\n",
       "      <td>107.62</td>\n",
       "      <td>2928376</td>\n",
       "      <td>11343</td>\n",
       "      <td>107.624963</td>\n",
       "    </tr>\n",
       "    <tr>\n",
       "      <th>2019-03-20 04:00:00+00:00</th>\n",
       "      <td>107.71</td>\n",
       "      <td>108.0899</td>\n",
       "      <td>107.67</td>\n",
       "      <td>108.06</td>\n",
       "      <td>4237270</td>\n",
       "      <td>16333</td>\n",
       "      <td>107.889859</td>\n",
       "    </tr>\n",
       "    <tr>\n",
       "      <th>2019-03-21 04:00:00+00:00</th>\n",
       "      <td>108.13</td>\n",
       "      <td>108.1752</td>\n",
       "      <td>108.05</td>\n",
       "      <td>108.08</td>\n",
       "      <td>4192702</td>\n",
       "      <td>12205</td>\n",
       "      <td>108.099259</td>\n",
       "    </tr>\n",
       "    <tr>\n",
       "      <th>2019-03-22 04:00:00+00:00</th>\n",
       "      <td>108.46</td>\n",
       "      <td>108.7550</td>\n",
       "      <td>108.37</td>\n",
       "      <td>108.62</td>\n",
       "      <td>2464526</td>\n",
       "      <td>12307</td>\n",
       "      <td>108.613362</td>\n",
       "    </tr>\n",
       "  </tbody>\n",
       "</table>\n",
       "</div>"
      ],
      "text/plain": [
       "                              AGG                                     \\\n",
       "                             open      high     low   close   volume   \n",
       "timestamp                                                              \n",
       "2019-03-18 04:00:00+00:00  107.67  107.7000  107.63  107.68  2295504   \n",
       "2019-03-19 04:00:00+00:00  107.58  107.7100  107.53  107.62  2928376   \n",
       "2019-03-20 04:00:00+00:00  107.71  108.0899  107.67  108.06  4237270   \n",
       "2019-03-21 04:00:00+00:00  108.13  108.1752  108.05  108.08  4192702   \n",
       "2019-03-22 04:00:00+00:00  108.46  108.7550  108.37  108.62  2464526   \n",
       "\n",
       "                                                   \n",
       "                          trade_count        vwap  \n",
       "timestamp                                          \n",
       "2019-03-18 04:00:00+00:00       10320  107.669727  \n",
       "2019-03-19 04:00:00+00:00       11343  107.624963  \n",
       "2019-03-20 04:00:00+00:00       16333  107.889859  \n",
       "2019-03-21 04:00:00+00:00       12205  108.099259  \n",
       "2019-03-22 04:00:00+00:00       12307  108.613362  "
      ]
     },
     "metadata": {},
     "output_type": "display_data"
    },
    {
     "data": {
      "text/html": [
       "<div>\n",
       "<style scoped>\n",
       "    .dataframe tbody tr th:only-of-type {\n",
       "        vertical-align: middle;\n",
       "    }\n",
       "\n",
       "    .dataframe tbody tr th {\n",
       "        vertical-align: top;\n",
       "    }\n",
       "\n",
       "    .dataframe thead tr th {\n",
       "        text-align: left;\n",
       "    }\n",
       "\n",
       "    .dataframe thead tr:last-of-type th {\n",
       "        text-align: right;\n",
       "    }\n",
       "</style>\n",
       "<table border=\"1\" class=\"dataframe\">\n",
       "  <thead>\n",
       "    <tr>\n",
       "      <th></th>\n",
       "      <th colspan=\"7\" halign=\"left\">AGG</th>\n",
       "    </tr>\n",
       "    <tr>\n",
       "      <th></th>\n",
       "      <th>open</th>\n",
       "      <th>high</th>\n",
       "      <th>low</th>\n",
       "      <th>close</th>\n",
       "      <th>volume</th>\n",
       "      <th>trade_count</th>\n",
       "      <th>vwap</th>\n",
       "    </tr>\n",
       "    <tr>\n",
       "      <th>timestamp</th>\n",
       "      <th></th>\n",
       "      <th></th>\n",
       "      <th></th>\n",
       "      <th></th>\n",
       "      <th></th>\n",
       "      <th></th>\n",
       "      <th></th>\n",
       "    </tr>\n",
       "  </thead>\n",
       "  <tbody>\n",
       "    <tr>\n",
       "      <th>2022-03-14 04:00:00+00:00</th>\n",
       "      <td>107.78</td>\n",
       "      <td>107.816</td>\n",
       "      <td>107.3600</td>\n",
       "      <td>107.36</td>\n",
       "      <td>9492508</td>\n",
       "      <td>34364</td>\n",
       "      <td>107.571987</td>\n",
       "    </tr>\n",
       "    <tr>\n",
       "      <th>2022-03-15 04:00:00+00:00</th>\n",
       "      <td>107.83</td>\n",
       "      <td>107.920</td>\n",
       "      <td>107.4300</td>\n",
       "      <td>107.60</td>\n",
       "      <td>13841071</td>\n",
       "      <td>33852</td>\n",
       "      <td>107.622094</td>\n",
       "    </tr>\n",
       "    <tr>\n",
       "      <th>2022-03-16 04:00:00+00:00</th>\n",
       "      <td>107.63</td>\n",
       "      <td>107.730</td>\n",
       "      <td>107.0032</td>\n",
       "      <td>107.68</td>\n",
       "      <td>15809171</td>\n",
       "      <td>43366</td>\n",
       "      <td>107.553629</td>\n",
       "    </tr>\n",
       "    <tr>\n",
       "      <th>2022-03-17 04:00:00+00:00</th>\n",
       "      <td>107.87</td>\n",
       "      <td>108.060</td>\n",
       "      <td>107.7300</td>\n",
       "      <td>107.86</td>\n",
       "      <td>8005258</td>\n",
       "      <td>24093</td>\n",
       "      <td>107.889900</td>\n",
       "    </tr>\n",
       "    <tr>\n",
       "      <th>2022-03-18 04:00:00+00:00</th>\n",
       "      <td>107.95</td>\n",
       "      <td>108.140</td>\n",
       "      <td>107.9203</td>\n",
       "      <td>108.10</td>\n",
       "      <td>7800354</td>\n",
       "      <td>23567</td>\n",
       "      <td>108.060585</td>\n",
       "    </tr>\n",
       "  </tbody>\n",
       "</table>\n",
       "</div>"
      ],
      "text/plain": [
       "                              AGG                                       \\\n",
       "                             open     high       low   close    volume   \n",
       "timestamp                                                                \n",
       "2022-03-14 04:00:00+00:00  107.78  107.816  107.3600  107.36   9492508   \n",
       "2022-03-15 04:00:00+00:00  107.83  107.920  107.4300  107.60  13841071   \n",
       "2022-03-16 04:00:00+00:00  107.63  107.730  107.0032  107.68  15809171   \n",
       "2022-03-17 04:00:00+00:00  107.87  108.060  107.7300  107.86   8005258   \n",
       "2022-03-18 04:00:00+00:00  107.95  108.140  107.9203  108.10   7800354   \n",
       "\n",
       "                                                   \n",
       "                          trade_count        vwap  \n",
       "timestamp                                          \n",
       "2022-03-14 04:00:00+00:00       34364  107.571987  \n",
       "2022-03-15 04:00:00+00:00       33852  107.622094  \n",
       "2022-03-16 04:00:00+00:00       43366  107.553629  \n",
       "2022-03-17 04:00:00+00:00       24093  107.889900  \n",
       "2022-03-18 04:00:00+00:00       23567  108.060585  "
      ]
     },
     "metadata": {},
     "output_type": "display_data"
    }
   ],
   "source": [
    "prices_agg_df = alpaca.get_bars('AGG', timeframe ,start=start_date, end=end_date, limit=limit_rows).df\n",
    "column_names = [('AGG', x) for x in prices_agg_df.columns]\n",
    "prices_agg_df.columns = pd.MultiIndex.from_tuples(column_names)\n",
    "display(prices_agg_df.head())\n",
    "display(prices_agg_df.tail())"
   ]
  },
  {
   "cell_type": "code",
   "execution_count": 132,
   "metadata": {},
   "outputs": [
    {
     "data": {
      "text/html": [
       "<div>\n",
       "<style scoped>\n",
       "    .dataframe tbody tr th:only-of-type {\n",
       "        vertical-align: middle;\n",
       "    }\n",
       "\n",
       "    .dataframe tbody tr th {\n",
       "        vertical-align: top;\n",
       "    }\n",
       "\n",
       "    .dataframe thead tr th {\n",
       "        text-align: left;\n",
       "    }\n",
       "\n",
       "    .dataframe thead tr:last-of-type th {\n",
       "        text-align: right;\n",
       "    }\n",
       "</style>\n",
       "<table border=\"1\" class=\"dataframe\">\n",
       "  <thead>\n",
       "    <tr>\n",
       "      <th></th>\n",
       "      <th colspan=\"7\" halign=\"left\">SPY</th>\n",
       "    </tr>\n",
       "    <tr>\n",
       "      <th></th>\n",
       "      <th>open</th>\n",
       "      <th>high</th>\n",
       "      <th>low</th>\n",
       "      <th>close</th>\n",
       "      <th>volume</th>\n",
       "      <th>trade_count</th>\n",
       "      <th>vwap</th>\n",
       "    </tr>\n",
       "    <tr>\n",
       "      <th>timestamp</th>\n",
       "      <th></th>\n",
       "      <th></th>\n",
       "      <th></th>\n",
       "      <th></th>\n",
       "      <th></th>\n",
       "      <th></th>\n",
       "      <th></th>\n",
       "    </tr>\n",
       "  </thead>\n",
       "  <tbody>\n",
       "    <tr>\n",
       "      <th>2019-03-18 04:00:00+00:00</th>\n",
       "      <td>281.53</td>\n",
       "      <td>282.6600</td>\n",
       "      <td>281.30</td>\n",
       "      <td>282.42</td>\n",
       "      <td>62200340</td>\n",
       "      <td>268447</td>\n",
       "      <td>282.059401</td>\n",
       "    </tr>\n",
       "    <tr>\n",
       "      <th>2019-03-19 04:00:00+00:00</th>\n",
       "      <td>283.49</td>\n",
       "      <td>284.3600</td>\n",
       "      <td>281.41</td>\n",
       "      <td>282.51</td>\n",
       "      <td>90424199</td>\n",
       "      <td>366238</td>\n",
       "      <td>282.883102</td>\n",
       "    </tr>\n",
       "    <tr>\n",
       "      <th>2019-03-20 04:00:00+00:00</th>\n",
       "      <td>282.14</td>\n",
       "      <td>283.5000</td>\n",
       "      <td>280.32</td>\n",
       "      <td>281.50</td>\n",
       "      <td>84609331</td>\n",
       "      <td>449937</td>\n",
       "      <td>281.869201</td>\n",
       "    </tr>\n",
       "    <tr>\n",
       "      <th>2019-03-21 04:00:00+00:00</th>\n",
       "      <td>280.63</td>\n",
       "      <td>285.1800</td>\n",
       "      <td>280.59</td>\n",
       "      <td>284.58</td>\n",
       "      <td>79704575</td>\n",
       "      <td>378842</td>\n",
       "      <td>283.752190</td>\n",
       "    </tr>\n",
       "    <tr>\n",
       "      <th>2019-03-22 04:00:00+00:00</th>\n",
       "      <td>283.22</td>\n",
       "      <td>283.8034</td>\n",
       "      <td>279.18</td>\n",
       "      <td>279.34</td>\n",
       "      <td>124865796</td>\n",
       "      <td>615396</td>\n",
       "      <td>280.801091</td>\n",
       "    </tr>\n",
       "  </tbody>\n",
       "</table>\n",
       "</div>"
      ],
      "text/plain": [
       "                              SPY                                       \\\n",
       "                             open      high     low   close     volume   \n",
       "timestamp                                                                \n",
       "2019-03-18 04:00:00+00:00  281.53  282.6600  281.30  282.42   62200340   \n",
       "2019-03-19 04:00:00+00:00  283.49  284.3600  281.41  282.51   90424199   \n",
       "2019-03-20 04:00:00+00:00  282.14  283.5000  280.32  281.50   84609331   \n",
       "2019-03-21 04:00:00+00:00  280.63  285.1800  280.59  284.58   79704575   \n",
       "2019-03-22 04:00:00+00:00  283.22  283.8034  279.18  279.34  124865796   \n",
       "\n",
       "                                                   \n",
       "                          trade_count        vwap  \n",
       "timestamp                                          \n",
       "2019-03-18 04:00:00+00:00      268447  282.059401  \n",
       "2019-03-19 04:00:00+00:00      366238  282.883102  \n",
       "2019-03-20 04:00:00+00:00      449937  281.869201  \n",
       "2019-03-21 04:00:00+00:00      378842  283.752190  \n",
       "2019-03-22 04:00:00+00:00      615396  280.801091  "
      ]
     },
     "metadata": {},
     "output_type": "display_data"
    },
    {
     "data": {
      "text/html": [
       "<div>\n",
       "<style scoped>\n",
       "    .dataframe tbody tr th:only-of-type {\n",
       "        vertical-align: middle;\n",
       "    }\n",
       "\n",
       "    .dataframe tbody tr th {\n",
       "        vertical-align: top;\n",
       "    }\n",
       "\n",
       "    .dataframe thead tr th {\n",
       "        text-align: left;\n",
       "    }\n",
       "\n",
       "    .dataframe thead tr:last-of-type th {\n",
       "        text-align: right;\n",
       "    }\n",
       "</style>\n",
       "<table border=\"1\" class=\"dataframe\">\n",
       "  <thead>\n",
       "    <tr>\n",
       "      <th></th>\n",
       "      <th colspan=\"7\" halign=\"left\">SPY</th>\n",
       "    </tr>\n",
       "    <tr>\n",
       "      <th></th>\n",
       "      <th>open</th>\n",
       "      <th>high</th>\n",
       "      <th>low</th>\n",
       "      <th>close</th>\n",
       "      <th>volume</th>\n",
       "      <th>trade_count</th>\n",
       "      <th>vwap</th>\n",
       "    </tr>\n",
       "    <tr>\n",
       "      <th>timestamp</th>\n",
       "      <th></th>\n",
       "      <th></th>\n",
       "      <th></th>\n",
       "      <th></th>\n",
       "      <th></th>\n",
       "      <th></th>\n",
       "      <th></th>\n",
       "    </tr>\n",
       "  </thead>\n",
       "  <tbody>\n",
       "    <tr>\n",
       "      <th>2022-03-14 04:00:00+00:00</th>\n",
       "      <td>420.975</td>\n",
       "      <td>424.55</td>\n",
       "      <td>415.79</td>\n",
       "      <td>417.00</td>\n",
       "      <td>91930409</td>\n",
       "      <td>863515</td>\n",
       "      <td>419.203845</td>\n",
       "    </tr>\n",
       "    <tr>\n",
       "      <th>2022-03-15 04:00:00+00:00</th>\n",
       "      <td>419.900</td>\n",
       "      <td>426.84</td>\n",
       "      <td>418.42</td>\n",
       "      <td>426.17</td>\n",
       "      <td>104219651</td>\n",
       "      <td>920659</td>\n",
       "      <td>422.752423</td>\n",
       "    </tr>\n",
       "    <tr>\n",
       "      <th>2022-03-16 04:00:00+00:00</th>\n",
       "      <td>429.940</td>\n",
       "      <td>435.68</td>\n",
       "      <td>424.80</td>\n",
       "      <td>435.62</td>\n",
       "      <td>138130298</td>\n",
       "      <td>1344164</td>\n",
       "      <td>431.339744</td>\n",
       "    </tr>\n",
       "    <tr>\n",
       "      <th>2022-03-17 04:00:00+00:00</th>\n",
       "      <td>433.700</td>\n",
       "      <td>441.07</td>\n",
       "      <td>433.19</td>\n",
       "      <td>441.07</td>\n",
       "      <td>100157174</td>\n",
       "      <td>784018</td>\n",
       "      <td>437.706981</td>\n",
       "    </tr>\n",
       "    <tr>\n",
       "      <th>2022-03-18 04:00:00+00:00</th>\n",
       "      <td>438.200</td>\n",
       "      <td>444.86</td>\n",
       "      <td>437.22</td>\n",
       "      <td>444.52</td>\n",
       "      <td>102327793</td>\n",
       "      <td>790235</td>\n",
       "      <td>441.458916</td>\n",
       "    </tr>\n",
       "  </tbody>\n",
       "</table>\n",
       "</div>"
      ],
      "text/plain": [
       "                               SPY                                     \\\n",
       "                              open    high     low   close     volume   \n",
       "timestamp                                                               \n",
       "2022-03-14 04:00:00+00:00  420.975  424.55  415.79  417.00   91930409   \n",
       "2022-03-15 04:00:00+00:00  419.900  426.84  418.42  426.17  104219651   \n",
       "2022-03-16 04:00:00+00:00  429.940  435.68  424.80  435.62  138130298   \n",
       "2022-03-17 04:00:00+00:00  433.700  441.07  433.19  441.07  100157174   \n",
       "2022-03-18 04:00:00+00:00  438.200  444.86  437.22  444.52  102327793   \n",
       "\n",
       "                                                   \n",
       "                          trade_count        vwap  \n",
       "timestamp                                          \n",
       "2022-03-14 04:00:00+00:00      863515  419.203845  \n",
       "2022-03-15 04:00:00+00:00      920659  422.752423  \n",
       "2022-03-16 04:00:00+00:00     1344164  431.339744  \n",
       "2022-03-17 04:00:00+00:00      784018  437.706981  \n",
       "2022-03-18 04:00:00+00:00      790235  441.458916  "
      ]
     },
     "metadata": {},
     "output_type": "display_data"
    }
   ],
   "source": [
    "prices_spy_df = alpaca.get_bars('SPY', timeframe ,start=start_date, end=end_date, limit=limit_rows).df\n",
    "column_names = [('SPY', x) for x in prices_spy_df.columns]\n",
    "prices_spy_df.columns = pd.MultiIndex.from_tuples(column_names)\n",
    "display(prices_spy_df.head())\n",
    "display(prices_spy_df.tail())"
   ]
  },
  {
   "cell_type": "code",
   "execution_count": 134,
   "metadata": {},
   "outputs": [
    {
     "data": {
      "text/html": [
       "<div>\n",
       "<style scoped>\n",
       "    .dataframe tbody tr th:only-of-type {\n",
       "        vertical-align: middle;\n",
       "    }\n",
       "\n",
       "    .dataframe tbody tr th {\n",
       "        vertical-align: top;\n",
       "    }\n",
       "\n",
       "    .dataframe thead tr th {\n",
       "        text-align: left;\n",
       "    }\n",
       "\n",
       "    .dataframe thead tr:last-of-type th {\n",
       "        text-align: right;\n",
       "    }\n",
       "</style>\n",
       "<table border=\"1\" class=\"dataframe\">\n",
       "  <thead>\n",
       "    <tr>\n",
       "      <th></th>\n",
       "      <th colspan=\"7\" halign=\"left\">AGG</th>\n",
       "      <th colspan=\"7\" halign=\"left\">SPY</th>\n",
       "    </tr>\n",
       "    <tr>\n",
       "      <th></th>\n",
       "      <th>open</th>\n",
       "      <th>high</th>\n",
       "      <th>low</th>\n",
       "      <th>close</th>\n",
       "      <th>volume</th>\n",
       "      <th>trade_count</th>\n",
       "      <th>vwap</th>\n",
       "      <th>open</th>\n",
       "      <th>high</th>\n",
       "      <th>low</th>\n",
       "      <th>close</th>\n",
       "      <th>volume</th>\n",
       "      <th>trade_count</th>\n",
       "      <th>vwap</th>\n",
       "    </tr>\n",
       "    <tr>\n",
       "      <th>timestamp</th>\n",
       "      <th></th>\n",
       "      <th></th>\n",
       "      <th></th>\n",
       "      <th></th>\n",
       "      <th></th>\n",
       "      <th></th>\n",
       "      <th></th>\n",
       "      <th></th>\n",
       "      <th></th>\n",
       "      <th></th>\n",
       "      <th></th>\n",
       "      <th></th>\n",
       "      <th></th>\n",
       "      <th></th>\n",
       "    </tr>\n",
       "  </thead>\n",
       "  <tbody>\n",
       "    <tr>\n",
       "      <th>2019-03-18 04:00:00+00:00</th>\n",
       "      <td>107.67</td>\n",
       "      <td>107.7000</td>\n",
       "      <td>107.63</td>\n",
       "      <td>107.68</td>\n",
       "      <td>2295504</td>\n",
       "      <td>10320</td>\n",
       "      <td>107.669727</td>\n",
       "      <td>281.53</td>\n",
       "      <td>282.6600</td>\n",
       "      <td>281.30</td>\n",
       "      <td>282.42</td>\n",
       "      <td>62200340</td>\n",
       "      <td>268447</td>\n",
       "      <td>282.059401</td>\n",
       "    </tr>\n",
       "    <tr>\n",
       "      <th>2019-03-19 04:00:00+00:00</th>\n",
       "      <td>107.58</td>\n",
       "      <td>107.7100</td>\n",
       "      <td>107.53</td>\n",
       "      <td>107.62</td>\n",
       "      <td>2928376</td>\n",
       "      <td>11343</td>\n",
       "      <td>107.624963</td>\n",
       "      <td>283.49</td>\n",
       "      <td>284.3600</td>\n",
       "      <td>281.41</td>\n",
       "      <td>282.51</td>\n",
       "      <td>90424199</td>\n",
       "      <td>366238</td>\n",
       "      <td>282.883102</td>\n",
       "    </tr>\n",
       "    <tr>\n",
       "      <th>2019-03-20 04:00:00+00:00</th>\n",
       "      <td>107.71</td>\n",
       "      <td>108.0899</td>\n",
       "      <td>107.67</td>\n",
       "      <td>108.06</td>\n",
       "      <td>4237270</td>\n",
       "      <td>16333</td>\n",
       "      <td>107.889859</td>\n",
       "      <td>282.14</td>\n",
       "      <td>283.5000</td>\n",
       "      <td>280.32</td>\n",
       "      <td>281.50</td>\n",
       "      <td>84609331</td>\n",
       "      <td>449937</td>\n",
       "      <td>281.869201</td>\n",
       "    </tr>\n",
       "    <tr>\n",
       "      <th>2019-03-21 04:00:00+00:00</th>\n",
       "      <td>108.13</td>\n",
       "      <td>108.1752</td>\n",
       "      <td>108.05</td>\n",
       "      <td>108.08</td>\n",
       "      <td>4192702</td>\n",
       "      <td>12205</td>\n",
       "      <td>108.099259</td>\n",
       "      <td>280.63</td>\n",
       "      <td>285.1800</td>\n",
       "      <td>280.59</td>\n",
       "      <td>284.58</td>\n",
       "      <td>79704575</td>\n",
       "      <td>378842</td>\n",
       "      <td>283.752190</td>\n",
       "    </tr>\n",
       "    <tr>\n",
       "      <th>2019-03-22 04:00:00+00:00</th>\n",
       "      <td>108.46</td>\n",
       "      <td>108.7550</td>\n",
       "      <td>108.37</td>\n",
       "      <td>108.62</td>\n",
       "      <td>2464526</td>\n",
       "      <td>12307</td>\n",
       "      <td>108.613362</td>\n",
       "      <td>283.22</td>\n",
       "      <td>283.8034</td>\n",
       "      <td>279.18</td>\n",
       "      <td>279.34</td>\n",
       "      <td>124865796</td>\n",
       "      <td>615396</td>\n",
       "      <td>280.801091</td>\n",
       "    </tr>\n",
       "  </tbody>\n",
       "</table>\n",
       "</div>"
      ],
      "text/plain": [
       "                              AGG                                     \\\n",
       "                             open      high     low   close   volume   \n",
       "timestamp                                                              \n",
       "2019-03-18 04:00:00+00:00  107.67  107.7000  107.63  107.68  2295504   \n",
       "2019-03-19 04:00:00+00:00  107.58  107.7100  107.53  107.62  2928376   \n",
       "2019-03-20 04:00:00+00:00  107.71  108.0899  107.67  108.06  4237270   \n",
       "2019-03-21 04:00:00+00:00  108.13  108.1752  108.05  108.08  4192702   \n",
       "2019-03-22 04:00:00+00:00  108.46  108.7550  108.37  108.62  2464526   \n",
       "\n",
       "                                                      SPY                    \\\n",
       "                          trade_count        vwap    open      high     low   \n",
       "timestamp                                                                     \n",
       "2019-03-18 04:00:00+00:00       10320  107.669727  281.53  282.6600  281.30   \n",
       "2019-03-19 04:00:00+00:00       11343  107.624963  283.49  284.3600  281.41   \n",
       "2019-03-20 04:00:00+00:00       16333  107.889859  282.14  283.5000  280.32   \n",
       "2019-03-21 04:00:00+00:00       12205  108.099259  280.63  285.1800  280.59   \n",
       "2019-03-22 04:00:00+00:00       12307  108.613362  283.22  283.8034  279.18   \n",
       "\n",
       "                                                                      \n",
       "                            close     volume trade_count        vwap  \n",
       "timestamp                                                             \n",
       "2019-03-18 04:00:00+00:00  282.42   62200340      268447  282.059401  \n",
       "2019-03-19 04:00:00+00:00  282.51   90424199      366238  282.883102  \n",
       "2019-03-20 04:00:00+00:00  281.50   84609331      449937  281.869201  \n",
       "2019-03-21 04:00:00+00:00  284.58   79704575      378842  283.752190  \n",
       "2019-03-22 04:00:00+00:00  279.34  124865796      615396  280.801091  "
      ]
     },
     "metadata": {},
     "output_type": "display_data"
    },
    {
     "data": {
      "text/html": [
       "<div>\n",
       "<style scoped>\n",
       "    .dataframe tbody tr th:only-of-type {\n",
       "        vertical-align: middle;\n",
       "    }\n",
       "\n",
       "    .dataframe tbody tr th {\n",
       "        vertical-align: top;\n",
       "    }\n",
       "\n",
       "    .dataframe thead tr th {\n",
       "        text-align: left;\n",
       "    }\n",
       "\n",
       "    .dataframe thead tr:last-of-type th {\n",
       "        text-align: right;\n",
       "    }\n",
       "</style>\n",
       "<table border=\"1\" class=\"dataframe\">\n",
       "  <thead>\n",
       "    <tr>\n",
       "      <th></th>\n",
       "      <th colspan=\"7\" halign=\"left\">AGG</th>\n",
       "      <th colspan=\"7\" halign=\"left\">SPY</th>\n",
       "    </tr>\n",
       "    <tr>\n",
       "      <th></th>\n",
       "      <th>open</th>\n",
       "      <th>high</th>\n",
       "      <th>low</th>\n",
       "      <th>close</th>\n",
       "      <th>volume</th>\n",
       "      <th>trade_count</th>\n",
       "      <th>vwap</th>\n",
       "      <th>open</th>\n",
       "      <th>high</th>\n",
       "      <th>low</th>\n",
       "      <th>close</th>\n",
       "      <th>volume</th>\n",
       "      <th>trade_count</th>\n",
       "      <th>vwap</th>\n",
       "    </tr>\n",
       "    <tr>\n",
       "      <th>timestamp</th>\n",
       "      <th></th>\n",
       "      <th></th>\n",
       "      <th></th>\n",
       "      <th></th>\n",
       "      <th></th>\n",
       "      <th></th>\n",
       "      <th></th>\n",
       "      <th></th>\n",
       "      <th></th>\n",
       "      <th></th>\n",
       "      <th></th>\n",
       "      <th></th>\n",
       "      <th></th>\n",
       "      <th></th>\n",
       "    </tr>\n",
       "  </thead>\n",
       "  <tbody>\n",
       "    <tr>\n",
       "      <th>2022-03-14 04:00:00+00:00</th>\n",
       "      <td>107.78</td>\n",
       "      <td>107.816</td>\n",
       "      <td>107.3600</td>\n",
       "      <td>107.36</td>\n",
       "      <td>9492508</td>\n",
       "      <td>34364</td>\n",
       "      <td>107.571987</td>\n",
       "      <td>420.975</td>\n",
       "      <td>424.55</td>\n",
       "      <td>415.79</td>\n",
       "      <td>417.00</td>\n",
       "      <td>91930409</td>\n",
       "      <td>863515</td>\n",
       "      <td>419.203845</td>\n",
       "    </tr>\n",
       "    <tr>\n",
       "      <th>2022-03-15 04:00:00+00:00</th>\n",
       "      <td>107.83</td>\n",
       "      <td>107.920</td>\n",
       "      <td>107.4300</td>\n",
       "      <td>107.60</td>\n",
       "      <td>13841071</td>\n",
       "      <td>33852</td>\n",
       "      <td>107.622094</td>\n",
       "      <td>419.900</td>\n",
       "      <td>426.84</td>\n",
       "      <td>418.42</td>\n",
       "      <td>426.17</td>\n",
       "      <td>104219651</td>\n",
       "      <td>920659</td>\n",
       "      <td>422.752423</td>\n",
       "    </tr>\n",
       "    <tr>\n",
       "      <th>2022-03-16 04:00:00+00:00</th>\n",
       "      <td>107.63</td>\n",
       "      <td>107.730</td>\n",
       "      <td>107.0032</td>\n",
       "      <td>107.68</td>\n",
       "      <td>15809171</td>\n",
       "      <td>43366</td>\n",
       "      <td>107.553629</td>\n",
       "      <td>429.940</td>\n",
       "      <td>435.68</td>\n",
       "      <td>424.80</td>\n",
       "      <td>435.62</td>\n",
       "      <td>138130298</td>\n",
       "      <td>1344164</td>\n",
       "      <td>431.339744</td>\n",
       "    </tr>\n",
       "    <tr>\n",
       "      <th>2022-03-17 04:00:00+00:00</th>\n",
       "      <td>107.87</td>\n",
       "      <td>108.060</td>\n",
       "      <td>107.7300</td>\n",
       "      <td>107.86</td>\n",
       "      <td>8005258</td>\n",
       "      <td>24093</td>\n",
       "      <td>107.889900</td>\n",
       "      <td>433.700</td>\n",
       "      <td>441.07</td>\n",
       "      <td>433.19</td>\n",
       "      <td>441.07</td>\n",
       "      <td>100157174</td>\n",
       "      <td>784018</td>\n",
       "      <td>437.706981</td>\n",
       "    </tr>\n",
       "    <tr>\n",
       "      <th>2022-03-18 04:00:00+00:00</th>\n",
       "      <td>107.95</td>\n",
       "      <td>108.140</td>\n",
       "      <td>107.9203</td>\n",
       "      <td>108.10</td>\n",
       "      <td>7800354</td>\n",
       "      <td>23567</td>\n",
       "      <td>108.060585</td>\n",
       "      <td>438.200</td>\n",
       "      <td>444.86</td>\n",
       "      <td>437.22</td>\n",
       "      <td>444.52</td>\n",
       "      <td>102327793</td>\n",
       "      <td>790235</td>\n",
       "      <td>441.458916</td>\n",
       "    </tr>\n",
       "  </tbody>\n",
       "</table>\n",
       "</div>"
      ],
      "text/plain": [
       "                              AGG                                       \\\n",
       "                             open     high       low   close    volume   \n",
       "timestamp                                                                \n",
       "2022-03-14 04:00:00+00:00  107.78  107.816  107.3600  107.36   9492508   \n",
       "2022-03-15 04:00:00+00:00  107.83  107.920  107.4300  107.60  13841071   \n",
       "2022-03-16 04:00:00+00:00  107.63  107.730  107.0032  107.68  15809171   \n",
       "2022-03-17 04:00:00+00:00  107.87  108.060  107.7300  107.86   8005258   \n",
       "2022-03-18 04:00:00+00:00  107.95  108.140  107.9203  108.10   7800354   \n",
       "\n",
       "                                                       SPY                  \\\n",
       "                          trade_count        vwap     open    high     low   \n",
       "timestamp                                                                    \n",
       "2022-03-14 04:00:00+00:00       34364  107.571987  420.975  424.55  415.79   \n",
       "2022-03-15 04:00:00+00:00       33852  107.622094  419.900  426.84  418.42   \n",
       "2022-03-16 04:00:00+00:00       43366  107.553629  429.940  435.68  424.80   \n",
       "2022-03-17 04:00:00+00:00       24093  107.889900  433.700  441.07  433.19   \n",
       "2022-03-18 04:00:00+00:00       23567  108.060585  438.200  444.86  437.22   \n",
       "\n",
       "                                                                      \n",
       "                            close     volume trade_count        vwap  \n",
       "timestamp                                                             \n",
       "2022-03-14 04:00:00+00:00  417.00   91930409      863515  419.203845  \n",
       "2022-03-15 04:00:00+00:00  426.17  104219651      920659  422.752423  \n",
       "2022-03-16 04:00:00+00:00  435.62  138130298     1344164  431.339744  \n",
       "2022-03-17 04:00:00+00:00  441.07  100157174      784018  437.706981  \n",
       "2022-03-18 04:00:00+00:00  444.52  102327793      790235  441.458916  "
      ]
     },
     "metadata": {},
     "output_type": "display_data"
    }
   ],
   "source": [
    "price_hist_stock_bond_df = pd.merge(prices_agg_df, prices_spy_df, how = 'inner', left_index=True, right_index=True)\n",
    "display(price_hist_stock_bond_df.head())\n",
    "display(price_hist_stock_bond_df.tail())"
   ]
  },
  {
   "cell_type": "markdown",
   "metadata": {},
   "source": [
    "#### Step 2: Run a Monte Carlo simulation of 500 samples and 30 years for the 60/40 portfolio, and then plot the results."
   ]
  },
  {
   "cell_type": "code",
   "execution_count": 136,
   "metadata": {},
   "outputs": [
    {
     "data": {
      "text/html": [
       "<div>\n",
       "<style scoped>\n",
       "    .dataframe tbody tr th:only-of-type {\n",
       "        vertical-align: middle;\n",
       "    }\n",
       "\n",
       "    .dataframe tbody tr th {\n",
       "        vertical-align: top;\n",
       "    }\n",
       "\n",
       "    .dataframe thead tr th {\n",
       "        text-align: left;\n",
       "    }\n",
       "\n",
       "    .dataframe thead tr:last-of-type th {\n",
       "        text-align: right;\n",
       "    }\n",
       "</style>\n",
       "<table border=\"1\" class=\"dataframe\">\n",
       "  <thead>\n",
       "    <tr>\n",
       "      <th></th>\n",
       "      <th colspan=\"8\" halign=\"left\">AGG</th>\n",
       "      <th colspan=\"8\" halign=\"left\">SPY</th>\n",
       "    </tr>\n",
       "    <tr>\n",
       "      <th></th>\n",
       "      <th>open</th>\n",
       "      <th>high</th>\n",
       "      <th>low</th>\n",
       "      <th>close</th>\n",
       "      <th>volume</th>\n",
       "      <th>trade_count</th>\n",
       "      <th>vwap</th>\n",
       "      <th>daily_return</th>\n",
       "      <th>open</th>\n",
       "      <th>high</th>\n",
       "      <th>low</th>\n",
       "      <th>close</th>\n",
       "      <th>volume</th>\n",
       "      <th>trade_count</th>\n",
       "      <th>vwap</th>\n",
       "      <th>daily_return</th>\n",
       "    </tr>\n",
       "    <tr>\n",
       "      <th>timestamp</th>\n",
       "      <th></th>\n",
       "      <th></th>\n",
       "      <th></th>\n",
       "      <th></th>\n",
       "      <th></th>\n",
       "      <th></th>\n",
       "      <th></th>\n",
       "      <th></th>\n",
       "      <th></th>\n",
       "      <th></th>\n",
       "      <th></th>\n",
       "      <th></th>\n",
       "      <th></th>\n",
       "      <th></th>\n",
       "      <th></th>\n",
       "      <th></th>\n",
       "    </tr>\n",
       "  </thead>\n",
       "  <tbody>\n",
       "    <tr>\n",
       "      <th>2019-03-18 04:00:00+00:00</th>\n",
       "      <td>107.67</td>\n",
       "      <td>107.7000</td>\n",
       "      <td>107.63</td>\n",
       "      <td>107.68</td>\n",
       "      <td>2295504</td>\n",
       "      <td>10320</td>\n",
       "      <td>107.669727</td>\n",
       "      <td>NaN</td>\n",
       "      <td>281.53</td>\n",
       "      <td>282.6600</td>\n",
       "      <td>281.30</td>\n",
       "      <td>282.42</td>\n",
       "      <td>62200340</td>\n",
       "      <td>268447</td>\n",
       "      <td>282.059401</td>\n",
       "      <td>NaN</td>\n",
       "    </tr>\n",
       "    <tr>\n",
       "      <th>2019-03-19 04:00:00+00:00</th>\n",
       "      <td>107.58</td>\n",
       "      <td>107.7100</td>\n",
       "      <td>107.53</td>\n",
       "      <td>107.62</td>\n",
       "      <td>2928376</td>\n",
       "      <td>11343</td>\n",
       "      <td>107.624963</td>\n",
       "      <td>-0.000557</td>\n",
       "      <td>283.49</td>\n",
       "      <td>284.3600</td>\n",
       "      <td>281.41</td>\n",
       "      <td>282.51</td>\n",
       "      <td>90424199</td>\n",
       "      <td>366238</td>\n",
       "      <td>282.883102</td>\n",
       "      <td>0.000319</td>\n",
       "    </tr>\n",
       "    <tr>\n",
       "      <th>2019-03-20 04:00:00+00:00</th>\n",
       "      <td>107.71</td>\n",
       "      <td>108.0899</td>\n",
       "      <td>107.67</td>\n",
       "      <td>108.06</td>\n",
       "      <td>4237270</td>\n",
       "      <td>16333</td>\n",
       "      <td>107.889859</td>\n",
       "      <td>0.004088</td>\n",
       "      <td>282.14</td>\n",
       "      <td>283.5000</td>\n",
       "      <td>280.32</td>\n",
       "      <td>281.50</td>\n",
       "      <td>84609331</td>\n",
       "      <td>449937</td>\n",
       "      <td>281.869201</td>\n",
       "      <td>-0.003575</td>\n",
       "    </tr>\n",
       "    <tr>\n",
       "      <th>2019-03-21 04:00:00+00:00</th>\n",
       "      <td>108.13</td>\n",
       "      <td>108.1752</td>\n",
       "      <td>108.05</td>\n",
       "      <td>108.08</td>\n",
       "      <td>4192702</td>\n",
       "      <td>12205</td>\n",
       "      <td>108.099259</td>\n",
       "      <td>0.000185</td>\n",
       "      <td>280.63</td>\n",
       "      <td>285.1800</td>\n",
       "      <td>280.59</td>\n",
       "      <td>284.58</td>\n",
       "      <td>79704575</td>\n",
       "      <td>378842</td>\n",
       "      <td>283.752190</td>\n",
       "      <td>0.010941</td>\n",
       "    </tr>\n",
       "    <tr>\n",
       "      <th>2019-03-22 04:00:00+00:00</th>\n",
       "      <td>108.46</td>\n",
       "      <td>108.7550</td>\n",
       "      <td>108.37</td>\n",
       "      <td>108.62</td>\n",
       "      <td>2464526</td>\n",
       "      <td>12307</td>\n",
       "      <td>108.613362</td>\n",
       "      <td>0.004996</td>\n",
       "      <td>283.22</td>\n",
       "      <td>283.8034</td>\n",
       "      <td>279.18</td>\n",
       "      <td>279.34</td>\n",
       "      <td>124865796</td>\n",
       "      <td>615396</td>\n",
       "      <td>280.801091</td>\n",
       "      <td>-0.018413</td>\n",
       "    </tr>\n",
       "  </tbody>\n",
       "</table>\n",
       "</div>"
      ],
      "text/plain": [
       "                              AGG                                     \\\n",
       "                             open      high     low   close   volume   \n",
       "timestamp                                                              \n",
       "2019-03-18 04:00:00+00:00  107.67  107.7000  107.63  107.68  2295504   \n",
       "2019-03-19 04:00:00+00:00  107.58  107.7100  107.53  107.62  2928376   \n",
       "2019-03-20 04:00:00+00:00  107.71  108.0899  107.67  108.06  4237270   \n",
       "2019-03-21 04:00:00+00:00  108.13  108.1752  108.05  108.08  4192702   \n",
       "2019-03-22 04:00:00+00:00  108.46  108.7550  108.37  108.62  2464526   \n",
       "\n",
       "                                                                   SPY  \\\n",
       "                          trade_count        vwap daily_return    open   \n",
       "timestamp                                                                \n",
       "2019-03-18 04:00:00+00:00       10320  107.669727          NaN  281.53   \n",
       "2019-03-19 04:00:00+00:00       11343  107.624963    -0.000557  283.49   \n",
       "2019-03-20 04:00:00+00:00       16333  107.889859     0.004088  282.14   \n",
       "2019-03-21 04:00:00+00:00       12205  108.099259     0.000185  280.63   \n",
       "2019-03-22 04:00:00+00:00       12307  108.613362     0.004996  283.22   \n",
       "\n",
       "                                                                            \\\n",
       "                               high     low   close     volume trade_count   \n",
       "timestamp                                                                    \n",
       "2019-03-18 04:00:00+00:00  282.6600  281.30  282.42   62200340      268447   \n",
       "2019-03-19 04:00:00+00:00  284.3600  281.41  282.51   90424199      366238   \n",
       "2019-03-20 04:00:00+00:00  283.5000  280.32  281.50   84609331      449937   \n",
       "2019-03-21 04:00:00+00:00  285.1800  280.59  284.58   79704575      378842   \n",
       "2019-03-22 04:00:00+00:00  283.8034  279.18  279.34  124865796      615396   \n",
       "\n",
       "                                                    \n",
       "                                 vwap daily_return  \n",
       "timestamp                                           \n",
       "2019-03-18 04:00:00+00:00  282.059401          NaN  \n",
       "2019-03-19 04:00:00+00:00  282.883102     0.000319  \n",
       "2019-03-20 04:00:00+00:00  281.869201    -0.003575  \n",
       "2019-03-21 04:00:00+00:00  283.752190     0.010941  \n",
       "2019-03-22 04:00:00+00:00  280.801091    -0.018413  "
      ]
     },
     "execution_count": 136,
     "metadata": {},
     "output_type": "execute_result"
    }
   ],
   "source": [
    "# Configure the Monte Carlo simulation to forecast 30 years cumulative returns\n",
    "# The weights should be split 40% to AGG and 60% to SPY.\n",
    "# Run 500 samples.\n",
    "mc_60_40 = MCSimulation(\n",
    "    portfolio_data=price_hist_stock_bond_df,\n",
    "    weights=[.40,.60],\n",
    "    num_simulation=500,\n",
    "    num_trading_days=252*30)\n",
    "\n",
    "# Review the simulation input data\n",
    "mc_60_40.portfolio_data.head()"
   ]
  },
  {
   "cell_type": "code",
   "execution_count": 137,
   "metadata": {
    "collapsed": true,
    "jupyter": {
     "outputs_hidden": true
    },
    "tags": []
   },
   "outputs": [
    {
     "name": "stdout",
     "output_type": "stream",
     "text": [
      "Running Monte Carlo simulation number 0.\n",
      "Running Monte Carlo simulation number 10.\n",
      "Running Monte Carlo simulation number 20.\n",
      "Running Monte Carlo simulation number 30.\n",
      "Running Monte Carlo simulation number 40.\n",
      "Running Monte Carlo simulation number 50.\n",
      "Running Monte Carlo simulation number 60.\n",
      "Running Monte Carlo simulation number 70.\n",
      "Running Monte Carlo simulation number 80.\n",
      "Running Monte Carlo simulation number 90.\n",
      "Running Monte Carlo simulation number 100.\n"
     ]
    },
    {
     "name": "stderr",
     "output_type": "stream",
     "text": [
      "C:\\Users\\ryanr\\Desktop\\FinTech-Workspace\\Challenges\\Module_05_Challenge\\financial_planner\\MCForecastTools.py:117: PerformanceWarning: DataFrame is highly fragmented.  This is usually the result of calling `frame.insert` many times, which has poor performance.  Consider joining all columns at once using pd.concat(axis=1) instead. To get a de-fragmented frame, use `newframe = frame.copy()`\n",
      "  portfolio_cumulative_returns[n] = (1 + sim_df.fillna(0)).cumprod()\n",
      "C:\\Users\\ryanr\\Desktop\\FinTech-Workspace\\Challenges\\Module_05_Challenge\\financial_planner\\MCForecastTools.py:117: PerformanceWarning: DataFrame is highly fragmented.  This is usually the result of calling `frame.insert` many times, which has poor performance.  Consider joining all columns at once using pd.concat(axis=1) instead. To get a de-fragmented frame, use `newframe = frame.copy()`\n",
      "  portfolio_cumulative_returns[n] = (1 + sim_df.fillna(0)).cumprod()\n",
      "C:\\Users\\ryanr\\Desktop\\FinTech-Workspace\\Challenges\\Module_05_Challenge\\financial_planner\\MCForecastTools.py:117: PerformanceWarning: DataFrame is highly fragmented.  This is usually the result of calling `frame.insert` many times, which has poor performance.  Consider joining all columns at once using pd.concat(axis=1) instead. To get a de-fragmented frame, use `newframe = frame.copy()`\n",
      "  portfolio_cumulative_returns[n] = (1 + sim_df.fillna(0)).cumprod()\n",
      "C:\\Users\\ryanr\\Desktop\\FinTech-Workspace\\Challenges\\Module_05_Challenge\\financial_planner\\MCForecastTools.py:117: PerformanceWarning: DataFrame is highly fragmented.  This is usually the result of calling `frame.insert` many times, which has poor performance.  Consider joining all columns at once using pd.concat(axis=1) instead. To get a de-fragmented frame, use `newframe = frame.copy()`\n",
      "  portfolio_cumulative_returns[n] = (1 + sim_df.fillna(0)).cumprod()\n",
      "C:\\Users\\ryanr\\Desktop\\FinTech-Workspace\\Challenges\\Module_05_Challenge\\financial_planner\\MCForecastTools.py:117: PerformanceWarning: DataFrame is highly fragmented.  This is usually the result of calling `frame.insert` many times, which has poor performance.  Consider joining all columns at once using pd.concat(axis=1) instead. To get a de-fragmented frame, use `newframe = frame.copy()`\n",
      "  portfolio_cumulative_returns[n] = (1 + sim_df.fillna(0)).cumprod()\n",
      "C:\\Users\\ryanr\\Desktop\\FinTech-Workspace\\Challenges\\Module_05_Challenge\\financial_planner\\MCForecastTools.py:117: PerformanceWarning: DataFrame is highly fragmented.  This is usually the result of calling `frame.insert` many times, which has poor performance.  Consider joining all columns at once using pd.concat(axis=1) instead. To get a de-fragmented frame, use `newframe = frame.copy()`\n",
      "  portfolio_cumulative_returns[n] = (1 + sim_df.fillna(0)).cumprod()\n",
      "C:\\Users\\ryanr\\Desktop\\FinTech-Workspace\\Challenges\\Module_05_Challenge\\financial_planner\\MCForecastTools.py:117: PerformanceWarning: DataFrame is highly fragmented.  This is usually the result of calling `frame.insert` many times, which has poor performance.  Consider joining all columns at once using pd.concat(axis=1) instead. To get a de-fragmented frame, use `newframe = frame.copy()`\n",
      "  portfolio_cumulative_returns[n] = (1 + sim_df.fillna(0)).cumprod()\n",
      "C:\\Users\\ryanr\\Desktop\\FinTech-Workspace\\Challenges\\Module_05_Challenge\\financial_planner\\MCForecastTools.py:117: PerformanceWarning: DataFrame is highly fragmented.  This is usually the result of calling `frame.insert` many times, which has poor performance.  Consider joining all columns at once using pd.concat(axis=1) instead. To get a de-fragmented frame, use `newframe = frame.copy()`\n",
      "  portfolio_cumulative_returns[n] = (1 + sim_df.fillna(0)).cumprod()\n",
      "C:\\Users\\ryanr\\Desktop\\FinTech-Workspace\\Challenges\\Module_05_Challenge\\financial_planner\\MCForecastTools.py:117: PerformanceWarning: DataFrame is highly fragmented.  This is usually the result of calling `frame.insert` many times, which has poor performance.  Consider joining all columns at once using pd.concat(axis=1) instead. To get a de-fragmented frame, use `newframe = frame.copy()`\n",
      "  portfolio_cumulative_returns[n] = (1 + sim_df.fillna(0)).cumprod()\n",
      "C:\\Users\\ryanr\\Desktop\\FinTech-Workspace\\Challenges\\Module_05_Challenge\\financial_planner\\MCForecastTools.py:117: PerformanceWarning: DataFrame is highly fragmented.  This is usually the result of calling `frame.insert` many times, which has poor performance.  Consider joining all columns at once using pd.concat(axis=1) instead. To get a de-fragmented frame, use `newframe = frame.copy()`\n",
      "  portfolio_cumulative_returns[n] = (1 + sim_df.fillna(0)).cumprod()\n"
     ]
    },
    {
     "name": "stdout",
     "output_type": "stream",
     "text": [
      "Running Monte Carlo simulation number 110.\n"
     ]
    },
    {
     "name": "stderr",
     "output_type": "stream",
     "text": [
      "C:\\Users\\ryanr\\Desktop\\FinTech-Workspace\\Challenges\\Module_05_Challenge\\financial_planner\\MCForecastTools.py:117: PerformanceWarning: DataFrame is highly fragmented.  This is usually the result of calling `frame.insert` many times, which has poor performance.  Consider joining all columns at once using pd.concat(axis=1) instead. To get a de-fragmented frame, use `newframe = frame.copy()`\n",
      "  portfolio_cumulative_returns[n] = (1 + sim_df.fillna(0)).cumprod()\n",
      "C:\\Users\\ryanr\\Desktop\\FinTech-Workspace\\Challenges\\Module_05_Challenge\\financial_planner\\MCForecastTools.py:117: PerformanceWarning: DataFrame is highly fragmented.  This is usually the result of calling `frame.insert` many times, which has poor performance.  Consider joining all columns at once using pd.concat(axis=1) instead. To get a de-fragmented frame, use `newframe = frame.copy()`\n",
      "  portfolio_cumulative_returns[n] = (1 + sim_df.fillna(0)).cumprod()\n",
      "C:\\Users\\ryanr\\Desktop\\FinTech-Workspace\\Challenges\\Module_05_Challenge\\financial_planner\\MCForecastTools.py:117: PerformanceWarning: DataFrame is highly fragmented.  This is usually the result of calling `frame.insert` many times, which has poor performance.  Consider joining all columns at once using pd.concat(axis=1) instead. To get a de-fragmented frame, use `newframe = frame.copy()`\n",
      "  portfolio_cumulative_returns[n] = (1 + sim_df.fillna(0)).cumprod()\n",
      "C:\\Users\\ryanr\\Desktop\\FinTech-Workspace\\Challenges\\Module_05_Challenge\\financial_planner\\MCForecastTools.py:117: PerformanceWarning: DataFrame is highly fragmented.  This is usually the result of calling `frame.insert` many times, which has poor performance.  Consider joining all columns at once using pd.concat(axis=1) instead. To get a de-fragmented frame, use `newframe = frame.copy()`\n",
      "  portfolio_cumulative_returns[n] = (1 + sim_df.fillna(0)).cumprod()\n",
      "C:\\Users\\ryanr\\Desktop\\FinTech-Workspace\\Challenges\\Module_05_Challenge\\financial_planner\\MCForecastTools.py:117: PerformanceWarning: DataFrame is highly fragmented.  This is usually the result of calling `frame.insert` many times, which has poor performance.  Consider joining all columns at once using pd.concat(axis=1) instead. To get a de-fragmented frame, use `newframe = frame.copy()`\n",
      "  portfolio_cumulative_returns[n] = (1 + sim_df.fillna(0)).cumprod()\n",
      "C:\\Users\\ryanr\\Desktop\\FinTech-Workspace\\Challenges\\Module_05_Challenge\\financial_planner\\MCForecastTools.py:117: PerformanceWarning: DataFrame is highly fragmented.  This is usually the result of calling `frame.insert` many times, which has poor performance.  Consider joining all columns at once using pd.concat(axis=1) instead. To get a de-fragmented frame, use `newframe = frame.copy()`\n",
      "  portfolio_cumulative_returns[n] = (1 + sim_df.fillna(0)).cumprod()\n",
      "C:\\Users\\ryanr\\Desktop\\FinTech-Workspace\\Challenges\\Module_05_Challenge\\financial_planner\\MCForecastTools.py:117: PerformanceWarning: DataFrame is highly fragmented.  This is usually the result of calling `frame.insert` many times, which has poor performance.  Consider joining all columns at once using pd.concat(axis=1) instead. To get a de-fragmented frame, use `newframe = frame.copy()`\n",
      "  portfolio_cumulative_returns[n] = (1 + sim_df.fillna(0)).cumprod()\n",
      "C:\\Users\\ryanr\\Desktop\\FinTech-Workspace\\Challenges\\Module_05_Challenge\\financial_planner\\MCForecastTools.py:117: PerformanceWarning: DataFrame is highly fragmented.  This is usually the result of calling `frame.insert` many times, which has poor performance.  Consider joining all columns at once using pd.concat(axis=1) instead. To get a de-fragmented frame, use `newframe = frame.copy()`\n",
      "  portfolio_cumulative_returns[n] = (1 + sim_df.fillna(0)).cumprod()\n",
      "C:\\Users\\ryanr\\Desktop\\FinTech-Workspace\\Challenges\\Module_05_Challenge\\financial_planner\\MCForecastTools.py:117: PerformanceWarning: DataFrame is highly fragmented.  This is usually the result of calling `frame.insert` many times, which has poor performance.  Consider joining all columns at once using pd.concat(axis=1) instead. To get a de-fragmented frame, use `newframe = frame.copy()`\n",
      "  portfolio_cumulative_returns[n] = (1 + sim_df.fillna(0)).cumprod()\n",
      "C:\\Users\\ryanr\\Desktop\\FinTech-Workspace\\Challenges\\Module_05_Challenge\\financial_planner\\MCForecastTools.py:117: PerformanceWarning: DataFrame is highly fragmented.  This is usually the result of calling `frame.insert` many times, which has poor performance.  Consider joining all columns at once using pd.concat(axis=1) instead. To get a de-fragmented frame, use `newframe = frame.copy()`\n",
      "  portfolio_cumulative_returns[n] = (1 + sim_df.fillna(0)).cumprod()\n"
     ]
    },
    {
     "name": "stdout",
     "output_type": "stream",
     "text": [
      "Running Monte Carlo simulation number 120.\n"
     ]
    },
    {
     "name": "stderr",
     "output_type": "stream",
     "text": [
      "C:\\Users\\ryanr\\Desktop\\FinTech-Workspace\\Challenges\\Module_05_Challenge\\financial_planner\\MCForecastTools.py:117: PerformanceWarning: DataFrame is highly fragmented.  This is usually the result of calling `frame.insert` many times, which has poor performance.  Consider joining all columns at once using pd.concat(axis=1) instead. To get a de-fragmented frame, use `newframe = frame.copy()`\n",
      "  portfolio_cumulative_returns[n] = (1 + sim_df.fillna(0)).cumprod()\n",
      "C:\\Users\\ryanr\\Desktop\\FinTech-Workspace\\Challenges\\Module_05_Challenge\\financial_planner\\MCForecastTools.py:117: PerformanceWarning: DataFrame is highly fragmented.  This is usually the result of calling `frame.insert` many times, which has poor performance.  Consider joining all columns at once using pd.concat(axis=1) instead. To get a de-fragmented frame, use `newframe = frame.copy()`\n",
      "  portfolio_cumulative_returns[n] = (1 + sim_df.fillna(0)).cumprod()\n",
      "C:\\Users\\ryanr\\Desktop\\FinTech-Workspace\\Challenges\\Module_05_Challenge\\financial_planner\\MCForecastTools.py:117: PerformanceWarning: DataFrame is highly fragmented.  This is usually the result of calling `frame.insert` many times, which has poor performance.  Consider joining all columns at once using pd.concat(axis=1) instead. To get a de-fragmented frame, use `newframe = frame.copy()`\n",
      "  portfolio_cumulative_returns[n] = (1 + sim_df.fillna(0)).cumprod()\n",
      "C:\\Users\\ryanr\\Desktop\\FinTech-Workspace\\Challenges\\Module_05_Challenge\\financial_planner\\MCForecastTools.py:117: PerformanceWarning: DataFrame is highly fragmented.  This is usually the result of calling `frame.insert` many times, which has poor performance.  Consider joining all columns at once using pd.concat(axis=1) instead. To get a de-fragmented frame, use `newframe = frame.copy()`\n",
      "  portfolio_cumulative_returns[n] = (1 + sim_df.fillna(0)).cumprod()\n",
      "C:\\Users\\ryanr\\Desktop\\FinTech-Workspace\\Challenges\\Module_05_Challenge\\financial_planner\\MCForecastTools.py:117: PerformanceWarning: DataFrame is highly fragmented.  This is usually the result of calling `frame.insert` many times, which has poor performance.  Consider joining all columns at once using pd.concat(axis=1) instead. To get a de-fragmented frame, use `newframe = frame.copy()`\n",
      "  portfolio_cumulative_returns[n] = (1 + sim_df.fillna(0)).cumprod()\n",
      "C:\\Users\\ryanr\\Desktop\\FinTech-Workspace\\Challenges\\Module_05_Challenge\\financial_planner\\MCForecastTools.py:117: PerformanceWarning: DataFrame is highly fragmented.  This is usually the result of calling `frame.insert` many times, which has poor performance.  Consider joining all columns at once using pd.concat(axis=1) instead. To get a de-fragmented frame, use `newframe = frame.copy()`\n",
      "  portfolio_cumulative_returns[n] = (1 + sim_df.fillna(0)).cumprod()\n",
      "C:\\Users\\ryanr\\Desktop\\FinTech-Workspace\\Challenges\\Module_05_Challenge\\financial_planner\\MCForecastTools.py:117: PerformanceWarning: DataFrame is highly fragmented.  This is usually the result of calling `frame.insert` many times, which has poor performance.  Consider joining all columns at once using pd.concat(axis=1) instead. To get a de-fragmented frame, use `newframe = frame.copy()`\n",
      "  portfolio_cumulative_returns[n] = (1 + sim_df.fillna(0)).cumprod()\n",
      "C:\\Users\\ryanr\\Desktop\\FinTech-Workspace\\Challenges\\Module_05_Challenge\\financial_planner\\MCForecastTools.py:117: PerformanceWarning: DataFrame is highly fragmented.  This is usually the result of calling `frame.insert` many times, which has poor performance.  Consider joining all columns at once using pd.concat(axis=1) instead. To get a de-fragmented frame, use `newframe = frame.copy()`\n",
      "  portfolio_cumulative_returns[n] = (1 + sim_df.fillna(0)).cumprod()\n",
      "C:\\Users\\ryanr\\Desktop\\FinTech-Workspace\\Challenges\\Module_05_Challenge\\financial_planner\\MCForecastTools.py:117: PerformanceWarning: DataFrame is highly fragmented.  This is usually the result of calling `frame.insert` many times, which has poor performance.  Consider joining all columns at once using pd.concat(axis=1) instead. To get a de-fragmented frame, use `newframe = frame.copy()`\n",
      "  portfolio_cumulative_returns[n] = (1 + sim_df.fillna(0)).cumprod()\n",
      "C:\\Users\\ryanr\\Desktop\\FinTech-Workspace\\Challenges\\Module_05_Challenge\\financial_planner\\MCForecastTools.py:117: PerformanceWarning: DataFrame is highly fragmented.  This is usually the result of calling `frame.insert` many times, which has poor performance.  Consider joining all columns at once using pd.concat(axis=1) instead. To get a de-fragmented frame, use `newframe = frame.copy()`\n",
      "  portfolio_cumulative_returns[n] = (1 + sim_df.fillna(0)).cumprod()\n"
     ]
    },
    {
     "name": "stdout",
     "output_type": "stream",
     "text": [
      "Running Monte Carlo simulation number 130.\n"
     ]
    },
    {
     "name": "stderr",
     "output_type": "stream",
     "text": [
      "C:\\Users\\ryanr\\Desktop\\FinTech-Workspace\\Challenges\\Module_05_Challenge\\financial_planner\\MCForecastTools.py:117: PerformanceWarning: DataFrame is highly fragmented.  This is usually the result of calling `frame.insert` many times, which has poor performance.  Consider joining all columns at once using pd.concat(axis=1) instead. To get a de-fragmented frame, use `newframe = frame.copy()`\n",
      "  portfolio_cumulative_returns[n] = (1 + sim_df.fillna(0)).cumprod()\n",
      "C:\\Users\\ryanr\\Desktop\\FinTech-Workspace\\Challenges\\Module_05_Challenge\\financial_planner\\MCForecastTools.py:117: PerformanceWarning: DataFrame is highly fragmented.  This is usually the result of calling `frame.insert` many times, which has poor performance.  Consider joining all columns at once using pd.concat(axis=1) instead. To get a de-fragmented frame, use `newframe = frame.copy()`\n",
      "  portfolio_cumulative_returns[n] = (1 + sim_df.fillna(0)).cumprod()\n",
      "C:\\Users\\ryanr\\Desktop\\FinTech-Workspace\\Challenges\\Module_05_Challenge\\financial_planner\\MCForecastTools.py:117: PerformanceWarning: DataFrame is highly fragmented.  This is usually the result of calling `frame.insert` many times, which has poor performance.  Consider joining all columns at once using pd.concat(axis=1) instead. To get a de-fragmented frame, use `newframe = frame.copy()`\n",
      "  portfolio_cumulative_returns[n] = (1 + sim_df.fillna(0)).cumprod()\n",
      "C:\\Users\\ryanr\\Desktop\\FinTech-Workspace\\Challenges\\Module_05_Challenge\\financial_planner\\MCForecastTools.py:117: PerformanceWarning: DataFrame is highly fragmented.  This is usually the result of calling `frame.insert` many times, which has poor performance.  Consider joining all columns at once using pd.concat(axis=1) instead. To get a de-fragmented frame, use `newframe = frame.copy()`\n",
      "  portfolio_cumulative_returns[n] = (1 + sim_df.fillna(0)).cumprod()\n",
      "C:\\Users\\ryanr\\Desktop\\FinTech-Workspace\\Challenges\\Module_05_Challenge\\financial_planner\\MCForecastTools.py:117: PerformanceWarning: DataFrame is highly fragmented.  This is usually the result of calling `frame.insert` many times, which has poor performance.  Consider joining all columns at once using pd.concat(axis=1) instead. To get a de-fragmented frame, use `newframe = frame.copy()`\n",
      "  portfolio_cumulative_returns[n] = (1 + sim_df.fillna(0)).cumprod()\n",
      "C:\\Users\\ryanr\\Desktop\\FinTech-Workspace\\Challenges\\Module_05_Challenge\\financial_planner\\MCForecastTools.py:117: PerformanceWarning: DataFrame is highly fragmented.  This is usually the result of calling `frame.insert` many times, which has poor performance.  Consider joining all columns at once using pd.concat(axis=1) instead. To get a de-fragmented frame, use `newframe = frame.copy()`\n",
      "  portfolio_cumulative_returns[n] = (1 + sim_df.fillna(0)).cumprod()\n",
      "C:\\Users\\ryanr\\Desktop\\FinTech-Workspace\\Challenges\\Module_05_Challenge\\financial_planner\\MCForecastTools.py:117: PerformanceWarning: DataFrame is highly fragmented.  This is usually the result of calling `frame.insert` many times, which has poor performance.  Consider joining all columns at once using pd.concat(axis=1) instead. To get a de-fragmented frame, use `newframe = frame.copy()`\n",
      "  portfolio_cumulative_returns[n] = (1 + sim_df.fillna(0)).cumprod()\n",
      "C:\\Users\\ryanr\\Desktop\\FinTech-Workspace\\Challenges\\Module_05_Challenge\\financial_planner\\MCForecastTools.py:117: PerformanceWarning: DataFrame is highly fragmented.  This is usually the result of calling `frame.insert` many times, which has poor performance.  Consider joining all columns at once using pd.concat(axis=1) instead. To get a de-fragmented frame, use `newframe = frame.copy()`\n",
      "  portfolio_cumulative_returns[n] = (1 + sim_df.fillna(0)).cumprod()\n",
      "C:\\Users\\ryanr\\Desktop\\FinTech-Workspace\\Challenges\\Module_05_Challenge\\financial_planner\\MCForecastTools.py:117: PerformanceWarning: DataFrame is highly fragmented.  This is usually the result of calling `frame.insert` many times, which has poor performance.  Consider joining all columns at once using pd.concat(axis=1) instead. To get a de-fragmented frame, use `newframe = frame.copy()`\n",
      "  portfolio_cumulative_returns[n] = (1 + sim_df.fillna(0)).cumprod()\n",
      "C:\\Users\\ryanr\\Desktop\\FinTech-Workspace\\Challenges\\Module_05_Challenge\\financial_planner\\MCForecastTools.py:117: PerformanceWarning: DataFrame is highly fragmented.  This is usually the result of calling `frame.insert` many times, which has poor performance.  Consider joining all columns at once using pd.concat(axis=1) instead. To get a de-fragmented frame, use `newframe = frame.copy()`\n",
      "  portfolio_cumulative_returns[n] = (1 + sim_df.fillna(0)).cumprod()\n"
     ]
    },
    {
     "name": "stdout",
     "output_type": "stream",
     "text": [
      "Running Monte Carlo simulation number 140.\n"
     ]
    },
    {
     "name": "stderr",
     "output_type": "stream",
     "text": [
      "C:\\Users\\ryanr\\Desktop\\FinTech-Workspace\\Challenges\\Module_05_Challenge\\financial_planner\\MCForecastTools.py:117: PerformanceWarning: DataFrame is highly fragmented.  This is usually the result of calling `frame.insert` many times, which has poor performance.  Consider joining all columns at once using pd.concat(axis=1) instead. To get a de-fragmented frame, use `newframe = frame.copy()`\n",
      "  portfolio_cumulative_returns[n] = (1 + sim_df.fillna(0)).cumprod()\n",
      "C:\\Users\\ryanr\\Desktop\\FinTech-Workspace\\Challenges\\Module_05_Challenge\\financial_planner\\MCForecastTools.py:117: PerformanceWarning: DataFrame is highly fragmented.  This is usually the result of calling `frame.insert` many times, which has poor performance.  Consider joining all columns at once using pd.concat(axis=1) instead. To get a de-fragmented frame, use `newframe = frame.copy()`\n",
      "  portfolio_cumulative_returns[n] = (1 + sim_df.fillna(0)).cumprod()\n",
      "C:\\Users\\ryanr\\Desktop\\FinTech-Workspace\\Challenges\\Module_05_Challenge\\financial_planner\\MCForecastTools.py:117: PerformanceWarning: DataFrame is highly fragmented.  This is usually the result of calling `frame.insert` many times, which has poor performance.  Consider joining all columns at once using pd.concat(axis=1) instead. To get a de-fragmented frame, use `newframe = frame.copy()`\n",
      "  portfolio_cumulative_returns[n] = (1 + sim_df.fillna(0)).cumprod()\n",
      "C:\\Users\\ryanr\\Desktop\\FinTech-Workspace\\Challenges\\Module_05_Challenge\\financial_planner\\MCForecastTools.py:117: PerformanceWarning: DataFrame is highly fragmented.  This is usually the result of calling `frame.insert` many times, which has poor performance.  Consider joining all columns at once using pd.concat(axis=1) instead. To get a de-fragmented frame, use `newframe = frame.copy()`\n",
      "  portfolio_cumulative_returns[n] = (1 + sim_df.fillna(0)).cumprod()\n",
      "C:\\Users\\ryanr\\Desktop\\FinTech-Workspace\\Challenges\\Module_05_Challenge\\financial_planner\\MCForecastTools.py:117: PerformanceWarning: DataFrame is highly fragmented.  This is usually the result of calling `frame.insert` many times, which has poor performance.  Consider joining all columns at once using pd.concat(axis=1) instead. To get a de-fragmented frame, use `newframe = frame.copy()`\n",
      "  portfolio_cumulative_returns[n] = (1 + sim_df.fillna(0)).cumprod()\n",
      "C:\\Users\\ryanr\\Desktop\\FinTech-Workspace\\Challenges\\Module_05_Challenge\\financial_planner\\MCForecastTools.py:117: PerformanceWarning: DataFrame is highly fragmented.  This is usually the result of calling `frame.insert` many times, which has poor performance.  Consider joining all columns at once using pd.concat(axis=1) instead. To get a de-fragmented frame, use `newframe = frame.copy()`\n",
      "  portfolio_cumulative_returns[n] = (1 + sim_df.fillna(0)).cumprod()\n",
      "C:\\Users\\ryanr\\Desktop\\FinTech-Workspace\\Challenges\\Module_05_Challenge\\financial_planner\\MCForecastTools.py:117: PerformanceWarning: DataFrame is highly fragmented.  This is usually the result of calling `frame.insert` many times, which has poor performance.  Consider joining all columns at once using pd.concat(axis=1) instead. To get a de-fragmented frame, use `newframe = frame.copy()`\n",
      "  portfolio_cumulative_returns[n] = (1 + sim_df.fillna(0)).cumprod()\n",
      "C:\\Users\\ryanr\\Desktop\\FinTech-Workspace\\Challenges\\Module_05_Challenge\\financial_planner\\MCForecastTools.py:117: PerformanceWarning: DataFrame is highly fragmented.  This is usually the result of calling `frame.insert` many times, which has poor performance.  Consider joining all columns at once using pd.concat(axis=1) instead. To get a de-fragmented frame, use `newframe = frame.copy()`\n",
      "  portfolio_cumulative_returns[n] = (1 + sim_df.fillna(0)).cumprod()\n",
      "C:\\Users\\ryanr\\Desktop\\FinTech-Workspace\\Challenges\\Module_05_Challenge\\financial_planner\\MCForecastTools.py:117: PerformanceWarning: DataFrame is highly fragmented.  This is usually the result of calling `frame.insert` many times, which has poor performance.  Consider joining all columns at once using pd.concat(axis=1) instead. To get a de-fragmented frame, use `newframe = frame.copy()`\n",
      "  portfolio_cumulative_returns[n] = (1 + sim_df.fillna(0)).cumprod()\n",
      "C:\\Users\\ryanr\\Desktop\\FinTech-Workspace\\Challenges\\Module_05_Challenge\\financial_planner\\MCForecastTools.py:117: PerformanceWarning: DataFrame is highly fragmented.  This is usually the result of calling `frame.insert` many times, which has poor performance.  Consider joining all columns at once using pd.concat(axis=1) instead. To get a de-fragmented frame, use `newframe = frame.copy()`\n",
      "  portfolio_cumulative_returns[n] = (1 + sim_df.fillna(0)).cumprod()\n"
     ]
    },
    {
     "name": "stdout",
     "output_type": "stream",
     "text": [
      "Running Monte Carlo simulation number 150.\n"
     ]
    },
    {
     "name": "stderr",
     "output_type": "stream",
     "text": [
      "C:\\Users\\ryanr\\Desktop\\FinTech-Workspace\\Challenges\\Module_05_Challenge\\financial_planner\\MCForecastTools.py:117: PerformanceWarning: DataFrame is highly fragmented.  This is usually the result of calling `frame.insert` many times, which has poor performance.  Consider joining all columns at once using pd.concat(axis=1) instead. To get a de-fragmented frame, use `newframe = frame.copy()`\n",
      "  portfolio_cumulative_returns[n] = (1 + sim_df.fillna(0)).cumprod()\n",
      "C:\\Users\\ryanr\\Desktop\\FinTech-Workspace\\Challenges\\Module_05_Challenge\\financial_planner\\MCForecastTools.py:117: PerformanceWarning: DataFrame is highly fragmented.  This is usually the result of calling `frame.insert` many times, which has poor performance.  Consider joining all columns at once using pd.concat(axis=1) instead. To get a de-fragmented frame, use `newframe = frame.copy()`\n",
      "  portfolio_cumulative_returns[n] = (1 + sim_df.fillna(0)).cumprod()\n",
      "C:\\Users\\ryanr\\Desktop\\FinTech-Workspace\\Challenges\\Module_05_Challenge\\financial_planner\\MCForecastTools.py:117: PerformanceWarning: DataFrame is highly fragmented.  This is usually the result of calling `frame.insert` many times, which has poor performance.  Consider joining all columns at once using pd.concat(axis=1) instead. To get a de-fragmented frame, use `newframe = frame.copy()`\n",
      "  portfolio_cumulative_returns[n] = (1 + sim_df.fillna(0)).cumprod()\n",
      "C:\\Users\\ryanr\\Desktop\\FinTech-Workspace\\Challenges\\Module_05_Challenge\\financial_planner\\MCForecastTools.py:117: PerformanceWarning: DataFrame is highly fragmented.  This is usually the result of calling `frame.insert` many times, which has poor performance.  Consider joining all columns at once using pd.concat(axis=1) instead. To get a de-fragmented frame, use `newframe = frame.copy()`\n",
      "  portfolio_cumulative_returns[n] = (1 + sim_df.fillna(0)).cumprod()\n",
      "C:\\Users\\ryanr\\Desktop\\FinTech-Workspace\\Challenges\\Module_05_Challenge\\financial_planner\\MCForecastTools.py:117: PerformanceWarning: DataFrame is highly fragmented.  This is usually the result of calling `frame.insert` many times, which has poor performance.  Consider joining all columns at once using pd.concat(axis=1) instead. To get a de-fragmented frame, use `newframe = frame.copy()`\n",
      "  portfolio_cumulative_returns[n] = (1 + sim_df.fillna(0)).cumprod()\n",
      "C:\\Users\\ryanr\\Desktop\\FinTech-Workspace\\Challenges\\Module_05_Challenge\\financial_planner\\MCForecastTools.py:117: PerformanceWarning: DataFrame is highly fragmented.  This is usually the result of calling `frame.insert` many times, which has poor performance.  Consider joining all columns at once using pd.concat(axis=1) instead. To get a de-fragmented frame, use `newframe = frame.copy()`\n",
      "  portfolio_cumulative_returns[n] = (1 + sim_df.fillna(0)).cumprod()\n",
      "C:\\Users\\ryanr\\Desktop\\FinTech-Workspace\\Challenges\\Module_05_Challenge\\financial_planner\\MCForecastTools.py:117: PerformanceWarning: DataFrame is highly fragmented.  This is usually the result of calling `frame.insert` many times, which has poor performance.  Consider joining all columns at once using pd.concat(axis=1) instead. To get a de-fragmented frame, use `newframe = frame.copy()`\n",
      "  portfolio_cumulative_returns[n] = (1 + sim_df.fillna(0)).cumprod()\n",
      "C:\\Users\\ryanr\\Desktop\\FinTech-Workspace\\Challenges\\Module_05_Challenge\\financial_planner\\MCForecastTools.py:117: PerformanceWarning: DataFrame is highly fragmented.  This is usually the result of calling `frame.insert` many times, which has poor performance.  Consider joining all columns at once using pd.concat(axis=1) instead. To get a de-fragmented frame, use `newframe = frame.copy()`\n",
      "  portfolio_cumulative_returns[n] = (1 + sim_df.fillna(0)).cumprod()\n",
      "C:\\Users\\ryanr\\Desktop\\FinTech-Workspace\\Challenges\\Module_05_Challenge\\financial_planner\\MCForecastTools.py:117: PerformanceWarning: DataFrame is highly fragmented.  This is usually the result of calling `frame.insert` many times, which has poor performance.  Consider joining all columns at once using pd.concat(axis=1) instead. To get a de-fragmented frame, use `newframe = frame.copy()`\n",
      "  portfolio_cumulative_returns[n] = (1 + sim_df.fillna(0)).cumprod()\n",
      "C:\\Users\\ryanr\\Desktop\\FinTech-Workspace\\Challenges\\Module_05_Challenge\\financial_planner\\MCForecastTools.py:117: PerformanceWarning: DataFrame is highly fragmented.  This is usually the result of calling `frame.insert` many times, which has poor performance.  Consider joining all columns at once using pd.concat(axis=1) instead. To get a de-fragmented frame, use `newframe = frame.copy()`\n",
      "  portfolio_cumulative_returns[n] = (1 + sim_df.fillna(0)).cumprod()\n"
     ]
    },
    {
     "name": "stdout",
     "output_type": "stream",
     "text": [
      "Running Monte Carlo simulation number 160.\n"
     ]
    },
    {
     "name": "stderr",
     "output_type": "stream",
     "text": [
      "C:\\Users\\ryanr\\Desktop\\FinTech-Workspace\\Challenges\\Module_05_Challenge\\financial_planner\\MCForecastTools.py:117: PerformanceWarning: DataFrame is highly fragmented.  This is usually the result of calling `frame.insert` many times, which has poor performance.  Consider joining all columns at once using pd.concat(axis=1) instead. To get a de-fragmented frame, use `newframe = frame.copy()`\n",
      "  portfolio_cumulative_returns[n] = (1 + sim_df.fillna(0)).cumprod()\n",
      "C:\\Users\\ryanr\\Desktop\\FinTech-Workspace\\Challenges\\Module_05_Challenge\\financial_planner\\MCForecastTools.py:117: PerformanceWarning: DataFrame is highly fragmented.  This is usually the result of calling `frame.insert` many times, which has poor performance.  Consider joining all columns at once using pd.concat(axis=1) instead. To get a de-fragmented frame, use `newframe = frame.copy()`\n",
      "  portfolio_cumulative_returns[n] = (1 + sim_df.fillna(0)).cumprod()\n",
      "C:\\Users\\ryanr\\Desktop\\FinTech-Workspace\\Challenges\\Module_05_Challenge\\financial_planner\\MCForecastTools.py:117: PerformanceWarning: DataFrame is highly fragmented.  This is usually the result of calling `frame.insert` many times, which has poor performance.  Consider joining all columns at once using pd.concat(axis=1) instead. To get a de-fragmented frame, use `newframe = frame.copy()`\n",
      "  portfolio_cumulative_returns[n] = (1 + sim_df.fillna(0)).cumprod()\n",
      "C:\\Users\\ryanr\\Desktop\\FinTech-Workspace\\Challenges\\Module_05_Challenge\\financial_planner\\MCForecastTools.py:117: PerformanceWarning: DataFrame is highly fragmented.  This is usually the result of calling `frame.insert` many times, which has poor performance.  Consider joining all columns at once using pd.concat(axis=1) instead. To get a de-fragmented frame, use `newframe = frame.copy()`\n",
      "  portfolio_cumulative_returns[n] = (1 + sim_df.fillna(0)).cumprod()\n",
      "C:\\Users\\ryanr\\Desktop\\FinTech-Workspace\\Challenges\\Module_05_Challenge\\financial_planner\\MCForecastTools.py:117: PerformanceWarning: DataFrame is highly fragmented.  This is usually the result of calling `frame.insert` many times, which has poor performance.  Consider joining all columns at once using pd.concat(axis=1) instead. To get a de-fragmented frame, use `newframe = frame.copy()`\n",
      "  portfolio_cumulative_returns[n] = (1 + sim_df.fillna(0)).cumprod()\n",
      "C:\\Users\\ryanr\\Desktop\\FinTech-Workspace\\Challenges\\Module_05_Challenge\\financial_planner\\MCForecastTools.py:117: PerformanceWarning: DataFrame is highly fragmented.  This is usually the result of calling `frame.insert` many times, which has poor performance.  Consider joining all columns at once using pd.concat(axis=1) instead. To get a de-fragmented frame, use `newframe = frame.copy()`\n",
      "  portfolio_cumulative_returns[n] = (1 + sim_df.fillna(0)).cumprod()\n",
      "C:\\Users\\ryanr\\Desktop\\FinTech-Workspace\\Challenges\\Module_05_Challenge\\financial_planner\\MCForecastTools.py:117: PerformanceWarning: DataFrame is highly fragmented.  This is usually the result of calling `frame.insert` many times, which has poor performance.  Consider joining all columns at once using pd.concat(axis=1) instead. To get a de-fragmented frame, use `newframe = frame.copy()`\n",
      "  portfolio_cumulative_returns[n] = (1 + sim_df.fillna(0)).cumprod()\n",
      "C:\\Users\\ryanr\\Desktop\\FinTech-Workspace\\Challenges\\Module_05_Challenge\\financial_planner\\MCForecastTools.py:117: PerformanceWarning: DataFrame is highly fragmented.  This is usually the result of calling `frame.insert` many times, which has poor performance.  Consider joining all columns at once using pd.concat(axis=1) instead. To get a de-fragmented frame, use `newframe = frame.copy()`\n",
      "  portfolio_cumulative_returns[n] = (1 + sim_df.fillna(0)).cumprod()\n",
      "C:\\Users\\ryanr\\Desktop\\FinTech-Workspace\\Challenges\\Module_05_Challenge\\financial_planner\\MCForecastTools.py:117: PerformanceWarning: DataFrame is highly fragmented.  This is usually the result of calling `frame.insert` many times, which has poor performance.  Consider joining all columns at once using pd.concat(axis=1) instead. To get a de-fragmented frame, use `newframe = frame.copy()`\n",
      "  portfolio_cumulative_returns[n] = (1 + sim_df.fillna(0)).cumprod()\n",
      "C:\\Users\\ryanr\\Desktop\\FinTech-Workspace\\Challenges\\Module_05_Challenge\\financial_planner\\MCForecastTools.py:117: PerformanceWarning: DataFrame is highly fragmented.  This is usually the result of calling `frame.insert` many times, which has poor performance.  Consider joining all columns at once using pd.concat(axis=1) instead. To get a de-fragmented frame, use `newframe = frame.copy()`\n",
      "  portfolio_cumulative_returns[n] = (1 + sim_df.fillna(0)).cumprod()\n"
     ]
    },
    {
     "name": "stdout",
     "output_type": "stream",
     "text": [
      "Running Monte Carlo simulation number 170.\n"
     ]
    },
    {
     "name": "stderr",
     "output_type": "stream",
     "text": [
      "C:\\Users\\ryanr\\Desktop\\FinTech-Workspace\\Challenges\\Module_05_Challenge\\financial_planner\\MCForecastTools.py:117: PerformanceWarning: DataFrame is highly fragmented.  This is usually the result of calling `frame.insert` many times, which has poor performance.  Consider joining all columns at once using pd.concat(axis=1) instead. To get a de-fragmented frame, use `newframe = frame.copy()`\n",
      "  portfolio_cumulative_returns[n] = (1 + sim_df.fillna(0)).cumprod()\n",
      "C:\\Users\\ryanr\\Desktop\\FinTech-Workspace\\Challenges\\Module_05_Challenge\\financial_planner\\MCForecastTools.py:117: PerformanceWarning: DataFrame is highly fragmented.  This is usually the result of calling `frame.insert` many times, which has poor performance.  Consider joining all columns at once using pd.concat(axis=1) instead. To get a de-fragmented frame, use `newframe = frame.copy()`\n",
      "  portfolio_cumulative_returns[n] = (1 + sim_df.fillna(0)).cumprod()\n",
      "C:\\Users\\ryanr\\Desktop\\FinTech-Workspace\\Challenges\\Module_05_Challenge\\financial_planner\\MCForecastTools.py:117: PerformanceWarning: DataFrame is highly fragmented.  This is usually the result of calling `frame.insert` many times, which has poor performance.  Consider joining all columns at once using pd.concat(axis=1) instead. To get a de-fragmented frame, use `newframe = frame.copy()`\n",
      "  portfolio_cumulative_returns[n] = (1 + sim_df.fillna(0)).cumprod()\n",
      "C:\\Users\\ryanr\\Desktop\\FinTech-Workspace\\Challenges\\Module_05_Challenge\\financial_planner\\MCForecastTools.py:117: PerformanceWarning: DataFrame is highly fragmented.  This is usually the result of calling `frame.insert` many times, which has poor performance.  Consider joining all columns at once using pd.concat(axis=1) instead. To get a de-fragmented frame, use `newframe = frame.copy()`\n",
      "  portfolio_cumulative_returns[n] = (1 + sim_df.fillna(0)).cumprod()\n",
      "C:\\Users\\ryanr\\Desktop\\FinTech-Workspace\\Challenges\\Module_05_Challenge\\financial_planner\\MCForecastTools.py:117: PerformanceWarning: DataFrame is highly fragmented.  This is usually the result of calling `frame.insert` many times, which has poor performance.  Consider joining all columns at once using pd.concat(axis=1) instead. To get a de-fragmented frame, use `newframe = frame.copy()`\n",
      "  portfolio_cumulative_returns[n] = (1 + sim_df.fillna(0)).cumprod()\n",
      "C:\\Users\\ryanr\\Desktop\\FinTech-Workspace\\Challenges\\Module_05_Challenge\\financial_planner\\MCForecastTools.py:117: PerformanceWarning: DataFrame is highly fragmented.  This is usually the result of calling `frame.insert` many times, which has poor performance.  Consider joining all columns at once using pd.concat(axis=1) instead. To get a de-fragmented frame, use `newframe = frame.copy()`\n",
      "  portfolio_cumulative_returns[n] = (1 + sim_df.fillna(0)).cumprod()\n",
      "C:\\Users\\ryanr\\Desktop\\FinTech-Workspace\\Challenges\\Module_05_Challenge\\financial_planner\\MCForecastTools.py:117: PerformanceWarning: DataFrame is highly fragmented.  This is usually the result of calling `frame.insert` many times, which has poor performance.  Consider joining all columns at once using pd.concat(axis=1) instead. To get a de-fragmented frame, use `newframe = frame.copy()`\n",
      "  portfolio_cumulative_returns[n] = (1 + sim_df.fillna(0)).cumprod()\n",
      "C:\\Users\\ryanr\\Desktop\\FinTech-Workspace\\Challenges\\Module_05_Challenge\\financial_planner\\MCForecastTools.py:117: PerformanceWarning: DataFrame is highly fragmented.  This is usually the result of calling `frame.insert` many times, which has poor performance.  Consider joining all columns at once using pd.concat(axis=1) instead. To get a de-fragmented frame, use `newframe = frame.copy()`\n",
      "  portfolio_cumulative_returns[n] = (1 + sim_df.fillna(0)).cumprod()\n",
      "C:\\Users\\ryanr\\Desktop\\FinTech-Workspace\\Challenges\\Module_05_Challenge\\financial_planner\\MCForecastTools.py:117: PerformanceWarning: DataFrame is highly fragmented.  This is usually the result of calling `frame.insert` many times, which has poor performance.  Consider joining all columns at once using pd.concat(axis=1) instead. To get a de-fragmented frame, use `newframe = frame.copy()`\n",
      "  portfolio_cumulative_returns[n] = (1 + sim_df.fillna(0)).cumprod()\n",
      "C:\\Users\\ryanr\\Desktop\\FinTech-Workspace\\Challenges\\Module_05_Challenge\\financial_planner\\MCForecastTools.py:117: PerformanceWarning: DataFrame is highly fragmented.  This is usually the result of calling `frame.insert` many times, which has poor performance.  Consider joining all columns at once using pd.concat(axis=1) instead. To get a de-fragmented frame, use `newframe = frame.copy()`\n",
      "  portfolio_cumulative_returns[n] = (1 + sim_df.fillna(0)).cumprod()\n"
     ]
    },
    {
     "name": "stdout",
     "output_type": "stream",
     "text": [
      "Running Monte Carlo simulation number 180.\n"
     ]
    },
    {
     "name": "stderr",
     "output_type": "stream",
     "text": [
      "C:\\Users\\ryanr\\Desktop\\FinTech-Workspace\\Challenges\\Module_05_Challenge\\financial_planner\\MCForecastTools.py:117: PerformanceWarning: DataFrame is highly fragmented.  This is usually the result of calling `frame.insert` many times, which has poor performance.  Consider joining all columns at once using pd.concat(axis=1) instead. To get a de-fragmented frame, use `newframe = frame.copy()`\n",
      "  portfolio_cumulative_returns[n] = (1 + sim_df.fillna(0)).cumprod()\n",
      "C:\\Users\\ryanr\\Desktop\\FinTech-Workspace\\Challenges\\Module_05_Challenge\\financial_planner\\MCForecastTools.py:117: PerformanceWarning: DataFrame is highly fragmented.  This is usually the result of calling `frame.insert` many times, which has poor performance.  Consider joining all columns at once using pd.concat(axis=1) instead. To get a de-fragmented frame, use `newframe = frame.copy()`\n",
      "  portfolio_cumulative_returns[n] = (1 + sim_df.fillna(0)).cumprod()\n",
      "C:\\Users\\ryanr\\Desktop\\FinTech-Workspace\\Challenges\\Module_05_Challenge\\financial_planner\\MCForecastTools.py:117: PerformanceWarning: DataFrame is highly fragmented.  This is usually the result of calling `frame.insert` many times, which has poor performance.  Consider joining all columns at once using pd.concat(axis=1) instead. To get a de-fragmented frame, use `newframe = frame.copy()`\n",
      "  portfolio_cumulative_returns[n] = (1 + sim_df.fillna(0)).cumprod()\n",
      "C:\\Users\\ryanr\\Desktop\\FinTech-Workspace\\Challenges\\Module_05_Challenge\\financial_planner\\MCForecastTools.py:117: PerformanceWarning: DataFrame is highly fragmented.  This is usually the result of calling `frame.insert` many times, which has poor performance.  Consider joining all columns at once using pd.concat(axis=1) instead. To get a de-fragmented frame, use `newframe = frame.copy()`\n",
      "  portfolio_cumulative_returns[n] = (1 + sim_df.fillna(0)).cumprod()\n",
      "C:\\Users\\ryanr\\Desktop\\FinTech-Workspace\\Challenges\\Module_05_Challenge\\financial_planner\\MCForecastTools.py:117: PerformanceWarning: DataFrame is highly fragmented.  This is usually the result of calling `frame.insert` many times, which has poor performance.  Consider joining all columns at once using pd.concat(axis=1) instead. To get a de-fragmented frame, use `newframe = frame.copy()`\n",
      "  portfolio_cumulative_returns[n] = (1 + sim_df.fillna(0)).cumprod()\n",
      "C:\\Users\\ryanr\\Desktop\\FinTech-Workspace\\Challenges\\Module_05_Challenge\\financial_planner\\MCForecastTools.py:117: PerformanceWarning: DataFrame is highly fragmented.  This is usually the result of calling `frame.insert` many times, which has poor performance.  Consider joining all columns at once using pd.concat(axis=1) instead. To get a de-fragmented frame, use `newframe = frame.copy()`\n",
      "  portfolio_cumulative_returns[n] = (1 + sim_df.fillna(0)).cumprod()\n",
      "C:\\Users\\ryanr\\Desktop\\FinTech-Workspace\\Challenges\\Module_05_Challenge\\financial_planner\\MCForecastTools.py:117: PerformanceWarning: DataFrame is highly fragmented.  This is usually the result of calling `frame.insert` many times, which has poor performance.  Consider joining all columns at once using pd.concat(axis=1) instead. To get a de-fragmented frame, use `newframe = frame.copy()`\n",
      "  portfolio_cumulative_returns[n] = (1 + sim_df.fillna(0)).cumprod()\n",
      "C:\\Users\\ryanr\\Desktop\\FinTech-Workspace\\Challenges\\Module_05_Challenge\\financial_planner\\MCForecastTools.py:117: PerformanceWarning: DataFrame is highly fragmented.  This is usually the result of calling `frame.insert` many times, which has poor performance.  Consider joining all columns at once using pd.concat(axis=1) instead. To get a de-fragmented frame, use `newframe = frame.copy()`\n",
      "  portfolio_cumulative_returns[n] = (1 + sim_df.fillna(0)).cumprod()\n",
      "C:\\Users\\ryanr\\Desktop\\FinTech-Workspace\\Challenges\\Module_05_Challenge\\financial_planner\\MCForecastTools.py:117: PerformanceWarning: DataFrame is highly fragmented.  This is usually the result of calling `frame.insert` many times, which has poor performance.  Consider joining all columns at once using pd.concat(axis=1) instead. To get a de-fragmented frame, use `newframe = frame.copy()`\n",
      "  portfolio_cumulative_returns[n] = (1 + sim_df.fillna(0)).cumprod()\n",
      "C:\\Users\\ryanr\\Desktop\\FinTech-Workspace\\Challenges\\Module_05_Challenge\\financial_planner\\MCForecastTools.py:117: PerformanceWarning: DataFrame is highly fragmented.  This is usually the result of calling `frame.insert` many times, which has poor performance.  Consider joining all columns at once using pd.concat(axis=1) instead. To get a de-fragmented frame, use `newframe = frame.copy()`\n",
      "  portfolio_cumulative_returns[n] = (1 + sim_df.fillna(0)).cumprod()\n"
     ]
    },
    {
     "name": "stdout",
     "output_type": "stream",
     "text": [
      "Running Monte Carlo simulation number 190.\n"
     ]
    },
    {
     "name": "stderr",
     "output_type": "stream",
     "text": [
      "C:\\Users\\ryanr\\Desktop\\FinTech-Workspace\\Challenges\\Module_05_Challenge\\financial_planner\\MCForecastTools.py:117: PerformanceWarning: DataFrame is highly fragmented.  This is usually the result of calling `frame.insert` many times, which has poor performance.  Consider joining all columns at once using pd.concat(axis=1) instead. To get a de-fragmented frame, use `newframe = frame.copy()`\n",
      "  portfolio_cumulative_returns[n] = (1 + sim_df.fillna(0)).cumprod()\n",
      "C:\\Users\\ryanr\\Desktop\\FinTech-Workspace\\Challenges\\Module_05_Challenge\\financial_planner\\MCForecastTools.py:117: PerformanceWarning: DataFrame is highly fragmented.  This is usually the result of calling `frame.insert` many times, which has poor performance.  Consider joining all columns at once using pd.concat(axis=1) instead. To get a de-fragmented frame, use `newframe = frame.copy()`\n",
      "  portfolio_cumulative_returns[n] = (1 + sim_df.fillna(0)).cumprod()\n",
      "C:\\Users\\ryanr\\Desktop\\FinTech-Workspace\\Challenges\\Module_05_Challenge\\financial_planner\\MCForecastTools.py:117: PerformanceWarning: DataFrame is highly fragmented.  This is usually the result of calling `frame.insert` many times, which has poor performance.  Consider joining all columns at once using pd.concat(axis=1) instead. To get a de-fragmented frame, use `newframe = frame.copy()`\n",
      "  portfolio_cumulative_returns[n] = (1 + sim_df.fillna(0)).cumprod()\n",
      "C:\\Users\\ryanr\\Desktop\\FinTech-Workspace\\Challenges\\Module_05_Challenge\\financial_planner\\MCForecastTools.py:117: PerformanceWarning: DataFrame is highly fragmented.  This is usually the result of calling `frame.insert` many times, which has poor performance.  Consider joining all columns at once using pd.concat(axis=1) instead. To get a de-fragmented frame, use `newframe = frame.copy()`\n",
      "  portfolio_cumulative_returns[n] = (1 + sim_df.fillna(0)).cumprod()\n",
      "C:\\Users\\ryanr\\Desktop\\FinTech-Workspace\\Challenges\\Module_05_Challenge\\financial_planner\\MCForecastTools.py:117: PerformanceWarning: DataFrame is highly fragmented.  This is usually the result of calling `frame.insert` many times, which has poor performance.  Consider joining all columns at once using pd.concat(axis=1) instead. To get a de-fragmented frame, use `newframe = frame.copy()`\n",
      "  portfolio_cumulative_returns[n] = (1 + sim_df.fillna(0)).cumprod()\n",
      "C:\\Users\\ryanr\\Desktop\\FinTech-Workspace\\Challenges\\Module_05_Challenge\\financial_planner\\MCForecastTools.py:117: PerformanceWarning: DataFrame is highly fragmented.  This is usually the result of calling `frame.insert` many times, which has poor performance.  Consider joining all columns at once using pd.concat(axis=1) instead. To get a de-fragmented frame, use `newframe = frame.copy()`\n",
      "  portfolio_cumulative_returns[n] = (1 + sim_df.fillna(0)).cumprod()\n",
      "C:\\Users\\ryanr\\Desktop\\FinTech-Workspace\\Challenges\\Module_05_Challenge\\financial_planner\\MCForecastTools.py:117: PerformanceWarning: DataFrame is highly fragmented.  This is usually the result of calling `frame.insert` many times, which has poor performance.  Consider joining all columns at once using pd.concat(axis=1) instead. To get a de-fragmented frame, use `newframe = frame.copy()`\n",
      "  portfolio_cumulative_returns[n] = (1 + sim_df.fillna(0)).cumprod()\n",
      "C:\\Users\\ryanr\\Desktop\\FinTech-Workspace\\Challenges\\Module_05_Challenge\\financial_planner\\MCForecastTools.py:117: PerformanceWarning: DataFrame is highly fragmented.  This is usually the result of calling `frame.insert` many times, which has poor performance.  Consider joining all columns at once using pd.concat(axis=1) instead. To get a de-fragmented frame, use `newframe = frame.copy()`\n",
      "  portfolio_cumulative_returns[n] = (1 + sim_df.fillna(0)).cumprod()\n",
      "C:\\Users\\ryanr\\Desktop\\FinTech-Workspace\\Challenges\\Module_05_Challenge\\financial_planner\\MCForecastTools.py:117: PerformanceWarning: DataFrame is highly fragmented.  This is usually the result of calling `frame.insert` many times, which has poor performance.  Consider joining all columns at once using pd.concat(axis=1) instead. To get a de-fragmented frame, use `newframe = frame.copy()`\n",
      "  portfolio_cumulative_returns[n] = (1 + sim_df.fillna(0)).cumprod()\n",
      "C:\\Users\\ryanr\\Desktop\\FinTech-Workspace\\Challenges\\Module_05_Challenge\\financial_planner\\MCForecastTools.py:117: PerformanceWarning: DataFrame is highly fragmented.  This is usually the result of calling `frame.insert` many times, which has poor performance.  Consider joining all columns at once using pd.concat(axis=1) instead. To get a de-fragmented frame, use `newframe = frame.copy()`\n",
      "  portfolio_cumulative_returns[n] = (1 + sim_df.fillna(0)).cumprod()\n"
     ]
    },
    {
     "name": "stdout",
     "output_type": "stream",
     "text": [
      "Running Monte Carlo simulation number 200.\n"
     ]
    },
    {
     "name": "stderr",
     "output_type": "stream",
     "text": [
      "C:\\Users\\ryanr\\Desktop\\FinTech-Workspace\\Challenges\\Module_05_Challenge\\financial_planner\\MCForecastTools.py:117: PerformanceWarning: DataFrame is highly fragmented.  This is usually the result of calling `frame.insert` many times, which has poor performance.  Consider joining all columns at once using pd.concat(axis=1) instead. To get a de-fragmented frame, use `newframe = frame.copy()`\n",
      "  portfolio_cumulative_returns[n] = (1 + sim_df.fillna(0)).cumprod()\n",
      "C:\\Users\\ryanr\\Desktop\\FinTech-Workspace\\Challenges\\Module_05_Challenge\\financial_planner\\MCForecastTools.py:117: PerformanceWarning: DataFrame is highly fragmented.  This is usually the result of calling `frame.insert` many times, which has poor performance.  Consider joining all columns at once using pd.concat(axis=1) instead. To get a de-fragmented frame, use `newframe = frame.copy()`\n",
      "  portfolio_cumulative_returns[n] = (1 + sim_df.fillna(0)).cumprod()\n",
      "C:\\Users\\ryanr\\Desktop\\FinTech-Workspace\\Challenges\\Module_05_Challenge\\financial_planner\\MCForecastTools.py:117: PerformanceWarning: DataFrame is highly fragmented.  This is usually the result of calling `frame.insert` many times, which has poor performance.  Consider joining all columns at once using pd.concat(axis=1) instead. To get a de-fragmented frame, use `newframe = frame.copy()`\n",
      "  portfolio_cumulative_returns[n] = (1 + sim_df.fillna(0)).cumprod()\n",
      "C:\\Users\\ryanr\\Desktop\\FinTech-Workspace\\Challenges\\Module_05_Challenge\\financial_planner\\MCForecastTools.py:117: PerformanceWarning: DataFrame is highly fragmented.  This is usually the result of calling `frame.insert` many times, which has poor performance.  Consider joining all columns at once using pd.concat(axis=1) instead. To get a de-fragmented frame, use `newframe = frame.copy()`\n",
      "  portfolio_cumulative_returns[n] = (1 + sim_df.fillna(0)).cumprod()\n",
      "C:\\Users\\ryanr\\Desktop\\FinTech-Workspace\\Challenges\\Module_05_Challenge\\financial_planner\\MCForecastTools.py:117: PerformanceWarning: DataFrame is highly fragmented.  This is usually the result of calling `frame.insert` many times, which has poor performance.  Consider joining all columns at once using pd.concat(axis=1) instead. To get a de-fragmented frame, use `newframe = frame.copy()`\n",
      "  portfolio_cumulative_returns[n] = (1 + sim_df.fillna(0)).cumprod()\n",
      "C:\\Users\\ryanr\\Desktop\\FinTech-Workspace\\Challenges\\Module_05_Challenge\\financial_planner\\MCForecastTools.py:117: PerformanceWarning: DataFrame is highly fragmented.  This is usually the result of calling `frame.insert` many times, which has poor performance.  Consider joining all columns at once using pd.concat(axis=1) instead. To get a de-fragmented frame, use `newframe = frame.copy()`\n",
      "  portfolio_cumulative_returns[n] = (1 + sim_df.fillna(0)).cumprod()\n",
      "C:\\Users\\ryanr\\Desktop\\FinTech-Workspace\\Challenges\\Module_05_Challenge\\financial_planner\\MCForecastTools.py:117: PerformanceWarning: DataFrame is highly fragmented.  This is usually the result of calling `frame.insert` many times, which has poor performance.  Consider joining all columns at once using pd.concat(axis=1) instead. To get a de-fragmented frame, use `newframe = frame.copy()`\n",
      "  portfolio_cumulative_returns[n] = (1 + sim_df.fillna(0)).cumprod()\n",
      "C:\\Users\\ryanr\\Desktop\\FinTech-Workspace\\Challenges\\Module_05_Challenge\\financial_planner\\MCForecastTools.py:117: PerformanceWarning: DataFrame is highly fragmented.  This is usually the result of calling `frame.insert` many times, which has poor performance.  Consider joining all columns at once using pd.concat(axis=1) instead. To get a de-fragmented frame, use `newframe = frame.copy()`\n",
      "  portfolio_cumulative_returns[n] = (1 + sim_df.fillna(0)).cumprod()\n",
      "C:\\Users\\ryanr\\Desktop\\FinTech-Workspace\\Challenges\\Module_05_Challenge\\financial_planner\\MCForecastTools.py:117: PerformanceWarning: DataFrame is highly fragmented.  This is usually the result of calling `frame.insert` many times, which has poor performance.  Consider joining all columns at once using pd.concat(axis=1) instead. To get a de-fragmented frame, use `newframe = frame.copy()`\n",
      "  portfolio_cumulative_returns[n] = (1 + sim_df.fillna(0)).cumprod()\n",
      "C:\\Users\\ryanr\\Desktop\\FinTech-Workspace\\Challenges\\Module_05_Challenge\\financial_planner\\MCForecastTools.py:117: PerformanceWarning: DataFrame is highly fragmented.  This is usually the result of calling `frame.insert` many times, which has poor performance.  Consider joining all columns at once using pd.concat(axis=1) instead. To get a de-fragmented frame, use `newframe = frame.copy()`\n",
      "  portfolio_cumulative_returns[n] = (1 + sim_df.fillna(0)).cumprod()\n"
     ]
    },
    {
     "name": "stdout",
     "output_type": "stream",
     "text": [
      "Running Monte Carlo simulation number 210.\n"
     ]
    },
    {
     "name": "stderr",
     "output_type": "stream",
     "text": [
      "C:\\Users\\ryanr\\Desktop\\FinTech-Workspace\\Challenges\\Module_05_Challenge\\financial_planner\\MCForecastTools.py:117: PerformanceWarning: DataFrame is highly fragmented.  This is usually the result of calling `frame.insert` many times, which has poor performance.  Consider joining all columns at once using pd.concat(axis=1) instead. To get a de-fragmented frame, use `newframe = frame.copy()`\n",
      "  portfolio_cumulative_returns[n] = (1 + sim_df.fillna(0)).cumprod()\n",
      "C:\\Users\\ryanr\\Desktop\\FinTech-Workspace\\Challenges\\Module_05_Challenge\\financial_planner\\MCForecastTools.py:117: PerformanceWarning: DataFrame is highly fragmented.  This is usually the result of calling `frame.insert` many times, which has poor performance.  Consider joining all columns at once using pd.concat(axis=1) instead. To get a de-fragmented frame, use `newframe = frame.copy()`\n",
      "  portfolio_cumulative_returns[n] = (1 + sim_df.fillna(0)).cumprod()\n",
      "C:\\Users\\ryanr\\Desktop\\FinTech-Workspace\\Challenges\\Module_05_Challenge\\financial_planner\\MCForecastTools.py:117: PerformanceWarning: DataFrame is highly fragmented.  This is usually the result of calling `frame.insert` many times, which has poor performance.  Consider joining all columns at once using pd.concat(axis=1) instead. To get a de-fragmented frame, use `newframe = frame.copy()`\n",
      "  portfolio_cumulative_returns[n] = (1 + sim_df.fillna(0)).cumprod()\n",
      "C:\\Users\\ryanr\\Desktop\\FinTech-Workspace\\Challenges\\Module_05_Challenge\\financial_planner\\MCForecastTools.py:117: PerformanceWarning: DataFrame is highly fragmented.  This is usually the result of calling `frame.insert` many times, which has poor performance.  Consider joining all columns at once using pd.concat(axis=1) instead. To get a de-fragmented frame, use `newframe = frame.copy()`\n",
      "  portfolio_cumulative_returns[n] = (1 + sim_df.fillna(0)).cumprod()\n",
      "C:\\Users\\ryanr\\Desktop\\FinTech-Workspace\\Challenges\\Module_05_Challenge\\financial_planner\\MCForecastTools.py:117: PerformanceWarning: DataFrame is highly fragmented.  This is usually the result of calling `frame.insert` many times, which has poor performance.  Consider joining all columns at once using pd.concat(axis=1) instead. To get a de-fragmented frame, use `newframe = frame.copy()`\n",
      "  portfolio_cumulative_returns[n] = (1 + sim_df.fillna(0)).cumprod()\n",
      "C:\\Users\\ryanr\\Desktop\\FinTech-Workspace\\Challenges\\Module_05_Challenge\\financial_planner\\MCForecastTools.py:117: PerformanceWarning: DataFrame is highly fragmented.  This is usually the result of calling `frame.insert` many times, which has poor performance.  Consider joining all columns at once using pd.concat(axis=1) instead. To get a de-fragmented frame, use `newframe = frame.copy()`\n",
      "  portfolio_cumulative_returns[n] = (1 + sim_df.fillna(0)).cumprod()\n",
      "C:\\Users\\ryanr\\Desktop\\FinTech-Workspace\\Challenges\\Module_05_Challenge\\financial_planner\\MCForecastTools.py:117: PerformanceWarning: DataFrame is highly fragmented.  This is usually the result of calling `frame.insert` many times, which has poor performance.  Consider joining all columns at once using pd.concat(axis=1) instead. To get a de-fragmented frame, use `newframe = frame.copy()`\n",
      "  portfolio_cumulative_returns[n] = (1 + sim_df.fillna(0)).cumprod()\n",
      "C:\\Users\\ryanr\\Desktop\\FinTech-Workspace\\Challenges\\Module_05_Challenge\\financial_planner\\MCForecastTools.py:117: PerformanceWarning: DataFrame is highly fragmented.  This is usually the result of calling `frame.insert` many times, which has poor performance.  Consider joining all columns at once using pd.concat(axis=1) instead. To get a de-fragmented frame, use `newframe = frame.copy()`\n",
      "  portfolio_cumulative_returns[n] = (1 + sim_df.fillna(0)).cumprod()\n",
      "C:\\Users\\ryanr\\Desktop\\FinTech-Workspace\\Challenges\\Module_05_Challenge\\financial_planner\\MCForecastTools.py:117: PerformanceWarning: DataFrame is highly fragmented.  This is usually the result of calling `frame.insert` many times, which has poor performance.  Consider joining all columns at once using pd.concat(axis=1) instead. To get a de-fragmented frame, use `newframe = frame.copy()`\n",
      "  portfolio_cumulative_returns[n] = (1 + sim_df.fillna(0)).cumprod()\n",
      "C:\\Users\\ryanr\\Desktop\\FinTech-Workspace\\Challenges\\Module_05_Challenge\\financial_planner\\MCForecastTools.py:117: PerformanceWarning: DataFrame is highly fragmented.  This is usually the result of calling `frame.insert` many times, which has poor performance.  Consider joining all columns at once using pd.concat(axis=1) instead. To get a de-fragmented frame, use `newframe = frame.copy()`\n",
      "  portfolio_cumulative_returns[n] = (1 + sim_df.fillna(0)).cumprod()\n"
     ]
    },
    {
     "name": "stdout",
     "output_type": "stream",
     "text": [
      "Running Monte Carlo simulation number 220.\n"
     ]
    },
    {
     "name": "stderr",
     "output_type": "stream",
     "text": [
      "C:\\Users\\ryanr\\Desktop\\FinTech-Workspace\\Challenges\\Module_05_Challenge\\financial_planner\\MCForecastTools.py:117: PerformanceWarning: DataFrame is highly fragmented.  This is usually the result of calling `frame.insert` many times, which has poor performance.  Consider joining all columns at once using pd.concat(axis=1) instead. To get a de-fragmented frame, use `newframe = frame.copy()`\n",
      "  portfolio_cumulative_returns[n] = (1 + sim_df.fillna(0)).cumprod()\n",
      "C:\\Users\\ryanr\\Desktop\\FinTech-Workspace\\Challenges\\Module_05_Challenge\\financial_planner\\MCForecastTools.py:117: PerformanceWarning: DataFrame is highly fragmented.  This is usually the result of calling `frame.insert` many times, which has poor performance.  Consider joining all columns at once using pd.concat(axis=1) instead. To get a de-fragmented frame, use `newframe = frame.copy()`\n",
      "  portfolio_cumulative_returns[n] = (1 + sim_df.fillna(0)).cumprod()\n",
      "C:\\Users\\ryanr\\Desktop\\FinTech-Workspace\\Challenges\\Module_05_Challenge\\financial_planner\\MCForecastTools.py:117: PerformanceWarning: DataFrame is highly fragmented.  This is usually the result of calling `frame.insert` many times, which has poor performance.  Consider joining all columns at once using pd.concat(axis=1) instead. To get a de-fragmented frame, use `newframe = frame.copy()`\n",
      "  portfolio_cumulative_returns[n] = (1 + sim_df.fillna(0)).cumprod()\n",
      "C:\\Users\\ryanr\\Desktop\\FinTech-Workspace\\Challenges\\Module_05_Challenge\\financial_planner\\MCForecastTools.py:117: PerformanceWarning: DataFrame is highly fragmented.  This is usually the result of calling `frame.insert` many times, which has poor performance.  Consider joining all columns at once using pd.concat(axis=1) instead. To get a de-fragmented frame, use `newframe = frame.copy()`\n",
      "  portfolio_cumulative_returns[n] = (1 + sim_df.fillna(0)).cumprod()\n",
      "C:\\Users\\ryanr\\Desktop\\FinTech-Workspace\\Challenges\\Module_05_Challenge\\financial_planner\\MCForecastTools.py:117: PerformanceWarning: DataFrame is highly fragmented.  This is usually the result of calling `frame.insert` many times, which has poor performance.  Consider joining all columns at once using pd.concat(axis=1) instead. To get a de-fragmented frame, use `newframe = frame.copy()`\n",
      "  portfolio_cumulative_returns[n] = (1 + sim_df.fillna(0)).cumprod()\n",
      "C:\\Users\\ryanr\\Desktop\\FinTech-Workspace\\Challenges\\Module_05_Challenge\\financial_planner\\MCForecastTools.py:117: PerformanceWarning: DataFrame is highly fragmented.  This is usually the result of calling `frame.insert` many times, which has poor performance.  Consider joining all columns at once using pd.concat(axis=1) instead. To get a de-fragmented frame, use `newframe = frame.copy()`\n",
      "  portfolio_cumulative_returns[n] = (1 + sim_df.fillna(0)).cumprod()\n",
      "C:\\Users\\ryanr\\Desktop\\FinTech-Workspace\\Challenges\\Module_05_Challenge\\financial_planner\\MCForecastTools.py:117: PerformanceWarning: DataFrame is highly fragmented.  This is usually the result of calling `frame.insert` many times, which has poor performance.  Consider joining all columns at once using pd.concat(axis=1) instead. To get a de-fragmented frame, use `newframe = frame.copy()`\n",
      "  portfolio_cumulative_returns[n] = (1 + sim_df.fillna(0)).cumprod()\n",
      "C:\\Users\\ryanr\\Desktop\\FinTech-Workspace\\Challenges\\Module_05_Challenge\\financial_planner\\MCForecastTools.py:117: PerformanceWarning: DataFrame is highly fragmented.  This is usually the result of calling `frame.insert` many times, which has poor performance.  Consider joining all columns at once using pd.concat(axis=1) instead. To get a de-fragmented frame, use `newframe = frame.copy()`\n",
      "  portfolio_cumulative_returns[n] = (1 + sim_df.fillna(0)).cumprod()\n",
      "C:\\Users\\ryanr\\Desktop\\FinTech-Workspace\\Challenges\\Module_05_Challenge\\financial_planner\\MCForecastTools.py:117: PerformanceWarning: DataFrame is highly fragmented.  This is usually the result of calling `frame.insert` many times, which has poor performance.  Consider joining all columns at once using pd.concat(axis=1) instead. To get a de-fragmented frame, use `newframe = frame.copy()`\n",
      "  portfolio_cumulative_returns[n] = (1 + sim_df.fillna(0)).cumprod()\n",
      "C:\\Users\\ryanr\\Desktop\\FinTech-Workspace\\Challenges\\Module_05_Challenge\\financial_planner\\MCForecastTools.py:117: PerformanceWarning: DataFrame is highly fragmented.  This is usually the result of calling `frame.insert` many times, which has poor performance.  Consider joining all columns at once using pd.concat(axis=1) instead. To get a de-fragmented frame, use `newframe = frame.copy()`\n",
      "  portfolio_cumulative_returns[n] = (1 + sim_df.fillna(0)).cumprod()\n"
     ]
    },
    {
     "name": "stdout",
     "output_type": "stream",
     "text": [
      "Running Monte Carlo simulation number 230.\n"
     ]
    },
    {
     "name": "stderr",
     "output_type": "stream",
     "text": [
      "C:\\Users\\ryanr\\Desktop\\FinTech-Workspace\\Challenges\\Module_05_Challenge\\financial_planner\\MCForecastTools.py:117: PerformanceWarning: DataFrame is highly fragmented.  This is usually the result of calling `frame.insert` many times, which has poor performance.  Consider joining all columns at once using pd.concat(axis=1) instead. To get a de-fragmented frame, use `newframe = frame.copy()`\n",
      "  portfolio_cumulative_returns[n] = (1 + sim_df.fillna(0)).cumprod()\n",
      "C:\\Users\\ryanr\\Desktop\\FinTech-Workspace\\Challenges\\Module_05_Challenge\\financial_planner\\MCForecastTools.py:117: PerformanceWarning: DataFrame is highly fragmented.  This is usually the result of calling `frame.insert` many times, which has poor performance.  Consider joining all columns at once using pd.concat(axis=1) instead. To get a de-fragmented frame, use `newframe = frame.copy()`\n",
      "  portfolio_cumulative_returns[n] = (1 + sim_df.fillna(0)).cumprod()\n",
      "C:\\Users\\ryanr\\Desktop\\FinTech-Workspace\\Challenges\\Module_05_Challenge\\financial_planner\\MCForecastTools.py:117: PerformanceWarning: DataFrame is highly fragmented.  This is usually the result of calling `frame.insert` many times, which has poor performance.  Consider joining all columns at once using pd.concat(axis=1) instead. To get a de-fragmented frame, use `newframe = frame.copy()`\n",
      "  portfolio_cumulative_returns[n] = (1 + sim_df.fillna(0)).cumprod()\n",
      "C:\\Users\\ryanr\\Desktop\\FinTech-Workspace\\Challenges\\Module_05_Challenge\\financial_planner\\MCForecastTools.py:117: PerformanceWarning: DataFrame is highly fragmented.  This is usually the result of calling `frame.insert` many times, which has poor performance.  Consider joining all columns at once using pd.concat(axis=1) instead. To get a de-fragmented frame, use `newframe = frame.copy()`\n",
      "  portfolio_cumulative_returns[n] = (1 + sim_df.fillna(0)).cumprod()\n",
      "C:\\Users\\ryanr\\Desktop\\FinTech-Workspace\\Challenges\\Module_05_Challenge\\financial_planner\\MCForecastTools.py:117: PerformanceWarning: DataFrame is highly fragmented.  This is usually the result of calling `frame.insert` many times, which has poor performance.  Consider joining all columns at once using pd.concat(axis=1) instead. To get a de-fragmented frame, use `newframe = frame.copy()`\n",
      "  portfolio_cumulative_returns[n] = (1 + sim_df.fillna(0)).cumprod()\n",
      "C:\\Users\\ryanr\\Desktop\\FinTech-Workspace\\Challenges\\Module_05_Challenge\\financial_planner\\MCForecastTools.py:117: PerformanceWarning: DataFrame is highly fragmented.  This is usually the result of calling `frame.insert` many times, which has poor performance.  Consider joining all columns at once using pd.concat(axis=1) instead. To get a de-fragmented frame, use `newframe = frame.copy()`\n",
      "  portfolio_cumulative_returns[n] = (1 + sim_df.fillna(0)).cumprod()\n",
      "C:\\Users\\ryanr\\Desktop\\FinTech-Workspace\\Challenges\\Module_05_Challenge\\financial_planner\\MCForecastTools.py:117: PerformanceWarning: DataFrame is highly fragmented.  This is usually the result of calling `frame.insert` many times, which has poor performance.  Consider joining all columns at once using pd.concat(axis=1) instead. To get a de-fragmented frame, use `newframe = frame.copy()`\n",
      "  portfolio_cumulative_returns[n] = (1 + sim_df.fillna(0)).cumprod()\n",
      "C:\\Users\\ryanr\\Desktop\\FinTech-Workspace\\Challenges\\Module_05_Challenge\\financial_planner\\MCForecastTools.py:117: PerformanceWarning: DataFrame is highly fragmented.  This is usually the result of calling `frame.insert` many times, which has poor performance.  Consider joining all columns at once using pd.concat(axis=1) instead. To get a de-fragmented frame, use `newframe = frame.copy()`\n",
      "  portfolio_cumulative_returns[n] = (1 + sim_df.fillna(0)).cumprod()\n",
      "C:\\Users\\ryanr\\Desktop\\FinTech-Workspace\\Challenges\\Module_05_Challenge\\financial_planner\\MCForecastTools.py:117: PerformanceWarning: DataFrame is highly fragmented.  This is usually the result of calling `frame.insert` many times, which has poor performance.  Consider joining all columns at once using pd.concat(axis=1) instead. To get a de-fragmented frame, use `newframe = frame.copy()`\n",
      "  portfolio_cumulative_returns[n] = (1 + sim_df.fillna(0)).cumprod()\n",
      "C:\\Users\\ryanr\\Desktop\\FinTech-Workspace\\Challenges\\Module_05_Challenge\\financial_planner\\MCForecastTools.py:117: PerformanceWarning: DataFrame is highly fragmented.  This is usually the result of calling `frame.insert` many times, which has poor performance.  Consider joining all columns at once using pd.concat(axis=1) instead. To get a de-fragmented frame, use `newframe = frame.copy()`\n",
      "  portfolio_cumulative_returns[n] = (1 + sim_df.fillna(0)).cumprod()\n"
     ]
    },
    {
     "name": "stdout",
     "output_type": "stream",
     "text": [
      "Running Monte Carlo simulation number 240.\n"
     ]
    },
    {
     "name": "stderr",
     "output_type": "stream",
     "text": [
      "C:\\Users\\ryanr\\Desktop\\FinTech-Workspace\\Challenges\\Module_05_Challenge\\financial_planner\\MCForecastTools.py:117: PerformanceWarning: DataFrame is highly fragmented.  This is usually the result of calling `frame.insert` many times, which has poor performance.  Consider joining all columns at once using pd.concat(axis=1) instead. To get a de-fragmented frame, use `newframe = frame.copy()`\n",
      "  portfolio_cumulative_returns[n] = (1 + sim_df.fillna(0)).cumprod()\n",
      "C:\\Users\\ryanr\\Desktop\\FinTech-Workspace\\Challenges\\Module_05_Challenge\\financial_planner\\MCForecastTools.py:117: PerformanceWarning: DataFrame is highly fragmented.  This is usually the result of calling `frame.insert` many times, which has poor performance.  Consider joining all columns at once using pd.concat(axis=1) instead. To get a de-fragmented frame, use `newframe = frame.copy()`\n",
      "  portfolio_cumulative_returns[n] = (1 + sim_df.fillna(0)).cumprod()\n",
      "C:\\Users\\ryanr\\Desktop\\FinTech-Workspace\\Challenges\\Module_05_Challenge\\financial_planner\\MCForecastTools.py:117: PerformanceWarning: DataFrame is highly fragmented.  This is usually the result of calling `frame.insert` many times, which has poor performance.  Consider joining all columns at once using pd.concat(axis=1) instead. To get a de-fragmented frame, use `newframe = frame.copy()`\n",
      "  portfolio_cumulative_returns[n] = (1 + sim_df.fillna(0)).cumprod()\n",
      "C:\\Users\\ryanr\\Desktop\\FinTech-Workspace\\Challenges\\Module_05_Challenge\\financial_planner\\MCForecastTools.py:117: PerformanceWarning: DataFrame is highly fragmented.  This is usually the result of calling `frame.insert` many times, which has poor performance.  Consider joining all columns at once using pd.concat(axis=1) instead. To get a de-fragmented frame, use `newframe = frame.copy()`\n",
      "  portfolio_cumulative_returns[n] = (1 + sim_df.fillna(0)).cumprod()\n",
      "C:\\Users\\ryanr\\Desktop\\FinTech-Workspace\\Challenges\\Module_05_Challenge\\financial_planner\\MCForecastTools.py:117: PerformanceWarning: DataFrame is highly fragmented.  This is usually the result of calling `frame.insert` many times, which has poor performance.  Consider joining all columns at once using pd.concat(axis=1) instead. To get a de-fragmented frame, use `newframe = frame.copy()`\n",
      "  portfolio_cumulative_returns[n] = (1 + sim_df.fillna(0)).cumprod()\n",
      "C:\\Users\\ryanr\\Desktop\\FinTech-Workspace\\Challenges\\Module_05_Challenge\\financial_planner\\MCForecastTools.py:117: PerformanceWarning: DataFrame is highly fragmented.  This is usually the result of calling `frame.insert` many times, which has poor performance.  Consider joining all columns at once using pd.concat(axis=1) instead. To get a de-fragmented frame, use `newframe = frame.copy()`\n",
      "  portfolio_cumulative_returns[n] = (1 + sim_df.fillna(0)).cumprod()\n",
      "C:\\Users\\ryanr\\Desktop\\FinTech-Workspace\\Challenges\\Module_05_Challenge\\financial_planner\\MCForecastTools.py:117: PerformanceWarning: DataFrame is highly fragmented.  This is usually the result of calling `frame.insert` many times, which has poor performance.  Consider joining all columns at once using pd.concat(axis=1) instead. To get a de-fragmented frame, use `newframe = frame.copy()`\n",
      "  portfolio_cumulative_returns[n] = (1 + sim_df.fillna(0)).cumprod()\n",
      "C:\\Users\\ryanr\\Desktop\\FinTech-Workspace\\Challenges\\Module_05_Challenge\\financial_planner\\MCForecastTools.py:117: PerformanceWarning: DataFrame is highly fragmented.  This is usually the result of calling `frame.insert` many times, which has poor performance.  Consider joining all columns at once using pd.concat(axis=1) instead. To get a de-fragmented frame, use `newframe = frame.copy()`\n",
      "  portfolio_cumulative_returns[n] = (1 + sim_df.fillna(0)).cumprod()\n",
      "C:\\Users\\ryanr\\Desktop\\FinTech-Workspace\\Challenges\\Module_05_Challenge\\financial_planner\\MCForecastTools.py:117: PerformanceWarning: DataFrame is highly fragmented.  This is usually the result of calling `frame.insert` many times, which has poor performance.  Consider joining all columns at once using pd.concat(axis=1) instead. To get a de-fragmented frame, use `newframe = frame.copy()`\n",
      "  portfolio_cumulative_returns[n] = (1 + sim_df.fillna(0)).cumprod()\n",
      "C:\\Users\\ryanr\\Desktop\\FinTech-Workspace\\Challenges\\Module_05_Challenge\\financial_planner\\MCForecastTools.py:117: PerformanceWarning: DataFrame is highly fragmented.  This is usually the result of calling `frame.insert` many times, which has poor performance.  Consider joining all columns at once using pd.concat(axis=1) instead. To get a de-fragmented frame, use `newframe = frame.copy()`\n",
      "  portfolio_cumulative_returns[n] = (1 + sim_df.fillna(0)).cumprod()\n"
     ]
    },
    {
     "name": "stdout",
     "output_type": "stream",
     "text": [
      "Running Monte Carlo simulation number 250.\n"
     ]
    },
    {
     "name": "stderr",
     "output_type": "stream",
     "text": [
      "C:\\Users\\ryanr\\Desktop\\FinTech-Workspace\\Challenges\\Module_05_Challenge\\financial_planner\\MCForecastTools.py:117: PerformanceWarning: DataFrame is highly fragmented.  This is usually the result of calling `frame.insert` many times, which has poor performance.  Consider joining all columns at once using pd.concat(axis=1) instead. To get a de-fragmented frame, use `newframe = frame.copy()`\n",
      "  portfolio_cumulative_returns[n] = (1 + sim_df.fillna(0)).cumprod()\n",
      "C:\\Users\\ryanr\\Desktop\\FinTech-Workspace\\Challenges\\Module_05_Challenge\\financial_planner\\MCForecastTools.py:117: PerformanceWarning: DataFrame is highly fragmented.  This is usually the result of calling `frame.insert` many times, which has poor performance.  Consider joining all columns at once using pd.concat(axis=1) instead. To get a de-fragmented frame, use `newframe = frame.copy()`\n",
      "  portfolio_cumulative_returns[n] = (1 + sim_df.fillna(0)).cumprod()\n",
      "C:\\Users\\ryanr\\Desktop\\FinTech-Workspace\\Challenges\\Module_05_Challenge\\financial_planner\\MCForecastTools.py:117: PerformanceWarning: DataFrame is highly fragmented.  This is usually the result of calling `frame.insert` many times, which has poor performance.  Consider joining all columns at once using pd.concat(axis=1) instead. To get a de-fragmented frame, use `newframe = frame.copy()`\n",
      "  portfolio_cumulative_returns[n] = (1 + sim_df.fillna(0)).cumprod()\n",
      "C:\\Users\\ryanr\\Desktop\\FinTech-Workspace\\Challenges\\Module_05_Challenge\\financial_planner\\MCForecastTools.py:117: PerformanceWarning: DataFrame is highly fragmented.  This is usually the result of calling `frame.insert` many times, which has poor performance.  Consider joining all columns at once using pd.concat(axis=1) instead. To get a de-fragmented frame, use `newframe = frame.copy()`\n",
      "  portfolio_cumulative_returns[n] = (1 + sim_df.fillna(0)).cumprod()\n",
      "C:\\Users\\ryanr\\Desktop\\FinTech-Workspace\\Challenges\\Module_05_Challenge\\financial_planner\\MCForecastTools.py:117: PerformanceWarning: DataFrame is highly fragmented.  This is usually the result of calling `frame.insert` many times, which has poor performance.  Consider joining all columns at once using pd.concat(axis=1) instead. To get a de-fragmented frame, use `newframe = frame.copy()`\n",
      "  portfolio_cumulative_returns[n] = (1 + sim_df.fillna(0)).cumprod()\n",
      "C:\\Users\\ryanr\\Desktop\\FinTech-Workspace\\Challenges\\Module_05_Challenge\\financial_planner\\MCForecastTools.py:117: PerformanceWarning: DataFrame is highly fragmented.  This is usually the result of calling `frame.insert` many times, which has poor performance.  Consider joining all columns at once using pd.concat(axis=1) instead. To get a de-fragmented frame, use `newframe = frame.copy()`\n",
      "  portfolio_cumulative_returns[n] = (1 + sim_df.fillna(0)).cumprod()\n",
      "C:\\Users\\ryanr\\Desktop\\FinTech-Workspace\\Challenges\\Module_05_Challenge\\financial_planner\\MCForecastTools.py:117: PerformanceWarning: DataFrame is highly fragmented.  This is usually the result of calling `frame.insert` many times, which has poor performance.  Consider joining all columns at once using pd.concat(axis=1) instead. To get a de-fragmented frame, use `newframe = frame.copy()`\n",
      "  portfolio_cumulative_returns[n] = (1 + sim_df.fillna(0)).cumprod()\n",
      "C:\\Users\\ryanr\\Desktop\\FinTech-Workspace\\Challenges\\Module_05_Challenge\\financial_planner\\MCForecastTools.py:117: PerformanceWarning: DataFrame is highly fragmented.  This is usually the result of calling `frame.insert` many times, which has poor performance.  Consider joining all columns at once using pd.concat(axis=1) instead. To get a de-fragmented frame, use `newframe = frame.copy()`\n",
      "  portfolio_cumulative_returns[n] = (1 + sim_df.fillna(0)).cumprod()\n",
      "C:\\Users\\ryanr\\Desktop\\FinTech-Workspace\\Challenges\\Module_05_Challenge\\financial_planner\\MCForecastTools.py:117: PerformanceWarning: DataFrame is highly fragmented.  This is usually the result of calling `frame.insert` many times, which has poor performance.  Consider joining all columns at once using pd.concat(axis=1) instead. To get a de-fragmented frame, use `newframe = frame.copy()`\n",
      "  portfolio_cumulative_returns[n] = (1 + sim_df.fillna(0)).cumprod()\n",
      "C:\\Users\\ryanr\\Desktop\\FinTech-Workspace\\Challenges\\Module_05_Challenge\\financial_planner\\MCForecastTools.py:117: PerformanceWarning: DataFrame is highly fragmented.  This is usually the result of calling `frame.insert` many times, which has poor performance.  Consider joining all columns at once using pd.concat(axis=1) instead. To get a de-fragmented frame, use `newframe = frame.copy()`\n",
      "  portfolio_cumulative_returns[n] = (1 + sim_df.fillna(0)).cumprod()\n"
     ]
    },
    {
     "name": "stdout",
     "output_type": "stream",
     "text": [
      "Running Monte Carlo simulation number 260.\n"
     ]
    },
    {
     "name": "stderr",
     "output_type": "stream",
     "text": [
      "C:\\Users\\ryanr\\Desktop\\FinTech-Workspace\\Challenges\\Module_05_Challenge\\financial_planner\\MCForecastTools.py:117: PerformanceWarning: DataFrame is highly fragmented.  This is usually the result of calling `frame.insert` many times, which has poor performance.  Consider joining all columns at once using pd.concat(axis=1) instead. To get a de-fragmented frame, use `newframe = frame.copy()`\n",
      "  portfolio_cumulative_returns[n] = (1 + sim_df.fillna(0)).cumprod()\n",
      "C:\\Users\\ryanr\\Desktop\\FinTech-Workspace\\Challenges\\Module_05_Challenge\\financial_planner\\MCForecastTools.py:117: PerformanceWarning: DataFrame is highly fragmented.  This is usually the result of calling `frame.insert` many times, which has poor performance.  Consider joining all columns at once using pd.concat(axis=1) instead. To get a de-fragmented frame, use `newframe = frame.copy()`\n",
      "  portfolio_cumulative_returns[n] = (1 + sim_df.fillna(0)).cumprod()\n",
      "C:\\Users\\ryanr\\Desktop\\FinTech-Workspace\\Challenges\\Module_05_Challenge\\financial_planner\\MCForecastTools.py:117: PerformanceWarning: DataFrame is highly fragmented.  This is usually the result of calling `frame.insert` many times, which has poor performance.  Consider joining all columns at once using pd.concat(axis=1) instead. To get a de-fragmented frame, use `newframe = frame.copy()`\n",
      "  portfolio_cumulative_returns[n] = (1 + sim_df.fillna(0)).cumprod()\n",
      "C:\\Users\\ryanr\\Desktop\\FinTech-Workspace\\Challenges\\Module_05_Challenge\\financial_planner\\MCForecastTools.py:117: PerformanceWarning: DataFrame is highly fragmented.  This is usually the result of calling `frame.insert` many times, which has poor performance.  Consider joining all columns at once using pd.concat(axis=1) instead. To get a de-fragmented frame, use `newframe = frame.copy()`\n",
      "  portfolio_cumulative_returns[n] = (1 + sim_df.fillna(0)).cumprod()\n",
      "C:\\Users\\ryanr\\Desktop\\FinTech-Workspace\\Challenges\\Module_05_Challenge\\financial_planner\\MCForecastTools.py:117: PerformanceWarning: DataFrame is highly fragmented.  This is usually the result of calling `frame.insert` many times, which has poor performance.  Consider joining all columns at once using pd.concat(axis=1) instead. To get a de-fragmented frame, use `newframe = frame.copy()`\n",
      "  portfolio_cumulative_returns[n] = (1 + sim_df.fillna(0)).cumprod()\n",
      "C:\\Users\\ryanr\\Desktop\\FinTech-Workspace\\Challenges\\Module_05_Challenge\\financial_planner\\MCForecastTools.py:117: PerformanceWarning: DataFrame is highly fragmented.  This is usually the result of calling `frame.insert` many times, which has poor performance.  Consider joining all columns at once using pd.concat(axis=1) instead. To get a de-fragmented frame, use `newframe = frame.copy()`\n",
      "  portfolio_cumulative_returns[n] = (1 + sim_df.fillna(0)).cumprod()\n",
      "C:\\Users\\ryanr\\Desktop\\FinTech-Workspace\\Challenges\\Module_05_Challenge\\financial_planner\\MCForecastTools.py:117: PerformanceWarning: DataFrame is highly fragmented.  This is usually the result of calling `frame.insert` many times, which has poor performance.  Consider joining all columns at once using pd.concat(axis=1) instead. To get a de-fragmented frame, use `newframe = frame.copy()`\n",
      "  portfolio_cumulative_returns[n] = (1 + sim_df.fillna(0)).cumprod()\n",
      "C:\\Users\\ryanr\\Desktop\\FinTech-Workspace\\Challenges\\Module_05_Challenge\\financial_planner\\MCForecastTools.py:117: PerformanceWarning: DataFrame is highly fragmented.  This is usually the result of calling `frame.insert` many times, which has poor performance.  Consider joining all columns at once using pd.concat(axis=1) instead. To get a de-fragmented frame, use `newframe = frame.copy()`\n",
      "  portfolio_cumulative_returns[n] = (1 + sim_df.fillna(0)).cumprod()\n",
      "C:\\Users\\ryanr\\Desktop\\FinTech-Workspace\\Challenges\\Module_05_Challenge\\financial_planner\\MCForecastTools.py:117: PerformanceWarning: DataFrame is highly fragmented.  This is usually the result of calling `frame.insert` many times, which has poor performance.  Consider joining all columns at once using pd.concat(axis=1) instead. To get a de-fragmented frame, use `newframe = frame.copy()`\n",
      "  portfolio_cumulative_returns[n] = (1 + sim_df.fillna(0)).cumprod()\n",
      "C:\\Users\\ryanr\\Desktop\\FinTech-Workspace\\Challenges\\Module_05_Challenge\\financial_planner\\MCForecastTools.py:117: PerformanceWarning: DataFrame is highly fragmented.  This is usually the result of calling `frame.insert` many times, which has poor performance.  Consider joining all columns at once using pd.concat(axis=1) instead. To get a de-fragmented frame, use `newframe = frame.copy()`\n",
      "  portfolio_cumulative_returns[n] = (1 + sim_df.fillna(0)).cumprod()\n"
     ]
    },
    {
     "name": "stdout",
     "output_type": "stream",
     "text": [
      "Running Monte Carlo simulation number 270.\n"
     ]
    },
    {
     "name": "stderr",
     "output_type": "stream",
     "text": [
      "C:\\Users\\ryanr\\Desktop\\FinTech-Workspace\\Challenges\\Module_05_Challenge\\financial_planner\\MCForecastTools.py:117: PerformanceWarning: DataFrame is highly fragmented.  This is usually the result of calling `frame.insert` many times, which has poor performance.  Consider joining all columns at once using pd.concat(axis=1) instead. To get a de-fragmented frame, use `newframe = frame.copy()`\n",
      "  portfolio_cumulative_returns[n] = (1 + sim_df.fillna(0)).cumprod()\n",
      "C:\\Users\\ryanr\\Desktop\\FinTech-Workspace\\Challenges\\Module_05_Challenge\\financial_planner\\MCForecastTools.py:117: PerformanceWarning: DataFrame is highly fragmented.  This is usually the result of calling `frame.insert` many times, which has poor performance.  Consider joining all columns at once using pd.concat(axis=1) instead. To get a de-fragmented frame, use `newframe = frame.copy()`\n",
      "  portfolio_cumulative_returns[n] = (1 + sim_df.fillna(0)).cumprod()\n",
      "C:\\Users\\ryanr\\Desktop\\FinTech-Workspace\\Challenges\\Module_05_Challenge\\financial_planner\\MCForecastTools.py:117: PerformanceWarning: DataFrame is highly fragmented.  This is usually the result of calling `frame.insert` many times, which has poor performance.  Consider joining all columns at once using pd.concat(axis=1) instead. To get a de-fragmented frame, use `newframe = frame.copy()`\n",
      "  portfolio_cumulative_returns[n] = (1 + sim_df.fillna(0)).cumprod()\n",
      "C:\\Users\\ryanr\\Desktop\\FinTech-Workspace\\Challenges\\Module_05_Challenge\\financial_planner\\MCForecastTools.py:117: PerformanceWarning: DataFrame is highly fragmented.  This is usually the result of calling `frame.insert` many times, which has poor performance.  Consider joining all columns at once using pd.concat(axis=1) instead. To get a de-fragmented frame, use `newframe = frame.copy()`\n",
      "  portfolio_cumulative_returns[n] = (1 + sim_df.fillna(0)).cumprod()\n",
      "C:\\Users\\ryanr\\Desktop\\FinTech-Workspace\\Challenges\\Module_05_Challenge\\financial_planner\\MCForecastTools.py:117: PerformanceWarning: DataFrame is highly fragmented.  This is usually the result of calling `frame.insert` many times, which has poor performance.  Consider joining all columns at once using pd.concat(axis=1) instead. To get a de-fragmented frame, use `newframe = frame.copy()`\n",
      "  portfolio_cumulative_returns[n] = (1 + sim_df.fillna(0)).cumprod()\n",
      "C:\\Users\\ryanr\\Desktop\\FinTech-Workspace\\Challenges\\Module_05_Challenge\\financial_planner\\MCForecastTools.py:117: PerformanceWarning: DataFrame is highly fragmented.  This is usually the result of calling `frame.insert` many times, which has poor performance.  Consider joining all columns at once using pd.concat(axis=1) instead. To get a de-fragmented frame, use `newframe = frame.copy()`\n",
      "  portfolio_cumulative_returns[n] = (1 + sim_df.fillna(0)).cumprod()\n",
      "C:\\Users\\ryanr\\Desktop\\FinTech-Workspace\\Challenges\\Module_05_Challenge\\financial_planner\\MCForecastTools.py:117: PerformanceWarning: DataFrame is highly fragmented.  This is usually the result of calling `frame.insert` many times, which has poor performance.  Consider joining all columns at once using pd.concat(axis=1) instead. To get a de-fragmented frame, use `newframe = frame.copy()`\n",
      "  portfolio_cumulative_returns[n] = (1 + sim_df.fillna(0)).cumprod()\n",
      "C:\\Users\\ryanr\\Desktop\\FinTech-Workspace\\Challenges\\Module_05_Challenge\\financial_planner\\MCForecastTools.py:117: PerformanceWarning: DataFrame is highly fragmented.  This is usually the result of calling `frame.insert` many times, which has poor performance.  Consider joining all columns at once using pd.concat(axis=1) instead. To get a de-fragmented frame, use `newframe = frame.copy()`\n",
      "  portfolio_cumulative_returns[n] = (1 + sim_df.fillna(0)).cumprod()\n",
      "C:\\Users\\ryanr\\Desktop\\FinTech-Workspace\\Challenges\\Module_05_Challenge\\financial_planner\\MCForecastTools.py:117: PerformanceWarning: DataFrame is highly fragmented.  This is usually the result of calling `frame.insert` many times, which has poor performance.  Consider joining all columns at once using pd.concat(axis=1) instead. To get a de-fragmented frame, use `newframe = frame.copy()`\n",
      "  portfolio_cumulative_returns[n] = (1 + sim_df.fillna(0)).cumprod()\n",
      "C:\\Users\\ryanr\\Desktop\\FinTech-Workspace\\Challenges\\Module_05_Challenge\\financial_planner\\MCForecastTools.py:117: PerformanceWarning: DataFrame is highly fragmented.  This is usually the result of calling `frame.insert` many times, which has poor performance.  Consider joining all columns at once using pd.concat(axis=1) instead. To get a de-fragmented frame, use `newframe = frame.copy()`\n",
      "  portfolio_cumulative_returns[n] = (1 + sim_df.fillna(0)).cumprod()\n"
     ]
    },
    {
     "name": "stdout",
     "output_type": "stream",
     "text": [
      "Running Monte Carlo simulation number 280.\n"
     ]
    },
    {
     "name": "stderr",
     "output_type": "stream",
     "text": [
      "C:\\Users\\ryanr\\Desktop\\FinTech-Workspace\\Challenges\\Module_05_Challenge\\financial_planner\\MCForecastTools.py:117: PerformanceWarning: DataFrame is highly fragmented.  This is usually the result of calling `frame.insert` many times, which has poor performance.  Consider joining all columns at once using pd.concat(axis=1) instead. To get a de-fragmented frame, use `newframe = frame.copy()`\n",
      "  portfolio_cumulative_returns[n] = (1 + sim_df.fillna(0)).cumprod()\n",
      "C:\\Users\\ryanr\\Desktop\\FinTech-Workspace\\Challenges\\Module_05_Challenge\\financial_planner\\MCForecastTools.py:117: PerformanceWarning: DataFrame is highly fragmented.  This is usually the result of calling `frame.insert` many times, which has poor performance.  Consider joining all columns at once using pd.concat(axis=1) instead. To get a de-fragmented frame, use `newframe = frame.copy()`\n",
      "  portfolio_cumulative_returns[n] = (1 + sim_df.fillna(0)).cumprod()\n",
      "C:\\Users\\ryanr\\Desktop\\FinTech-Workspace\\Challenges\\Module_05_Challenge\\financial_planner\\MCForecastTools.py:117: PerformanceWarning: DataFrame is highly fragmented.  This is usually the result of calling `frame.insert` many times, which has poor performance.  Consider joining all columns at once using pd.concat(axis=1) instead. To get a de-fragmented frame, use `newframe = frame.copy()`\n",
      "  portfolio_cumulative_returns[n] = (1 + sim_df.fillna(0)).cumprod()\n",
      "C:\\Users\\ryanr\\Desktop\\FinTech-Workspace\\Challenges\\Module_05_Challenge\\financial_planner\\MCForecastTools.py:117: PerformanceWarning: DataFrame is highly fragmented.  This is usually the result of calling `frame.insert` many times, which has poor performance.  Consider joining all columns at once using pd.concat(axis=1) instead. To get a de-fragmented frame, use `newframe = frame.copy()`\n",
      "  portfolio_cumulative_returns[n] = (1 + sim_df.fillna(0)).cumprod()\n",
      "C:\\Users\\ryanr\\Desktop\\FinTech-Workspace\\Challenges\\Module_05_Challenge\\financial_planner\\MCForecastTools.py:117: PerformanceWarning: DataFrame is highly fragmented.  This is usually the result of calling `frame.insert` many times, which has poor performance.  Consider joining all columns at once using pd.concat(axis=1) instead. To get a de-fragmented frame, use `newframe = frame.copy()`\n",
      "  portfolio_cumulative_returns[n] = (1 + sim_df.fillna(0)).cumprod()\n",
      "C:\\Users\\ryanr\\Desktop\\FinTech-Workspace\\Challenges\\Module_05_Challenge\\financial_planner\\MCForecastTools.py:117: PerformanceWarning: DataFrame is highly fragmented.  This is usually the result of calling `frame.insert` many times, which has poor performance.  Consider joining all columns at once using pd.concat(axis=1) instead. To get a de-fragmented frame, use `newframe = frame.copy()`\n",
      "  portfolio_cumulative_returns[n] = (1 + sim_df.fillna(0)).cumprod()\n",
      "C:\\Users\\ryanr\\Desktop\\FinTech-Workspace\\Challenges\\Module_05_Challenge\\financial_planner\\MCForecastTools.py:117: PerformanceWarning: DataFrame is highly fragmented.  This is usually the result of calling `frame.insert` many times, which has poor performance.  Consider joining all columns at once using pd.concat(axis=1) instead. To get a de-fragmented frame, use `newframe = frame.copy()`\n",
      "  portfolio_cumulative_returns[n] = (1 + sim_df.fillna(0)).cumprod()\n",
      "C:\\Users\\ryanr\\Desktop\\FinTech-Workspace\\Challenges\\Module_05_Challenge\\financial_planner\\MCForecastTools.py:117: PerformanceWarning: DataFrame is highly fragmented.  This is usually the result of calling `frame.insert` many times, which has poor performance.  Consider joining all columns at once using pd.concat(axis=1) instead. To get a de-fragmented frame, use `newframe = frame.copy()`\n",
      "  portfolio_cumulative_returns[n] = (1 + sim_df.fillna(0)).cumprod()\n",
      "C:\\Users\\ryanr\\Desktop\\FinTech-Workspace\\Challenges\\Module_05_Challenge\\financial_planner\\MCForecastTools.py:117: PerformanceWarning: DataFrame is highly fragmented.  This is usually the result of calling `frame.insert` many times, which has poor performance.  Consider joining all columns at once using pd.concat(axis=1) instead. To get a de-fragmented frame, use `newframe = frame.copy()`\n",
      "  portfolio_cumulative_returns[n] = (1 + sim_df.fillna(0)).cumprod()\n",
      "C:\\Users\\ryanr\\Desktop\\FinTech-Workspace\\Challenges\\Module_05_Challenge\\financial_planner\\MCForecastTools.py:117: PerformanceWarning: DataFrame is highly fragmented.  This is usually the result of calling `frame.insert` many times, which has poor performance.  Consider joining all columns at once using pd.concat(axis=1) instead. To get a de-fragmented frame, use `newframe = frame.copy()`\n",
      "  portfolio_cumulative_returns[n] = (1 + sim_df.fillna(0)).cumprod()\n"
     ]
    },
    {
     "name": "stdout",
     "output_type": "stream",
     "text": [
      "Running Monte Carlo simulation number 290.\n"
     ]
    },
    {
     "name": "stderr",
     "output_type": "stream",
     "text": [
      "C:\\Users\\ryanr\\Desktop\\FinTech-Workspace\\Challenges\\Module_05_Challenge\\financial_planner\\MCForecastTools.py:117: PerformanceWarning: DataFrame is highly fragmented.  This is usually the result of calling `frame.insert` many times, which has poor performance.  Consider joining all columns at once using pd.concat(axis=1) instead. To get a de-fragmented frame, use `newframe = frame.copy()`\n",
      "  portfolio_cumulative_returns[n] = (1 + sim_df.fillna(0)).cumprod()\n",
      "C:\\Users\\ryanr\\Desktop\\FinTech-Workspace\\Challenges\\Module_05_Challenge\\financial_planner\\MCForecastTools.py:117: PerformanceWarning: DataFrame is highly fragmented.  This is usually the result of calling `frame.insert` many times, which has poor performance.  Consider joining all columns at once using pd.concat(axis=1) instead. To get a de-fragmented frame, use `newframe = frame.copy()`\n",
      "  portfolio_cumulative_returns[n] = (1 + sim_df.fillna(0)).cumprod()\n",
      "C:\\Users\\ryanr\\Desktop\\FinTech-Workspace\\Challenges\\Module_05_Challenge\\financial_planner\\MCForecastTools.py:117: PerformanceWarning: DataFrame is highly fragmented.  This is usually the result of calling `frame.insert` many times, which has poor performance.  Consider joining all columns at once using pd.concat(axis=1) instead. To get a de-fragmented frame, use `newframe = frame.copy()`\n",
      "  portfolio_cumulative_returns[n] = (1 + sim_df.fillna(0)).cumprod()\n",
      "C:\\Users\\ryanr\\Desktop\\FinTech-Workspace\\Challenges\\Module_05_Challenge\\financial_planner\\MCForecastTools.py:117: PerformanceWarning: DataFrame is highly fragmented.  This is usually the result of calling `frame.insert` many times, which has poor performance.  Consider joining all columns at once using pd.concat(axis=1) instead. To get a de-fragmented frame, use `newframe = frame.copy()`\n",
      "  portfolio_cumulative_returns[n] = (1 + sim_df.fillna(0)).cumprod()\n",
      "C:\\Users\\ryanr\\Desktop\\FinTech-Workspace\\Challenges\\Module_05_Challenge\\financial_planner\\MCForecastTools.py:117: PerformanceWarning: DataFrame is highly fragmented.  This is usually the result of calling `frame.insert` many times, which has poor performance.  Consider joining all columns at once using pd.concat(axis=1) instead. To get a de-fragmented frame, use `newframe = frame.copy()`\n",
      "  portfolio_cumulative_returns[n] = (1 + sim_df.fillna(0)).cumprod()\n",
      "C:\\Users\\ryanr\\Desktop\\FinTech-Workspace\\Challenges\\Module_05_Challenge\\financial_planner\\MCForecastTools.py:117: PerformanceWarning: DataFrame is highly fragmented.  This is usually the result of calling `frame.insert` many times, which has poor performance.  Consider joining all columns at once using pd.concat(axis=1) instead. To get a de-fragmented frame, use `newframe = frame.copy()`\n",
      "  portfolio_cumulative_returns[n] = (1 + sim_df.fillna(0)).cumprod()\n",
      "C:\\Users\\ryanr\\Desktop\\FinTech-Workspace\\Challenges\\Module_05_Challenge\\financial_planner\\MCForecastTools.py:117: PerformanceWarning: DataFrame is highly fragmented.  This is usually the result of calling `frame.insert` many times, which has poor performance.  Consider joining all columns at once using pd.concat(axis=1) instead. To get a de-fragmented frame, use `newframe = frame.copy()`\n",
      "  portfolio_cumulative_returns[n] = (1 + sim_df.fillna(0)).cumprod()\n",
      "C:\\Users\\ryanr\\Desktop\\FinTech-Workspace\\Challenges\\Module_05_Challenge\\financial_planner\\MCForecastTools.py:117: PerformanceWarning: DataFrame is highly fragmented.  This is usually the result of calling `frame.insert` many times, which has poor performance.  Consider joining all columns at once using pd.concat(axis=1) instead. To get a de-fragmented frame, use `newframe = frame.copy()`\n",
      "  portfolio_cumulative_returns[n] = (1 + sim_df.fillna(0)).cumprod()\n",
      "C:\\Users\\ryanr\\Desktop\\FinTech-Workspace\\Challenges\\Module_05_Challenge\\financial_planner\\MCForecastTools.py:117: PerformanceWarning: DataFrame is highly fragmented.  This is usually the result of calling `frame.insert` many times, which has poor performance.  Consider joining all columns at once using pd.concat(axis=1) instead. To get a de-fragmented frame, use `newframe = frame.copy()`\n",
      "  portfolio_cumulative_returns[n] = (1 + sim_df.fillna(0)).cumprod()\n",
      "C:\\Users\\ryanr\\Desktop\\FinTech-Workspace\\Challenges\\Module_05_Challenge\\financial_planner\\MCForecastTools.py:117: PerformanceWarning: DataFrame is highly fragmented.  This is usually the result of calling `frame.insert` many times, which has poor performance.  Consider joining all columns at once using pd.concat(axis=1) instead. To get a de-fragmented frame, use `newframe = frame.copy()`\n",
      "  portfolio_cumulative_returns[n] = (1 + sim_df.fillna(0)).cumprod()\n"
     ]
    },
    {
     "name": "stdout",
     "output_type": "stream",
     "text": [
      "Running Monte Carlo simulation number 300.\n"
     ]
    },
    {
     "name": "stderr",
     "output_type": "stream",
     "text": [
      "C:\\Users\\ryanr\\Desktop\\FinTech-Workspace\\Challenges\\Module_05_Challenge\\financial_planner\\MCForecastTools.py:117: PerformanceWarning: DataFrame is highly fragmented.  This is usually the result of calling `frame.insert` many times, which has poor performance.  Consider joining all columns at once using pd.concat(axis=1) instead. To get a de-fragmented frame, use `newframe = frame.copy()`\n",
      "  portfolio_cumulative_returns[n] = (1 + sim_df.fillna(0)).cumprod()\n",
      "C:\\Users\\ryanr\\Desktop\\FinTech-Workspace\\Challenges\\Module_05_Challenge\\financial_planner\\MCForecastTools.py:117: PerformanceWarning: DataFrame is highly fragmented.  This is usually the result of calling `frame.insert` many times, which has poor performance.  Consider joining all columns at once using pd.concat(axis=1) instead. To get a de-fragmented frame, use `newframe = frame.copy()`\n",
      "  portfolio_cumulative_returns[n] = (1 + sim_df.fillna(0)).cumprod()\n",
      "C:\\Users\\ryanr\\Desktop\\FinTech-Workspace\\Challenges\\Module_05_Challenge\\financial_planner\\MCForecastTools.py:117: PerformanceWarning: DataFrame is highly fragmented.  This is usually the result of calling `frame.insert` many times, which has poor performance.  Consider joining all columns at once using pd.concat(axis=1) instead. To get a de-fragmented frame, use `newframe = frame.copy()`\n",
      "  portfolio_cumulative_returns[n] = (1 + sim_df.fillna(0)).cumprod()\n",
      "C:\\Users\\ryanr\\Desktop\\FinTech-Workspace\\Challenges\\Module_05_Challenge\\financial_planner\\MCForecastTools.py:117: PerformanceWarning: DataFrame is highly fragmented.  This is usually the result of calling `frame.insert` many times, which has poor performance.  Consider joining all columns at once using pd.concat(axis=1) instead. To get a de-fragmented frame, use `newframe = frame.copy()`\n",
      "  portfolio_cumulative_returns[n] = (1 + sim_df.fillna(0)).cumprod()\n",
      "C:\\Users\\ryanr\\Desktop\\FinTech-Workspace\\Challenges\\Module_05_Challenge\\financial_planner\\MCForecastTools.py:117: PerformanceWarning: DataFrame is highly fragmented.  This is usually the result of calling `frame.insert` many times, which has poor performance.  Consider joining all columns at once using pd.concat(axis=1) instead. To get a de-fragmented frame, use `newframe = frame.copy()`\n",
      "  portfolio_cumulative_returns[n] = (1 + sim_df.fillna(0)).cumprod()\n",
      "C:\\Users\\ryanr\\Desktop\\FinTech-Workspace\\Challenges\\Module_05_Challenge\\financial_planner\\MCForecastTools.py:117: PerformanceWarning: DataFrame is highly fragmented.  This is usually the result of calling `frame.insert` many times, which has poor performance.  Consider joining all columns at once using pd.concat(axis=1) instead. To get a de-fragmented frame, use `newframe = frame.copy()`\n",
      "  portfolio_cumulative_returns[n] = (1 + sim_df.fillna(0)).cumprod()\n",
      "C:\\Users\\ryanr\\Desktop\\FinTech-Workspace\\Challenges\\Module_05_Challenge\\financial_planner\\MCForecastTools.py:117: PerformanceWarning: DataFrame is highly fragmented.  This is usually the result of calling `frame.insert` many times, which has poor performance.  Consider joining all columns at once using pd.concat(axis=1) instead. To get a de-fragmented frame, use `newframe = frame.copy()`\n",
      "  portfolio_cumulative_returns[n] = (1 + sim_df.fillna(0)).cumprod()\n",
      "C:\\Users\\ryanr\\Desktop\\FinTech-Workspace\\Challenges\\Module_05_Challenge\\financial_planner\\MCForecastTools.py:117: PerformanceWarning: DataFrame is highly fragmented.  This is usually the result of calling `frame.insert` many times, which has poor performance.  Consider joining all columns at once using pd.concat(axis=1) instead. To get a de-fragmented frame, use `newframe = frame.copy()`\n",
      "  portfolio_cumulative_returns[n] = (1 + sim_df.fillna(0)).cumprod()\n",
      "C:\\Users\\ryanr\\Desktop\\FinTech-Workspace\\Challenges\\Module_05_Challenge\\financial_planner\\MCForecastTools.py:117: PerformanceWarning: DataFrame is highly fragmented.  This is usually the result of calling `frame.insert` many times, which has poor performance.  Consider joining all columns at once using pd.concat(axis=1) instead. To get a de-fragmented frame, use `newframe = frame.copy()`\n",
      "  portfolio_cumulative_returns[n] = (1 + sim_df.fillna(0)).cumprod()\n",
      "C:\\Users\\ryanr\\Desktop\\FinTech-Workspace\\Challenges\\Module_05_Challenge\\financial_planner\\MCForecastTools.py:117: PerformanceWarning: DataFrame is highly fragmented.  This is usually the result of calling `frame.insert` many times, which has poor performance.  Consider joining all columns at once using pd.concat(axis=1) instead. To get a de-fragmented frame, use `newframe = frame.copy()`\n",
      "  portfolio_cumulative_returns[n] = (1 + sim_df.fillna(0)).cumprod()\n"
     ]
    },
    {
     "name": "stdout",
     "output_type": "stream",
     "text": [
      "Running Monte Carlo simulation number 310.\n"
     ]
    },
    {
     "name": "stderr",
     "output_type": "stream",
     "text": [
      "C:\\Users\\ryanr\\Desktop\\FinTech-Workspace\\Challenges\\Module_05_Challenge\\financial_planner\\MCForecastTools.py:117: PerformanceWarning: DataFrame is highly fragmented.  This is usually the result of calling `frame.insert` many times, which has poor performance.  Consider joining all columns at once using pd.concat(axis=1) instead. To get a de-fragmented frame, use `newframe = frame.copy()`\n",
      "  portfolio_cumulative_returns[n] = (1 + sim_df.fillna(0)).cumprod()\n",
      "C:\\Users\\ryanr\\Desktop\\FinTech-Workspace\\Challenges\\Module_05_Challenge\\financial_planner\\MCForecastTools.py:117: PerformanceWarning: DataFrame is highly fragmented.  This is usually the result of calling `frame.insert` many times, which has poor performance.  Consider joining all columns at once using pd.concat(axis=1) instead. To get a de-fragmented frame, use `newframe = frame.copy()`\n",
      "  portfolio_cumulative_returns[n] = (1 + sim_df.fillna(0)).cumprod()\n",
      "C:\\Users\\ryanr\\Desktop\\FinTech-Workspace\\Challenges\\Module_05_Challenge\\financial_planner\\MCForecastTools.py:117: PerformanceWarning: DataFrame is highly fragmented.  This is usually the result of calling `frame.insert` many times, which has poor performance.  Consider joining all columns at once using pd.concat(axis=1) instead. To get a de-fragmented frame, use `newframe = frame.copy()`\n",
      "  portfolio_cumulative_returns[n] = (1 + sim_df.fillna(0)).cumprod()\n",
      "C:\\Users\\ryanr\\Desktop\\FinTech-Workspace\\Challenges\\Module_05_Challenge\\financial_planner\\MCForecastTools.py:117: PerformanceWarning: DataFrame is highly fragmented.  This is usually the result of calling `frame.insert` many times, which has poor performance.  Consider joining all columns at once using pd.concat(axis=1) instead. To get a de-fragmented frame, use `newframe = frame.copy()`\n",
      "  portfolio_cumulative_returns[n] = (1 + sim_df.fillna(0)).cumprod()\n",
      "C:\\Users\\ryanr\\Desktop\\FinTech-Workspace\\Challenges\\Module_05_Challenge\\financial_planner\\MCForecastTools.py:117: PerformanceWarning: DataFrame is highly fragmented.  This is usually the result of calling `frame.insert` many times, which has poor performance.  Consider joining all columns at once using pd.concat(axis=1) instead. To get a de-fragmented frame, use `newframe = frame.copy()`\n",
      "  portfolio_cumulative_returns[n] = (1 + sim_df.fillna(0)).cumprod()\n",
      "C:\\Users\\ryanr\\Desktop\\FinTech-Workspace\\Challenges\\Module_05_Challenge\\financial_planner\\MCForecastTools.py:117: PerformanceWarning: DataFrame is highly fragmented.  This is usually the result of calling `frame.insert` many times, which has poor performance.  Consider joining all columns at once using pd.concat(axis=1) instead. To get a de-fragmented frame, use `newframe = frame.copy()`\n",
      "  portfolio_cumulative_returns[n] = (1 + sim_df.fillna(0)).cumprod()\n",
      "C:\\Users\\ryanr\\Desktop\\FinTech-Workspace\\Challenges\\Module_05_Challenge\\financial_planner\\MCForecastTools.py:117: PerformanceWarning: DataFrame is highly fragmented.  This is usually the result of calling `frame.insert` many times, which has poor performance.  Consider joining all columns at once using pd.concat(axis=1) instead. To get a de-fragmented frame, use `newframe = frame.copy()`\n",
      "  portfolio_cumulative_returns[n] = (1 + sim_df.fillna(0)).cumprod()\n",
      "C:\\Users\\ryanr\\Desktop\\FinTech-Workspace\\Challenges\\Module_05_Challenge\\financial_planner\\MCForecastTools.py:117: PerformanceWarning: DataFrame is highly fragmented.  This is usually the result of calling `frame.insert` many times, which has poor performance.  Consider joining all columns at once using pd.concat(axis=1) instead. To get a de-fragmented frame, use `newframe = frame.copy()`\n",
      "  portfolio_cumulative_returns[n] = (1 + sim_df.fillna(0)).cumprod()\n",
      "C:\\Users\\ryanr\\Desktop\\FinTech-Workspace\\Challenges\\Module_05_Challenge\\financial_planner\\MCForecastTools.py:117: PerformanceWarning: DataFrame is highly fragmented.  This is usually the result of calling `frame.insert` many times, which has poor performance.  Consider joining all columns at once using pd.concat(axis=1) instead. To get a de-fragmented frame, use `newframe = frame.copy()`\n",
      "  portfolio_cumulative_returns[n] = (1 + sim_df.fillna(0)).cumprod()\n",
      "C:\\Users\\ryanr\\Desktop\\FinTech-Workspace\\Challenges\\Module_05_Challenge\\financial_planner\\MCForecastTools.py:117: PerformanceWarning: DataFrame is highly fragmented.  This is usually the result of calling `frame.insert` many times, which has poor performance.  Consider joining all columns at once using pd.concat(axis=1) instead. To get a de-fragmented frame, use `newframe = frame.copy()`\n",
      "  portfolio_cumulative_returns[n] = (1 + sim_df.fillna(0)).cumprod()\n"
     ]
    },
    {
     "name": "stdout",
     "output_type": "stream",
     "text": [
      "Running Monte Carlo simulation number 320.\n"
     ]
    },
    {
     "name": "stderr",
     "output_type": "stream",
     "text": [
      "C:\\Users\\ryanr\\Desktop\\FinTech-Workspace\\Challenges\\Module_05_Challenge\\financial_planner\\MCForecastTools.py:117: PerformanceWarning: DataFrame is highly fragmented.  This is usually the result of calling `frame.insert` many times, which has poor performance.  Consider joining all columns at once using pd.concat(axis=1) instead. To get a de-fragmented frame, use `newframe = frame.copy()`\n",
      "  portfolio_cumulative_returns[n] = (1 + sim_df.fillna(0)).cumprod()\n",
      "C:\\Users\\ryanr\\Desktop\\FinTech-Workspace\\Challenges\\Module_05_Challenge\\financial_planner\\MCForecastTools.py:117: PerformanceWarning: DataFrame is highly fragmented.  This is usually the result of calling `frame.insert` many times, which has poor performance.  Consider joining all columns at once using pd.concat(axis=1) instead. To get a de-fragmented frame, use `newframe = frame.copy()`\n",
      "  portfolio_cumulative_returns[n] = (1 + sim_df.fillna(0)).cumprod()\n",
      "C:\\Users\\ryanr\\Desktop\\FinTech-Workspace\\Challenges\\Module_05_Challenge\\financial_planner\\MCForecastTools.py:117: PerformanceWarning: DataFrame is highly fragmented.  This is usually the result of calling `frame.insert` many times, which has poor performance.  Consider joining all columns at once using pd.concat(axis=1) instead. To get a de-fragmented frame, use `newframe = frame.copy()`\n",
      "  portfolio_cumulative_returns[n] = (1 + sim_df.fillna(0)).cumprod()\n",
      "C:\\Users\\ryanr\\Desktop\\FinTech-Workspace\\Challenges\\Module_05_Challenge\\financial_planner\\MCForecastTools.py:117: PerformanceWarning: DataFrame is highly fragmented.  This is usually the result of calling `frame.insert` many times, which has poor performance.  Consider joining all columns at once using pd.concat(axis=1) instead. To get a de-fragmented frame, use `newframe = frame.copy()`\n",
      "  portfolio_cumulative_returns[n] = (1 + sim_df.fillna(0)).cumprod()\n",
      "C:\\Users\\ryanr\\Desktop\\FinTech-Workspace\\Challenges\\Module_05_Challenge\\financial_planner\\MCForecastTools.py:117: PerformanceWarning: DataFrame is highly fragmented.  This is usually the result of calling `frame.insert` many times, which has poor performance.  Consider joining all columns at once using pd.concat(axis=1) instead. To get a de-fragmented frame, use `newframe = frame.copy()`\n",
      "  portfolio_cumulative_returns[n] = (1 + sim_df.fillna(0)).cumprod()\n",
      "C:\\Users\\ryanr\\Desktop\\FinTech-Workspace\\Challenges\\Module_05_Challenge\\financial_planner\\MCForecastTools.py:117: PerformanceWarning: DataFrame is highly fragmented.  This is usually the result of calling `frame.insert` many times, which has poor performance.  Consider joining all columns at once using pd.concat(axis=1) instead. To get a de-fragmented frame, use `newframe = frame.copy()`\n",
      "  portfolio_cumulative_returns[n] = (1 + sim_df.fillna(0)).cumprod()\n",
      "C:\\Users\\ryanr\\Desktop\\FinTech-Workspace\\Challenges\\Module_05_Challenge\\financial_planner\\MCForecastTools.py:117: PerformanceWarning: DataFrame is highly fragmented.  This is usually the result of calling `frame.insert` many times, which has poor performance.  Consider joining all columns at once using pd.concat(axis=1) instead. To get a de-fragmented frame, use `newframe = frame.copy()`\n",
      "  portfolio_cumulative_returns[n] = (1 + sim_df.fillna(0)).cumprod()\n",
      "C:\\Users\\ryanr\\Desktop\\FinTech-Workspace\\Challenges\\Module_05_Challenge\\financial_planner\\MCForecastTools.py:117: PerformanceWarning: DataFrame is highly fragmented.  This is usually the result of calling `frame.insert` many times, which has poor performance.  Consider joining all columns at once using pd.concat(axis=1) instead. To get a de-fragmented frame, use `newframe = frame.copy()`\n",
      "  portfolio_cumulative_returns[n] = (1 + sim_df.fillna(0)).cumprod()\n",
      "C:\\Users\\ryanr\\Desktop\\FinTech-Workspace\\Challenges\\Module_05_Challenge\\financial_planner\\MCForecastTools.py:117: PerformanceWarning: DataFrame is highly fragmented.  This is usually the result of calling `frame.insert` many times, which has poor performance.  Consider joining all columns at once using pd.concat(axis=1) instead. To get a de-fragmented frame, use `newframe = frame.copy()`\n",
      "  portfolio_cumulative_returns[n] = (1 + sim_df.fillna(0)).cumprod()\n",
      "C:\\Users\\ryanr\\Desktop\\FinTech-Workspace\\Challenges\\Module_05_Challenge\\financial_planner\\MCForecastTools.py:117: PerformanceWarning: DataFrame is highly fragmented.  This is usually the result of calling `frame.insert` many times, which has poor performance.  Consider joining all columns at once using pd.concat(axis=1) instead. To get a de-fragmented frame, use `newframe = frame.copy()`\n",
      "  portfolio_cumulative_returns[n] = (1 + sim_df.fillna(0)).cumprod()\n"
     ]
    },
    {
     "name": "stdout",
     "output_type": "stream",
     "text": [
      "Running Monte Carlo simulation number 330.\n"
     ]
    },
    {
     "name": "stderr",
     "output_type": "stream",
     "text": [
      "C:\\Users\\ryanr\\Desktop\\FinTech-Workspace\\Challenges\\Module_05_Challenge\\financial_planner\\MCForecastTools.py:117: PerformanceWarning: DataFrame is highly fragmented.  This is usually the result of calling `frame.insert` many times, which has poor performance.  Consider joining all columns at once using pd.concat(axis=1) instead. To get a de-fragmented frame, use `newframe = frame.copy()`\n",
      "  portfolio_cumulative_returns[n] = (1 + sim_df.fillna(0)).cumprod()\n",
      "C:\\Users\\ryanr\\Desktop\\FinTech-Workspace\\Challenges\\Module_05_Challenge\\financial_planner\\MCForecastTools.py:117: PerformanceWarning: DataFrame is highly fragmented.  This is usually the result of calling `frame.insert` many times, which has poor performance.  Consider joining all columns at once using pd.concat(axis=1) instead. To get a de-fragmented frame, use `newframe = frame.copy()`\n",
      "  portfolio_cumulative_returns[n] = (1 + sim_df.fillna(0)).cumprod()\n",
      "C:\\Users\\ryanr\\Desktop\\FinTech-Workspace\\Challenges\\Module_05_Challenge\\financial_planner\\MCForecastTools.py:117: PerformanceWarning: DataFrame is highly fragmented.  This is usually the result of calling `frame.insert` many times, which has poor performance.  Consider joining all columns at once using pd.concat(axis=1) instead. To get a de-fragmented frame, use `newframe = frame.copy()`\n",
      "  portfolio_cumulative_returns[n] = (1 + sim_df.fillna(0)).cumprod()\n",
      "C:\\Users\\ryanr\\Desktop\\FinTech-Workspace\\Challenges\\Module_05_Challenge\\financial_planner\\MCForecastTools.py:117: PerformanceWarning: DataFrame is highly fragmented.  This is usually the result of calling `frame.insert` many times, which has poor performance.  Consider joining all columns at once using pd.concat(axis=1) instead. To get a de-fragmented frame, use `newframe = frame.copy()`\n",
      "  portfolio_cumulative_returns[n] = (1 + sim_df.fillna(0)).cumprod()\n",
      "C:\\Users\\ryanr\\Desktop\\FinTech-Workspace\\Challenges\\Module_05_Challenge\\financial_planner\\MCForecastTools.py:117: PerformanceWarning: DataFrame is highly fragmented.  This is usually the result of calling `frame.insert` many times, which has poor performance.  Consider joining all columns at once using pd.concat(axis=1) instead. To get a de-fragmented frame, use `newframe = frame.copy()`\n",
      "  portfolio_cumulative_returns[n] = (1 + sim_df.fillna(0)).cumprod()\n",
      "C:\\Users\\ryanr\\Desktop\\FinTech-Workspace\\Challenges\\Module_05_Challenge\\financial_planner\\MCForecastTools.py:117: PerformanceWarning: DataFrame is highly fragmented.  This is usually the result of calling `frame.insert` many times, which has poor performance.  Consider joining all columns at once using pd.concat(axis=1) instead. To get a de-fragmented frame, use `newframe = frame.copy()`\n",
      "  portfolio_cumulative_returns[n] = (1 + sim_df.fillna(0)).cumprod()\n",
      "C:\\Users\\ryanr\\Desktop\\FinTech-Workspace\\Challenges\\Module_05_Challenge\\financial_planner\\MCForecastTools.py:117: PerformanceWarning: DataFrame is highly fragmented.  This is usually the result of calling `frame.insert` many times, which has poor performance.  Consider joining all columns at once using pd.concat(axis=1) instead. To get a de-fragmented frame, use `newframe = frame.copy()`\n",
      "  portfolio_cumulative_returns[n] = (1 + sim_df.fillna(0)).cumprod()\n",
      "C:\\Users\\ryanr\\Desktop\\FinTech-Workspace\\Challenges\\Module_05_Challenge\\financial_planner\\MCForecastTools.py:117: PerformanceWarning: DataFrame is highly fragmented.  This is usually the result of calling `frame.insert` many times, which has poor performance.  Consider joining all columns at once using pd.concat(axis=1) instead. To get a de-fragmented frame, use `newframe = frame.copy()`\n",
      "  portfolio_cumulative_returns[n] = (1 + sim_df.fillna(0)).cumprod()\n",
      "C:\\Users\\ryanr\\Desktop\\FinTech-Workspace\\Challenges\\Module_05_Challenge\\financial_planner\\MCForecastTools.py:117: PerformanceWarning: DataFrame is highly fragmented.  This is usually the result of calling `frame.insert` many times, which has poor performance.  Consider joining all columns at once using pd.concat(axis=1) instead. To get a de-fragmented frame, use `newframe = frame.copy()`\n",
      "  portfolio_cumulative_returns[n] = (1 + sim_df.fillna(0)).cumprod()\n",
      "C:\\Users\\ryanr\\Desktop\\FinTech-Workspace\\Challenges\\Module_05_Challenge\\financial_planner\\MCForecastTools.py:117: PerformanceWarning: DataFrame is highly fragmented.  This is usually the result of calling `frame.insert` many times, which has poor performance.  Consider joining all columns at once using pd.concat(axis=1) instead. To get a de-fragmented frame, use `newframe = frame.copy()`\n",
      "  portfolio_cumulative_returns[n] = (1 + sim_df.fillna(0)).cumprod()\n"
     ]
    },
    {
     "name": "stdout",
     "output_type": "stream",
     "text": [
      "Running Monte Carlo simulation number 340.\n"
     ]
    },
    {
     "name": "stderr",
     "output_type": "stream",
     "text": [
      "C:\\Users\\ryanr\\Desktop\\FinTech-Workspace\\Challenges\\Module_05_Challenge\\financial_planner\\MCForecastTools.py:117: PerformanceWarning: DataFrame is highly fragmented.  This is usually the result of calling `frame.insert` many times, which has poor performance.  Consider joining all columns at once using pd.concat(axis=1) instead. To get a de-fragmented frame, use `newframe = frame.copy()`\n",
      "  portfolio_cumulative_returns[n] = (1 + sim_df.fillna(0)).cumprod()\n",
      "C:\\Users\\ryanr\\Desktop\\FinTech-Workspace\\Challenges\\Module_05_Challenge\\financial_planner\\MCForecastTools.py:117: PerformanceWarning: DataFrame is highly fragmented.  This is usually the result of calling `frame.insert` many times, which has poor performance.  Consider joining all columns at once using pd.concat(axis=1) instead. To get a de-fragmented frame, use `newframe = frame.copy()`\n",
      "  portfolio_cumulative_returns[n] = (1 + sim_df.fillna(0)).cumprod()\n",
      "C:\\Users\\ryanr\\Desktop\\FinTech-Workspace\\Challenges\\Module_05_Challenge\\financial_planner\\MCForecastTools.py:117: PerformanceWarning: DataFrame is highly fragmented.  This is usually the result of calling `frame.insert` many times, which has poor performance.  Consider joining all columns at once using pd.concat(axis=1) instead. To get a de-fragmented frame, use `newframe = frame.copy()`\n",
      "  portfolio_cumulative_returns[n] = (1 + sim_df.fillna(0)).cumprod()\n",
      "C:\\Users\\ryanr\\Desktop\\FinTech-Workspace\\Challenges\\Module_05_Challenge\\financial_planner\\MCForecastTools.py:117: PerformanceWarning: DataFrame is highly fragmented.  This is usually the result of calling `frame.insert` many times, which has poor performance.  Consider joining all columns at once using pd.concat(axis=1) instead. To get a de-fragmented frame, use `newframe = frame.copy()`\n",
      "  portfolio_cumulative_returns[n] = (1 + sim_df.fillna(0)).cumprod()\n",
      "C:\\Users\\ryanr\\Desktop\\FinTech-Workspace\\Challenges\\Module_05_Challenge\\financial_planner\\MCForecastTools.py:117: PerformanceWarning: DataFrame is highly fragmented.  This is usually the result of calling `frame.insert` many times, which has poor performance.  Consider joining all columns at once using pd.concat(axis=1) instead. To get a de-fragmented frame, use `newframe = frame.copy()`\n",
      "  portfolio_cumulative_returns[n] = (1 + sim_df.fillna(0)).cumprod()\n",
      "C:\\Users\\ryanr\\Desktop\\FinTech-Workspace\\Challenges\\Module_05_Challenge\\financial_planner\\MCForecastTools.py:117: PerformanceWarning: DataFrame is highly fragmented.  This is usually the result of calling `frame.insert` many times, which has poor performance.  Consider joining all columns at once using pd.concat(axis=1) instead. To get a de-fragmented frame, use `newframe = frame.copy()`\n",
      "  portfolio_cumulative_returns[n] = (1 + sim_df.fillna(0)).cumprod()\n",
      "C:\\Users\\ryanr\\Desktop\\FinTech-Workspace\\Challenges\\Module_05_Challenge\\financial_planner\\MCForecastTools.py:117: PerformanceWarning: DataFrame is highly fragmented.  This is usually the result of calling `frame.insert` many times, which has poor performance.  Consider joining all columns at once using pd.concat(axis=1) instead. To get a de-fragmented frame, use `newframe = frame.copy()`\n",
      "  portfolio_cumulative_returns[n] = (1 + sim_df.fillna(0)).cumprod()\n",
      "C:\\Users\\ryanr\\Desktop\\FinTech-Workspace\\Challenges\\Module_05_Challenge\\financial_planner\\MCForecastTools.py:117: PerformanceWarning: DataFrame is highly fragmented.  This is usually the result of calling `frame.insert` many times, which has poor performance.  Consider joining all columns at once using pd.concat(axis=1) instead. To get a de-fragmented frame, use `newframe = frame.copy()`\n",
      "  portfolio_cumulative_returns[n] = (1 + sim_df.fillna(0)).cumprod()\n",
      "C:\\Users\\ryanr\\Desktop\\FinTech-Workspace\\Challenges\\Module_05_Challenge\\financial_planner\\MCForecastTools.py:117: PerformanceWarning: DataFrame is highly fragmented.  This is usually the result of calling `frame.insert` many times, which has poor performance.  Consider joining all columns at once using pd.concat(axis=1) instead. To get a de-fragmented frame, use `newframe = frame.copy()`\n",
      "  portfolio_cumulative_returns[n] = (1 + sim_df.fillna(0)).cumprod()\n",
      "C:\\Users\\ryanr\\Desktop\\FinTech-Workspace\\Challenges\\Module_05_Challenge\\financial_planner\\MCForecastTools.py:117: PerformanceWarning: DataFrame is highly fragmented.  This is usually the result of calling `frame.insert` many times, which has poor performance.  Consider joining all columns at once using pd.concat(axis=1) instead. To get a de-fragmented frame, use `newframe = frame.copy()`\n",
      "  portfolio_cumulative_returns[n] = (1 + sim_df.fillna(0)).cumprod()\n"
     ]
    },
    {
     "name": "stdout",
     "output_type": "stream",
     "text": [
      "Running Monte Carlo simulation number 350.\n"
     ]
    },
    {
     "name": "stderr",
     "output_type": "stream",
     "text": [
      "C:\\Users\\ryanr\\Desktop\\FinTech-Workspace\\Challenges\\Module_05_Challenge\\financial_planner\\MCForecastTools.py:117: PerformanceWarning: DataFrame is highly fragmented.  This is usually the result of calling `frame.insert` many times, which has poor performance.  Consider joining all columns at once using pd.concat(axis=1) instead. To get a de-fragmented frame, use `newframe = frame.copy()`\n",
      "  portfolio_cumulative_returns[n] = (1 + sim_df.fillna(0)).cumprod()\n",
      "C:\\Users\\ryanr\\Desktop\\FinTech-Workspace\\Challenges\\Module_05_Challenge\\financial_planner\\MCForecastTools.py:117: PerformanceWarning: DataFrame is highly fragmented.  This is usually the result of calling `frame.insert` many times, which has poor performance.  Consider joining all columns at once using pd.concat(axis=1) instead. To get a de-fragmented frame, use `newframe = frame.copy()`\n",
      "  portfolio_cumulative_returns[n] = (1 + sim_df.fillna(0)).cumprod()\n",
      "C:\\Users\\ryanr\\Desktop\\FinTech-Workspace\\Challenges\\Module_05_Challenge\\financial_planner\\MCForecastTools.py:117: PerformanceWarning: DataFrame is highly fragmented.  This is usually the result of calling `frame.insert` many times, which has poor performance.  Consider joining all columns at once using pd.concat(axis=1) instead. To get a de-fragmented frame, use `newframe = frame.copy()`\n",
      "  portfolio_cumulative_returns[n] = (1 + sim_df.fillna(0)).cumprod()\n",
      "C:\\Users\\ryanr\\Desktop\\FinTech-Workspace\\Challenges\\Module_05_Challenge\\financial_planner\\MCForecastTools.py:117: PerformanceWarning: DataFrame is highly fragmented.  This is usually the result of calling `frame.insert` many times, which has poor performance.  Consider joining all columns at once using pd.concat(axis=1) instead. To get a de-fragmented frame, use `newframe = frame.copy()`\n",
      "  portfolio_cumulative_returns[n] = (1 + sim_df.fillna(0)).cumprod()\n",
      "C:\\Users\\ryanr\\Desktop\\FinTech-Workspace\\Challenges\\Module_05_Challenge\\financial_planner\\MCForecastTools.py:117: PerformanceWarning: DataFrame is highly fragmented.  This is usually the result of calling `frame.insert` many times, which has poor performance.  Consider joining all columns at once using pd.concat(axis=1) instead. To get a de-fragmented frame, use `newframe = frame.copy()`\n",
      "  portfolio_cumulative_returns[n] = (1 + sim_df.fillna(0)).cumprod()\n",
      "C:\\Users\\ryanr\\Desktop\\FinTech-Workspace\\Challenges\\Module_05_Challenge\\financial_planner\\MCForecastTools.py:117: PerformanceWarning: DataFrame is highly fragmented.  This is usually the result of calling `frame.insert` many times, which has poor performance.  Consider joining all columns at once using pd.concat(axis=1) instead. To get a de-fragmented frame, use `newframe = frame.copy()`\n",
      "  portfolio_cumulative_returns[n] = (1 + sim_df.fillna(0)).cumprod()\n",
      "C:\\Users\\ryanr\\Desktop\\FinTech-Workspace\\Challenges\\Module_05_Challenge\\financial_planner\\MCForecastTools.py:117: PerformanceWarning: DataFrame is highly fragmented.  This is usually the result of calling `frame.insert` many times, which has poor performance.  Consider joining all columns at once using pd.concat(axis=1) instead. To get a de-fragmented frame, use `newframe = frame.copy()`\n",
      "  portfolio_cumulative_returns[n] = (1 + sim_df.fillna(0)).cumprod()\n",
      "C:\\Users\\ryanr\\Desktop\\FinTech-Workspace\\Challenges\\Module_05_Challenge\\financial_planner\\MCForecastTools.py:117: PerformanceWarning: DataFrame is highly fragmented.  This is usually the result of calling `frame.insert` many times, which has poor performance.  Consider joining all columns at once using pd.concat(axis=1) instead. To get a de-fragmented frame, use `newframe = frame.copy()`\n",
      "  portfolio_cumulative_returns[n] = (1 + sim_df.fillna(0)).cumprod()\n",
      "C:\\Users\\ryanr\\Desktop\\FinTech-Workspace\\Challenges\\Module_05_Challenge\\financial_planner\\MCForecastTools.py:117: PerformanceWarning: DataFrame is highly fragmented.  This is usually the result of calling `frame.insert` many times, which has poor performance.  Consider joining all columns at once using pd.concat(axis=1) instead. To get a de-fragmented frame, use `newframe = frame.copy()`\n",
      "  portfolio_cumulative_returns[n] = (1 + sim_df.fillna(0)).cumprod()\n",
      "C:\\Users\\ryanr\\Desktop\\FinTech-Workspace\\Challenges\\Module_05_Challenge\\financial_planner\\MCForecastTools.py:117: PerformanceWarning: DataFrame is highly fragmented.  This is usually the result of calling `frame.insert` many times, which has poor performance.  Consider joining all columns at once using pd.concat(axis=1) instead. To get a de-fragmented frame, use `newframe = frame.copy()`\n",
      "  portfolio_cumulative_returns[n] = (1 + sim_df.fillna(0)).cumprod()\n"
     ]
    },
    {
     "name": "stdout",
     "output_type": "stream",
     "text": [
      "Running Monte Carlo simulation number 360.\n"
     ]
    },
    {
     "name": "stderr",
     "output_type": "stream",
     "text": [
      "C:\\Users\\ryanr\\Desktop\\FinTech-Workspace\\Challenges\\Module_05_Challenge\\financial_planner\\MCForecastTools.py:117: PerformanceWarning: DataFrame is highly fragmented.  This is usually the result of calling `frame.insert` many times, which has poor performance.  Consider joining all columns at once using pd.concat(axis=1) instead. To get a de-fragmented frame, use `newframe = frame.copy()`\n",
      "  portfolio_cumulative_returns[n] = (1 + sim_df.fillna(0)).cumprod()\n",
      "C:\\Users\\ryanr\\Desktop\\FinTech-Workspace\\Challenges\\Module_05_Challenge\\financial_planner\\MCForecastTools.py:117: PerformanceWarning: DataFrame is highly fragmented.  This is usually the result of calling `frame.insert` many times, which has poor performance.  Consider joining all columns at once using pd.concat(axis=1) instead. To get a de-fragmented frame, use `newframe = frame.copy()`\n",
      "  portfolio_cumulative_returns[n] = (1 + sim_df.fillna(0)).cumprod()\n",
      "C:\\Users\\ryanr\\Desktop\\FinTech-Workspace\\Challenges\\Module_05_Challenge\\financial_planner\\MCForecastTools.py:117: PerformanceWarning: DataFrame is highly fragmented.  This is usually the result of calling `frame.insert` many times, which has poor performance.  Consider joining all columns at once using pd.concat(axis=1) instead. To get a de-fragmented frame, use `newframe = frame.copy()`\n",
      "  portfolio_cumulative_returns[n] = (1 + sim_df.fillna(0)).cumprod()\n",
      "C:\\Users\\ryanr\\Desktop\\FinTech-Workspace\\Challenges\\Module_05_Challenge\\financial_planner\\MCForecastTools.py:117: PerformanceWarning: DataFrame is highly fragmented.  This is usually the result of calling `frame.insert` many times, which has poor performance.  Consider joining all columns at once using pd.concat(axis=1) instead. To get a de-fragmented frame, use `newframe = frame.copy()`\n",
      "  portfolio_cumulative_returns[n] = (1 + sim_df.fillna(0)).cumprod()\n",
      "C:\\Users\\ryanr\\Desktop\\FinTech-Workspace\\Challenges\\Module_05_Challenge\\financial_planner\\MCForecastTools.py:117: PerformanceWarning: DataFrame is highly fragmented.  This is usually the result of calling `frame.insert` many times, which has poor performance.  Consider joining all columns at once using pd.concat(axis=1) instead. To get a de-fragmented frame, use `newframe = frame.copy()`\n",
      "  portfolio_cumulative_returns[n] = (1 + sim_df.fillna(0)).cumprod()\n",
      "C:\\Users\\ryanr\\Desktop\\FinTech-Workspace\\Challenges\\Module_05_Challenge\\financial_planner\\MCForecastTools.py:117: PerformanceWarning: DataFrame is highly fragmented.  This is usually the result of calling `frame.insert` many times, which has poor performance.  Consider joining all columns at once using pd.concat(axis=1) instead. To get a de-fragmented frame, use `newframe = frame.copy()`\n",
      "  portfolio_cumulative_returns[n] = (1 + sim_df.fillna(0)).cumprod()\n",
      "C:\\Users\\ryanr\\Desktop\\FinTech-Workspace\\Challenges\\Module_05_Challenge\\financial_planner\\MCForecastTools.py:117: PerformanceWarning: DataFrame is highly fragmented.  This is usually the result of calling `frame.insert` many times, which has poor performance.  Consider joining all columns at once using pd.concat(axis=1) instead. To get a de-fragmented frame, use `newframe = frame.copy()`\n",
      "  portfolio_cumulative_returns[n] = (1 + sim_df.fillna(0)).cumprod()\n",
      "C:\\Users\\ryanr\\Desktop\\FinTech-Workspace\\Challenges\\Module_05_Challenge\\financial_planner\\MCForecastTools.py:117: PerformanceWarning: DataFrame is highly fragmented.  This is usually the result of calling `frame.insert` many times, which has poor performance.  Consider joining all columns at once using pd.concat(axis=1) instead. To get a de-fragmented frame, use `newframe = frame.copy()`\n",
      "  portfolio_cumulative_returns[n] = (1 + sim_df.fillna(0)).cumprod()\n",
      "C:\\Users\\ryanr\\Desktop\\FinTech-Workspace\\Challenges\\Module_05_Challenge\\financial_planner\\MCForecastTools.py:117: PerformanceWarning: DataFrame is highly fragmented.  This is usually the result of calling `frame.insert` many times, which has poor performance.  Consider joining all columns at once using pd.concat(axis=1) instead. To get a de-fragmented frame, use `newframe = frame.copy()`\n",
      "  portfolio_cumulative_returns[n] = (1 + sim_df.fillna(0)).cumprod()\n",
      "C:\\Users\\ryanr\\Desktop\\FinTech-Workspace\\Challenges\\Module_05_Challenge\\financial_planner\\MCForecastTools.py:117: PerformanceWarning: DataFrame is highly fragmented.  This is usually the result of calling `frame.insert` many times, which has poor performance.  Consider joining all columns at once using pd.concat(axis=1) instead. To get a de-fragmented frame, use `newframe = frame.copy()`\n",
      "  portfolio_cumulative_returns[n] = (1 + sim_df.fillna(0)).cumprod()\n"
     ]
    },
    {
     "name": "stdout",
     "output_type": "stream",
     "text": [
      "Running Monte Carlo simulation number 370.\n"
     ]
    },
    {
     "name": "stderr",
     "output_type": "stream",
     "text": [
      "C:\\Users\\ryanr\\Desktop\\FinTech-Workspace\\Challenges\\Module_05_Challenge\\financial_planner\\MCForecastTools.py:117: PerformanceWarning: DataFrame is highly fragmented.  This is usually the result of calling `frame.insert` many times, which has poor performance.  Consider joining all columns at once using pd.concat(axis=1) instead. To get a de-fragmented frame, use `newframe = frame.copy()`\n",
      "  portfolio_cumulative_returns[n] = (1 + sim_df.fillna(0)).cumprod()\n",
      "C:\\Users\\ryanr\\Desktop\\FinTech-Workspace\\Challenges\\Module_05_Challenge\\financial_planner\\MCForecastTools.py:117: PerformanceWarning: DataFrame is highly fragmented.  This is usually the result of calling `frame.insert` many times, which has poor performance.  Consider joining all columns at once using pd.concat(axis=1) instead. To get a de-fragmented frame, use `newframe = frame.copy()`\n",
      "  portfolio_cumulative_returns[n] = (1 + sim_df.fillna(0)).cumprod()\n",
      "C:\\Users\\ryanr\\Desktop\\FinTech-Workspace\\Challenges\\Module_05_Challenge\\financial_planner\\MCForecastTools.py:117: PerformanceWarning: DataFrame is highly fragmented.  This is usually the result of calling `frame.insert` many times, which has poor performance.  Consider joining all columns at once using pd.concat(axis=1) instead. To get a de-fragmented frame, use `newframe = frame.copy()`\n",
      "  portfolio_cumulative_returns[n] = (1 + sim_df.fillna(0)).cumprod()\n",
      "C:\\Users\\ryanr\\Desktop\\FinTech-Workspace\\Challenges\\Module_05_Challenge\\financial_planner\\MCForecastTools.py:117: PerformanceWarning: DataFrame is highly fragmented.  This is usually the result of calling `frame.insert` many times, which has poor performance.  Consider joining all columns at once using pd.concat(axis=1) instead. To get a de-fragmented frame, use `newframe = frame.copy()`\n",
      "  portfolio_cumulative_returns[n] = (1 + sim_df.fillna(0)).cumprod()\n",
      "C:\\Users\\ryanr\\Desktop\\FinTech-Workspace\\Challenges\\Module_05_Challenge\\financial_planner\\MCForecastTools.py:117: PerformanceWarning: DataFrame is highly fragmented.  This is usually the result of calling `frame.insert` many times, which has poor performance.  Consider joining all columns at once using pd.concat(axis=1) instead. To get a de-fragmented frame, use `newframe = frame.copy()`\n",
      "  portfolio_cumulative_returns[n] = (1 + sim_df.fillna(0)).cumprod()\n",
      "C:\\Users\\ryanr\\Desktop\\FinTech-Workspace\\Challenges\\Module_05_Challenge\\financial_planner\\MCForecastTools.py:117: PerformanceWarning: DataFrame is highly fragmented.  This is usually the result of calling `frame.insert` many times, which has poor performance.  Consider joining all columns at once using pd.concat(axis=1) instead. To get a de-fragmented frame, use `newframe = frame.copy()`\n",
      "  portfolio_cumulative_returns[n] = (1 + sim_df.fillna(0)).cumprod()\n",
      "C:\\Users\\ryanr\\Desktop\\FinTech-Workspace\\Challenges\\Module_05_Challenge\\financial_planner\\MCForecastTools.py:117: PerformanceWarning: DataFrame is highly fragmented.  This is usually the result of calling `frame.insert` many times, which has poor performance.  Consider joining all columns at once using pd.concat(axis=1) instead. To get a de-fragmented frame, use `newframe = frame.copy()`\n",
      "  portfolio_cumulative_returns[n] = (1 + sim_df.fillna(0)).cumprod()\n",
      "C:\\Users\\ryanr\\Desktop\\FinTech-Workspace\\Challenges\\Module_05_Challenge\\financial_planner\\MCForecastTools.py:117: PerformanceWarning: DataFrame is highly fragmented.  This is usually the result of calling `frame.insert` many times, which has poor performance.  Consider joining all columns at once using pd.concat(axis=1) instead. To get a de-fragmented frame, use `newframe = frame.copy()`\n",
      "  portfolio_cumulative_returns[n] = (1 + sim_df.fillna(0)).cumprod()\n",
      "C:\\Users\\ryanr\\Desktop\\FinTech-Workspace\\Challenges\\Module_05_Challenge\\financial_planner\\MCForecastTools.py:117: PerformanceWarning: DataFrame is highly fragmented.  This is usually the result of calling `frame.insert` many times, which has poor performance.  Consider joining all columns at once using pd.concat(axis=1) instead. To get a de-fragmented frame, use `newframe = frame.copy()`\n",
      "  portfolio_cumulative_returns[n] = (1 + sim_df.fillna(0)).cumprod()\n",
      "C:\\Users\\ryanr\\Desktop\\FinTech-Workspace\\Challenges\\Module_05_Challenge\\financial_planner\\MCForecastTools.py:117: PerformanceWarning: DataFrame is highly fragmented.  This is usually the result of calling `frame.insert` many times, which has poor performance.  Consider joining all columns at once using pd.concat(axis=1) instead. To get a de-fragmented frame, use `newframe = frame.copy()`\n",
      "  portfolio_cumulative_returns[n] = (1 + sim_df.fillna(0)).cumprod()\n"
     ]
    },
    {
     "name": "stdout",
     "output_type": "stream",
     "text": [
      "Running Monte Carlo simulation number 380.\n"
     ]
    },
    {
     "name": "stderr",
     "output_type": "stream",
     "text": [
      "C:\\Users\\ryanr\\Desktop\\FinTech-Workspace\\Challenges\\Module_05_Challenge\\financial_planner\\MCForecastTools.py:117: PerformanceWarning: DataFrame is highly fragmented.  This is usually the result of calling `frame.insert` many times, which has poor performance.  Consider joining all columns at once using pd.concat(axis=1) instead. To get a de-fragmented frame, use `newframe = frame.copy()`\n",
      "  portfolio_cumulative_returns[n] = (1 + sim_df.fillna(0)).cumprod()\n",
      "C:\\Users\\ryanr\\Desktop\\FinTech-Workspace\\Challenges\\Module_05_Challenge\\financial_planner\\MCForecastTools.py:117: PerformanceWarning: DataFrame is highly fragmented.  This is usually the result of calling `frame.insert` many times, which has poor performance.  Consider joining all columns at once using pd.concat(axis=1) instead. To get a de-fragmented frame, use `newframe = frame.copy()`\n",
      "  portfolio_cumulative_returns[n] = (1 + sim_df.fillna(0)).cumprod()\n",
      "C:\\Users\\ryanr\\Desktop\\FinTech-Workspace\\Challenges\\Module_05_Challenge\\financial_planner\\MCForecastTools.py:117: PerformanceWarning: DataFrame is highly fragmented.  This is usually the result of calling `frame.insert` many times, which has poor performance.  Consider joining all columns at once using pd.concat(axis=1) instead. To get a de-fragmented frame, use `newframe = frame.copy()`\n",
      "  portfolio_cumulative_returns[n] = (1 + sim_df.fillna(0)).cumprod()\n",
      "C:\\Users\\ryanr\\Desktop\\FinTech-Workspace\\Challenges\\Module_05_Challenge\\financial_planner\\MCForecastTools.py:117: PerformanceWarning: DataFrame is highly fragmented.  This is usually the result of calling `frame.insert` many times, which has poor performance.  Consider joining all columns at once using pd.concat(axis=1) instead. To get a de-fragmented frame, use `newframe = frame.copy()`\n",
      "  portfolio_cumulative_returns[n] = (1 + sim_df.fillna(0)).cumprod()\n",
      "C:\\Users\\ryanr\\Desktop\\FinTech-Workspace\\Challenges\\Module_05_Challenge\\financial_planner\\MCForecastTools.py:117: PerformanceWarning: DataFrame is highly fragmented.  This is usually the result of calling `frame.insert` many times, which has poor performance.  Consider joining all columns at once using pd.concat(axis=1) instead. To get a de-fragmented frame, use `newframe = frame.copy()`\n",
      "  portfolio_cumulative_returns[n] = (1 + sim_df.fillna(0)).cumprod()\n",
      "C:\\Users\\ryanr\\Desktop\\FinTech-Workspace\\Challenges\\Module_05_Challenge\\financial_planner\\MCForecastTools.py:117: PerformanceWarning: DataFrame is highly fragmented.  This is usually the result of calling `frame.insert` many times, which has poor performance.  Consider joining all columns at once using pd.concat(axis=1) instead. To get a de-fragmented frame, use `newframe = frame.copy()`\n",
      "  portfolio_cumulative_returns[n] = (1 + sim_df.fillna(0)).cumprod()\n",
      "C:\\Users\\ryanr\\Desktop\\FinTech-Workspace\\Challenges\\Module_05_Challenge\\financial_planner\\MCForecastTools.py:117: PerformanceWarning: DataFrame is highly fragmented.  This is usually the result of calling `frame.insert` many times, which has poor performance.  Consider joining all columns at once using pd.concat(axis=1) instead. To get a de-fragmented frame, use `newframe = frame.copy()`\n",
      "  portfolio_cumulative_returns[n] = (1 + sim_df.fillna(0)).cumprod()\n",
      "C:\\Users\\ryanr\\Desktop\\FinTech-Workspace\\Challenges\\Module_05_Challenge\\financial_planner\\MCForecastTools.py:117: PerformanceWarning: DataFrame is highly fragmented.  This is usually the result of calling `frame.insert` many times, which has poor performance.  Consider joining all columns at once using pd.concat(axis=1) instead. To get a de-fragmented frame, use `newframe = frame.copy()`\n",
      "  portfolio_cumulative_returns[n] = (1 + sim_df.fillna(0)).cumprod()\n",
      "C:\\Users\\ryanr\\Desktop\\FinTech-Workspace\\Challenges\\Module_05_Challenge\\financial_planner\\MCForecastTools.py:117: PerformanceWarning: DataFrame is highly fragmented.  This is usually the result of calling `frame.insert` many times, which has poor performance.  Consider joining all columns at once using pd.concat(axis=1) instead. To get a de-fragmented frame, use `newframe = frame.copy()`\n",
      "  portfolio_cumulative_returns[n] = (1 + sim_df.fillna(0)).cumprod()\n",
      "C:\\Users\\ryanr\\Desktop\\FinTech-Workspace\\Challenges\\Module_05_Challenge\\financial_planner\\MCForecastTools.py:117: PerformanceWarning: DataFrame is highly fragmented.  This is usually the result of calling `frame.insert` many times, which has poor performance.  Consider joining all columns at once using pd.concat(axis=1) instead. To get a de-fragmented frame, use `newframe = frame.copy()`\n",
      "  portfolio_cumulative_returns[n] = (1 + sim_df.fillna(0)).cumprod()\n"
     ]
    },
    {
     "name": "stdout",
     "output_type": "stream",
     "text": [
      "Running Monte Carlo simulation number 390.\n"
     ]
    },
    {
     "name": "stderr",
     "output_type": "stream",
     "text": [
      "C:\\Users\\ryanr\\Desktop\\FinTech-Workspace\\Challenges\\Module_05_Challenge\\financial_planner\\MCForecastTools.py:117: PerformanceWarning: DataFrame is highly fragmented.  This is usually the result of calling `frame.insert` many times, which has poor performance.  Consider joining all columns at once using pd.concat(axis=1) instead. To get a de-fragmented frame, use `newframe = frame.copy()`\n",
      "  portfolio_cumulative_returns[n] = (1 + sim_df.fillna(0)).cumprod()\n",
      "C:\\Users\\ryanr\\Desktop\\FinTech-Workspace\\Challenges\\Module_05_Challenge\\financial_planner\\MCForecastTools.py:117: PerformanceWarning: DataFrame is highly fragmented.  This is usually the result of calling `frame.insert` many times, which has poor performance.  Consider joining all columns at once using pd.concat(axis=1) instead. To get a de-fragmented frame, use `newframe = frame.copy()`\n",
      "  portfolio_cumulative_returns[n] = (1 + sim_df.fillna(0)).cumprod()\n",
      "C:\\Users\\ryanr\\Desktop\\FinTech-Workspace\\Challenges\\Module_05_Challenge\\financial_planner\\MCForecastTools.py:117: PerformanceWarning: DataFrame is highly fragmented.  This is usually the result of calling `frame.insert` many times, which has poor performance.  Consider joining all columns at once using pd.concat(axis=1) instead. To get a de-fragmented frame, use `newframe = frame.copy()`\n",
      "  portfolio_cumulative_returns[n] = (1 + sim_df.fillna(0)).cumprod()\n",
      "C:\\Users\\ryanr\\Desktop\\FinTech-Workspace\\Challenges\\Module_05_Challenge\\financial_planner\\MCForecastTools.py:117: PerformanceWarning: DataFrame is highly fragmented.  This is usually the result of calling `frame.insert` many times, which has poor performance.  Consider joining all columns at once using pd.concat(axis=1) instead. To get a de-fragmented frame, use `newframe = frame.copy()`\n",
      "  portfolio_cumulative_returns[n] = (1 + sim_df.fillna(0)).cumprod()\n",
      "C:\\Users\\ryanr\\Desktop\\FinTech-Workspace\\Challenges\\Module_05_Challenge\\financial_planner\\MCForecastTools.py:117: PerformanceWarning: DataFrame is highly fragmented.  This is usually the result of calling `frame.insert` many times, which has poor performance.  Consider joining all columns at once using pd.concat(axis=1) instead. To get a de-fragmented frame, use `newframe = frame.copy()`\n",
      "  portfolio_cumulative_returns[n] = (1 + sim_df.fillna(0)).cumprod()\n",
      "C:\\Users\\ryanr\\Desktop\\FinTech-Workspace\\Challenges\\Module_05_Challenge\\financial_planner\\MCForecastTools.py:117: PerformanceWarning: DataFrame is highly fragmented.  This is usually the result of calling `frame.insert` many times, which has poor performance.  Consider joining all columns at once using pd.concat(axis=1) instead. To get a de-fragmented frame, use `newframe = frame.copy()`\n",
      "  portfolio_cumulative_returns[n] = (1 + sim_df.fillna(0)).cumprod()\n",
      "C:\\Users\\ryanr\\Desktop\\FinTech-Workspace\\Challenges\\Module_05_Challenge\\financial_planner\\MCForecastTools.py:117: PerformanceWarning: DataFrame is highly fragmented.  This is usually the result of calling `frame.insert` many times, which has poor performance.  Consider joining all columns at once using pd.concat(axis=1) instead. To get a de-fragmented frame, use `newframe = frame.copy()`\n",
      "  portfolio_cumulative_returns[n] = (1 + sim_df.fillna(0)).cumprod()\n",
      "C:\\Users\\ryanr\\Desktop\\FinTech-Workspace\\Challenges\\Module_05_Challenge\\financial_planner\\MCForecastTools.py:117: PerformanceWarning: DataFrame is highly fragmented.  This is usually the result of calling `frame.insert` many times, which has poor performance.  Consider joining all columns at once using pd.concat(axis=1) instead. To get a de-fragmented frame, use `newframe = frame.copy()`\n",
      "  portfolio_cumulative_returns[n] = (1 + sim_df.fillna(0)).cumprod()\n",
      "C:\\Users\\ryanr\\Desktop\\FinTech-Workspace\\Challenges\\Module_05_Challenge\\financial_planner\\MCForecastTools.py:117: PerformanceWarning: DataFrame is highly fragmented.  This is usually the result of calling `frame.insert` many times, which has poor performance.  Consider joining all columns at once using pd.concat(axis=1) instead. To get a de-fragmented frame, use `newframe = frame.copy()`\n",
      "  portfolio_cumulative_returns[n] = (1 + sim_df.fillna(0)).cumprod()\n",
      "C:\\Users\\ryanr\\Desktop\\FinTech-Workspace\\Challenges\\Module_05_Challenge\\financial_planner\\MCForecastTools.py:117: PerformanceWarning: DataFrame is highly fragmented.  This is usually the result of calling `frame.insert` many times, which has poor performance.  Consider joining all columns at once using pd.concat(axis=1) instead. To get a de-fragmented frame, use `newframe = frame.copy()`\n",
      "  portfolio_cumulative_returns[n] = (1 + sim_df.fillna(0)).cumprod()\n"
     ]
    },
    {
     "name": "stdout",
     "output_type": "stream",
     "text": [
      "Running Monte Carlo simulation number 400.\n"
     ]
    },
    {
     "name": "stderr",
     "output_type": "stream",
     "text": [
      "C:\\Users\\ryanr\\Desktop\\FinTech-Workspace\\Challenges\\Module_05_Challenge\\financial_planner\\MCForecastTools.py:117: PerformanceWarning: DataFrame is highly fragmented.  This is usually the result of calling `frame.insert` many times, which has poor performance.  Consider joining all columns at once using pd.concat(axis=1) instead. To get a de-fragmented frame, use `newframe = frame.copy()`\n",
      "  portfolio_cumulative_returns[n] = (1 + sim_df.fillna(0)).cumprod()\n",
      "C:\\Users\\ryanr\\Desktop\\FinTech-Workspace\\Challenges\\Module_05_Challenge\\financial_planner\\MCForecastTools.py:117: PerformanceWarning: DataFrame is highly fragmented.  This is usually the result of calling `frame.insert` many times, which has poor performance.  Consider joining all columns at once using pd.concat(axis=1) instead. To get a de-fragmented frame, use `newframe = frame.copy()`\n",
      "  portfolio_cumulative_returns[n] = (1 + sim_df.fillna(0)).cumprod()\n",
      "C:\\Users\\ryanr\\Desktop\\FinTech-Workspace\\Challenges\\Module_05_Challenge\\financial_planner\\MCForecastTools.py:117: PerformanceWarning: DataFrame is highly fragmented.  This is usually the result of calling `frame.insert` many times, which has poor performance.  Consider joining all columns at once using pd.concat(axis=1) instead. To get a de-fragmented frame, use `newframe = frame.copy()`\n",
      "  portfolio_cumulative_returns[n] = (1 + sim_df.fillna(0)).cumprod()\n",
      "C:\\Users\\ryanr\\Desktop\\FinTech-Workspace\\Challenges\\Module_05_Challenge\\financial_planner\\MCForecastTools.py:117: PerformanceWarning: DataFrame is highly fragmented.  This is usually the result of calling `frame.insert` many times, which has poor performance.  Consider joining all columns at once using pd.concat(axis=1) instead. To get a de-fragmented frame, use `newframe = frame.copy()`\n",
      "  portfolio_cumulative_returns[n] = (1 + sim_df.fillna(0)).cumprod()\n",
      "C:\\Users\\ryanr\\Desktop\\FinTech-Workspace\\Challenges\\Module_05_Challenge\\financial_planner\\MCForecastTools.py:117: PerformanceWarning: DataFrame is highly fragmented.  This is usually the result of calling `frame.insert` many times, which has poor performance.  Consider joining all columns at once using pd.concat(axis=1) instead. To get a de-fragmented frame, use `newframe = frame.copy()`\n",
      "  portfolio_cumulative_returns[n] = (1 + sim_df.fillna(0)).cumprod()\n",
      "C:\\Users\\ryanr\\Desktop\\FinTech-Workspace\\Challenges\\Module_05_Challenge\\financial_planner\\MCForecastTools.py:117: PerformanceWarning: DataFrame is highly fragmented.  This is usually the result of calling `frame.insert` many times, which has poor performance.  Consider joining all columns at once using pd.concat(axis=1) instead. To get a de-fragmented frame, use `newframe = frame.copy()`\n",
      "  portfolio_cumulative_returns[n] = (1 + sim_df.fillna(0)).cumprod()\n",
      "C:\\Users\\ryanr\\Desktop\\FinTech-Workspace\\Challenges\\Module_05_Challenge\\financial_planner\\MCForecastTools.py:117: PerformanceWarning: DataFrame is highly fragmented.  This is usually the result of calling `frame.insert` many times, which has poor performance.  Consider joining all columns at once using pd.concat(axis=1) instead. To get a de-fragmented frame, use `newframe = frame.copy()`\n",
      "  portfolio_cumulative_returns[n] = (1 + sim_df.fillna(0)).cumprod()\n",
      "C:\\Users\\ryanr\\Desktop\\FinTech-Workspace\\Challenges\\Module_05_Challenge\\financial_planner\\MCForecastTools.py:117: PerformanceWarning: DataFrame is highly fragmented.  This is usually the result of calling `frame.insert` many times, which has poor performance.  Consider joining all columns at once using pd.concat(axis=1) instead. To get a de-fragmented frame, use `newframe = frame.copy()`\n",
      "  portfolio_cumulative_returns[n] = (1 + sim_df.fillna(0)).cumprod()\n",
      "C:\\Users\\ryanr\\Desktop\\FinTech-Workspace\\Challenges\\Module_05_Challenge\\financial_planner\\MCForecastTools.py:117: PerformanceWarning: DataFrame is highly fragmented.  This is usually the result of calling `frame.insert` many times, which has poor performance.  Consider joining all columns at once using pd.concat(axis=1) instead. To get a de-fragmented frame, use `newframe = frame.copy()`\n",
      "  portfolio_cumulative_returns[n] = (1 + sim_df.fillna(0)).cumprod()\n",
      "C:\\Users\\ryanr\\Desktop\\FinTech-Workspace\\Challenges\\Module_05_Challenge\\financial_planner\\MCForecastTools.py:117: PerformanceWarning: DataFrame is highly fragmented.  This is usually the result of calling `frame.insert` many times, which has poor performance.  Consider joining all columns at once using pd.concat(axis=1) instead. To get a de-fragmented frame, use `newframe = frame.copy()`\n",
      "  portfolio_cumulative_returns[n] = (1 + sim_df.fillna(0)).cumprod()\n"
     ]
    },
    {
     "name": "stdout",
     "output_type": "stream",
     "text": [
      "Running Monte Carlo simulation number 410.\n"
     ]
    },
    {
     "name": "stderr",
     "output_type": "stream",
     "text": [
      "C:\\Users\\ryanr\\Desktop\\FinTech-Workspace\\Challenges\\Module_05_Challenge\\financial_planner\\MCForecastTools.py:117: PerformanceWarning: DataFrame is highly fragmented.  This is usually the result of calling `frame.insert` many times, which has poor performance.  Consider joining all columns at once using pd.concat(axis=1) instead. To get a de-fragmented frame, use `newframe = frame.copy()`\n",
      "  portfolio_cumulative_returns[n] = (1 + sim_df.fillna(0)).cumprod()\n",
      "C:\\Users\\ryanr\\Desktop\\FinTech-Workspace\\Challenges\\Module_05_Challenge\\financial_planner\\MCForecastTools.py:117: PerformanceWarning: DataFrame is highly fragmented.  This is usually the result of calling `frame.insert` many times, which has poor performance.  Consider joining all columns at once using pd.concat(axis=1) instead. To get a de-fragmented frame, use `newframe = frame.copy()`\n",
      "  portfolio_cumulative_returns[n] = (1 + sim_df.fillna(0)).cumprod()\n",
      "C:\\Users\\ryanr\\Desktop\\FinTech-Workspace\\Challenges\\Module_05_Challenge\\financial_planner\\MCForecastTools.py:117: PerformanceWarning: DataFrame is highly fragmented.  This is usually the result of calling `frame.insert` many times, which has poor performance.  Consider joining all columns at once using pd.concat(axis=1) instead. To get a de-fragmented frame, use `newframe = frame.copy()`\n",
      "  portfolio_cumulative_returns[n] = (1 + sim_df.fillna(0)).cumprod()\n",
      "C:\\Users\\ryanr\\Desktop\\FinTech-Workspace\\Challenges\\Module_05_Challenge\\financial_planner\\MCForecastTools.py:117: PerformanceWarning: DataFrame is highly fragmented.  This is usually the result of calling `frame.insert` many times, which has poor performance.  Consider joining all columns at once using pd.concat(axis=1) instead. To get a de-fragmented frame, use `newframe = frame.copy()`\n",
      "  portfolio_cumulative_returns[n] = (1 + sim_df.fillna(0)).cumprod()\n",
      "C:\\Users\\ryanr\\Desktop\\FinTech-Workspace\\Challenges\\Module_05_Challenge\\financial_planner\\MCForecastTools.py:117: PerformanceWarning: DataFrame is highly fragmented.  This is usually the result of calling `frame.insert` many times, which has poor performance.  Consider joining all columns at once using pd.concat(axis=1) instead. To get a de-fragmented frame, use `newframe = frame.copy()`\n",
      "  portfolio_cumulative_returns[n] = (1 + sim_df.fillna(0)).cumprod()\n",
      "C:\\Users\\ryanr\\Desktop\\FinTech-Workspace\\Challenges\\Module_05_Challenge\\financial_planner\\MCForecastTools.py:117: PerformanceWarning: DataFrame is highly fragmented.  This is usually the result of calling `frame.insert` many times, which has poor performance.  Consider joining all columns at once using pd.concat(axis=1) instead. To get a de-fragmented frame, use `newframe = frame.copy()`\n",
      "  portfolio_cumulative_returns[n] = (1 + sim_df.fillna(0)).cumprod()\n",
      "C:\\Users\\ryanr\\Desktop\\FinTech-Workspace\\Challenges\\Module_05_Challenge\\financial_planner\\MCForecastTools.py:117: PerformanceWarning: DataFrame is highly fragmented.  This is usually the result of calling `frame.insert` many times, which has poor performance.  Consider joining all columns at once using pd.concat(axis=1) instead. To get a de-fragmented frame, use `newframe = frame.copy()`\n",
      "  portfolio_cumulative_returns[n] = (1 + sim_df.fillna(0)).cumprod()\n",
      "C:\\Users\\ryanr\\Desktop\\FinTech-Workspace\\Challenges\\Module_05_Challenge\\financial_planner\\MCForecastTools.py:117: PerformanceWarning: DataFrame is highly fragmented.  This is usually the result of calling `frame.insert` many times, which has poor performance.  Consider joining all columns at once using pd.concat(axis=1) instead. To get a de-fragmented frame, use `newframe = frame.copy()`\n",
      "  portfolio_cumulative_returns[n] = (1 + sim_df.fillna(0)).cumprod()\n",
      "C:\\Users\\ryanr\\Desktop\\FinTech-Workspace\\Challenges\\Module_05_Challenge\\financial_planner\\MCForecastTools.py:117: PerformanceWarning: DataFrame is highly fragmented.  This is usually the result of calling `frame.insert` many times, which has poor performance.  Consider joining all columns at once using pd.concat(axis=1) instead. To get a de-fragmented frame, use `newframe = frame.copy()`\n",
      "  portfolio_cumulative_returns[n] = (1 + sim_df.fillna(0)).cumprod()\n",
      "C:\\Users\\ryanr\\Desktop\\FinTech-Workspace\\Challenges\\Module_05_Challenge\\financial_planner\\MCForecastTools.py:117: PerformanceWarning: DataFrame is highly fragmented.  This is usually the result of calling `frame.insert` many times, which has poor performance.  Consider joining all columns at once using pd.concat(axis=1) instead. To get a de-fragmented frame, use `newframe = frame.copy()`\n",
      "  portfolio_cumulative_returns[n] = (1 + sim_df.fillna(0)).cumprod()\n"
     ]
    },
    {
     "name": "stdout",
     "output_type": "stream",
     "text": [
      "Running Monte Carlo simulation number 420.\n"
     ]
    },
    {
     "name": "stderr",
     "output_type": "stream",
     "text": [
      "C:\\Users\\ryanr\\Desktop\\FinTech-Workspace\\Challenges\\Module_05_Challenge\\financial_planner\\MCForecastTools.py:117: PerformanceWarning: DataFrame is highly fragmented.  This is usually the result of calling `frame.insert` many times, which has poor performance.  Consider joining all columns at once using pd.concat(axis=1) instead. To get a de-fragmented frame, use `newframe = frame.copy()`\n",
      "  portfolio_cumulative_returns[n] = (1 + sim_df.fillna(0)).cumprod()\n",
      "C:\\Users\\ryanr\\Desktop\\FinTech-Workspace\\Challenges\\Module_05_Challenge\\financial_planner\\MCForecastTools.py:117: PerformanceWarning: DataFrame is highly fragmented.  This is usually the result of calling `frame.insert` many times, which has poor performance.  Consider joining all columns at once using pd.concat(axis=1) instead. To get a de-fragmented frame, use `newframe = frame.copy()`\n",
      "  portfolio_cumulative_returns[n] = (1 + sim_df.fillna(0)).cumprod()\n",
      "C:\\Users\\ryanr\\Desktop\\FinTech-Workspace\\Challenges\\Module_05_Challenge\\financial_planner\\MCForecastTools.py:117: PerformanceWarning: DataFrame is highly fragmented.  This is usually the result of calling `frame.insert` many times, which has poor performance.  Consider joining all columns at once using pd.concat(axis=1) instead. To get a de-fragmented frame, use `newframe = frame.copy()`\n",
      "  portfolio_cumulative_returns[n] = (1 + sim_df.fillna(0)).cumprod()\n",
      "C:\\Users\\ryanr\\Desktop\\FinTech-Workspace\\Challenges\\Module_05_Challenge\\financial_planner\\MCForecastTools.py:117: PerformanceWarning: DataFrame is highly fragmented.  This is usually the result of calling `frame.insert` many times, which has poor performance.  Consider joining all columns at once using pd.concat(axis=1) instead. To get a de-fragmented frame, use `newframe = frame.copy()`\n",
      "  portfolio_cumulative_returns[n] = (1 + sim_df.fillna(0)).cumprod()\n",
      "C:\\Users\\ryanr\\Desktop\\FinTech-Workspace\\Challenges\\Module_05_Challenge\\financial_planner\\MCForecastTools.py:117: PerformanceWarning: DataFrame is highly fragmented.  This is usually the result of calling `frame.insert` many times, which has poor performance.  Consider joining all columns at once using pd.concat(axis=1) instead. To get a de-fragmented frame, use `newframe = frame.copy()`\n",
      "  portfolio_cumulative_returns[n] = (1 + sim_df.fillna(0)).cumprod()\n",
      "C:\\Users\\ryanr\\Desktop\\FinTech-Workspace\\Challenges\\Module_05_Challenge\\financial_planner\\MCForecastTools.py:117: PerformanceWarning: DataFrame is highly fragmented.  This is usually the result of calling `frame.insert` many times, which has poor performance.  Consider joining all columns at once using pd.concat(axis=1) instead. To get a de-fragmented frame, use `newframe = frame.copy()`\n",
      "  portfolio_cumulative_returns[n] = (1 + sim_df.fillna(0)).cumprod()\n",
      "C:\\Users\\ryanr\\Desktop\\FinTech-Workspace\\Challenges\\Module_05_Challenge\\financial_planner\\MCForecastTools.py:117: PerformanceWarning: DataFrame is highly fragmented.  This is usually the result of calling `frame.insert` many times, which has poor performance.  Consider joining all columns at once using pd.concat(axis=1) instead. To get a de-fragmented frame, use `newframe = frame.copy()`\n",
      "  portfolio_cumulative_returns[n] = (1 + sim_df.fillna(0)).cumprod()\n",
      "C:\\Users\\ryanr\\Desktop\\FinTech-Workspace\\Challenges\\Module_05_Challenge\\financial_planner\\MCForecastTools.py:117: PerformanceWarning: DataFrame is highly fragmented.  This is usually the result of calling `frame.insert` many times, which has poor performance.  Consider joining all columns at once using pd.concat(axis=1) instead. To get a de-fragmented frame, use `newframe = frame.copy()`\n",
      "  portfolio_cumulative_returns[n] = (1 + sim_df.fillna(0)).cumprod()\n",
      "C:\\Users\\ryanr\\Desktop\\FinTech-Workspace\\Challenges\\Module_05_Challenge\\financial_planner\\MCForecastTools.py:117: PerformanceWarning: DataFrame is highly fragmented.  This is usually the result of calling `frame.insert` many times, which has poor performance.  Consider joining all columns at once using pd.concat(axis=1) instead. To get a de-fragmented frame, use `newframe = frame.copy()`\n",
      "  portfolio_cumulative_returns[n] = (1 + sim_df.fillna(0)).cumprod()\n",
      "C:\\Users\\ryanr\\Desktop\\FinTech-Workspace\\Challenges\\Module_05_Challenge\\financial_planner\\MCForecastTools.py:117: PerformanceWarning: DataFrame is highly fragmented.  This is usually the result of calling `frame.insert` many times, which has poor performance.  Consider joining all columns at once using pd.concat(axis=1) instead. To get a de-fragmented frame, use `newframe = frame.copy()`\n",
      "  portfolio_cumulative_returns[n] = (1 + sim_df.fillna(0)).cumprod()\n"
     ]
    },
    {
     "name": "stdout",
     "output_type": "stream",
     "text": [
      "Running Monte Carlo simulation number 430.\n"
     ]
    },
    {
     "name": "stderr",
     "output_type": "stream",
     "text": [
      "C:\\Users\\ryanr\\Desktop\\FinTech-Workspace\\Challenges\\Module_05_Challenge\\financial_planner\\MCForecastTools.py:117: PerformanceWarning: DataFrame is highly fragmented.  This is usually the result of calling `frame.insert` many times, which has poor performance.  Consider joining all columns at once using pd.concat(axis=1) instead. To get a de-fragmented frame, use `newframe = frame.copy()`\n",
      "  portfolio_cumulative_returns[n] = (1 + sim_df.fillna(0)).cumprod()\n",
      "C:\\Users\\ryanr\\Desktop\\FinTech-Workspace\\Challenges\\Module_05_Challenge\\financial_planner\\MCForecastTools.py:117: PerformanceWarning: DataFrame is highly fragmented.  This is usually the result of calling `frame.insert` many times, which has poor performance.  Consider joining all columns at once using pd.concat(axis=1) instead. To get a de-fragmented frame, use `newframe = frame.copy()`\n",
      "  portfolio_cumulative_returns[n] = (1 + sim_df.fillna(0)).cumprod()\n",
      "C:\\Users\\ryanr\\Desktop\\FinTech-Workspace\\Challenges\\Module_05_Challenge\\financial_planner\\MCForecastTools.py:117: PerformanceWarning: DataFrame is highly fragmented.  This is usually the result of calling `frame.insert` many times, which has poor performance.  Consider joining all columns at once using pd.concat(axis=1) instead. To get a de-fragmented frame, use `newframe = frame.copy()`\n",
      "  portfolio_cumulative_returns[n] = (1 + sim_df.fillna(0)).cumprod()\n",
      "C:\\Users\\ryanr\\Desktop\\FinTech-Workspace\\Challenges\\Module_05_Challenge\\financial_planner\\MCForecastTools.py:117: PerformanceWarning: DataFrame is highly fragmented.  This is usually the result of calling `frame.insert` many times, which has poor performance.  Consider joining all columns at once using pd.concat(axis=1) instead. To get a de-fragmented frame, use `newframe = frame.copy()`\n",
      "  portfolio_cumulative_returns[n] = (1 + sim_df.fillna(0)).cumprod()\n",
      "C:\\Users\\ryanr\\Desktop\\FinTech-Workspace\\Challenges\\Module_05_Challenge\\financial_planner\\MCForecastTools.py:117: PerformanceWarning: DataFrame is highly fragmented.  This is usually the result of calling `frame.insert` many times, which has poor performance.  Consider joining all columns at once using pd.concat(axis=1) instead. To get a de-fragmented frame, use `newframe = frame.copy()`\n",
      "  portfolio_cumulative_returns[n] = (1 + sim_df.fillna(0)).cumprod()\n",
      "C:\\Users\\ryanr\\Desktop\\FinTech-Workspace\\Challenges\\Module_05_Challenge\\financial_planner\\MCForecastTools.py:117: PerformanceWarning: DataFrame is highly fragmented.  This is usually the result of calling `frame.insert` many times, which has poor performance.  Consider joining all columns at once using pd.concat(axis=1) instead. To get a de-fragmented frame, use `newframe = frame.copy()`\n",
      "  portfolio_cumulative_returns[n] = (1 + sim_df.fillna(0)).cumprod()\n",
      "C:\\Users\\ryanr\\Desktop\\FinTech-Workspace\\Challenges\\Module_05_Challenge\\financial_planner\\MCForecastTools.py:117: PerformanceWarning: DataFrame is highly fragmented.  This is usually the result of calling `frame.insert` many times, which has poor performance.  Consider joining all columns at once using pd.concat(axis=1) instead. To get a de-fragmented frame, use `newframe = frame.copy()`\n",
      "  portfolio_cumulative_returns[n] = (1 + sim_df.fillna(0)).cumprod()\n",
      "C:\\Users\\ryanr\\Desktop\\FinTech-Workspace\\Challenges\\Module_05_Challenge\\financial_planner\\MCForecastTools.py:117: PerformanceWarning: DataFrame is highly fragmented.  This is usually the result of calling `frame.insert` many times, which has poor performance.  Consider joining all columns at once using pd.concat(axis=1) instead. To get a de-fragmented frame, use `newframe = frame.copy()`\n",
      "  portfolio_cumulative_returns[n] = (1 + sim_df.fillna(0)).cumprod()\n",
      "C:\\Users\\ryanr\\Desktop\\FinTech-Workspace\\Challenges\\Module_05_Challenge\\financial_planner\\MCForecastTools.py:117: PerformanceWarning: DataFrame is highly fragmented.  This is usually the result of calling `frame.insert` many times, which has poor performance.  Consider joining all columns at once using pd.concat(axis=1) instead. To get a de-fragmented frame, use `newframe = frame.copy()`\n",
      "  portfolio_cumulative_returns[n] = (1 + sim_df.fillna(0)).cumprod()\n",
      "C:\\Users\\ryanr\\Desktop\\FinTech-Workspace\\Challenges\\Module_05_Challenge\\financial_planner\\MCForecastTools.py:117: PerformanceWarning: DataFrame is highly fragmented.  This is usually the result of calling `frame.insert` many times, which has poor performance.  Consider joining all columns at once using pd.concat(axis=1) instead. To get a de-fragmented frame, use `newframe = frame.copy()`\n",
      "  portfolio_cumulative_returns[n] = (1 + sim_df.fillna(0)).cumprod()\n"
     ]
    },
    {
     "name": "stdout",
     "output_type": "stream",
     "text": [
      "Running Monte Carlo simulation number 440.\n"
     ]
    },
    {
     "name": "stderr",
     "output_type": "stream",
     "text": [
      "C:\\Users\\ryanr\\Desktop\\FinTech-Workspace\\Challenges\\Module_05_Challenge\\financial_planner\\MCForecastTools.py:117: PerformanceWarning: DataFrame is highly fragmented.  This is usually the result of calling `frame.insert` many times, which has poor performance.  Consider joining all columns at once using pd.concat(axis=1) instead. To get a de-fragmented frame, use `newframe = frame.copy()`\n",
      "  portfolio_cumulative_returns[n] = (1 + sim_df.fillna(0)).cumprod()\n",
      "C:\\Users\\ryanr\\Desktop\\FinTech-Workspace\\Challenges\\Module_05_Challenge\\financial_planner\\MCForecastTools.py:117: PerformanceWarning: DataFrame is highly fragmented.  This is usually the result of calling `frame.insert` many times, which has poor performance.  Consider joining all columns at once using pd.concat(axis=1) instead. To get a de-fragmented frame, use `newframe = frame.copy()`\n",
      "  portfolio_cumulative_returns[n] = (1 + sim_df.fillna(0)).cumprod()\n",
      "C:\\Users\\ryanr\\Desktop\\FinTech-Workspace\\Challenges\\Module_05_Challenge\\financial_planner\\MCForecastTools.py:117: PerformanceWarning: DataFrame is highly fragmented.  This is usually the result of calling `frame.insert` many times, which has poor performance.  Consider joining all columns at once using pd.concat(axis=1) instead. To get a de-fragmented frame, use `newframe = frame.copy()`\n",
      "  portfolio_cumulative_returns[n] = (1 + sim_df.fillna(0)).cumprod()\n",
      "C:\\Users\\ryanr\\Desktop\\FinTech-Workspace\\Challenges\\Module_05_Challenge\\financial_planner\\MCForecastTools.py:117: PerformanceWarning: DataFrame is highly fragmented.  This is usually the result of calling `frame.insert` many times, which has poor performance.  Consider joining all columns at once using pd.concat(axis=1) instead. To get a de-fragmented frame, use `newframe = frame.copy()`\n",
      "  portfolio_cumulative_returns[n] = (1 + sim_df.fillna(0)).cumprod()\n",
      "C:\\Users\\ryanr\\Desktop\\FinTech-Workspace\\Challenges\\Module_05_Challenge\\financial_planner\\MCForecastTools.py:117: PerformanceWarning: DataFrame is highly fragmented.  This is usually the result of calling `frame.insert` many times, which has poor performance.  Consider joining all columns at once using pd.concat(axis=1) instead. To get a de-fragmented frame, use `newframe = frame.copy()`\n",
      "  portfolio_cumulative_returns[n] = (1 + sim_df.fillna(0)).cumprod()\n",
      "C:\\Users\\ryanr\\Desktop\\FinTech-Workspace\\Challenges\\Module_05_Challenge\\financial_planner\\MCForecastTools.py:117: PerformanceWarning: DataFrame is highly fragmented.  This is usually the result of calling `frame.insert` many times, which has poor performance.  Consider joining all columns at once using pd.concat(axis=1) instead. To get a de-fragmented frame, use `newframe = frame.copy()`\n",
      "  portfolio_cumulative_returns[n] = (1 + sim_df.fillna(0)).cumprod()\n",
      "C:\\Users\\ryanr\\Desktop\\FinTech-Workspace\\Challenges\\Module_05_Challenge\\financial_planner\\MCForecastTools.py:117: PerformanceWarning: DataFrame is highly fragmented.  This is usually the result of calling `frame.insert` many times, which has poor performance.  Consider joining all columns at once using pd.concat(axis=1) instead. To get a de-fragmented frame, use `newframe = frame.copy()`\n",
      "  portfolio_cumulative_returns[n] = (1 + sim_df.fillna(0)).cumprod()\n",
      "C:\\Users\\ryanr\\Desktop\\FinTech-Workspace\\Challenges\\Module_05_Challenge\\financial_planner\\MCForecastTools.py:117: PerformanceWarning: DataFrame is highly fragmented.  This is usually the result of calling `frame.insert` many times, which has poor performance.  Consider joining all columns at once using pd.concat(axis=1) instead. To get a de-fragmented frame, use `newframe = frame.copy()`\n",
      "  portfolio_cumulative_returns[n] = (1 + sim_df.fillna(0)).cumprod()\n",
      "C:\\Users\\ryanr\\Desktop\\FinTech-Workspace\\Challenges\\Module_05_Challenge\\financial_planner\\MCForecastTools.py:117: PerformanceWarning: DataFrame is highly fragmented.  This is usually the result of calling `frame.insert` many times, which has poor performance.  Consider joining all columns at once using pd.concat(axis=1) instead. To get a de-fragmented frame, use `newframe = frame.copy()`\n",
      "  portfolio_cumulative_returns[n] = (1 + sim_df.fillna(0)).cumprod()\n",
      "C:\\Users\\ryanr\\Desktop\\FinTech-Workspace\\Challenges\\Module_05_Challenge\\financial_planner\\MCForecastTools.py:117: PerformanceWarning: DataFrame is highly fragmented.  This is usually the result of calling `frame.insert` many times, which has poor performance.  Consider joining all columns at once using pd.concat(axis=1) instead. To get a de-fragmented frame, use `newframe = frame.copy()`\n",
      "  portfolio_cumulative_returns[n] = (1 + sim_df.fillna(0)).cumprod()\n"
     ]
    },
    {
     "name": "stdout",
     "output_type": "stream",
     "text": [
      "Running Monte Carlo simulation number 450.\n"
     ]
    },
    {
     "name": "stderr",
     "output_type": "stream",
     "text": [
      "C:\\Users\\ryanr\\Desktop\\FinTech-Workspace\\Challenges\\Module_05_Challenge\\financial_planner\\MCForecastTools.py:117: PerformanceWarning: DataFrame is highly fragmented.  This is usually the result of calling `frame.insert` many times, which has poor performance.  Consider joining all columns at once using pd.concat(axis=1) instead. To get a de-fragmented frame, use `newframe = frame.copy()`\n",
      "  portfolio_cumulative_returns[n] = (1 + sim_df.fillna(0)).cumprod()\n",
      "C:\\Users\\ryanr\\Desktop\\FinTech-Workspace\\Challenges\\Module_05_Challenge\\financial_planner\\MCForecastTools.py:117: PerformanceWarning: DataFrame is highly fragmented.  This is usually the result of calling `frame.insert` many times, which has poor performance.  Consider joining all columns at once using pd.concat(axis=1) instead. To get a de-fragmented frame, use `newframe = frame.copy()`\n",
      "  portfolio_cumulative_returns[n] = (1 + sim_df.fillna(0)).cumprod()\n",
      "C:\\Users\\ryanr\\Desktop\\FinTech-Workspace\\Challenges\\Module_05_Challenge\\financial_planner\\MCForecastTools.py:117: PerformanceWarning: DataFrame is highly fragmented.  This is usually the result of calling `frame.insert` many times, which has poor performance.  Consider joining all columns at once using pd.concat(axis=1) instead. To get a de-fragmented frame, use `newframe = frame.copy()`\n",
      "  portfolio_cumulative_returns[n] = (1 + sim_df.fillna(0)).cumprod()\n",
      "C:\\Users\\ryanr\\Desktop\\FinTech-Workspace\\Challenges\\Module_05_Challenge\\financial_planner\\MCForecastTools.py:117: PerformanceWarning: DataFrame is highly fragmented.  This is usually the result of calling `frame.insert` many times, which has poor performance.  Consider joining all columns at once using pd.concat(axis=1) instead. To get a de-fragmented frame, use `newframe = frame.copy()`\n",
      "  portfolio_cumulative_returns[n] = (1 + sim_df.fillna(0)).cumprod()\n",
      "C:\\Users\\ryanr\\Desktop\\FinTech-Workspace\\Challenges\\Module_05_Challenge\\financial_planner\\MCForecastTools.py:117: PerformanceWarning: DataFrame is highly fragmented.  This is usually the result of calling `frame.insert` many times, which has poor performance.  Consider joining all columns at once using pd.concat(axis=1) instead. To get a de-fragmented frame, use `newframe = frame.copy()`\n",
      "  portfolio_cumulative_returns[n] = (1 + sim_df.fillna(0)).cumprod()\n",
      "C:\\Users\\ryanr\\Desktop\\FinTech-Workspace\\Challenges\\Module_05_Challenge\\financial_planner\\MCForecastTools.py:117: PerformanceWarning: DataFrame is highly fragmented.  This is usually the result of calling `frame.insert` many times, which has poor performance.  Consider joining all columns at once using pd.concat(axis=1) instead. To get a de-fragmented frame, use `newframe = frame.copy()`\n",
      "  portfolio_cumulative_returns[n] = (1 + sim_df.fillna(0)).cumprod()\n",
      "C:\\Users\\ryanr\\Desktop\\FinTech-Workspace\\Challenges\\Module_05_Challenge\\financial_planner\\MCForecastTools.py:117: PerformanceWarning: DataFrame is highly fragmented.  This is usually the result of calling `frame.insert` many times, which has poor performance.  Consider joining all columns at once using pd.concat(axis=1) instead. To get a de-fragmented frame, use `newframe = frame.copy()`\n",
      "  portfolio_cumulative_returns[n] = (1 + sim_df.fillna(0)).cumprod()\n",
      "C:\\Users\\ryanr\\Desktop\\FinTech-Workspace\\Challenges\\Module_05_Challenge\\financial_planner\\MCForecastTools.py:117: PerformanceWarning: DataFrame is highly fragmented.  This is usually the result of calling `frame.insert` many times, which has poor performance.  Consider joining all columns at once using pd.concat(axis=1) instead. To get a de-fragmented frame, use `newframe = frame.copy()`\n",
      "  portfolio_cumulative_returns[n] = (1 + sim_df.fillna(0)).cumprod()\n",
      "C:\\Users\\ryanr\\Desktop\\FinTech-Workspace\\Challenges\\Module_05_Challenge\\financial_planner\\MCForecastTools.py:117: PerformanceWarning: DataFrame is highly fragmented.  This is usually the result of calling `frame.insert` many times, which has poor performance.  Consider joining all columns at once using pd.concat(axis=1) instead. To get a de-fragmented frame, use `newframe = frame.copy()`\n",
      "  portfolio_cumulative_returns[n] = (1 + sim_df.fillna(0)).cumprod()\n",
      "C:\\Users\\ryanr\\Desktop\\FinTech-Workspace\\Challenges\\Module_05_Challenge\\financial_planner\\MCForecastTools.py:117: PerformanceWarning: DataFrame is highly fragmented.  This is usually the result of calling `frame.insert` many times, which has poor performance.  Consider joining all columns at once using pd.concat(axis=1) instead. To get a de-fragmented frame, use `newframe = frame.copy()`\n",
      "  portfolio_cumulative_returns[n] = (1 + sim_df.fillna(0)).cumprod()\n"
     ]
    },
    {
     "name": "stdout",
     "output_type": "stream",
     "text": [
      "Running Monte Carlo simulation number 460.\n"
     ]
    },
    {
     "name": "stderr",
     "output_type": "stream",
     "text": [
      "C:\\Users\\ryanr\\Desktop\\FinTech-Workspace\\Challenges\\Module_05_Challenge\\financial_planner\\MCForecastTools.py:117: PerformanceWarning: DataFrame is highly fragmented.  This is usually the result of calling `frame.insert` many times, which has poor performance.  Consider joining all columns at once using pd.concat(axis=1) instead. To get a de-fragmented frame, use `newframe = frame.copy()`\n",
      "  portfolio_cumulative_returns[n] = (1 + sim_df.fillna(0)).cumprod()\n",
      "C:\\Users\\ryanr\\Desktop\\FinTech-Workspace\\Challenges\\Module_05_Challenge\\financial_planner\\MCForecastTools.py:117: PerformanceWarning: DataFrame is highly fragmented.  This is usually the result of calling `frame.insert` many times, which has poor performance.  Consider joining all columns at once using pd.concat(axis=1) instead. To get a de-fragmented frame, use `newframe = frame.copy()`\n",
      "  portfolio_cumulative_returns[n] = (1 + sim_df.fillna(0)).cumprod()\n",
      "C:\\Users\\ryanr\\Desktop\\FinTech-Workspace\\Challenges\\Module_05_Challenge\\financial_planner\\MCForecastTools.py:117: PerformanceWarning: DataFrame is highly fragmented.  This is usually the result of calling `frame.insert` many times, which has poor performance.  Consider joining all columns at once using pd.concat(axis=1) instead. To get a de-fragmented frame, use `newframe = frame.copy()`\n",
      "  portfolio_cumulative_returns[n] = (1 + sim_df.fillna(0)).cumprod()\n",
      "C:\\Users\\ryanr\\Desktop\\FinTech-Workspace\\Challenges\\Module_05_Challenge\\financial_planner\\MCForecastTools.py:117: PerformanceWarning: DataFrame is highly fragmented.  This is usually the result of calling `frame.insert` many times, which has poor performance.  Consider joining all columns at once using pd.concat(axis=1) instead. To get a de-fragmented frame, use `newframe = frame.copy()`\n",
      "  portfolio_cumulative_returns[n] = (1 + sim_df.fillna(0)).cumprod()\n",
      "C:\\Users\\ryanr\\Desktop\\FinTech-Workspace\\Challenges\\Module_05_Challenge\\financial_planner\\MCForecastTools.py:117: PerformanceWarning: DataFrame is highly fragmented.  This is usually the result of calling `frame.insert` many times, which has poor performance.  Consider joining all columns at once using pd.concat(axis=1) instead. To get a de-fragmented frame, use `newframe = frame.copy()`\n",
      "  portfolio_cumulative_returns[n] = (1 + sim_df.fillna(0)).cumprod()\n",
      "C:\\Users\\ryanr\\Desktop\\FinTech-Workspace\\Challenges\\Module_05_Challenge\\financial_planner\\MCForecastTools.py:117: PerformanceWarning: DataFrame is highly fragmented.  This is usually the result of calling `frame.insert` many times, which has poor performance.  Consider joining all columns at once using pd.concat(axis=1) instead. To get a de-fragmented frame, use `newframe = frame.copy()`\n",
      "  portfolio_cumulative_returns[n] = (1 + sim_df.fillna(0)).cumprod()\n",
      "C:\\Users\\ryanr\\Desktop\\FinTech-Workspace\\Challenges\\Module_05_Challenge\\financial_planner\\MCForecastTools.py:117: PerformanceWarning: DataFrame is highly fragmented.  This is usually the result of calling `frame.insert` many times, which has poor performance.  Consider joining all columns at once using pd.concat(axis=1) instead. To get a de-fragmented frame, use `newframe = frame.copy()`\n",
      "  portfolio_cumulative_returns[n] = (1 + sim_df.fillna(0)).cumprod()\n",
      "C:\\Users\\ryanr\\Desktop\\FinTech-Workspace\\Challenges\\Module_05_Challenge\\financial_planner\\MCForecastTools.py:117: PerformanceWarning: DataFrame is highly fragmented.  This is usually the result of calling `frame.insert` many times, which has poor performance.  Consider joining all columns at once using pd.concat(axis=1) instead. To get a de-fragmented frame, use `newframe = frame.copy()`\n",
      "  portfolio_cumulative_returns[n] = (1 + sim_df.fillna(0)).cumprod()\n",
      "C:\\Users\\ryanr\\Desktop\\FinTech-Workspace\\Challenges\\Module_05_Challenge\\financial_planner\\MCForecastTools.py:117: PerformanceWarning: DataFrame is highly fragmented.  This is usually the result of calling `frame.insert` many times, which has poor performance.  Consider joining all columns at once using pd.concat(axis=1) instead. To get a de-fragmented frame, use `newframe = frame.copy()`\n",
      "  portfolio_cumulative_returns[n] = (1 + sim_df.fillna(0)).cumprod()\n",
      "C:\\Users\\ryanr\\Desktop\\FinTech-Workspace\\Challenges\\Module_05_Challenge\\financial_planner\\MCForecastTools.py:117: PerformanceWarning: DataFrame is highly fragmented.  This is usually the result of calling `frame.insert` many times, which has poor performance.  Consider joining all columns at once using pd.concat(axis=1) instead. To get a de-fragmented frame, use `newframe = frame.copy()`\n",
      "  portfolio_cumulative_returns[n] = (1 + sim_df.fillna(0)).cumprod()\n"
     ]
    },
    {
     "name": "stdout",
     "output_type": "stream",
     "text": [
      "Running Monte Carlo simulation number 470.\n"
     ]
    },
    {
     "name": "stderr",
     "output_type": "stream",
     "text": [
      "C:\\Users\\ryanr\\Desktop\\FinTech-Workspace\\Challenges\\Module_05_Challenge\\financial_planner\\MCForecastTools.py:117: PerformanceWarning: DataFrame is highly fragmented.  This is usually the result of calling `frame.insert` many times, which has poor performance.  Consider joining all columns at once using pd.concat(axis=1) instead. To get a de-fragmented frame, use `newframe = frame.copy()`\n",
      "  portfolio_cumulative_returns[n] = (1 + sim_df.fillna(0)).cumprod()\n",
      "C:\\Users\\ryanr\\Desktop\\FinTech-Workspace\\Challenges\\Module_05_Challenge\\financial_planner\\MCForecastTools.py:117: PerformanceWarning: DataFrame is highly fragmented.  This is usually the result of calling `frame.insert` many times, which has poor performance.  Consider joining all columns at once using pd.concat(axis=1) instead. To get a de-fragmented frame, use `newframe = frame.copy()`\n",
      "  portfolio_cumulative_returns[n] = (1 + sim_df.fillna(0)).cumprod()\n",
      "C:\\Users\\ryanr\\Desktop\\FinTech-Workspace\\Challenges\\Module_05_Challenge\\financial_planner\\MCForecastTools.py:117: PerformanceWarning: DataFrame is highly fragmented.  This is usually the result of calling `frame.insert` many times, which has poor performance.  Consider joining all columns at once using pd.concat(axis=1) instead. To get a de-fragmented frame, use `newframe = frame.copy()`\n",
      "  portfolio_cumulative_returns[n] = (1 + sim_df.fillna(0)).cumprod()\n",
      "C:\\Users\\ryanr\\Desktop\\FinTech-Workspace\\Challenges\\Module_05_Challenge\\financial_planner\\MCForecastTools.py:117: PerformanceWarning: DataFrame is highly fragmented.  This is usually the result of calling `frame.insert` many times, which has poor performance.  Consider joining all columns at once using pd.concat(axis=1) instead. To get a de-fragmented frame, use `newframe = frame.copy()`\n",
      "  portfolio_cumulative_returns[n] = (1 + sim_df.fillna(0)).cumprod()\n",
      "C:\\Users\\ryanr\\Desktop\\FinTech-Workspace\\Challenges\\Module_05_Challenge\\financial_planner\\MCForecastTools.py:117: PerformanceWarning: DataFrame is highly fragmented.  This is usually the result of calling `frame.insert` many times, which has poor performance.  Consider joining all columns at once using pd.concat(axis=1) instead. To get a de-fragmented frame, use `newframe = frame.copy()`\n",
      "  portfolio_cumulative_returns[n] = (1 + sim_df.fillna(0)).cumprod()\n",
      "C:\\Users\\ryanr\\Desktop\\FinTech-Workspace\\Challenges\\Module_05_Challenge\\financial_planner\\MCForecastTools.py:117: PerformanceWarning: DataFrame is highly fragmented.  This is usually the result of calling `frame.insert` many times, which has poor performance.  Consider joining all columns at once using pd.concat(axis=1) instead. To get a de-fragmented frame, use `newframe = frame.copy()`\n",
      "  portfolio_cumulative_returns[n] = (1 + sim_df.fillna(0)).cumprod()\n",
      "C:\\Users\\ryanr\\Desktop\\FinTech-Workspace\\Challenges\\Module_05_Challenge\\financial_planner\\MCForecastTools.py:117: PerformanceWarning: DataFrame is highly fragmented.  This is usually the result of calling `frame.insert` many times, which has poor performance.  Consider joining all columns at once using pd.concat(axis=1) instead. To get a de-fragmented frame, use `newframe = frame.copy()`\n",
      "  portfolio_cumulative_returns[n] = (1 + sim_df.fillna(0)).cumprod()\n",
      "C:\\Users\\ryanr\\Desktop\\FinTech-Workspace\\Challenges\\Module_05_Challenge\\financial_planner\\MCForecastTools.py:117: PerformanceWarning: DataFrame is highly fragmented.  This is usually the result of calling `frame.insert` many times, which has poor performance.  Consider joining all columns at once using pd.concat(axis=1) instead. To get a de-fragmented frame, use `newframe = frame.copy()`\n",
      "  portfolio_cumulative_returns[n] = (1 + sim_df.fillna(0)).cumprod()\n",
      "C:\\Users\\ryanr\\Desktop\\FinTech-Workspace\\Challenges\\Module_05_Challenge\\financial_planner\\MCForecastTools.py:117: PerformanceWarning: DataFrame is highly fragmented.  This is usually the result of calling `frame.insert` many times, which has poor performance.  Consider joining all columns at once using pd.concat(axis=1) instead. To get a de-fragmented frame, use `newframe = frame.copy()`\n",
      "  portfolio_cumulative_returns[n] = (1 + sim_df.fillna(0)).cumprod()\n",
      "C:\\Users\\ryanr\\Desktop\\FinTech-Workspace\\Challenges\\Module_05_Challenge\\financial_planner\\MCForecastTools.py:117: PerformanceWarning: DataFrame is highly fragmented.  This is usually the result of calling `frame.insert` many times, which has poor performance.  Consider joining all columns at once using pd.concat(axis=1) instead. To get a de-fragmented frame, use `newframe = frame.copy()`\n",
      "  portfolio_cumulative_returns[n] = (1 + sim_df.fillna(0)).cumprod()\n"
     ]
    },
    {
     "name": "stdout",
     "output_type": "stream",
     "text": [
      "Running Monte Carlo simulation number 480.\n"
     ]
    },
    {
     "name": "stderr",
     "output_type": "stream",
     "text": [
      "C:\\Users\\ryanr\\Desktop\\FinTech-Workspace\\Challenges\\Module_05_Challenge\\financial_planner\\MCForecastTools.py:117: PerformanceWarning: DataFrame is highly fragmented.  This is usually the result of calling `frame.insert` many times, which has poor performance.  Consider joining all columns at once using pd.concat(axis=1) instead. To get a de-fragmented frame, use `newframe = frame.copy()`\n",
      "  portfolio_cumulative_returns[n] = (1 + sim_df.fillna(0)).cumprod()\n",
      "C:\\Users\\ryanr\\Desktop\\FinTech-Workspace\\Challenges\\Module_05_Challenge\\financial_planner\\MCForecastTools.py:117: PerformanceWarning: DataFrame is highly fragmented.  This is usually the result of calling `frame.insert` many times, which has poor performance.  Consider joining all columns at once using pd.concat(axis=1) instead. To get a de-fragmented frame, use `newframe = frame.copy()`\n",
      "  portfolio_cumulative_returns[n] = (1 + sim_df.fillna(0)).cumprod()\n",
      "C:\\Users\\ryanr\\Desktop\\FinTech-Workspace\\Challenges\\Module_05_Challenge\\financial_planner\\MCForecastTools.py:117: PerformanceWarning: DataFrame is highly fragmented.  This is usually the result of calling `frame.insert` many times, which has poor performance.  Consider joining all columns at once using pd.concat(axis=1) instead. To get a de-fragmented frame, use `newframe = frame.copy()`\n",
      "  portfolio_cumulative_returns[n] = (1 + sim_df.fillna(0)).cumprod()\n",
      "C:\\Users\\ryanr\\Desktop\\FinTech-Workspace\\Challenges\\Module_05_Challenge\\financial_planner\\MCForecastTools.py:117: PerformanceWarning: DataFrame is highly fragmented.  This is usually the result of calling `frame.insert` many times, which has poor performance.  Consider joining all columns at once using pd.concat(axis=1) instead. To get a de-fragmented frame, use `newframe = frame.copy()`\n",
      "  portfolio_cumulative_returns[n] = (1 + sim_df.fillna(0)).cumprod()\n",
      "C:\\Users\\ryanr\\Desktop\\FinTech-Workspace\\Challenges\\Module_05_Challenge\\financial_planner\\MCForecastTools.py:117: PerformanceWarning: DataFrame is highly fragmented.  This is usually the result of calling `frame.insert` many times, which has poor performance.  Consider joining all columns at once using pd.concat(axis=1) instead. To get a de-fragmented frame, use `newframe = frame.copy()`\n",
      "  portfolio_cumulative_returns[n] = (1 + sim_df.fillna(0)).cumprod()\n",
      "C:\\Users\\ryanr\\Desktop\\FinTech-Workspace\\Challenges\\Module_05_Challenge\\financial_planner\\MCForecastTools.py:117: PerformanceWarning: DataFrame is highly fragmented.  This is usually the result of calling `frame.insert` many times, which has poor performance.  Consider joining all columns at once using pd.concat(axis=1) instead. To get a de-fragmented frame, use `newframe = frame.copy()`\n",
      "  portfolio_cumulative_returns[n] = (1 + sim_df.fillna(0)).cumprod()\n",
      "C:\\Users\\ryanr\\Desktop\\FinTech-Workspace\\Challenges\\Module_05_Challenge\\financial_planner\\MCForecastTools.py:117: PerformanceWarning: DataFrame is highly fragmented.  This is usually the result of calling `frame.insert` many times, which has poor performance.  Consider joining all columns at once using pd.concat(axis=1) instead. To get a de-fragmented frame, use `newframe = frame.copy()`\n",
      "  portfolio_cumulative_returns[n] = (1 + sim_df.fillna(0)).cumprod()\n",
      "C:\\Users\\ryanr\\Desktop\\FinTech-Workspace\\Challenges\\Module_05_Challenge\\financial_planner\\MCForecastTools.py:117: PerformanceWarning: DataFrame is highly fragmented.  This is usually the result of calling `frame.insert` many times, which has poor performance.  Consider joining all columns at once using pd.concat(axis=1) instead. To get a de-fragmented frame, use `newframe = frame.copy()`\n",
      "  portfolio_cumulative_returns[n] = (1 + sim_df.fillna(0)).cumprod()\n",
      "C:\\Users\\ryanr\\Desktop\\FinTech-Workspace\\Challenges\\Module_05_Challenge\\financial_planner\\MCForecastTools.py:117: PerformanceWarning: DataFrame is highly fragmented.  This is usually the result of calling `frame.insert` many times, which has poor performance.  Consider joining all columns at once using pd.concat(axis=1) instead. To get a de-fragmented frame, use `newframe = frame.copy()`\n",
      "  portfolio_cumulative_returns[n] = (1 + sim_df.fillna(0)).cumprod()\n",
      "C:\\Users\\ryanr\\Desktop\\FinTech-Workspace\\Challenges\\Module_05_Challenge\\financial_planner\\MCForecastTools.py:117: PerformanceWarning: DataFrame is highly fragmented.  This is usually the result of calling `frame.insert` many times, which has poor performance.  Consider joining all columns at once using pd.concat(axis=1) instead. To get a de-fragmented frame, use `newframe = frame.copy()`\n",
      "  portfolio_cumulative_returns[n] = (1 + sim_df.fillna(0)).cumprod()\n"
     ]
    },
    {
     "name": "stdout",
     "output_type": "stream",
     "text": [
      "Running Monte Carlo simulation number 490.\n"
     ]
    },
    {
     "name": "stderr",
     "output_type": "stream",
     "text": [
      "C:\\Users\\ryanr\\Desktop\\FinTech-Workspace\\Challenges\\Module_05_Challenge\\financial_planner\\MCForecastTools.py:117: PerformanceWarning: DataFrame is highly fragmented.  This is usually the result of calling `frame.insert` many times, which has poor performance.  Consider joining all columns at once using pd.concat(axis=1) instead. To get a de-fragmented frame, use `newframe = frame.copy()`\n",
      "  portfolio_cumulative_returns[n] = (1 + sim_df.fillna(0)).cumprod()\n",
      "C:\\Users\\ryanr\\Desktop\\FinTech-Workspace\\Challenges\\Module_05_Challenge\\financial_planner\\MCForecastTools.py:117: PerformanceWarning: DataFrame is highly fragmented.  This is usually the result of calling `frame.insert` many times, which has poor performance.  Consider joining all columns at once using pd.concat(axis=1) instead. To get a de-fragmented frame, use `newframe = frame.copy()`\n",
      "  portfolio_cumulative_returns[n] = (1 + sim_df.fillna(0)).cumprod()\n",
      "C:\\Users\\ryanr\\Desktop\\FinTech-Workspace\\Challenges\\Module_05_Challenge\\financial_planner\\MCForecastTools.py:117: PerformanceWarning: DataFrame is highly fragmented.  This is usually the result of calling `frame.insert` many times, which has poor performance.  Consider joining all columns at once using pd.concat(axis=1) instead. To get a de-fragmented frame, use `newframe = frame.copy()`\n",
      "  portfolio_cumulative_returns[n] = (1 + sim_df.fillna(0)).cumprod()\n",
      "C:\\Users\\ryanr\\Desktop\\FinTech-Workspace\\Challenges\\Module_05_Challenge\\financial_planner\\MCForecastTools.py:117: PerformanceWarning: DataFrame is highly fragmented.  This is usually the result of calling `frame.insert` many times, which has poor performance.  Consider joining all columns at once using pd.concat(axis=1) instead. To get a de-fragmented frame, use `newframe = frame.copy()`\n",
      "  portfolio_cumulative_returns[n] = (1 + sim_df.fillna(0)).cumprod()\n",
      "C:\\Users\\ryanr\\Desktop\\FinTech-Workspace\\Challenges\\Module_05_Challenge\\financial_planner\\MCForecastTools.py:117: PerformanceWarning: DataFrame is highly fragmented.  This is usually the result of calling `frame.insert` many times, which has poor performance.  Consider joining all columns at once using pd.concat(axis=1) instead. To get a de-fragmented frame, use `newframe = frame.copy()`\n",
      "  portfolio_cumulative_returns[n] = (1 + sim_df.fillna(0)).cumprod()\n",
      "C:\\Users\\ryanr\\Desktop\\FinTech-Workspace\\Challenges\\Module_05_Challenge\\financial_planner\\MCForecastTools.py:117: PerformanceWarning: DataFrame is highly fragmented.  This is usually the result of calling `frame.insert` many times, which has poor performance.  Consider joining all columns at once using pd.concat(axis=1) instead. To get a de-fragmented frame, use `newframe = frame.copy()`\n",
      "  portfolio_cumulative_returns[n] = (1 + sim_df.fillna(0)).cumprod()\n",
      "C:\\Users\\ryanr\\Desktop\\FinTech-Workspace\\Challenges\\Module_05_Challenge\\financial_planner\\MCForecastTools.py:117: PerformanceWarning: DataFrame is highly fragmented.  This is usually the result of calling `frame.insert` many times, which has poor performance.  Consider joining all columns at once using pd.concat(axis=1) instead. To get a de-fragmented frame, use `newframe = frame.copy()`\n",
      "  portfolio_cumulative_returns[n] = (1 + sim_df.fillna(0)).cumprod()\n",
      "C:\\Users\\ryanr\\Desktop\\FinTech-Workspace\\Challenges\\Module_05_Challenge\\financial_planner\\MCForecastTools.py:117: PerformanceWarning: DataFrame is highly fragmented.  This is usually the result of calling `frame.insert` many times, which has poor performance.  Consider joining all columns at once using pd.concat(axis=1) instead. To get a de-fragmented frame, use `newframe = frame.copy()`\n",
      "  portfolio_cumulative_returns[n] = (1 + sim_df.fillna(0)).cumprod()\n",
      "C:\\Users\\ryanr\\Desktop\\FinTech-Workspace\\Challenges\\Module_05_Challenge\\financial_planner\\MCForecastTools.py:117: PerformanceWarning: DataFrame is highly fragmented.  This is usually the result of calling `frame.insert` many times, which has poor performance.  Consider joining all columns at once using pd.concat(axis=1) instead. To get a de-fragmented frame, use `newframe = frame.copy()`\n",
      "  portfolio_cumulative_returns[n] = (1 + sim_df.fillna(0)).cumprod()\n",
      "C:\\Users\\ryanr\\Desktop\\FinTech-Workspace\\Challenges\\Module_05_Challenge\\financial_planner\\MCForecastTools.py:117: PerformanceWarning: DataFrame is highly fragmented.  This is usually the result of calling `frame.insert` many times, which has poor performance.  Consider joining all columns at once using pd.concat(axis=1) instead. To get a de-fragmented frame, use `newframe = frame.copy()`\n",
      "  portfolio_cumulative_returns[n] = (1 + sim_df.fillna(0)).cumprod()\n"
     ]
    },
    {
     "data": {
      "text/html": [
       "<div>\n",
       "<style scoped>\n",
       "    .dataframe tbody tr th:only-of-type {\n",
       "        vertical-align: middle;\n",
       "    }\n",
       "\n",
       "    .dataframe tbody tr th {\n",
       "        vertical-align: top;\n",
       "    }\n",
       "\n",
       "    .dataframe thead th {\n",
       "        text-align: right;\n",
       "    }\n",
       "</style>\n",
       "<table border=\"1\" class=\"dataframe\">\n",
       "  <thead>\n",
       "    <tr style=\"text-align: right;\">\n",
       "      <th></th>\n",
       "      <th>0</th>\n",
       "      <th>1</th>\n",
       "      <th>2</th>\n",
       "      <th>3</th>\n",
       "      <th>4</th>\n",
       "      <th>5</th>\n",
       "      <th>6</th>\n",
       "      <th>7</th>\n",
       "      <th>8</th>\n",
       "      <th>9</th>\n",
       "      <th>...</th>\n",
       "      <th>490</th>\n",
       "      <th>491</th>\n",
       "      <th>492</th>\n",
       "      <th>493</th>\n",
       "      <th>494</th>\n",
       "      <th>495</th>\n",
       "      <th>496</th>\n",
       "      <th>497</th>\n",
       "      <th>498</th>\n",
       "      <th>499</th>\n",
       "    </tr>\n",
       "  </thead>\n",
       "  <tbody>\n",
       "    <tr>\n",
       "      <th>0</th>\n",
       "      <td>1.000000</td>\n",
       "      <td>1.000000</td>\n",
       "      <td>1.000000</td>\n",
       "      <td>1.000000</td>\n",
       "      <td>1.000000</td>\n",
       "      <td>1.000000</td>\n",
       "      <td>1.000000</td>\n",
       "      <td>1.000000</td>\n",
       "      <td>1.000000</td>\n",
       "      <td>1.000000</td>\n",
       "      <td>...</td>\n",
       "      <td>1.000000</td>\n",
       "      <td>1.000000</td>\n",
       "      <td>1.000000</td>\n",
       "      <td>1.000000</td>\n",
       "      <td>1.000000</td>\n",
       "      <td>1.000000</td>\n",
       "      <td>1.000000</td>\n",
       "      <td>1.000000</td>\n",
       "      <td>1.000000</td>\n",
       "      <td>1.000000</td>\n",
       "    </tr>\n",
       "    <tr>\n",
       "      <th>1</th>\n",
       "      <td>0.996182</td>\n",
       "      <td>1.002513</td>\n",
       "      <td>1.000250</td>\n",
       "      <td>0.998232</td>\n",
       "      <td>1.008303</td>\n",
       "      <td>1.005955</td>\n",
       "      <td>1.001574</td>\n",
       "      <td>1.000837</td>\n",
       "      <td>1.006853</td>\n",
       "      <td>1.006900</td>\n",
       "      <td>...</td>\n",
       "      <td>1.006848</td>\n",
       "      <td>0.983519</td>\n",
       "      <td>1.000488</td>\n",
       "      <td>0.993048</td>\n",
       "      <td>1.004062</td>\n",
       "      <td>0.995938</td>\n",
       "      <td>1.012950</td>\n",
       "      <td>0.999443</td>\n",
       "      <td>0.986313</td>\n",
       "      <td>1.021490</td>\n",
       "    </tr>\n",
       "    <tr>\n",
       "      <th>2</th>\n",
       "      <td>0.991031</td>\n",
       "      <td>1.010375</td>\n",
       "      <td>1.002383</td>\n",
       "      <td>1.000581</td>\n",
       "      <td>1.014922</td>\n",
       "      <td>0.999637</td>\n",
       "      <td>0.982724</td>\n",
       "      <td>1.009868</td>\n",
       "      <td>1.000766</td>\n",
       "      <td>1.016989</td>\n",
       "      <td>...</td>\n",
       "      <td>1.009711</td>\n",
       "      <td>0.985579</td>\n",
       "      <td>0.997202</td>\n",
       "      <td>0.994169</td>\n",
       "      <td>1.012223</td>\n",
       "      <td>0.995210</td>\n",
       "      <td>1.009497</td>\n",
       "      <td>0.987767</td>\n",
       "      <td>0.988890</td>\n",
       "      <td>1.014984</td>\n",
       "    </tr>\n",
       "    <tr>\n",
       "      <th>3</th>\n",
       "      <td>0.998948</td>\n",
       "      <td>1.012365</td>\n",
       "      <td>1.005852</td>\n",
       "      <td>1.001287</td>\n",
       "      <td>1.031328</td>\n",
       "      <td>0.999105</td>\n",
       "      <td>0.982560</td>\n",
       "      <td>1.010746</td>\n",
       "      <td>0.996338</td>\n",
       "      <td>1.021713</td>\n",
       "      <td>...</td>\n",
       "      <td>1.021843</td>\n",
       "      <td>0.989928</td>\n",
       "      <td>1.016372</td>\n",
       "      <td>0.988992</td>\n",
       "      <td>0.998789</td>\n",
       "      <td>1.004018</td>\n",
       "      <td>1.004891</td>\n",
       "      <td>0.996459</td>\n",
       "      <td>0.970452</td>\n",
       "      <td>1.016123</td>\n",
       "    </tr>\n",
       "    <tr>\n",
       "      <th>4</th>\n",
       "      <td>0.999839</td>\n",
       "      <td>1.010723</td>\n",
       "      <td>1.004707</td>\n",
       "      <td>0.996898</td>\n",
       "      <td>1.029728</td>\n",
       "      <td>0.998910</td>\n",
       "      <td>0.991604</td>\n",
       "      <td>0.994764</td>\n",
       "      <td>0.996863</td>\n",
       "      <td>1.030449</td>\n",
       "      <td>...</td>\n",
       "      <td>1.016273</td>\n",
       "      <td>0.977498</td>\n",
       "      <td>1.023987</td>\n",
       "      <td>0.997002</td>\n",
       "      <td>1.008579</td>\n",
       "      <td>1.000524</td>\n",
       "      <td>1.008267</td>\n",
       "      <td>0.998643</td>\n",
       "      <td>0.964719</td>\n",
       "      <td>1.003140</td>\n",
       "    </tr>\n",
       "    <tr>\n",
       "      <th>...</th>\n",
       "      <td>...</td>\n",
       "      <td>...</td>\n",
       "      <td>...</td>\n",
       "      <td>...</td>\n",
       "      <td>...</td>\n",
       "      <td>...</td>\n",
       "      <td>...</td>\n",
       "      <td>...</td>\n",
       "      <td>...</td>\n",
       "      <td>...</td>\n",
       "      <td>...</td>\n",
       "      <td>...</td>\n",
       "      <td>...</td>\n",
       "      <td>...</td>\n",
       "      <td>...</td>\n",
       "      <td>...</td>\n",
       "      <td>...</td>\n",
       "      <td>...</td>\n",
       "      <td>...</td>\n",
       "      <td>...</td>\n",
       "      <td>...</td>\n",
       "    </tr>\n",
       "    <tr>\n",
       "      <th>7556</th>\n",
       "      <td>18.522202</td>\n",
       "      <td>20.415371</td>\n",
       "      <td>12.355921</td>\n",
       "      <td>16.124484</td>\n",
       "      <td>14.837695</td>\n",
       "      <td>17.690507</td>\n",
       "      <td>45.964703</td>\n",
       "      <td>14.975760</td>\n",
       "      <td>9.160355</td>\n",
       "      <td>51.696813</td>\n",
       "      <td>...</td>\n",
       "      <td>46.409382</td>\n",
       "      <td>14.824875</td>\n",
       "      <td>39.924758</td>\n",
       "      <td>10.235401</td>\n",
       "      <td>13.445748</td>\n",
       "      <td>22.866740</td>\n",
       "      <td>14.092640</td>\n",
       "      <td>15.895712</td>\n",
       "      <td>24.606993</td>\n",
       "      <td>38.046346</td>\n",
       "    </tr>\n",
       "    <tr>\n",
       "      <th>7557</th>\n",
       "      <td>18.392703</td>\n",
       "      <td>20.648853</td>\n",
       "      <td>12.194369</td>\n",
       "      <td>16.178123</td>\n",
       "      <td>14.946149</td>\n",
       "      <td>17.555385</td>\n",
       "      <td>45.248892</td>\n",
       "      <td>15.103500</td>\n",
       "      <td>9.177123</td>\n",
       "      <td>51.888488</td>\n",
       "      <td>...</td>\n",
       "      <td>47.391392</td>\n",
       "      <td>14.836303</td>\n",
       "      <td>39.768947</td>\n",
       "      <td>10.054328</td>\n",
       "      <td>13.493395</td>\n",
       "      <td>23.105453</td>\n",
       "      <td>14.191473</td>\n",
       "      <td>15.663188</td>\n",
       "      <td>24.591171</td>\n",
       "      <td>37.375288</td>\n",
       "    </tr>\n",
       "    <tr>\n",
       "      <th>7558</th>\n",
       "      <td>18.509648</td>\n",
       "      <td>20.927568</td>\n",
       "      <td>12.166373</td>\n",
       "      <td>16.002858</td>\n",
       "      <td>14.963184</td>\n",
       "      <td>17.484679</td>\n",
       "      <td>45.197464</td>\n",
       "      <td>15.040629</td>\n",
       "      <td>9.171358</td>\n",
       "      <td>51.992563</td>\n",
       "      <td>...</td>\n",
       "      <td>47.109054</td>\n",
       "      <td>14.853981</td>\n",
       "      <td>39.893367</td>\n",
       "      <td>10.098473</td>\n",
       "      <td>13.481784</td>\n",
       "      <td>23.260333</td>\n",
       "      <td>14.236609</td>\n",
       "      <td>15.800926</td>\n",
       "      <td>24.642873</td>\n",
       "      <td>37.411011</td>\n",
       "    </tr>\n",
       "    <tr>\n",
       "      <th>7559</th>\n",
       "      <td>18.515124</td>\n",
       "      <td>21.086000</td>\n",
       "      <td>12.371558</td>\n",
       "      <td>16.167939</td>\n",
       "      <td>14.912577</td>\n",
       "      <td>17.605448</td>\n",
       "      <td>46.030898</td>\n",
       "      <td>15.234441</td>\n",
       "      <td>9.163501</td>\n",
       "      <td>51.691194</td>\n",
       "      <td>...</td>\n",
       "      <td>46.744998</td>\n",
       "      <td>15.070828</td>\n",
       "      <td>39.660004</td>\n",
       "      <td>10.052646</td>\n",
       "      <td>13.417300</td>\n",
       "      <td>23.528481</td>\n",
       "      <td>14.028386</td>\n",
       "      <td>15.927808</td>\n",
       "      <td>24.597443</td>\n",
       "      <td>37.410448</td>\n",
       "    </tr>\n",
       "    <tr>\n",
       "      <th>7560</th>\n",
       "      <td>18.574138</td>\n",
       "      <td>21.246849</td>\n",
       "      <td>12.188070</td>\n",
       "      <td>16.270118</td>\n",
       "      <td>15.219441</td>\n",
       "      <td>17.469803</td>\n",
       "      <td>46.410675</td>\n",
       "      <td>15.335568</td>\n",
       "      <td>9.099569</td>\n",
       "      <td>51.595664</td>\n",
       "      <td>...</td>\n",
       "      <td>46.541280</td>\n",
       "      <td>15.027481</td>\n",
       "      <td>40.369186</td>\n",
       "      <td>9.951029</td>\n",
       "      <td>13.431998</td>\n",
       "      <td>23.624181</td>\n",
       "      <td>13.971972</td>\n",
       "      <td>15.784425</td>\n",
       "      <td>24.608934</td>\n",
       "      <td>38.018604</td>\n",
       "    </tr>\n",
       "  </tbody>\n",
       "</table>\n",
       "<p>7561 rows × 500 columns</p>\n",
       "</div>"
      ],
      "text/plain": [
       "            0          1          2          3          4          5    \\\n",
       "0      1.000000   1.000000   1.000000   1.000000   1.000000   1.000000   \n",
       "1      0.996182   1.002513   1.000250   0.998232   1.008303   1.005955   \n",
       "2      0.991031   1.010375   1.002383   1.000581   1.014922   0.999637   \n",
       "3      0.998948   1.012365   1.005852   1.001287   1.031328   0.999105   \n",
       "4      0.999839   1.010723   1.004707   0.996898   1.029728   0.998910   \n",
       "...         ...        ...        ...        ...        ...        ...   \n",
       "7556  18.522202  20.415371  12.355921  16.124484  14.837695  17.690507   \n",
       "7557  18.392703  20.648853  12.194369  16.178123  14.946149  17.555385   \n",
       "7558  18.509648  20.927568  12.166373  16.002858  14.963184  17.484679   \n",
       "7559  18.515124  21.086000  12.371558  16.167939  14.912577  17.605448   \n",
       "7560  18.574138  21.246849  12.188070  16.270118  15.219441  17.469803   \n",
       "\n",
       "            6          7         8          9    ...        490        491  \\\n",
       "0      1.000000   1.000000  1.000000   1.000000  ...   1.000000   1.000000   \n",
       "1      1.001574   1.000837  1.006853   1.006900  ...   1.006848   0.983519   \n",
       "2      0.982724   1.009868  1.000766   1.016989  ...   1.009711   0.985579   \n",
       "3      0.982560   1.010746  0.996338   1.021713  ...   1.021843   0.989928   \n",
       "4      0.991604   0.994764  0.996863   1.030449  ...   1.016273   0.977498   \n",
       "...         ...        ...       ...        ...  ...        ...        ...   \n",
       "7556  45.964703  14.975760  9.160355  51.696813  ...  46.409382  14.824875   \n",
       "7557  45.248892  15.103500  9.177123  51.888488  ...  47.391392  14.836303   \n",
       "7558  45.197464  15.040629  9.171358  51.992563  ...  47.109054  14.853981   \n",
       "7559  46.030898  15.234441  9.163501  51.691194  ...  46.744998  15.070828   \n",
       "7560  46.410675  15.335568  9.099569  51.595664  ...  46.541280  15.027481   \n",
       "\n",
       "            492        493        494        495        496        497  \\\n",
       "0      1.000000   1.000000   1.000000   1.000000   1.000000   1.000000   \n",
       "1      1.000488   0.993048   1.004062   0.995938   1.012950   0.999443   \n",
       "2      0.997202   0.994169   1.012223   0.995210   1.009497   0.987767   \n",
       "3      1.016372   0.988992   0.998789   1.004018   1.004891   0.996459   \n",
       "4      1.023987   0.997002   1.008579   1.000524   1.008267   0.998643   \n",
       "...         ...        ...        ...        ...        ...        ...   \n",
       "7556  39.924758  10.235401  13.445748  22.866740  14.092640  15.895712   \n",
       "7557  39.768947  10.054328  13.493395  23.105453  14.191473  15.663188   \n",
       "7558  39.893367  10.098473  13.481784  23.260333  14.236609  15.800926   \n",
       "7559  39.660004  10.052646  13.417300  23.528481  14.028386  15.927808   \n",
       "7560  40.369186   9.951029  13.431998  23.624181  13.971972  15.784425   \n",
       "\n",
       "            498        499  \n",
       "0      1.000000   1.000000  \n",
       "1      0.986313   1.021490  \n",
       "2      0.988890   1.014984  \n",
       "3      0.970452   1.016123  \n",
       "4      0.964719   1.003140  \n",
       "...         ...        ...  \n",
       "7556  24.606993  38.046346  \n",
       "7557  24.591171  37.375288  \n",
       "7558  24.642873  37.411011  \n",
       "7559  24.597443  37.410448  \n",
       "7560  24.608934  38.018604  \n",
       "\n",
       "[7561 rows x 500 columns]"
      ]
     },
     "execution_count": 137,
     "metadata": {},
     "output_type": "execute_result"
    }
   ],
   "source": [
    "# Run the Monte Carlo simulation to forecast 30 years cumulative returns\n",
    "mc_60_40.calc_cumulative_return()"
   ]
  },
  {
   "cell_type": "code",
   "execution_count": 139,
   "metadata": {},
   "outputs": [
    {
     "data": {
      "text/plain": [
       "<AxesSubplot:title={'center':'500 Simulations of Cumulative Portfolio Return Trajectories Over the Next 7560 Trading Days.'}>"
      ]
     },
     "execution_count": 139,
     "metadata": {},
     "output_type": "execute_result"
    },
    {
     "data": {
      "image/png": "[encoded data removed]",
      "text/plain": [
       "<Figure size 432x288 with 1 Axes>"
      ]
     },
     "metadata": {
      "needs_background": "light"
     },
     "output_type": "display_data"
    }
   ],
   "source": [
    "# Visualize the 30-year Monte Carlo simulation by creating an\n",
    "# overlay line plot\n",
    "mc_60_40.plot_simulation()"
   ]
  },
  {
   "cell_type": "markdown",
   "metadata": {},
   "source": [
    "#### Step 3: Plot the probability distribution of the Monte Carlo simulation."
   ]
  },
  {
   "cell_type": "code",
   "execution_count": 140,
   "metadata": {},
   "outputs": [
    {
     "data": {
      "text/plain": [
       "<AxesSubplot:title={'center':'Distribution of Final Cumuluative Returns Across All 500 Simulations'}, ylabel='Frequency'>"
      ]
     },
     "execution_count": 140,
     "metadata": {},
     "output_type": "execute_result"
    },
    {
     "data": {
      "image/png": "[encoded data removed]",
      "text/plain": [
       "<Figure size 432x288 with 1 Axes>"
      ]
     },
     "metadata": {
      "needs_background": "light"
     },
     "output_type": "display_data"
    }
   ],
   "source": [
    "# Visualize the probability distribution of the 30-year Monte Carlo simulation \n",
    "# by plotting a histogram\n",
    "mc_60_40.plot_distribution()"
   ]
  },
  {
   "cell_type": "markdown",
   "metadata": {},
   "source": [
    "#### Step 4: Generate the summary statistics for the Monte Carlo simulation."
   ]
  },
  {
   "cell_type": "code",
   "execution_count": 141,
   "metadata": {},
   "outputs": [
    {
     "name": "stderr",
     "output_type": "stream",
     "text": [
      "C:\\Users\\ryanr\\Desktop\\FinTech-Workspace\\Challenges\\Module_05_Challenge\\financial_planner\\MCForecastTools.py:172: FutureWarning: The series.append method is deprecated and will be removed from pandas in a future version. Use pandas.concat instead.\n",
      "  return metrics.append(ci_series)\n"
     ]
    },
    {
     "data": {
      "text/plain": [
       "count           500.000000\n",
       "mean             24.023316\n",
       "std              20.932521\n",
       "min               2.302607\n",
       "25%              10.397235\n",
       "50%              17.912093\n",
       "75%              30.969535\n",
       "max             213.152664\n",
       "95% CI Lower      4.509852\n",
       "95% CI Upper     78.283548\n",
       "Name: 7560, dtype: float64"
      ]
     },
     "execution_count": 141,
     "metadata": {},
     "output_type": "execute_result"
    }
   ],
   "source": [
    "# Generate summary statistics from the 30-year Monte Carlo simulation results\n",
    "# Save the results as a variable\n",
    "mc_60_40_summary = mc_60_40.summarize_cumulative_return()\n",
    "\n",
    "\n",
    "# Review the 30-year Monte Carlo summary statistics\n",
    "mc_60_40_summary"
   ]
  },
  {
   "cell_type": "markdown",
   "metadata": {},
   "source": [
    "### Analyze the Retirement Portfolio Forecasts\n",
    "\n",
    "Using the current value of only the stock and bond portion of the member's portfolio and the summary statistics that you generated from the Monte Carlo simulation, answer the following question in your Jupyter notebook:\n",
    "\n",
    "-  What are the lower and upper bounds for the expected value of the portfolio with a 95% confidence interval?\n"
   ]
  },
  {
   "cell_type": "code",
   "execution_count": 142,
   "metadata": {},
   "outputs": [
    {
     "name": "stdout",
     "output_type": "stream",
     "text": [
      "The current balance of the stock and bond portion of your portfolio is: $ 70517.20\n"
     ]
    }
   ],
   "source": [
    "# Print the current balance of the stock and bond portion of the members portfolio\n",
    "print(f\"The current balance of the stock and bond portion of your portfolio is: ${total_stocks_bonds: .2f}\")"
   ]
  },
  {
   "cell_type": "code",
   "execution_count": 146,
   "metadata": {},
   "outputs": [
    {
     "name": "stdout",
     "output_type": "stream",
     "text": [
      "There is a 95% chance that your stock and bond portfolio, currently valued at $ 70517.20, with a 60% bond weighting and 40% stock weighting over the next 30 years will grow within the range of $318022.13 and $5520336.58. With an average expected value of $ 1694056.95\n"
     ]
    }
   ],
   "source": [
    "# Use the lower and upper `95%` confidence intervals to calculate the range of the possible outcomes for the current stock/bond portfolio\n",
    "ci_lower_thirty_cumulative_return = round(mc_60_40_summary[8] * total_stocks_bonds,2)\n",
    "ci_upper_thirty_cumulative_return = round(mc_60_40_summary[9] * total_stocks_bonds,2)\n",
    "\n",
    "# Print the result of your calculations\n",
    "print(f\"There is a 95% chance that your stock and bond portfolio, currently valued at ${total_stocks_bonds: .2f}, \"\n",
    "      f\"with a 60% bond weighting and 40% stock weighting over the next 30 years will grow within the range of \"\n",
    "      f\"${ci_lower_thirty_cumulative_return} and ${ci_upper_thirty_cumulative_return}. With an average expected value of ${(mc_60_40_summary[1] * total_stocks_bonds): .2f}\")"
   ]
  },
  {
   "cell_type": "markdown",
   "metadata": {},
   "source": [
    "### Forecast Cumulative Returns in 10 Years\n",
    "\n",
    "The CTO of the credit union is impressed with your work on these planning tools but wonders if 30 years is a long time to wait until retirement. So, your next task is to adjust the retirement portfolio and run a new Monte Carlo simulation to find out if the changes will allow members to retire earlier.\n",
    "\n",
    "For this new Monte Carlo simulation, do the following: \n",
    "\n",
    "- Forecast the cumulative returns for 10 years from now. Because of the shortened investment horizon (30 years to 10 years), the portfolio needs to invest more heavily in the riskier asset&mdash;that is, stock&mdash;to help accumulate wealth for retirement. \n",
    "\n",
    "- Adjust the weights of the retirement portfolio so that the composition for the Monte Carlo simulation consists of 20% bonds and 80% stocks. \n",
    "\n",
    "- Run the simulation over 500 samples, and use the same data that the API call to Alpaca generated.\n",
    "\n",
    "- Based on the new Monte Carlo simulation, answer the following questions in your Jupyter notebook:\n",
    "\n",
    "    - Using the current value of only the stock and bond portion of the member's portfolio and the summary statistics that you generated from the new Monte Carlo simulation, what are the lower and upper bounds for the expected value of the portfolio (with the new weights) with a 95% confidence interval?\n",
    "\n",
    "    - Will weighting the portfolio more heavily toward stocks allow the credit union members to retire after only 10 years?\n"
   ]
  },
  {
   "cell_type": "code",
   "execution_count": 147,
   "metadata": {},
   "outputs": [
    {
     "data": {
      "text/html": [
       "<div>\n",
       "<style scoped>\n",
       "    .dataframe tbody tr th:only-of-type {\n",
       "        vertical-align: middle;\n",
       "    }\n",
       "\n",
       "    .dataframe tbody tr th {\n",
       "        vertical-align: top;\n",
       "    }\n",
       "\n",
       "    .dataframe thead tr th {\n",
       "        text-align: left;\n",
       "    }\n",
       "\n",
       "    .dataframe thead tr:last-of-type th {\n",
       "        text-align: right;\n",
       "    }\n",
       "</style>\n",
       "<table border=\"1\" class=\"dataframe\">\n",
       "  <thead>\n",
       "    <tr>\n",
       "      <th></th>\n",
       "      <th colspan=\"8\" halign=\"left\">AGG</th>\n",
       "      <th colspan=\"8\" halign=\"left\">SPY</th>\n",
       "    </tr>\n",
       "    <tr>\n",
       "      <th></th>\n",
       "      <th>open</th>\n",
       "      <th>high</th>\n",
       "      <th>low</th>\n",
       "      <th>close</th>\n",
       "      <th>volume</th>\n",
       "      <th>trade_count</th>\n",
       "      <th>vwap</th>\n",
       "      <th>daily_return</th>\n",
       "      <th>open</th>\n",
       "      <th>high</th>\n",
       "      <th>low</th>\n",
       "      <th>close</th>\n",
       "      <th>volume</th>\n",
       "      <th>trade_count</th>\n",
       "      <th>vwap</th>\n",
       "      <th>daily_return</th>\n",
       "    </tr>\n",
       "    <tr>\n",
       "      <th>timestamp</th>\n",
       "      <th></th>\n",
       "      <th></th>\n",
       "      <th></th>\n",
       "      <th></th>\n",
       "      <th></th>\n",
       "      <th></th>\n",
       "      <th></th>\n",
       "      <th></th>\n",
       "      <th></th>\n",
       "      <th></th>\n",
       "      <th></th>\n",
       "      <th></th>\n",
       "      <th></th>\n",
       "      <th></th>\n",
       "      <th></th>\n",
       "      <th></th>\n",
       "    </tr>\n",
       "  </thead>\n",
       "  <tbody>\n",
       "    <tr>\n",
       "      <th>2019-03-18 04:00:00+00:00</th>\n",
       "      <td>107.67</td>\n",
       "      <td>107.7000</td>\n",
       "      <td>107.63</td>\n",
       "      <td>107.68</td>\n",
       "      <td>2295504</td>\n",
       "      <td>10320</td>\n",
       "      <td>107.669727</td>\n",
       "      <td>NaN</td>\n",
       "      <td>281.53</td>\n",
       "      <td>282.6600</td>\n",
       "      <td>281.30</td>\n",
       "      <td>282.42</td>\n",
       "      <td>62200340</td>\n",
       "      <td>268447</td>\n",
       "      <td>282.059401</td>\n",
       "      <td>NaN</td>\n",
       "    </tr>\n",
       "    <tr>\n",
       "      <th>2019-03-19 04:00:00+00:00</th>\n",
       "      <td>107.58</td>\n",
       "      <td>107.7100</td>\n",
       "      <td>107.53</td>\n",
       "      <td>107.62</td>\n",
       "      <td>2928376</td>\n",
       "      <td>11343</td>\n",
       "      <td>107.624963</td>\n",
       "      <td>-0.000557</td>\n",
       "      <td>283.49</td>\n",
       "      <td>284.3600</td>\n",
       "      <td>281.41</td>\n",
       "      <td>282.51</td>\n",
       "      <td>90424199</td>\n",
       "      <td>366238</td>\n",
       "      <td>282.883102</td>\n",
       "      <td>0.000319</td>\n",
       "    </tr>\n",
       "    <tr>\n",
       "      <th>2019-03-20 04:00:00+00:00</th>\n",
       "      <td>107.71</td>\n",
       "      <td>108.0899</td>\n",
       "      <td>107.67</td>\n",
       "      <td>108.06</td>\n",
       "      <td>4237270</td>\n",
       "      <td>16333</td>\n",
       "      <td>107.889859</td>\n",
       "      <td>0.004088</td>\n",
       "      <td>282.14</td>\n",
       "      <td>283.5000</td>\n",
       "      <td>280.32</td>\n",
       "      <td>281.50</td>\n",
       "      <td>84609331</td>\n",
       "      <td>449937</td>\n",
       "      <td>281.869201</td>\n",
       "      <td>-0.003575</td>\n",
       "    </tr>\n",
       "    <tr>\n",
       "      <th>2019-03-21 04:00:00+00:00</th>\n",
       "      <td>108.13</td>\n",
       "      <td>108.1752</td>\n",
       "      <td>108.05</td>\n",
       "      <td>108.08</td>\n",
       "      <td>4192702</td>\n",
       "      <td>12205</td>\n",
       "      <td>108.099259</td>\n",
       "      <td>0.000185</td>\n",
       "      <td>280.63</td>\n",
       "      <td>285.1800</td>\n",
       "      <td>280.59</td>\n",
       "      <td>284.58</td>\n",
       "      <td>79704575</td>\n",
       "      <td>378842</td>\n",
       "      <td>283.752190</td>\n",
       "      <td>0.010941</td>\n",
       "    </tr>\n",
       "    <tr>\n",
       "      <th>2019-03-22 04:00:00+00:00</th>\n",
       "      <td>108.46</td>\n",
       "      <td>108.7550</td>\n",
       "      <td>108.37</td>\n",
       "      <td>108.62</td>\n",
       "      <td>2464526</td>\n",
       "      <td>12307</td>\n",
       "      <td>108.613362</td>\n",
       "      <td>0.004996</td>\n",
       "      <td>283.22</td>\n",
       "      <td>283.8034</td>\n",
       "      <td>279.18</td>\n",
       "      <td>279.34</td>\n",
       "      <td>124865796</td>\n",
       "      <td>615396</td>\n",
       "      <td>280.801091</td>\n",
       "      <td>-0.018413</td>\n",
       "    </tr>\n",
       "  </tbody>\n",
       "</table>\n",
       "</div>"
      ],
      "text/plain": [
       "                              AGG                                     \\\n",
       "                             open      high     low   close   volume   \n",
       "timestamp                                                              \n",
       "2019-03-18 04:00:00+00:00  107.67  107.7000  107.63  107.68  2295504   \n",
       "2019-03-19 04:00:00+00:00  107.58  107.7100  107.53  107.62  2928376   \n",
       "2019-03-20 04:00:00+00:00  107.71  108.0899  107.67  108.06  4237270   \n",
       "2019-03-21 04:00:00+00:00  108.13  108.1752  108.05  108.08  4192702   \n",
       "2019-03-22 04:00:00+00:00  108.46  108.7550  108.37  108.62  2464526   \n",
       "\n",
       "                                                                   SPY  \\\n",
       "                          trade_count        vwap daily_return    open   \n",
       "timestamp                                                                \n",
       "2019-03-18 04:00:00+00:00       10320  107.669727          NaN  281.53   \n",
       "2019-03-19 04:00:00+00:00       11343  107.624963    -0.000557  283.49   \n",
       "2019-03-20 04:00:00+00:00       16333  107.889859     0.004088  282.14   \n",
       "2019-03-21 04:00:00+00:00       12205  108.099259     0.000185  280.63   \n",
       "2019-03-22 04:00:00+00:00       12307  108.613362     0.004996  283.22   \n",
       "\n",
       "                                                                            \\\n",
       "                               high     low   close     volume trade_count   \n",
       "timestamp                                                                    \n",
       "2019-03-18 04:00:00+00:00  282.6600  281.30  282.42   62200340      268447   \n",
       "2019-03-19 04:00:00+00:00  284.3600  281.41  282.51   90424199      366238   \n",
       "2019-03-20 04:00:00+00:00  283.5000  280.32  281.50   84609331      449937   \n",
       "2019-03-21 04:00:00+00:00  285.1800  280.59  284.58   79704575      378842   \n",
       "2019-03-22 04:00:00+00:00  283.8034  279.18  279.34  124865796      615396   \n",
       "\n",
       "                                                    \n",
       "                                 vwap daily_return  \n",
       "timestamp                                           \n",
       "2019-03-18 04:00:00+00:00  282.059401          NaN  \n",
       "2019-03-19 04:00:00+00:00  282.883102     0.000319  \n",
       "2019-03-20 04:00:00+00:00  281.869201    -0.003575  \n",
       "2019-03-21 04:00:00+00:00  283.752190     0.010941  \n",
       "2019-03-22 04:00:00+00:00  280.801091    -0.018413  "
      ]
     },
     "execution_count": 147,
     "metadata": {},
     "output_type": "execute_result"
    }
   ],
   "source": [
    "# Configure a Monte Carlo simulation to forecast 10 years cumulative returns\n",
    "# The weights should be split 20% to AGG and 80% to SPY.\n",
    "# Run 500 samples.\n",
    "mc_20_80_10year = MCSimulation(\n",
    "    portfolio_data=price_hist_stock_bond_df,\n",
    "    weights=[.20,.80],\n",
    "    num_simulation=500,\n",
    "    num_trading_days=252*10)\n",
    "\n",
    "# Review the simulation input data\n",
    "mc_60_40.portfolio_data.head()"
   ]
  },
  {
   "cell_type": "code",
   "execution_count": 148,
   "metadata": {
    "collapsed": true,
    "jupyter": {
     "outputs_hidden": true
    },
    "tags": []
   },
   "outputs": [
    {
     "name": "stdout",
     "output_type": "stream",
     "text": [
      "Running Monte Carlo simulation number 0.\n",
      "Running Monte Carlo simulation number 10.\n",
      "Running Monte Carlo simulation number 20.\n",
      "Running Monte Carlo simulation number 30.\n",
      "Running Monte Carlo simulation number 40.\n",
      "Running Monte Carlo simulation number 50.\n",
      "Running Monte Carlo simulation number 60.\n",
      "Running Monte Carlo simulation number 70.\n",
      "Running Monte Carlo simulation number 80.\n",
      "Running Monte Carlo simulation number 90.\n",
      "Running Monte Carlo simulation number 100.\n"
     ]
    },
    {
     "name": "stderr",
     "output_type": "stream",
     "text": [
      "C:\\Users\\ryanr\\Desktop\\FinTech-Workspace\\Challenges\\Module_05_Challenge\\financial_planner\\MCForecastTools.py:117: PerformanceWarning: DataFrame is highly fragmented.  This is usually the result of calling `frame.insert` many times, which has poor performance.  Consider joining all columns at once using pd.concat(axis=1) instead. To get a de-fragmented frame, use `newframe = frame.copy()`\n",
      "  portfolio_cumulative_returns[n] = (1 + sim_df.fillna(0)).cumprod()\n",
      "C:\\Users\\ryanr\\Desktop\\FinTech-Workspace\\Challenges\\Module_05_Challenge\\financial_planner\\MCForecastTools.py:117: PerformanceWarning: DataFrame is highly fragmented.  This is usually the result of calling `frame.insert` many times, which has poor performance.  Consider joining all columns at once using pd.concat(axis=1) instead. To get a de-fragmented frame, use `newframe = frame.copy()`\n",
      "  portfolio_cumulative_returns[n] = (1 + sim_df.fillna(0)).cumprod()\n",
      "C:\\Users\\ryanr\\Desktop\\FinTech-Workspace\\Challenges\\Module_05_Challenge\\financial_planner\\MCForecastTools.py:117: PerformanceWarning: DataFrame is highly fragmented.  This is usually the result of calling `frame.insert` many times, which has poor performance.  Consider joining all columns at once using pd.concat(axis=1) instead. To get a de-fragmented frame, use `newframe = frame.copy()`\n",
      "  portfolio_cumulative_returns[n] = (1 + sim_df.fillna(0)).cumprod()\n",
      "C:\\Users\\ryanr\\Desktop\\FinTech-Workspace\\Challenges\\Module_05_Challenge\\financial_planner\\MCForecastTools.py:117: PerformanceWarning: DataFrame is highly fragmented.  This is usually the result of calling `frame.insert` many times, which has poor performance.  Consider joining all columns at once using pd.concat(axis=1) instead. To get a de-fragmented frame, use `newframe = frame.copy()`\n",
      "  portfolio_cumulative_returns[n] = (1 + sim_df.fillna(0)).cumprod()\n",
      "C:\\Users\\ryanr\\Desktop\\FinTech-Workspace\\Challenges\\Module_05_Challenge\\financial_planner\\MCForecastTools.py:117: PerformanceWarning: DataFrame is highly fragmented.  This is usually the result of calling `frame.insert` many times, which has poor performance.  Consider joining all columns at once using pd.concat(axis=1) instead. To get a de-fragmented frame, use `newframe = frame.copy()`\n",
      "  portfolio_cumulative_returns[n] = (1 + sim_df.fillna(0)).cumprod()\n",
      "C:\\Users\\ryanr\\Desktop\\FinTech-Workspace\\Challenges\\Module_05_Challenge\\financial_planner\\MCForecastTools.py:117: PerformanceWarning: DataFrame is highly fragmented.  This is usually the result of calling `frame.insert` many times, which has poor performance.  Consider joining all columns at once using pd.concat(axis=1) instead. To get a de-fragmented frame, use `newframe = frame.copy()`\n",
      "  portfolio_cumulative_returns[n] = (1 + sim_df.fillna(0)).cumprod()\n",
      "C:\\Users\\ryanr\\Desktop\\FinTech-Workspace\\Challenges\\Module_05_Challenge\\financial_planner\\MCForecastTools.py:117: PerformanceWarning: DataFrame is highly fragmented.  This is usually the result of calling `frame.insert` many times, which has poor performance.  Consider joining all columns at once using pd.concat(axis=1) instead. To get a de-fragmented frame, use `newframe = frame.copy()`\n",
      "  portfolio_cumulative_returns[n] = (1 + sim_df.fillna(0)).cumprod()\n",
      "C:\\Users\\ryanr\\Desktop\\FinTech-Workspace\\Challenges\\Module_05_Challenge\\financial_planner\\MCForecastTools.py:117: PerformanceWarning: DataFrame is highly fragmented.  This is usually the result of calling `frame.insert` many times, which has poor performance.  Consider joining all columns at once using pd.concat(axis=1) instead. To get a de-fragmented frame, use `newframe = frame.copy()`\n",
      "  portfolio_cumulative_returns[n] = (1 + sim_df.fillna(0)).cumprod()\n",
      "C:\\Users\\ryanr\\Desktop\\FinTech-Workspace\\Challenges\\Module_05_Challenge\\financial_planner\\MCForecastTools.py:117: PerformanceWarning: DataFrame is highly fragmented.  This is usually the result of calling `frame.insert` many times, which has poor performance.  Consider joining all columns at once using pd.concat(axis=1) instead. To get a de-fragmented frame, use `newframe = frame.copy()`\n",
      "  portfolio_cumulative_returns[n] = (1 + sim_df.fillna(0)).cumprod()\n",
      "C:\\Users\\ryanr\\Desktop\\FinTech-Workspace\\Challenges\\Module_05_Challenge\\financial_planner\\MCForecastTools.py:117: PerformanceWarning: DataFrame is highly fragmented.  This is usually the result of calling `frame.insert` many times, which has poor performance.  Consider joining all columns at once using pd.concat(axis=1) instead. To get a de-fragmented frame, use `newframe = frame.copy()`\n",
      "  portfolio_cumulative_returns[n] = (1 + sim_df.fillna(0)).cumprod()\n"
     ]
    },
    {
     "name": "stdout",
     "output_type": "stream",
     "text": [
      "Running Monte Carlo simulation number 110.\n"
     ]
    },
    {
     "name": "stderr",
     "output_type": "stream",
     "text": [
      "C:\\Users\\ryanr\\Desktop\\FinTech-Workspace\\Challenges\\Module_05_Challenge\\financial_planner\\MCForecastTools.py:117: PerformanceWarning: DataFrame is highly fragmented.  This is usually the result of calling `frame.insert` many times, which has poor performance.  Consider joining all columns at once using pd.concat(axis=1) instead. To get a de-fragmented frame, use `newframe = frame.copy()`\n",
      "  portfolio_cumulative_returns[n] = (1 + sim_df.fillna(0)).cumprod()\n",
      "C:\\Users\\ryanr\\Desktop\\FinTech-Workspace\\Challenges\\Module_05_Challenge\\financial_planner\\MCForecastTools.py:117: PerformanceWarning: DataFrame is highly fragmented.  This is usually the result of calling `frame.insert` many times, which has poor performance.  Consider joining all columns at once using pd.concat(axis=1) instead. To get a de-fragmented frame, use `newframe = frame.copy()`\n",
      "  portfolio_cumulative_returns[n] = (1 + sim_df.fillna(0)).cumprod()\n",
      "C:\\Users\\ryanr\\Desktop\\FinTech-Workspace\\Challenges\\Module_05_Challenge\\financial_planner\\MCForecastTools.py:117: PerformanceWarning: DataFrame is highly fragmented.  This is usually the result of calling `frame.insert` many times, which has poor performance.  Consider joining all columns at once using pd.concat(axis=1) instead. To get a de-fragmented frame, use `newframe = frame.copy()`\n",
      "  portfolio_cumulative_returns[n] = (1 + sim_df.fillna(0)).cumprod()\n",
      "C:\\Users\\ryanr\\Desktop\\FinTech-Workspace\\Challenges\\Module_05_Challenge\\financial_planner\\MCForecastTools.py:117: PerformanceWarning: DataFrame is highly fragmented.  This is usually the result of calling `frame.insert` many times, which has poor performance.  Consider joining all columns at once using pd.concat(axis=1) instead. To get a de-fragmented frame, use `newframe = frame.copy()`\n",
      "  portfolio_cumulative_returns[n] = (1 + sim_df.fillna(0)).cumprod()\n",
      "C:\\Users\\ryanr\\Desktop\\FinTech-Workspace\\Challenges\\Module_05_Challenge\\financial_planner\\MCForecastTools.py:117: PerformanceWarning: DataFrame is highly fragmented.  This is usually the result of calling `frame.insert` many times, which has poor performance.  Consider joining all columns at once using pd.concat(axis=1) instead. To get a de-fragmented frame, use `newframe = frame.copy()`\n",
      "  portfolio_cumulative_returns[n] = (1 + sim_df.fillna(0)).cumprod()\n",
      "C:\\Users\\ryanr\\Desktop\\FinTech-Workspace\\Challenges\\Module_05_Challenge\\financial_planner\\MCForecastTools.py:117: PerformanceWarning: DataFrame is highly fragmented.  This is usually the result of calling `frame.insert` many times, which has poor performance.  Consider joining all columns at once using pd.concat(axis=1) instead. To get a de-fragmented frame, use `newframe = frame.copy()`\n",
      "  portfolio_cumulative_returns[n] = (1 + sim_df.fillna(0)).cumprod()\n",
      "C:\\Users\\ryanr\\Desktop\\FinTech-Workspace\\Challenges\\Module_05_Challenge\\financial_planner\\MCForecastTools.py:117: PerformanceWarning: DataFrame is highly fragmented.  This is usually the result of calling `frame.insert` many times, which has poor performance.  Consider joining all columns at once using pd.concat(axis=1) instead. To get a de-fragmented frame, use `newframe = frame.copy()`\n",
      "  portfolio_cumulative_returns[n] = (1 + sim_df.fillna(0)).cumprod()\n",
      "C:\\Users\\ryanr\\Desktop\\FinTech-Workspace\\Challenges\\Module_05_Challenge\\financial_planner\\MCForecastTools.py:117: PerformanceWarning: DataFrame is highly fragmented.  This is usually the result of calling `frame.insert` many times, which has poor performance.  Consider joining all columns at once using pd.concat(axis=1) instead. To get a de-fragmented frame, use `newframe = frame.copy()`\n",
      "  portfolio_cumulative_returns[n] = (1 + sim_df.fillna(0)).cumprod()\n",
      "C:\\Users\\ryanr\\Desktop\\FinTech-Workspace\\Challenges\\Module_05_Challenge\\financial_planner\\MCForecastTools.py:117: PerformanceWarning: DataFrame is highly fragmented.  This is usually the result of calling `frame.insert` many times, which has poor performance.  Consider joining all columns at once using pd.concat(axis=1) instead. To get a de-fragmented frame, use `newframe = frame.copy()`\n",
      "  portfolio_cumulative_returns[n] = (1 + sim_df.fillna(0)).cumprod()\n",
      "C:\\Users\\ryanr\\Desktop\\FinTech-Workspace\\Challenges\\Module_05_Challenge\\financial_planner\\MCForecastTools.py:117: PerformanceWarning: DataFrame is highly fragmented.  This is usually the result of calling `frame.insert` many times, which has poor performance.  Consider joining all columns at once using pd.concat(axis=1) instead. To get a de-fragmented frame, use `newframe = frame.copy()`\n",
      "  portfolio_cumulative_returns[n] = (1 + sim_df.fillna(0)).cumprod()\n",
      "C:\\Users\\ryanr\\Desktop\\FinTech-Workspace\\Challenges\\Module_05_Challenge\\financial_planner\\MCForecastTools.py:117: PerformanceWarning: DataFrame is highly fragmented.  This is usually the result of calling `frame.insert` many times, which has poor performance.  Consider joining all columns at once using pd.concat(axis=1) instead. To get a de-fragmented frame, use `newframe = frame.copy()`\n",
      "  portfolio_cumulative_returns[n] = (1 + sim_df.fillna(0)).cumprod()\n"
     ]
    },
    {
     "name": "stdout",
     "output_type": "stream",
     "text": [
      "Running Monte Carlo simulation number 120.\n"
     ]
    },
    {
     "name": "stderr",
     "output_type": "stream",
     "text": [
      "C:\\Users\\ryanr\\Desktop\\FinTech-Workspace\\Challenges\\Module_05_Challenge\\financial_planner\\MCForecastTools.py:117: PerformanceWarning: DataFrame is highly fragmented.  This is usually the result of calling `frame.insert` many times, which has poor performance.  Consider joining all columns at once using pd.concat(axis=1) instead. To get a de-fragmented frame, use `newframe = frame.copy()`\n",
      "  portfolio_cumulative_returns[n] = (1 + sim_df.fillna(0)).cumprod()\n",
      "C:\\Users\\ryanr\\Desktop\\FinTech-Workspace\\Challenges\\Module_05_Challenge\\financial_planner\\MCForecastTools.py:117: PerformanceWarning: DataFrame is highly fragmented.  This is usually the result of calling `frame.insert` many times, which has poor performance.  Consider joining all columns at once using pd.concat(axis=1) instead. To get a de-fragmented frame, use `newframe = frame.copy()`\n",
      "  portfolio_cumulative_returns[n] = (1 + sim_df.fillna(0)).cumprod()\n",
      "C:\\Users\\ryanr\\Desktop\\FinTech-Workspace\\Challenges\\Module_05_Challenge\\financial_planner\\MCForecastTools.py:117: PerformanceWarning: DataFrame is highly fragmented.  This is usually the result of calling `frame.insert` many times, which has poor performance.  Consider joining all columns at once using pd.concat(axis=1) instead. To get a de-fragmented frame, use `newframe = frame.copy()`\n",
      "  portfolio_cumulative_returns[n] = (1 + sim_df.fillna(0)).cumprod()\n",
      "C:\\Users\\ryanr\\Desktop\\FinTech-Workspace\\Challenges\\Module_05_Challenge\\financial_planner\\MCForecastTools.py:117: PerformanceWarning: DataFrame is highly fragmented.  This is usually the result of calling `frame.insert` many times, which has poor performance.  Consider joining all columns at once using pd.concat(axis=1) instead. To get a de-fragmented frame, use `newframe = frame.copy()`\n",
      "  portfolio_cumulative_returns[n] = (1 + sim_df.fillna(0)).cumprod()\n",
      "C:\\Users\\ryanr\\Desktop\\FinTech-Workspace\\Challenges\\Module_05_Challenge\\financial_planner\\MCForecastTools.py:117: PerformanceWarning: DataFrame is highly fragmented.  This is usually the result of calling `frame.insert` many times, which has poor performance.  Consider joining all columns at once using pd.concat(axis=1) instead. To get a de-fragmented frame, use `newframe = frame.copy()`\n",
      "  portfolio_cumulative_returns[n] = (1 + sim_df.fillna(0)).cumprod()\n",
      "C:\\Users\\ryanr\\Desktop\\FinTech-Workspace\\Challenges\\Module_05_Challenge\\financial_planner\\MCForecastTools.py:117: PerformanceWarning: DataFrame is highly fragmented.  This is usually the result of calling `frame.insert` many times, which has poor performance.  Consider joining all columns at once using pd.concat(axis=1) instead. To get a de-fragmented frame, use `newframe = frame.copy()`\n",
      "  portfolio_cumulative_returns[n] = (1 + sim_df.fillna(0)).cumprod()\n",
      "C:\\Users\\ryanr\\Desktop\\FinTech-Workspace\\Challenges\\Module_05_Challenge\\financial_planner\\MCForecastTools.py:117: PerformanceWarning: DataFrame is highly fragmented.  This is usually the result of calling `frame.insert` many times, which has poor performance.  Consider joining all columns at once using pd.concat(axis=1) instead. To get a de-fragmented frame, use `newframe = frame.copy()`\n",
      "  portfolio_cumulative_returns[n] = (1 + sim_df.fillna(0)).cumprod()\n",
      "C:\\Users\\ryanr\\Desktop\\FinTech-Workspace\\Challenges\\Module_05_Challenge\\financial_planner\\MCForecastTools.py:117: PerformanceWarning: DataFrame is highly fragmented.  This is usually the result of calling `frame.insert` many times, which has poor performance.  Consider joining all columns at once using pd.concat(axis=1) instead. To get a de-fragmented frame, use `newframe = frame.copy()`\n",
      "  portfolio_cumulative_returns[n] = (1 + sim_df.fillna(0)).cumprod()\n",
      "C:\\Users\\ryanr\\Desktop\\FinTech-Workspace\\Challenges\\Module_05_Challenge\\financial_planner\\MCForecastTools.py:117: PerformanceWarning: DataFrame is highly fragmented.  This is usually the result of calling `frame.insert` many times, which has poor performance.  Consider joining all columns at once using pd.concat(axis=1) instead. To get a de-fragmented frame, use `newframe = frame.copy()`\n",
      "  portfolio_cumulative_returns[n] = (1 + sim_df.fillna(0)).cumprod()\n"
     ]
    },
    {
     "name": "stdout",
     "output_type": "stream",
     "text": [
      "Running Monte Carlo simulation number 130.\n"
     ]
    },
    {
     "name": "stderr",
     "output_type": "stream",
     "text": [
      "C:\\Users\\ryanr\\Desktop\\FinTech-Workspace\\Challenges\\Module_05_Challenge\\financial_planner\\MCForecastTools.py:117: PerformanceWarning: DataFrame is highly fragmented.  This is usually the result of calling `frame.insert` many times, which has poor performance.  Consider joining all columns at once using pd.concat(axis=1) instead. To get a de-fragmented frame, use `newframe = frame.copy()`\n",
      "  portfolio_cumulative_returns[n] = (1 + sim_df.fillna(0)).cumprod()\n",
      "C:\\Users\\ryanr\\Desktop\\FinTech-Workspace\\Challenges\\Module_05_Challenge\\financial_planner\\MCForecastTools.py:117: PerformanceWarning: DataFrame is highly fragmented.  This is usually the result of calling `frame.insert` many times, which has poor performance.  Consider joining all columns at once using pd.concat(axis=1) instead. To get a de-fragmented frame, use `newframe = frame.copy()`\n",
      "  portfolio_cumulative_returns[n] = (1 + sim_df.fillna(0)).cumprod()\n",
      "C:\\Users\\ryanr\\Desktop\\FinTech-Workspace\\Challenges\\Module_05_Challenge\\financial_planner\\MCForecastTools.py:117: PerformanceWarning: DataFrame is highly fragmented.  This is usually the result of calling `frame.insert` many times, which has poor performance.  Consider joining all columns at once using pd.concat(axis=1) instead. To get a de-fragmented frame, use `newframe = frame.copy()`\n",
      "  portfolio_cumulative_returns[n] = (1 + sim_df.fillna(0)).cumprod()\n",
      "C:\\Users\\ryanr\\Desktop\\FinTech-Workspace\\Challenges\\Module_05_Challenge\\financial_planner\\MCForecastTools.py:117: PerformanceWarning: DataFrame is highly fragmented.  This is usually the result of calling `frame.insert` many times, which has poor performance.  Consider joining all columns at once using pd.concat(axis=1) instead. To get a de-fragmented frame, use `newframe = frame.copy()`\n",
      "  portfolio_cumulative_returns[n] = (1 + sim_df.fillna(0)).cumprod()\n",
      "C:\\Users\\ryanr\\Desktop\\FinTech-Workspace\\Challenges\\Module_05_Challenge\\financial_planner\\MCForecastTools.py:117: PerformanceWarning: DataFrame is highly fragmented.  This is usually the result of calling `frame.insert` many times, which has poor performance.  Consider joining all columns at once using pd.concat(axis=1) instead. To get a de-fragmented frame, use `newframe = frame.copy()`\n",
      "  portfolio_cumulative_returns[n] = (1 + sim_df.fillna(0)).cumprod()\n",
      "C:\\Users\\ryanr\\Desktop\\FinTech-Workspace\\Challenges\\Module_05_Challenge\\financial_planner\\MCForecastTools.py:117: PerformanceWarning: DataFrame is highly fragmented.  This is usually the result of calling `frame.insert` many times, which has poor performance.  Consider joining all columns at once using pd.concat(axis=1) instead. To get a de-fragmented frame, use `newframe = frame.copy()`\n",
      "  portfolio_cumulative_returns[n] = (1 + sim_df.fillna(0)).cumprod()\n",
      "C:\\Users\\ryanr\\Desktop\\FinTech-Workspace\\Challenges\\Module_05_Challenge\\financial_planner\\MCForecastTools.py:117: PerformanceWarning: DataFrame is highly fragmented.  This is usually the result of calling `frame.insert` many times, which has poor performance.  Consider joining all columns at once using pd.concat(axis=1) instead. To get a de-fragmented frame, use `newframe = frame.copy()`\n",
      "  portfolio_cumulative_returns[n] = (1 + sim_df.fillna(0)).cumprod()\n",
      "C:\\Users\\ryanr\\Desktop\\FinTech-Workspace\\Challenges\\Module_05_Challenge\\financial_planner\\MCForecastTools.py:117: PerformanceWarning: DataFrame is highly fragmented.  This is usually the result of calling `frame.insert` many times, which has poor performance.  Consider joining all columns at once using pd.concat(axis=1) instead. To get a de-fragmented frame, use `newframe = frame.copy()`\n",
      "  portfolio_cumulative_returns[n] = (1 + sim_df.fillna(0)).cumprod()\n",
      "C:\\Users\\ryanr\\Desktop\\FinTech-Workspace\\Challenges\\Module_05_Challenge\\financial_planner\\MCForecastTools.py:117: PerformanceWarning: DataFrame is highly fragmented.  This is usually the result of calling `frame.insert` many times, which has poor performance.  Consider joining all columns at once using pd.concat(axis=1) instead. To get a de-fragmented frame, use `newframe = frame.copy()`\n",
      "  portfolio_cumulative_returns[n] = (1 + sim_df.fillna(0)).cumprod()\n",
      "C:\\Users\\ryanr\\Desktop\\FinTech-Workspace\\Challenges\\Module_05_Challenge\\financial_planner\\MCForecastTools.py:117: PerformanceWarning: DataFrame is highly fragmented.  This is usually the result of calling `frame.insert` many times, which has poor performance.  Consider joining all columns at once using pd.concat(axis=1) instead. To get a de-fragmented frame, use `newframe = frame.copy()`\n",
      "  portfolio_cumulative_returns[n] = (1 + sim_df.fillna(0)).cumprod()\n"
     ]
    },
    {
     "name": "stdout",
     "output_type": "stream",
     "text": [
      "Running Monte Carlo simulation number 140.\n"
     ]
    },
    {
     "name": "stderr",
     "output_type": "stream",
     "text": [
      "C:\\Users\\ryanr\\Desktop\\FinTech-Workspace\\Challenges\\Module_05_Challenge\\financial_planner\\MCForecastTools.py:117: PerformanceWarning: DataFrame is highly fragmented.  This is usually the result of calling `frame.insert` many times, which has poor performance.  Consider joining all columns at once using pd.concat(axis=1) instead. To get a de-fragmented frame, use `newframe = frame.copy()`\n",
      "  portfolio_cumulative_returns[n] = (1 + sim_df.fillna(0)).cumprod()\n",
      "C:\\Users\\ryanr\\Desktop\\FinTech-Workspace\\Challenges\\Module_05_Challenge\\financial_planner\\MCForecastTools.py:117: PerformanceWarning: DataFrame is highly fragmented.  This is usually the result of calling `frame.insert` many times, which has poor performance.  Consider joining all columns at once using pd.concat(axis=1) instead. To get a de-fragmented frame, use `newframe = frame.copy()`\n",
      "  portfolio_cumulative_returns[n] = (1 + sim_df.fillna(0)).cumprod()\n",
      "C:\\Users\\ryanr\\Desktop\\FinTech-Workspace\\Challenges\\Module_05_Challenge\\financial_planner\\MCForecastTools.py:117: PerformanceWarning: DataFrame is highly fragmented.  This is usually the result of calling `frame.insert` many times, which has poor performance.  Consider joining all columns at once using pd.concat(axis=1) instead. To get a de-fragmented frame, use `newframe = frame.copy()`\n",
      "  portfolio_cumulative_returns[n] = (1 + sim_df.fillna(0)).cumprod()\n",
      "C:\\Users\\ryanr\\Desktop\\FinTech-Workspace\\Challenges\\Module_05_Challenge\\financial_planner\\MCForecastTools.py:117: PerformanceWarning: DataFrame is highly fragmented.  This is usually the result of calling `frame.insert` many times, which has poor performance.  Consider joining all columns at once using pd.concat(axis=1) instead. To get a de-fragmented frame, use `newframe = frame.copy()`\n",
      "  portfolio_cumulative_returns[n] = (1 + sim_df.fillna(0)).cumprod()\n",
      "C:\\Users\\ryanr\\Desktop\\FinTech-Workspace\\Challenges\\Module_05_Challenge\\financial_planner\\MCForecastTools.py:117: PerformanceWarning: DataFrame is highly fragmented.  This is usually the result of calling `frame.insert` many times, which has poor performance.  Consider joining all columns at once using pd.concat(axis=1) instead. To get a de-fragmented frame, use `newframe = frame.copy()`\n",
      "  portfolio_cumulative_returns[n] = (1 + sim_df.fillna(0)).cumprod()\n",
      "C:\\Users\\ryanr\\Desktop\\FinTech-Workspace\\Challenges\\Module_05_Challenge\\financial_planner\\MCForecastTools.py:117: PerformanceWarning: DataFrame is highly fragmented.  This is usually the result of calling `frame.insert` many times, which has poor performance.  Consider joining all columns at once using pd.concat(axis=1) instead. To get a de-fragmented frame, use `newframe = frame.copy()`\n",
      "  portfolio_cumulative_returns[n] = (1 + sim_df.fillna(0)).cumprod()\n",
      "C:\\Users\\ryanr\\Desktop\\FinTech-Workspace\\Challenges\\Module_05_Challenge\\financial_planner\\MCForecastTools.py:117: PerformanceWarning: DataFrame is highly fragmented.  This is usually the result of calling `frame.insert` many times, which has poor performance.  Consider joining all columns at once using pd.concat(axis=1) instead. To get a de-fragmented frame, use `newframe = frame.copy()`\n",
      "  portfolio_cumulative_returns[n] = (1 + sim_df.fillna(0)).cumprod()\n",
      "C:\\Users\\ryanr\\Desktop\\FinTech-Workspace\\Challenges\\Module_05_Challenge\\financial_planner\\MCForecastTools.py:117: PerformanceWarning: DataFrame is highly fragmented.  This is usually the result of calling `frame.insert` many times, which has poor performance.  Consider joining all columns at once using pd.concat(axis=1) instead. To get a de-fragmented frame, use `newframe = frame.copy()`\n",
      "  portfolio_cumulative_returns[n] = (1 + sim_df.fillna(0)).cumprod()\n",
      "C:\\Users\\ryanr\\Desktop\\FinTech-Workspace\\Challenges\\Module_05_Challenge\\financial_planner\\MCForecastTools.py:117: PerformanceWarning: DataFrame is highly fragmented.  This is usually the result of calling `frame.insert` many times, which has poor performance.  Consider joining all columns at once using pd.concat(axis=1) instead. To get a de-fragmented frame, use `newframe = frame.copy()`\n",
      "  portfolio_cumulative_returns[n] = (1 + sim_df.fillna(0)).cumprod()\n",
      "C:\\Users\\ryanr\\Desktop\\FinTech-Workspace\\Challenges\\Module_05_Challenge\\financial_planner\\MCForecastTools.py:117: PerformanceWarning: DataFrame is highly fragmented.  This is usually the result of calling `frame.insert` many times, which has poor performance.  Consider joining all columns at once using pd.concat(axis=1) instead. To get a de-fragmented frame, use `newframe = frame.copy()`\n",
      "  portfolio_cumulative_returns[n] = (1 + sim_df.fillna(0)).cumprod()\n",
      "C:\\Users\\ryanr\\Desktop\\FinTech-Workspace\\Challenges\\Module_05_Challenge\\financial_planner\\MCForecastTools.py:117: PerformanceWarning: DataFrame is highly fragmented.  This is usually the result of calling `frame.insert` many times, which has poor performance.  Consider joining all columns at once using pd.concat(axis=1) instead. To get a de-fragmented frame, use `newframe = frame.copy()`\n",
      "  portfolio_cumulative_returns[n] = (1 + sim_df.fillna(0)).cumprod()\n"
     ]
    },
    {
     "name": "stdout",
     "output_type": "stream",
     "text": [
      "Running Monte Carlo simulation number 150.\n"
     ]
    },
    {
     "name": "stderr",
     "output_type": "stream",
     "text": [
      "C:\\Users\\ryanr\\Desktop\\FinTech-Workspace\\Challenges\\Module_05_Challenge\\financial_planner\\MCForecastTools.py:117: PerformanceWarning: DataFrame is highly fragmented.  This is usually the result of calling `frame.insert` many times, which has poor performance.  Consider joining all columns at once using pd.concat(axis=1) instead. To get a de-fragmented frame, use `newframe = frame.copy()`\n",
      "  portfolio_cumulative_returns[n] = (1 + sim_df.fillna(0)).cumprod()\n",
      "C:\\Users\\ryanr\\Desktop\\FinTech-Workspace\\Challenges\\Module_05_Challenge\\financial_planner\\MCForecastTools.py:117: PerformanceWarning: DataFrame is highly fragmented.  This is usually the result of calling `frame.insert` many times, which has poor performance.  Consider joining all columns at once using pd.concat(axis=1) instead. To get a de-fragmented frame, use `newframe = frame.copy()`\n",
      "  portfolio_cumulative_returns[n] = (1 + sim_df.fillna(0)).cumprod()\n",
      "C:\\Users\\ryanr\\Desktop\\FinTech-Workspace\\Challenges\\Module_05_Challenge\\financial_planner\\MCForecastTools.py:117: PerformanceWarning: DataFrame is highly fragmented.  This is usually the result of calling `frame.insert` many times, which has poor performance.  Consider joining all columns at once using pd.concat(axis=1) instead. To get a de-fragmented frame, use `newframe = frame.copy()`\n",
      "  portfolio_cumulative_returns[n] = (1 + sim_df.fillna(0)).cumprod()\n",
      "C:\\Users\\ryanr\\Desktop\\FinTech-Workspace\\Challenges\\Module_05_Challenge\\financial_planner\\MCForecastTools.py:117: PerformanceWarning: DataFrame is highly fragmented.  This is usually the result of calling `frame.insert` many times, which has poor performance.  Consider joining all columns at once using pd.concat(axis=1) instead. To get a de-fragmented frame, use `newframe = frame.copy()`\n",
      "  portfolio_cumulative_returns[n] = (1 + sim_df.fillna(0)).cumprod()\n",
      "C:\\Users\\ryanr\\Desktop\\FinTech-Workspace\\Challenges\\Module_05_Challenge\\financial_planner\\MCForecastTools.py:117: PerformanceWarning: DataFrame is highly fragmented.  This is usually the result of calling `frame.insert` many times, which has poor performance.  Consider joining all columns at once using pd.concat(axis=1) instead. To get a de-fragmented frame, use `newframe = frame.copy()`\n",
      "  portfolio_cumulative_returns[n] = (1 + sim_df.fillna(0)).cumprod()\n",
      "C:\\Users\\ryanr\\Desktop\\FinTech-Workspace\\Challenges\\Module_05_Challenge\\financial_planner\\MCForecastTools.py:117: PerformanceWarning: DataFrame is highly fragmented.  This is usually the result of calling `frame.insert` many times, which has poor performance.  Consider joining all columns at once using pd.concat(axis=1) instead. To get a de-fragmented frame, use `newframe = frame.copy()`\n",
      "  portfolio_cumulative_returns[n] = (1 + sim_df.fillna(0)).cumprod()\n",
      "C:\\Users\\ryanr\\Desktop\\FinTech-Workspace\\Challenges\\Module_05_Challenge\\financial_planner\\MCForecastTools.py:117: PerformanceWarning: DataFrame is highly fragmented.  This is usually the result of calling `frame.insert` many times, which has poor performance.  Consider joining all columns at once using pd.concat(axis=1) instead. To get a de-fragmented frame, use `newframe = frame.copy()`\n",
      "  portfolio_cumulative_returns[n] = (1 + sim_df.fillna(0)).cumprod()\n",
      "C:\\Users\\ryanr\\Desktop\\FinTech-Workspace\\Challenges\\Module_05_Challenge\\financial_planner\\MCForecastTools.py:117: PerformanceWarning: DataFrame is highly fragmented.  This is usually the result of calling `frame.insert` many times, which has poor performance.  Consider joining all columns at once using pd.concat(axis=1) instead. To get a de-fragmented frame, use `newframe = frame.copy()`\n",
      "  portfolio_cumulative_returns[n] = (1 + sim_df.fillna(0)).cumprod()\n",
      "C:\\Users\\ryanr\\Desktop\\FinTech-Workspace\\Challenges\\Module_05_Challenge\\financial_planner\\MCForecastTools.py:117: PerformanceWarning: DataFrame is highly fragmented.  This is usually the result of calling `frame.insert` many times, which has poor performance.  Consider joining all columns at once using pd.concat(axis=1) instead. To get a de-fragmented frame, use `newframe = frame.copy()`\n",
      "  portfolio_cumulative_returns[n] = (1 + sim_df.fillna(0)).cumprod()\n"
     ]
    },
    {
     "name": "stdout",
     "output_type": "stream",
     "text": [
      "Running Monte Carlo simulation number 160.\n"
     ]
    },
    {
     "name": "stderr",
     "output_type": "stream",
     "text": [
      "C:\\Users\\ryanr\\Desktop\\FinTech-Workspace\\Challenges\\Module_05_Challenge\\financial_planner\\MCForecastTools.py:117: PerformanceWarning: DataFrame is highly fragmented.  This is usually the result of calling `frame.insert` many times, which has poor performance.  Consider joining all columns at once using pd.concat(axis=1) instead. To get a de-fragmented frame, use `newframe = frame.copy()`\n",
      "  portfolio_cumulative_returns[n] = (1 + sim_df.fillna(0)).cumprod()\n",
      "C:\\Users\\ryanr\\Desktop\\FinTech-Workspace\\Challenges\\Module_05_Challenge\\financial_planner\\MCForecastTools.py:117: PerformanceWarning: DataFrame is highly fragmented.  This is usually the result of calling `frame.insert` many times, which has poor performance.  Consider joining all columns at once using pd.concat(axis=1) instead. To get a de-fragmented frame, use `newframe = frame.copy()`\n",
      "  portfolio_cumulative_returns[n] = (1 + sim_df.fillna(0)).cumprod()\n",
      "C:\\Users\\ryanr\\Desktop\\FinTech-Workspace\\Challenges\\Module_05_Challenge\\financial_planner\\MCForecastTools.py:117: PerformanceWarning: DataFrame is highly fragmented.  This is usually the result of calling `frame.insert` many times, which has poor performance.  Consider joining all columns at once using pd.concat(axis=1) instead. To get a de-fragmented frame, use `newframe = frame.copy()`\n",
      "  portfolio_cumulative_returns[n] = (1 + sim_df.fillna(0)).cumprod()\n",
      "C:\\Users\\ryanr\\Desktop\\FinTech-Workspace\\Challenges\\Module_05_Challenge\\financial_planner\\MCForecastTools.py:117: PerformanceWarning: DataFrame is highly fragmented.  This is usually the result of calling `frame.insert` many times, which has poor performance.  Consider joining all columns at once using pd.concat(axis=1) instead. To get a de-fragmented frame, use `newframe = frame.copy()`\n",
      "  portfolio_cumulative_returns[n] = (1 + sim_df.fillna(0)).cumprod()\n",
      "C:\\Users\\ryanr\\Desktop\\FinTech-Workspace\\Challenges\\Module_05_Challenge\\financial_planner\\MCForecastTools.py:117: PerformanceWarning: DataFrame is highly fragmented.  This is usually the result of calling `frame.insert` many times, which has poor performance.  Consider joining all columns at once using pd.concat(axis=1) instead. To get a de-fragmented frame, use `newframe = frame.copy()`\n",
      "  portfolio_cumulative_returns[n] = (1 + sim_df.fillna(0)).cumprod()\n",
      "C:\\Users\\ryanr\\Desktop\\FinTech-Workspace\\Challenges\\Module_05_Challenge\\financial_planner\\MCForecastTools.py:117: PerformanceWarning: DataFrame is highly fragmented.  This is usually the result of calling `frame.insert` many times, which has poor performance.  Consider joining all columns at once using pd.concat(axis=1) instead. To get a de-fragmented frame, use `newframe = frame.copy()`\n",
      "  portfolio_cumulative_returns[n] = (1 + sim_df.fillna(0)).cumprod()\n",
      "C:\\Users\\ryanr\\Desktop\\FinTech-Workspace\\Challenges\\Module_05_Challenge\\financial_planner\\MCForecastTools.py:117: PerformanceWarning: DataFrame is highly fragmented.  This is usually the result of calling `frame.insert` many times, which has poor performance.  Consider joining all columns at once using pd.concat(axis=1) instead. To get a de-fragmented frame, use `newframe = frame.copy()`\n",
      "  portfolio_cumulative_returns[n] = (1 + sim_df.fillna(0)).cumprod()\n",
      "C:\\Users\\ryanr\\Desktop\\FinTech-Workspace\\Challenges\\Module_05_Challenge\\financial_planner\\MCForecastTools.py:117: PerformanceWarning: DataFrame is highly fragmented.  This is usually the result of calling `frame.insert` many times, which has poor performance.  Consider joining all columns at once using pd.concat(axis=1) instead. To get a de-fragmented frame, use `newframe = frame.copy()`\n",
      "  portfolio_cumulative_returns[n] = (1 + sim_df.fillna(0)).cumprod()\n",
      "C:\\Users\\ryanr\\Desktop\\FinTech-Workspace\\Challenges\\Module_05_Challenge\\financial_planner\\MCForecastTools.py:117: PerformanceWarning: DataFrame is highly fragmented.  This is usually the result of calling `frame.insert` many times, which has poor performance.  Consider joining all columns at once using pd.concat(axis=1) instead. To get a de-fragmented frame, use `newframe = frame.copy()`\n",
      "  portfolio_cumulative_returns[n] = (1 + sim_df.fillna(0)).cumprod()\n",
      "C:\\Users\\ryanr\\Desktop\\FinTech-Workspace\\Challenges\\Module_05_Challenge\\financial_planner\\MCForecastTools.py:117: PerformanceWarning: DataFrame is highly fragmented.  This is usually the result of calling `frame.insert` many times, which has poor performance.  Consider joining all columns at once using pd.concat(axis=1) instead. To get a de-fragmented frame, use `newframe = frame.copy()`\n",
      "  portfolio_cumulative_returns[n] = (1 + sim_df.fillna(0)).cumprod()\n",
      "C:\\Users\\ryanr\\Desktop\\FinTech-Workspace\\Challenges\\Module_05_Challenge\\financial_planner\\MCForecastTools.py:117: PerformanceWarning: DataFrame is highly fragmented.  This is usually the result of calling `frame.insert` many times, which has poor performance.  Consider joining all columns at once using pd.concat(axis=1) instead. To get a de-fragmented frame, use `newframe = frame.copy()`\n",
      "  portfolio_cumulative_returns[n] = (1 + sim_df.fillna(0)).cumprod()\n",
      "C:\\Users\\ryanr\\Desktop\\FinTech-Workspace\\Challenges\\Module_05_Challenge\\financial_planner\\MCForecastTools.py:117: PerformanceWarning: DataFrame is highly fragmented.  This is usually the result of calling `frame.insert` many times, which has poor performance.  Consider joining all columns at once using pd.concat(axis=1) instead. To get a de-fragmented frame, use `newframe = frame.copy()`\n",
      "  portfolio_cumulative_returns[n] = (1 + sim_df.fillna(0)).cumprod()\n"
     ]
    },
    {
     "name": "stdout",
     "output_type": "stream",
     "text": [
      "Running Monte Carlo simulation number 170.\n"
     ]
    },
    {
     "name": "stderr",
     "output_type": "stream",
     "text": [
      "C:\\Users\\ryanr\\Desktop\\FinTech-Workspace\\Challenges\\Module_05_Challenge\\financial_planner\\MCForecastTools.py:117: PerformanceWarning: DataFrame is highly fragmented.  This is usually the result of calling `frame.insert` many times, which has poor performance.  Consider joining all columns at once using pd.concat(axis=1) instead. To get a de-fragmented frame, use `newframe = frame.copy()`\n",
      "  portfolio_cumulative_returns[n] = (1 + sim_df.fillna(0)).cumprod()\n",
      "C:\\Users\\ryanr\\Desktop\\FinTech-Workspace\\Challenges\\Module_05_Challenge\\financial_planner\\MCForecastTools.py:117: PerformanceWarning: DataFrame is highly fragmented.  This is usually the result of calling `frame.insert` many times, which has poor performance.  Consider joining all columns at once using pd.concat(axis=1) instead. To get a de-fragmented frame, use `newframe = frame.copy()`\n",
      "  portfolio_cumulative_returns[n] = (1 + sim_df.fillna(0)).cumprod()\n",
      "C:\\Users\\ryanr\\Desktop\\FinTech-Workspace\\Challenges\\Module_05_Challenge\\financial_planner\\MCForecastTools.py:117: PerformanceWarning: DataFrame is highly fragmented.  This is usually the result of calling `frame.insert` many times, which has poor performance.  Consider joining all columns at once using pd.concat(axis=1) instead. To get a de-fragmented frame, use `newframe = frame.copy()`\n",
      "  portfolio_cumulative_returns[n] = (1 + sim_df.fillna(0)).cumprod()\n",
      "C:\\Users\\ryanr\\Desktop\\FinTech-Workspace\\Challenges\\Module_05_Challenge\\financial_planner\\MCForecastTools.py:117: PerformanceWarning: DataFrame is highly fragmented.  This is usually the result of calling `frame.insert` many times, which has poor performance.  Consider joining all columns at once using pd.concat(axis=1) instead. To get a de-fragmented frame, use `newframe = frame.copy()`\n",
      "  portfolio_cumulative_returns[n] = (1 + sim_df.fillna(0)).cumprod()\n",
      "C:\\Users\\ryanr\\Desktop\\FinTech-Workspace\\Challenges\\Module_05_Challenge\\financial_planner\\MCForecastTools.py:117: PerformanceWarning: DataFrame is highly fragmented.  This is usually the result of calling `frame.insert` many times, which has poor performance.  Consider joining all columns at once using pd.concat(axis=1) instead. To get a de-fragmented frame, use `newframe = frame.copy()`\n",
      "  portfolio_cumulative_returns[n] = (1 + sim_df.fillna(0)).cumprod()\n",
      "C:\\Users\\ryanr\\Desktop\\FinTech-Workspace\\Challenges\\Module_05_Challenge\\financial_planner\\MCForecastTools.py:117: PerformanceWarning: DataFrame is highly fragmented.  This is usually the result of calling `frame.insert` many times, which has poor performance.  Consider joining all columns at once using pd.concat(axis=1) instead. To get a de-fragmented frame, use `newframe = frame.copy()`\n",
      "  portfolio_cumulative_returns[n] = (1 + sim_df.fillna(0)).cumprod()\n",
      "C:\\Users\\ryanr\\Desktop\\FinTech-Workspace\\Challenges\\Module_05_Challenge\\financial_planner\\MCForecastTools.py:117: PerformanceWarning: DataFrame is highly fragmented.  This is usually the result of calling `frame.insert` many times, which has poor performance.  Consider joining all columns at once using pd.concat(axis=1) instead. To get a de-fragmented frame, use `newframe = frame.copy()`\n",
      "  portfolio_cumulative_returns[n] = (1 + sim_df.fillna(0)).cumprod()\n",
      "C:\\Users\\ryanr\\Desktop\\FinTech-Workspace\\Challenges\\Module_05_Challenge\\financial_planner\\MCForecastTools.py:117: PerformanceWarning: DataFrame is highly fragmented.  This is usually the result of calling `frame.insert` many times, which has poor performance.  Consider joining all columns at once using pd.concat(axis=1) instead. To get a de-fragmented frame, use `newframe = frame.copy()`\n",
      "  portfolio_cumulative_returns[n] = (1 + sim_df.fillna(0)).cumprod()\n",
      "C:\\Users\\ryanr\\Desktop\\FinTech-Workspace\\Challenges\\Module_05_Challenge\\financial_planner\\MCForecastTools.py:117: PerformanceWarning: DataFrame is highly fragmented.  This is usually the result of calling `frame.insert` many times, which has poor performance.  Consider joining all columns at once using pd.concat(axis=1) instead. To get a de-fragmented frame, use `newframe = frame.copy()`\n",
      "  portfolio_cumulative_returns[n] = (1 + sim_df.fillna(0)).cumprod()\n"
     ]
    },
    {
     "name": "stdout",
     "output_type": "stream",
     "text": [
      "Running Monte Carlo simulation number 180.\n"
     ]
    },
    {
     "name": "stderr",
     "output_type": "stream",
     "text": [
      "C:\\Users\\ryanr\\Desktop\\FinTech-Workspace\\Challenges\\Module_05_Challenge\\financial_planner\\MCForecastTools.py:117: PerformanceWarning: DataFrame is highly fragmented.  This is usually the result of calling `frame.insert` many times, which has poor performance.  Consider joining all columns at once using pd.concat(axis=1) instead. To get a de-fragmented frame, use `newframe = frame.copy()`\n",
      "  portfolio_cumulative_returns[n] = (1 + sim_df.fillna(0)).cumprod()\n",
      "C:\\Users\\ryanr\\Desktop\\FinTech-Workspace\\Challenges\\Module_05_Challenge\\financial_planner\\MCForecastTools.py:117: PerformanceWarning: DataFrame is highly fragmented.  This is usually the result of calling `frame.insert` many times, which has poor performance.  Consider joining all columns at once using pd.concat(axis=1) instead. To get a de-fragmented frame, use `newframe = frame.copy()`\n",
      "  portfolio_cumulative_returns[n] = (1 + sim_df.fillna(0)).cumprod()\n",
      "C:\\Users\\ryanr\\Desktop\\FinTech-Workspace\\Challenges\\Module_05_Challenge\\financial_planner\\MCForecastTools.py:117: PerformanceWarning: DataFrame is highly fragmented.  This is usually the result of calling `frame.insert` many times, which has poor performance.  Consider joining all columns at once using pd.concat(axis=1) instead. To get a de-fragmented frame, use `newframe = frame.copy()`\n",
      "  portfolio_cumulative_returns[n] = (1 + sim_df.fillna(0)).cumprod()\n",
      "C:\\Users\\ryanr\\Desktop\\FinTech-Workspace\\Challenges\\Module_05_Challenge\\financial_planner\\MCForecastTools.py:117: PerformanceWarning: DataFrame is highly fragmented.  This is usually the result of calling `frame.insert` many times, which has poor performance.  Consider joining all columns at once using pd.concat(axis=1) instead. To get a de-fragmented frame, use `newframe = frame.copy()`\n",
      "  portfolio_cumulative_returns[n] = (1 + sim_df.fillna(0)).cumprod()\n",
      "C:\\Users\\ryanr\\Desktop\\FinTech-Workspace\\Challenges\\Module_05_Challenge\\financial_planner\\MCForecastTools.py:117: PerformanceWarning: DataFrame is highly fragmented.  This is usually the result of calling `frame.insert` many times, which has poor performance.  Consider joining all columns at once using pd.concat(axis=1) instead. To get a de-fragmented frame, use `newframe = frame.copy()`\n",
      "  portfolio_cumulative_returns[n] = (1 + sim_df.fillna(0)).cumprod()\n",
      "C:\\Users\\ryanr\\Desktop\\FinTech-Workspace\\Challenges\\Module_05_Challenge\\financial_planner\\MCForecastTools.py:117: PerformanceWarning: DataFrame is highly fragmented.  This is usually the result of calling `frame.insert` many times, which has poor performance.  Consider joining all columns at once using pd.concat(axis=1) instead. To get a de-fragmented frame, use `newframe = frame.copy()`\n",
      "  portfolio_cumulative_returns[n] = (1 + sim_df.fillna(0)).cumprod()\n",
      "C:\\Users\\ryanr\\Desktop\\FinTech-Workspace\\Challenges\\Module_05_Challenge\\financial_planner\\MCForecastTools.py:117: PerformanceWarning: DataFrame is highly fragmented.  This is usually the result of calling `frame.insert` many times, which has poor performance.  Consider joining all columns at once using pd.concat(axis=1) instead. To get a de-fragmented frame, use `newframe = frame.copy()`\n",
      "  portfolio_cumulative_returns[n] = (1 + sim_df.fillna(0)).cumprod()\n",
      "C:\\Users\\ryanr\\Desktop\\FinTech-Workspace\\Challenges\\Module_05_Challenge\\financial_planner\\MCForecastTools.py:117: PerformanceWarning: DataFrame is highly fragmented.  This is usually the result of calling `frame.insert` many times, which has poor performance.  Consider joining all columns at once using pd.concat(axis=1) instead. To get a de-fragmented frame, use `newframe = frame.copy()`\n",
      "  portfolio_cumulative_returns[n] = (1 + sim_df.fillna(0)).cumprod()\n",
      "C:\\Users\\ryanr\\Desktop\\FinTech-Workspace\\Challenges\\Module_05_Challenge\\financial_planner\\MCForecastTools.py:117: PerformanceWarning: DataFrame is highly fragmented.  This is usually the result of calling `frame.insert` many times, which has poor performance.  Consider joining all columns at once using pd.concat(axis=1) instead. To get a de-fragmented frame, use `newframe = frame.copy()`\n",
      "  portfolio_cumulative_returns[n] = (1 + sim_df.fillna(0)).cumprod()\n",
      "C:\\Users\\ryanr\\Desktop\\FinTech-Workspace\\Challenges\\Module_05_Challenge\\financial_planner\\MCForecastTools.py:117: PerformanceWarning: DataFrame is highly fragmented.  This is usually the result of calling `frame.insert` many times, which has poor performance.  Consider joining all columns at once using pd.concat(axis=1) instead. To get a de-fragmented frame, use `newframe = frame.copy()`\n",
      "  portfolio_cumulative_returns[n] = (1 + sim_df.fillna(0)).cumprod()\n",
      "C:\\Users\\ryanr\\Desktop\\FinTech-Workspace\\Challenges\\Module_05_Challenge\\financial_planner\\MCForecastTools.py:117: PerformanceWarning: DataFrame is highly fragmented.  This is usually the result of calling `frame.insert` many times, which has poor performance.  Consider joining all columns at once using pd.concat(axis=1) instead. To get a de-fragmented frame, use `newframe = frame.copy()`\n",
      "  portfolio_cumulative_returns[n] = (1 + sim_df.fillna(0)).cumprod()\n"
     ]
    },
    {
     "name": "stdout",
     "output_type": "stream",
     "text": [
      "Running Monte Carlo simulation number 190.\n"
     ]
    },
    {
     "name": "stderr",
     "output_type": "stream",
     "text": [
      "C:\\Users\\ryanr\\Desktop\\FinTech-Workspace\\Challenges\\Module_05_Challenge\\financial_planner\\MCForecastTools.py:117: PerformanceWarning: DataFrame is highly fragmented.  This is usually the result of calling `frame.insert` many times, which has poor performance.  Consider joining all columns at once using pd.concat(axis=1) instead. To get a de-fragmented frame, use `newframe = frame.copy()`\n",
      "  portfolio_cumulative_returns[n] = (1 + sim_df.fillna(0)).cumprod()\n",
      "C:\\Users\\ryanr\\Desktop\\FinTech-Workspace\\Challenges\\Module_05_Challenge\\financial_planner\\MCForecastTools.py:117: PerformanceWarning: DataFrame is highly fragmented.  This is usually the result of calling `frame.insert` many times, which has poor performance.  Consider joining all columns at once using pd.concat(axis=1) instead. To get a de-fragmented frame, use `newframe = frame.copy()`\n",
      "  portfolio_cumulative_returns[n] = (1 + sim_df.fillna(0)).cumprod()\n",
      "C:\\Users\\ryanr\\Desktop\\FinTech-Workspace\\Challenges\\Module_05_Challenge\\financial_planner\\MCForecastTools.py:117: PerformanceWarning: DataFrame is highly fragmented.  This is usually the result of calling `frame.insert` many times, which has poor performance.  Consider joining all columns at once using pd.concat(axis=1) instead. To get a de-fragmented frame, use `newframe = frame.copy()`\n",
      "  portfolio_cumulative_returns[n] = (1 + sim_df.fillna(0)).cumprod()\n",
      "C:\\Users\\ryanr\\Desktop\\FinTech-Workspace\\Challenges\\Module_05_Challenge\\financial_planner\\MCForecastTools.py:117: PerformanceWarning: DataFrame is highly fragmented.  This is usually the result of calling `frame.insert` many times, which has poor performance.  Consider joining all columns at once using pd.concat(axis=1) instead. To get a de-fragmented frame, use `newframe = frame.copy()`\n",
      "  portfolio_cumulative_returns[n] = (1 + sim_df.fillna(0)).cumprod()\n",
      "C:\\Users\\ryanr\\Desktop\\FinTech-Workspace\\Challenges\\Module_05_Challenge\\financial_planner\\MCForecastTools.py:117: PerformanceWarning: DataFrame is highly fragmented.  This is usually the result of calling `frame.insert` many times, which has poor performance.  Consider joining all columns at once using pd.concat(axis=1) instead. To get a de-fragmented frame, use `newframe = frame.copy()`\n",
      "  portfolio_cumulative_returns[n] = (1 + sim_df.fillna(0)).cumprod()\n",
      "C:\\Users\\ryanr\\Desktop\\FinTech-Workspace\\Challenges\\Module_05_Challenge\\financial_planner\\MCForecastTools.py:117: PerformanceWarning: DataFrame is highly fragmented.  This is usually the result of calling `frame.insert` many times, which has poor performance.  Consider joining all columns at once using pd.concat(axis=1) instead. To get a de-fragmented frame, use `newframe = frame.copy()`\n",
      "  portfolio_cumulative_returns[n] = (1 + sim_df.fillna(0)).cumprod()\n",
      "C:\\Users\\ryanr\\Desktop\\FinTech-Workspace\\Challenges\\Module_05_Challenge\\financial_planner\\MCForecastTools.py:117: PerformanceWarning: DataFrame is highly fragmented.  This is usually the result of calling `frame.insert` many times, which has poor performance.  Consider joining all columns at once using pd.concat(axis=1) instead. To get a de-fragmented frame, use `newframe = frame.copy()`\n",
      "  portfolio_cumulative_returns[n] = (1 + sim_df.fillna(0)).cumprod()\n",
      "C:\\Users\\ryanr\\Desktop\\FinTech-Workspace\\Challenges\\Module_05_Challenge\\financial_planner\\MCForecastTools.py:117: PerformanceWarning: DataFrame is highly fragmented.  This is usually the result of calling `frame.insert` many times, which has poor performance.  Consider joining all columns at once using pd.concat(axis=1) instead. To get a de-fragmented frame, use `newframe = frame.copy()`\n",
      "  portfolio_cumulative_returns[n] = (1 + sim_df.fillna(0)).cumprod()\n",
      "C:\\Users\\ryanr\\Desktop\\FinTech-Workspace\\Challenges\\Module_05_Challenge\\financial_planner\\MCForecastTools.py:117: PerformanceWarning: DataFrame is highly fragmented.  This is usually the result of calling `frame.insert` many times, which has poor performance.  Consider joining all columns at once using pd.concat(axis=1) instead. To get a de-fragmented frame, use `newframe = frame.copy()`\n",
      "  portfolio_cumulative_returns[n] = (1 + sim_df.fillna(0)).cumprod()\n",
      "C:\\Users\\ryanr\\Desktop\\FinTech-Workspace\\Challenges\\Module_05_Challenge\\financial_planner\\MCForecastTools.py:117: PerformanceWarning: DataFrame is highly fragmented.  This is usually the result of calling `frame.insert` many times, which has poor performance.  Consider joining all columns at once using pd.concat(axis=1) instead. To get a de-fragmented frame, use `newframe = frame.copy()`\n",
      "  portfolio_cumulative_returns[n] = (1 + sim_df.fillna(0)).cumprod()\n"
     ]
    },
    {
     "name": "stdout",
     "output_type": "stream",
     "text": [
      "Running Monte Carlo simulation number 200.\n"
     ]
    },
    {
     "name": "stderr",
     "output_type": "stream",
     "text": [
      "C:\\Users\\ryanr\\Desktop\\FinTech-Workspace\\Challenges\\Module_05_Challenge\\financial_planner\\MCForecastTools.py:117: PerformanceWarning: DataFrame is highly fragmented.  This is usually the result of calling `frame.insert` many times, which has poor performance.  Consider joining all columns at once using pd.concat(axis=1) instead. To get a de-fragmented frame, use `newframe = frame.copy()`\n",
      "  portfolio_cumulative_returns[n] = (1 + sim_df.fillna(0)).cumprod()\n",
      "C:\\Users\\ryanr\\Desktop\\FinTech-Workspace\\Challenges\\Module_05_Challenge\\financial_planner\\MCForecastTools.py:117: PerformanceWarning: DataFrame is highly fragmented.  This is usually the result of calling `frame.insert` many times, which has poor performance.  Consider joining all columns at once using pd.concat(axis=1) instead. To get a de-fragmented frame, use `newframe = frame.copy()`\n",
      "  portfolio_cumulative_returns[n] = (1 + sim_df.fillna(0)).cumprod()\n",
      "C:\\Users\\ryanr\\Desktop\\FinTech-Workspace\\Challenges\\Module_05_Challenge\\financial_planner\\MCForecastTools.py:117: PerformanceWarning: DataFrame is highly fragmented.  This is usually the result of calling `frame.insert` many times, which has poor performance.  Consider joining all columns at once using pd.concat(axis=1) instead. To get a de-fragmented frame, use `newframe = frame.copy()`\n",
      "  portfolio_cumulative_returns[n] = (1 + sim_df.fillna(0)).cumprod()\n",
      "C:\\Users\\ryanr\\Desktop\\FinTech-Workspace\\Challenges\\Module_05_Challenge\\financial_planner\\MCForecastTools.py:117: PerformanceWarning: DataFrame is highly fragmented.  This is usually the result of calling `frame.insert` many times, which has poor performance.  Consider joining all columns at once using pd.concat(axis=1) instead. To get a de-fragmented frame, use `newframe = frame.copy()`\n",
      "  portfolio_cumulative_returns[n] = (1 + sim_df.fillna(0)).cumprod()\n",
      "C:\\Users\\ryanr\\Desktop\\FinTech-Workspace\\Challenges\\Module_05_Challenge\\financial_planner\\MCForecastTools.py:117: PerformanceWarning: DataFrame is highly fragmented.  This is usually the result of calling `frame.insert` many times, which has poor performance.  Consider joining all columns at once using pd.concat(axis=1) instead. To get a de-fragmented frame, use `newframe = frame.copy()`\n",
      "  portfolio_cumulative_returns[n] = (1 + sim_df.fillna(0)).cumprod()\n",
      "C:\\Users\\ryanr\\Desktop\\FinTech-Workspace\\Challenges\\Module_05_Challenge\\financial_planner\\MCForecastTools.py:117: PerformanceWarning: DataFrame is highly fragmented.  This is usually the result of calling `frame.insert` many times, which has poor performance.  Consider joining all columns at once using pd.concat(axis=1) instead. To get a de-fragmented frame, use `newframe = frame.copy()`\n",
      "  portfolio_cumulative_returns[n] = (1 + sim_df.fillna(0)).cumprod()\n",
      "C:\\Users\\ryanr\\Desktop\\FinTech-Workspace\\Challenges\\Module_05_Challenge\\financial_planner\\MCForecastTools.py:117: PerformanceWarning: DataFrame is highly fragmented.  This is usually the result of calling `frame.insert` many times, which has poor performance.  Consider joining all columns at once using pd.concat(axis=1) instead. To get a de-fragmented frame, use `newframe = frame.copy()`\n",
      "  portfolio_cumulative_returns[n] = (1 + sim_df.fillna(0)).cumprod()\n",
      "C:\\Users\\ryanr\\Desktop\\FinTech-Workspace\\Challenges\\Module_05_Challenge\\financial_planner\\MCForecastTools.py:117: PerformanceWarning: DataFrame is highly fragmented.  This is usually the result of calling `frame.insert` many times, which has poor performance.  Consider joining all columns at once using pd.concat(axis=1) instead. To get a de-fragmented frame, use `newframe = frame.copy()`\n",
      "  portfolio_cumulative_returns[n] = (1 + sim_df.fillna(0)).cumprod()\n",
      "C:\\Users\\ryanr\\Desktop\\FinTech-Workspace\\Challenges\\Module_05_Challenge\\financial_planner\\MCForecastTools.py:117: PerformanceWarning: DataFrame is highly fragmented.  This is usually the result of calling `frame.insert` many times, which has poor performance.  Consider joining all columns at once using pd.concat(axis=1) instead. To get a de-fragmented frame, use `newframe = frame.copy()`\n",
      "  portfolio_cumulative_returns[n] = (1 + sim_df.fillna(0)).cumprod()\n"
     ]
    },
    {
     "name": "stdout",
     "output_type": "stream",
     "text": [
      "Running Monte Carlo simulation number 210.\n"
     ]
    },
    {
     "name": "stderr",
     "output_type": "stream",
     "text": [
      "C:\\Users\\ryanr\\Desktop\\FinTech-Workspace\\Challenges\\Module_05_Challenge\\financial_planner\\MCForecastTools.py:117: PerformanceWarning: DataFrame is highly fragmented.  This is usually the result of calling `frame.insert` many times, which has poor performance.  Consider joining all columns at once using pd.concat(axis=1) instead. To get a de-fragmented frame, use `newframe = frame.copy()`\n",
      "  portfolio_cumulative_returns[n] = (1 + sim_df.fillna(0)).cumprod()\n",
      "C:\\Users\\ryanr\\Desktop\\FinTech-Workspace\\Challenges\\Module_05_Challenge\\financial_planner\\MCForecastTools.py:117: PerformanceWarning: DataFrame is highly fragmented.  This is usually the result of calling `frame.insert` many times, which has poor performance.  Consider joining all columns at once using pd.concat(axis=1) instead. To get a de-fragmented frame, use `newframe = frame.copy()`\n",
      "  portfolio_cumulative_returns[n] = (1 + sim_df.fillna(0)).cumprod()\n",
      "C:\\Users\\ryanr\\Desktop\\FinTech-Workspace\\Challenges\\Module_05_Challenge\\financial_planner\\MCForecastTools.py:117: PerformanceWarning: DataFrame is highly fragmented.  This is usually the result of calling `frame.insert` many times, which has poor performance.  Consider joining all columns at once using pd.concat(axis=1) instead. To get a de-fragmented frame, use `newframe = frame.copy()`\n",
      "  portfolio_cumulative_returns[n] = (1 + sim_df.fillna(0)).cumprod()\n",
      "C:\\Users\\ryanr\\Desktop\\FinTech-Workspace\\Challenges\\Module_05_Challenge\\financial_planner\\MCForecastTools.py:117: PerformanceWarning: DataFrame is highly fragmented.  This is usually the result of calling `frame.insert` many times, which has poor performance.  Consider joining all columns at once using pd.concat(axis=1) instead. To get a de-fragmented frame, use `newframe = frame.copy()`\n",
      "  portfolio_cumulative_returns[n] = (1 + sim_df.fillna(0)).cumprod()\n",
      "C:\\Users\\ryanr\\Desktop\\FinTech-Workspace\\Challenges\\Module_05_Challenge\\financial_planner\\MCForecastTools.py:117: PerformanceWarning: DataFrame is highly fragmented.  This is usually the result of calling `frame.insert` many times, which has poor performance.  Consider joining all columns at once using pd.concat(axis=1) instead. To get a de-fragmented frame, use `newframe = frame.copy()`\n",
      "  portfolio_cumulative_returns[n] = (1 + sim_df.fillna(0)).cumprod()\n",
      "C:\\Users\\ryanr\\Desktop\\FinTech-Workspace\\Challenges\\Module_05_Challenge\\financial_planner\\MCForecastTools.py:117: PerformanceWarning: DataFrame is highly fragmented.  This is usually the result of calling `frame.insert` many times, which has poor performance.  Consider joining all columns at once using pd.concat(axis=1) instead. To get a de-fragmented frame, use `newframe = frame.copy()`\n",
      "  portfolio_cumulative_returns[n] = (1 + sim_df.fillna(0)).cumprod()\n",
      "C:\\Users\\ryanr\\Desktop\\FinTech-Workspace\\Challenges\\Module_05_Challenge\\financial_planner\\MCForecastTools.py:117: PerformanceWarning: DataFrame is highly fragmented.  This is usually the result of calling `frame.insert` many times, which has poor performance.  Consider joining all columns at once using pd.concat(axis=1) instead. To get a de-fragmented frame, use `newframe = frame.copy()`\n",
      "  portfolio_cumulative_returns[n] = (1 + sim_df.fillna(0)).cumprod()\n",
      "C:\\Users\\ryanr\\Desktop\\FinTech-Workspace\\Challenges\\Module_05_Challenge\\financial_planner\\MCForecastTools.py:117: PerformanceWarning: DataFrame is highly fragmented.  This is usually the result of calling `frame.insert` many times, which has poor performance.  Consider joining all columns at once using pd.concat(axis=1) instead. To get a de-fragmented frame, use `newframe = frame.copy()`\n",
      "  portfolio_cumulative_returns[n] = (1 + sim_df.fillna(0)).cumprod()\n",
      "C:\\Users\\ryanr\\Desktop\\FinTech-Workspace\\Challenges\\Module_05_Challenge\\financial_planner\\MCForecastTools.py:117: PerformanceWarning: DataFrame is highly fragmented.  This is usually the result of calling `frame.insert` many times, which has poor performance.  Consider joining all columns at once using pd.concat(axis=1) instead. To get a de-fragmented frame, use `newframe = frame.copy()`\n",
      "  portfolio_cumulative_returns[n] = (1 + sim_df.fillna(0)).cumprod()\n"
     ]
    },
    {
     "name": "stdout",
     "output_type": "stream",
     "text": [
      "Running Monte Carlo simulation number 220.\n"
     ]
    },
    {
     "name": "stderr",
     "output_type": "stream",
     "text": [
      "C:\\Users\\ryanr\\Desktop\\FinTech-Workspace\\Challenges\\Module_05_Challenge\\financial_planner\\MCForecastTools.py:117: PerformanceWarning: DataFrame is highly fragmented.  This is usually the result of calling `frame.insert` many times, which has poor performance.  Consider joining all columns at once using pd.concat(axis=1) instead. To get a de-fragmented frame, use `newframe = frame.copy()`\n",
      "  portfolio_cumulative_returns[n] = (1 + sim_df.fillna(0)).cumprod()\n",
      "C:\\Users\\ryanr\\Desktop\\FinTech-Workspace\\Challenges\\Module_05_Challenge\\financial_planner\\MCForecastTools.py:117: PerformanceWarning: DataFrame is highly fragmented.  This is usually the result of calling `frame.insert` many times, which has poor performance.  Consider joining all columns at once using pd.concat(axis=1) instead. To get a de-fragmented frame, use `newframe = frame.copy()`\n",
      "  portfolio_cumulative_returns[n] = (1 + sim_df.fillna(0)).cumprod()\n",
      "C:\\Users\\ryanr\\Desktop\\FinTech-Workspace\\Challenges\\Module_05_Challenge\\financial_planner\\MCForecastTools.py:117: PerformanceWarning: DataFrame is highly fragmented.  This is usually the result of calling `frame.insert` many times, which has poor performance.  Consider joining all columns at once using pd.concat(axis=1) instead. To get a de-fragmented frame, use `newframe = frame.copy()`\n",
      "  portfolio_cumulative_returns[n] = (1 + sim_df.fillna(0)).cumprod()\n",
      "C:\\Users\\ryanr\\Desktop\\FinTech-Workspace\\Challenges\\Module_05_Challenge\\financial_planner\\MCForecastTools.py:117: PerformanceWarning: DataFrame is highly fragmented.  This is usually the result of calling `frame.insert` many times, which has poor performance.  Consider joining all columns at once using pd.concat(axis=1) instead. To get a de-fragmented frame, use `newframe = frame.copy()`\n",
      "  portfolio_cumulative_returns[n] = (1 + sim_df.fillna(0)).cumprod()\n",
      "C:\\Users\\ryanr\\Desktop\\FinTech-Workspace\\Challenges\\Module_05_Challenge\\financial_planner\\MCForecastTools.py:117: PerformanceWarning: DataFrame is highly fragmented.  This is usually the result of calling `frame.insert` many times, which has poor performance.  Consider joining all columns at once using pd.concat(axis=1) instead. To get a de-fragmented frame, use `newframe = frame.copy()`\n",
      "  portfolio_cumulative_returns[n] = (1 + sim_df.fillna(0)).cumprod()\n",
      "C:\\Users\\ryanr\\Desktop\\FinTech-Workspace\\Challenges\\Module_05_Challenge\\financial_planner\\MCForecastTools.py:117: PerformanceWarning: DataFrame is highly fragmented.  This is usually the result of calling `frame.insert` many times, which has poor performance.  Consider joining all columns at once using pd.concat(axis=1) instead. To get a de-fragmented frame, use `newframe = frame.copy()`\n",
      "  portfolio_cumulative_returns[n] = (1 + sim_df.fillna(0)).cumprod()\n",
      "C:\\Users\\ryanr\\Desktop\\FinTech-Workspace\\Challenges\\Module_05_Challenge\\financial_planner\\MCForecastTools.py:117: PerformanceWarning: DataFrame is highly fragmented.  This is usually the result of calling `frame.insert` many times, which has poor performance.  Consider joining all columns at once using pd.concat(axis=1) instead. To get a de-fragmented frame, use `newframe = frame.copy()`\n",
      "  portfolio_cumulative_returns[n] = (1 + sim_df.fillna(0)).cumprod()\n",
      "C:\\Users\\ryanr\\Desktop\\FinTech-Workspace\\Challenges\\Module_05_Challenge\\financial_planner\\MCForecastTools.py:117: PerformanceWarning: DataFrame is highly fragmented.  This is usually the result of calling `frame.insert` many times, which has poor performance.  Consider joining all columns at once using pd.concat(axis=1) instead. To get a de-fragmented frame, use `newframe = frame.copy()`\n",
      "  portfolio_cumulative_returns[n] = (1 + sim_df.fillna(0)).cumprod()\n",
      "C:\\Users\\ryanr\\Desktop\\FinTech-Workspace\\Challenges\\Module_05_Challenge\\financial_planner\\MCForecastTools.py:117: PerformanceWarning: DataFrame is highly fragmented.  This is usually the result of calling `frame.insert` many times, which has poor performance.  Consider joining all columns at once using pd.concat(axis=1) instead. To get a de-fragmented frame, use `newframe = frame.copy()`\n",
      "  portfolio_cumulative_returns[n] = (1 + sim_df.fillna(0)).cumprod()\n",
      "C:\\Users\\ryanr\\Desktop\\FinTech-Workspace\\Challenges\\Module_05_Challenge\\financial_planner\\MCForecastTools.py:117: PerformanceWarning: DataFrame is highly fragmented.  This is usually the result of calling `frame.insert` many times, which has poor performance.  Consider joining all columns at once using pd.concat(axis=1) instead. To get a de-fragmented frame, use `newframe = frame.copy()`\n",
      "  portfolio_cumulative_returns[n] = (1 + sim_df.fillna(0)).cumprod()\n",
      "C:\\Users\\ryanr\\Desktop\\FinTech-Workspace\\Challenges\\Module_05_Challenge\\financial_planner\\MCForecastTools.py:117: PerformanceWarning: DataFrame is highly fragmented.  This is usually the result of calling `frame.insert` many times, which has poor performance.  Consider joining all columns at once using pd.concat(axis=1) instead. To get a de-fragmented frame, use `newframe = frame.copy()`\n",
      "  portfolio_cumulative_returns[n] = (1 + sim_df.fillna(0)).cumprod()\n",
      "C:\\Users\\ryanr\\Desktop\\FinTech-Workspace\\Challenges\\Module_05_Challenge\\financial_planner\\MCForecastTools.py:117: PerformanceWarning: DataFrame is highly fragmented.  This is usually the result of calling `frame.insert` many times, which has poor performance.  Consider joining all columns at once using pd.concat(axis=1) instead. To get a de-fragmented frame, use `newframe = frame.copy()`\n",
      "  portfolio_cumulative_returns[n] = (1 + sim_df.fillna(0)).cumprod()\n"
     ]
    },
    {
     "name": "stdout",
     "output_type": "stream",
     "text": [
      "Running Monte Carlo simulation number 230.\n"
     ]
    },
    {
     "name": "stderr",
     "output_type": "stream",
     "text": [
      "C:\\Users\\ryanr\\Desktop\\FinTech-Workspace\\Challenges\\Module_05_Challenge\\financial_planner\\MCForecastTools.py:117: PerformanceWarning: DataFrame is highly fragmented.  This is usually the result of calling `frame.insert` many times, which has poor performance.  Consider joining all columns at once using pd.concat(axis=1) instead. To get a de-fragmented frame, use `newframe = frame.copy()`\n",
      "  portfolio_cumulative_returns[n] = (1 + sim_df.fillna(0)).cumprod()\n",
      "C:\\Users\\ryanr\\Desktop\\FinTech-Workspace\\Challenges\\Module_05_Challenge\\financial_planner\\MCForecastTools.py:117: PerformanceWarning: DataFrame is highly fragmented.  This is usually the result of calling `frame.insert` many times, which has poor performance.  Consider joining all columns at once using pd.concat(axis=1) instead. To get a de-fragmented frame, use `newframe = frame.copy()`\n",
      "  portfolio_cumulative_returns[n] = (1 + sim_df.fillna(0)).cumprod()\n",
      "C:\\Users\\ryanr\\Desktop\\FinTech-Workspace\\Challenges\\Module_05_Challenge\\financial_planner\\MCForecastTools.py:117: PerformanceWarning: DataFrame is highly fragmented.  This is usually the result of calling `frame.insert` many times, which has poor performance.  Consider joining all columns at once using pd.concat(axis=1) instead. To get a de-fragmented frame, use `newframe = frame.copy()`\n",
      "  portfolio_cumulative_returns[n] = (1 + sim_df.fillna(0)).cumprod()\n",
      "C:\\Users\\ryanr\\Desktop\\FinTech-Workspace\\Challenges\\Module_05_Challenge\\financial_planner\\MCForecastTools.py:117: PerformanceWarning: DataFrame is highly fragmented.  This is usually the result of calling `frame.insert` many times, which has poor performance.  Consider joining all columns at once using pd.concat(axis=1) instead. To get a de-fragmented frame, use `newframe = frame.copy()`\n",
      "  portfolio_cumulative_returns[n] = (1 + sim_df.fillna(0)).cumprod()\n",
      "C:\\Users\\ryanr\\Desktop\\FinTech-Workspace\\Challenges\\Module_05_Challenge\\financial_planner\\MCForecastTools.py:117: PerformanceWarning: DataFrame is highly fragmented.  This is usually the result of calling `frame.insert` many times, which has poor performance.  Consider joining all columns at once using pd.concat(axis=1) instead. To get a de-fragmented frame, use `newframe = frame.copy()`\n",
      "  portfolio_cumulative_returns[n] = (1 + sim_df.fillna(0)).cumprod()\n",
      "C:\\Users\\ryanr\\Desktop\\FinTech-Workspace\\Challenges\\Module_05_Challenge\\financial_planner\\MCForecastTools.py:117: PerformanceWarning: DataFrame is highly fragmented.  This is usually the result of calling `frame.insert` many times, which has poor performance.  Consider joining all columns at once using pd.concat(axis=1) instead. To get a de-fragmented frame, use `newframe = frame.copy()`\n",
      "  portfolio_cumulative_returns[n] = (1 + sim_df.fillna(0)).cumprod()\n",
      "C:\\Users\\ryanr\\Desktop\\FinTech-Workspace\\Challenges\\Module_05_Challenge\\financial_planner\\MCForecastTools.py:117: PerformanceWarning: DataFrame is highly fragmented.  This is usually the result of calling `frame.insert` many times, which has poor performance.  Consider joining all columns at once using pd.concat(axis=1) instead. To get a de-fragmented frame, use `newframe = frame.copy()`\n",
      "  portfolio_cumulative_returns[n] = (1 + sim_df.fillna(0)).cumprod()\n",
      "C:\\Users\\ryanr\\Desktop\\FinTech-Workspace\\Challenges\\Module_05_Challenge\\financial_planner\\MCForecastTools.py:117: PerformanceWarning: DataFrame is highly fragmented.  This is usually the result of calling `frame.insert` many times, which has poor performance.  Consider joining all columns at once using pd.concat(axis=1) instead. To get a de-fragmented frame, use `newframe = frame.copy()`\n",
      "  portfolio_cumulative_returns[n] = (1 + sim_df.fillna(0)).cumprod()\n"
     ]
    },
    {
     "name": "stdout",
     "output_type": "stream",
     "text": [
      "Running Monte Carlo simulation number 240.\n"
     ]
    },
    {
     "name": "stderr",
     "output_type": "stream",
     "text": [
      "C:\\Users\\ryanr\\Desktop\\FinTech-Workspace\\Challenges\\Module_05_Challenge\\financial_planner\\MCForecastTools.py:117: PerformanceWarning: DataFrame is highly fragmented.  This is usually the result of calling `frame.insert` many times, which has poor performance.  Consider joining all columns at once using pd.concat(axis=1) instead. To get a de-fragmented frame, use `newframe = frame.copy()`\n",
      "  portfolio_cumulative_returns[n] = (1 + sim_df.fillna(0)).cumprod()\n",
      "C:\\Users\\ryanr\\Desktop\\FinTech-Workspace\\Challenges\\Module_05_Challenge\\financial_planner\\MCForecastTools.py:117: PerformanceWarning: DataFrame is highly fragmented.  This is usually the result of calling `frame.insert` many times, which has poor performance.  Consider joining all columns at once using pd.concat(axis=1) instead. To get a de-fragmented frame, use `newframe = frame.copy()`\n",
      "  portfolio_cumulative_returns[n] = (1 + sim_df.fillna(0)).cumprod()\n",
      "C:\\Users\\ryanr\\Desktop\\FinTech-Workspace\\Challenges\\Module_05_Challenge\\financial_planner\\MCForecastTools.py:117: PerformanceWarning: DataFrame is highly fragmented.  This is usually the result of calling `frame.insert` many times, which has poor performance.  Consider joining all columns at once using pd.concat(axis=1) instead. To get a de-fragmented frame, use `newframe = frame.copy()`\n",
      "  portfolio_cumulative_returns[n] = (1 + sim_df.fillna(0)).cumprod()\n",
      "C:\\Users\\ryanr\\Desktop\\FinTech-Workspace\\Challenges\\Module_05_Challenge\\financial_planner\\MCForecastTools.py:117: PerformanceWarning: DataFrame is highly fragmented.  This is usually the result of calling `frame.insert` many times, which has poor performance.  Consider joining all columns at once using pd.concat(axis=1) instead. To get a de-fragmented frame, use `newframe = frame.copy()`\n",
      "  portfolio_cumulative_returns[n] = (1 + sim_df.fillna(0)).cumprod()\n",
      "C:\\Users\\ryanr\\Desktop\\FinTech-Workspace\\Challenges\\Module_05_Challenge\\financial_planner\\MCForecastTools.py:117: PerformanceWarning: DataFrame is highly fragmented.  This is usually the result of calling `frame.insert` many times, which has poor performance.  Consider joining all columns at once using pd.concat(axis=1) instead. To get a de-fragmented frame, use `newframe = frame.copy()`\n",
      "  portfolio_cumulative_returns[n] = (1 + sim_df.fillna(0)).cumprod()\n",
      "C:\\Users\\ryanr\\Desktop\\FinTech-Workspace\\Challenges\\Module_05_Challenge\\financial_planner\\MCForecastTools.py:117: PerformanceWarning: DataFrame is highly fragmented.  This is usually the result of calling `frame.insert` many times, which has poor performance.  Consider joining all columns at once using pd.concat(axis=1) instead. To get a de-fragmented frame, use `newframe = frame.copy()`\n",
      "  portfolio_cumulative_returns[n] = (1 + sim_df.fillna(0)).cumprod()\n",
      "C:\\Users\\ryanr\\Desktop\\FinTech-Workspace\\Challenges\\Module_05_Challenge\\financial_planner\\MCForecastTools.py:117: PerformanceWarning: DataFrame is highly fragmented.  This is usually the result of calling `frame.insert` many times, which has poor performance.  Consider joining all columns at once using pd.concat(axis=1) instead. To get a de-fragmented frame, use `newframe = frame.copy()`\n",
      "  portfolio_cumulative_returns[n] = (1 + sim_df.fillna(0)).cumprod()\n",
      "C:\\Users\\ryanr\\Desktop\\FinTech-Workspace\\Challenges\\Module_05_Challenge\\financial_planner\\MCForecastTools.py:117: PerformanceWarning: DataFrame is highly fragmented.  This is usually the result of calling `frame.insert` many times, which has poor performance.  Consider joining all columns at once using pd.concat(axis=1) instead. To get a de-fragmented frame, use `newframe = frame.copy()`\n",
      "  portfolio_cumulative_returns[n] = (1 + sim_df.fillna(0)).cumprod()\n",
      "C:\\Users\\ryanr\\Desktop\\FinTech-Workspace\\Challenges\\Module_05_Challenge\\financial_planner\\MCForecastTools.py:117: PerformanceWarning: DataFrame is highly fragmented.  This is usually the result of calling `frame.insert` many times, which has poor performance.  Consider joining all columns at once using pd.concat(axis=1) instead. To get a de-fragmented frame, use `newframe = frame.copy()`\n",
      "  portfolio_cumulative_returns[n] = (1 + sim_df.fillna(0)).cumprod()\n",
      "C:\\Users\\ryanr\\Desktop\\FinTech-Workspace\\Challenges\\Module_05_Challenge\\financial_planner\\MCForecastTools.py:117: PerformanceWarning: DataFrame is highly fragmented.  This is usually the result of calling `frame.insert` many times, which has poor performance.  Consider joining all columns at once using pd.concat(axis=1) instead. To get a de-fragmented frame, use `newframe = frame.copy()`\n",
      "  portfolio_cumulative_returns[n] = (1 + sim_df.fillna(0)).cumprod()\n"
     ]
    },
    {
     "name": "stdout",
     "output_type": "stream",
     "text": [
      "Running Monte Carlo simulation number 250.\n"
     ]
    },
    {
     "name": "stderr",
     "output_type": "stream",
     "text": [
      "C:\\Users\\ryanr\\Desktop\\FinTech-Workspace\\Challenges\\Module_05_Challenge\\financial_planner\\MCForecastTools.py:117: PerformanceWarning: DataFrame is highly fragmented.  This is usually the result of calling `frame.insert` many times, which has poor performance.  Consider joining all columns at once using pd.concat(axis=1) instead. To get a de-fragmented frame, use `newframe = frame.copy()`\n",
      "  portfolio_cumulative_returns[n] = (1 + sim_df.fillna(0)).cumprod()\n",
      "C:\\Users\\ryanr\\Desktop\\FinTech-Workspace\\Challenges\\Module_05_Challenge\\financial_planner\\MCForecastTools.py:117: PerformanceWarning: DataFrame is highly fragmented.  This is usually the result of calling `frame.insert` many times, which has poor performance.  Consider joining all columns at once using pd.concat(axis=1) instead. To get a de-fragmented frame, use `newframe = frame.copy()`\n",
      "  portfolio_cumulative_returns[n] = (1 + sim_df.fillna(0)).cumprod()\n",
      "C:\\Users\\ryanr\\Desktop\\FinTech-Workspace\\Challenges\\Module_05_Challenge\\financial_planner\\MCForecastTools.py:117: PerformanceWarning: DataFrame is highly fragmented.  This is usually the result of calling `frame.insert` many times, which has poor performance.  Consider joining all columns at once using pd.concat(axis=1) instead. To get a de-fragmented frame, use `newframe = frame.copy()`\n",
      "  portfolio_cumulative_returns[n] = (1 + sim_df.fillna(0)).cumprod()\n",
      "C:\\Users\\ryanr\\Desktop\\FinTech-Workspace\\Challenges\\Module_05_Challenge\\financial_planner\\MCForecastTools.py:117: PerformanceWarning: DataFrame is highly fragmented.  This is usually the result of calling `frame.insert` many times, which has poor performance.  Consider joining all columns at once using pd.concat(axis=1) instead. To get a de-fragmented frame, use `newframe = frame.copy()`\n",
      "  portfolio_cumulative_returns[n] = (1 + sim_df.fillna(0)).cumprod()\n",
      "C:\\Users\\ryanr\\Desktop\\FinTech-Workspace\\Challenges\\Module_05_Challenge\\financial_planner\\MCForecastTools.py:117: PerformanceWarning: DataFrame is highly fragmented.  This is usually the result of calling `frame.insert` many times, which has poor performance.  Consider joining all columns at once using pd.concat(axis=1) instead. To get a de-fragmented frame, use `newframe = frame.copy()`\n",
      "  portfolio_cumulative_returns[n] = (1 + sim_df.fillna(0)).cumprod()\n",
      "C:\\Users\\ryanr\\Desktop\\FinTech-Workspace\\Challenges\\Module_05_Challenge\\financial_planner\\MCForecastTools.py:117: PerformanceWarning: DataFrame is highly fragmented.  This is usually the result of calling `frame.insert` many times, which has poor performance.  Consider joining all columns at once using pd.concat(axis=1) instead. To get a de-fragmented frame, use `newframe = frame.copy()`\n",
      "  portfolio_cumulative_returns[n] = (1 + sim_df.fillna(0)).cumprod()\n",
      "C:\\Users\\ryanr\\Desktop\\FinTech-Workspace\\Challenges\\Module_05_Challenge\\financial_planner\\MCForecastTools.py:117: PerformanceWarning: DataFrame is highly fragmented.  This is usually the result of calling `frame.insert` many times, which has poor performance.  Consider joining all columns at once using pd.concat(axis=1) instead. To get a de-fragmented frame, use `newframe = frame.copy()`\n",
      "  portfolio_cumulative_returns[n] = (1 + sim_df.fillna(0)).cumprod()\n",
      "C:\\Users\\ryanr\\Desktop\\FinTech-Workspace\\Challenges\\Module_05_Challenge\\financial_planner\\MCForecastTools.py:117: PerformanceWarning: DataFrame is highly fragmented.  This is usually the result of calling `frame.insert` many times, which has poor performance.  Consider joining all columns at once using pd.concat(axis=1) instead. To get a de-fragmented frame, use `newframe = frame.copy()`\n",
      "  portfolio_cumulative_returns[n] = (1 + sim_df.fillna(0)).cumprod()\n",
      "C:\\Users\\ryanr\\Desktop\\FinTech-Workspace\\Challenges\\Module_05_Challenge\\financial_planner\\MCForecastTools.py:117: PerformanceWarning: DataFrame is highly fragmented.  This is usually the result of calling `frame.insert` many times, which has poor performance.  Consider joining all columns at once using pd.concat(axis=1) instead. To get a de-fragmented frame, use `newframe = frame.copy()`\n",
      "  portfolio_cumulative_returns[n] = (1 + sim_df.fillna(0)).cumprod()\n",
      "C:\\Users\\ryanr\\Desktop\\FinTech-Workspace\\Challenges\\Module_05_Challenge\\financial_planner\\MCForecastTools.py:117: PerformanceWarning: DataFrame is highly fragmented.  This is usually the result of calling `frame.insert` many times, which has poor performance.  Consider joining all columns at once using pd.concat(axis=1) instead. To get a de-fragmented frame, use `newframe = frame.copy()`\n",
      "  portfolio_cumulative_returns[n] = (1 + sim_df.fillna(0)).cumprod()\n",
      "C:\\Users\\ryanr\\Desktop\\FinTech-Workspace\\Challenges\\Module_05_Challenge\\financial_planner\\MCForecastTools.py:117: PerformanceWarning: DataFrame is highly fragmented.  This is usually the result of calling `frame.insert` many times, which has poor performance.  Consider joining all columns at once using pd.concat(axis=1) instead. To get a de-fragmented frame, use `newframe = frame.copy()`\n",
      "  portfolio_cumulative_returns[n] = (1 + sim_df.fillna(0)).cumprod()\n",
      "C:\\Users\\ryanr\\Desktop\\FinTech-Workspace\\Challenges\\Module_05_Challenge\\financial_planner\\MCForecastTools.py:117: PerformanceWarning: DataFrame is highly fragmented.  This is usually the result of calling `frame.insert` many times, which has poor performance.  Consider joining all columns at once using pd.concat(axis=1) instead. To get a de-fragmented frame, use `newframe = frame.copy()`\n",
      "  portfolio_cumulative_returns[n] = (1 + sim_df.fillna(0)).cumprod()\n"
     ]
    },
    {
     "name": "stdout",
     "output_type": "stream",
     "text": [
      "Running Monte Carlo simulation number 260.\n"
     ]
    },
    {
     "name": "stderr",
     "output_type": "stream",
     "text": [
      "C:\\Users\\ryanr\\Desktop\\FinTech-Workspace\\Challenges\\Module_05_Challenge\\financial_planner\\MCForecastTools.py:117: PerformanceWarning: DataFrame is highly fragmented.  This is usually the result of calling `frame.insert` many times, which has poor performance.  Consider joining all columns at once using pd.concat(axis=1) instead. To get a de-fragmented frame, use `newframe = frame.copy()`\n",
      "  portfolio_cumulative_returns[n] = (1 + sim_df.fillna(0)).cumprod()\n",
      "C:\\Users\\ryanr\\Desktop\\FinTech-Workspace\\Challenges\\Module_05_Challenge\\financial_planner\\MCForecastTools.py:117: PerformanceWarning: DataFrame is highly fragmented.  This is usually the result of calling `frame.insert` many times, which has poor performance.  Consider joining all columns at once using pd.concat(axis=1) instead. To get a de-fragmented frame, use `newframe = frame.copy()`\n",
      "  portfolio_cumulative_returns[n] = (1 + sim_df.fillna(0)).cumprod()\n",
      "C:\\Users\\ryanr\\Desktop\\FinTech-Workspace\\Challenges\\Module_05_Challenge\\financial_planner\\MCForecastTools.py:117: PerformanceWarning: DataFrame is highly fragmented.  This is usually the result of calling `frame.insert` many times, which has poor performance.  Consider joining all columns at once using pd.concat(axis=1) instead. To get a de-fragmented frame, use `newframe = frame.copy()`\n",
      "  portfolio_cumulative_returns[n] = (1 + sim_df.fillna(0)).cumprod()\n",
      "C:\\Users\\ryanr\\Desktop\\FinTech-Workspace\\Challenges\\Module_05_Challenge\\financial_planner\\MCForecastTools.py:117: PerformanceWarning: DataFrame is highly fragmented.  This is usually the result of calling `frame.insert` many times, which has poor performance.  Consider joining all columns at once using pd.concat(axis=1) instead. To get a de-fragmented frame, use `newframe = frame.copy()`\n",
      "  portfolio_cumulative_returns[n] = (1 + sim_df.fillna(0)).cumprod()\n",
      "C:\\Users\\ryanr\\Desktop\\FinTech-Workspace\\Challenges\\Module_05_Challenge\\financial_planner\\MCForecastTools.py:117: PerformanceWarning: DataFrame is highly fragmented.  This is usually the result of calling `frame.insert` many times, which has poor performance.  Consider joining all columns at once using pd.concat(axis=1) instead. To get a de-fragmented frame, use `newframe = frame.copy()`\n",
      "  portfolio_cumulative_returns[n] = (1 + sim_df.fillna(0)).cumprod()\n",
      "C:\\Users\\ryanr\\Desktop\\FinTech-Workspace\\Challenges\\Module_05_Challenge\\financial_planner\\MCForecastTools.py:117: PerformanceWarning: DataFrame is highly fragmented.  This is usually the result of calling `frame.insert` many times, which has poor performance.  Consider joining all columns at once using pd.concat(axis=1) instead. To get a de-fragmented frame, use `newframe = frame.copy()`\n",
      "  portfolio_cumulative_returns[n] = (1 + sim_df.fillna(0)).cumprod()\n",
      "C:\\Users\\ryanr\\Desktop\\FinTech-Workspace\\Challenges\\Module_05_Challenge\\financial_planner\\MCForecastTools.py:117: PerformanceWarning: DataFrame is highly fragmented.  This is usually the result of calling `frame.insert` many times, which has poor performance.  Consider joining all columns at once using pd.concat(axis=1) instead. To get a de-fragmented frame, use `newframe = frame.copy()`\n",
      "  portfolio_cumulative_returns[n] = (1 + sim_df.fillna(0)).cumprod()\n",
      "C:\\Users\\ryanr\\Desktop\\FinTech-Workspace\\Challenges\\Module_05_Challenge\\financial_planner\\MCForecastTools.py:117: PerformanceWarning: DataFrame is highly fragmented.  This is usually the result of calling `frame.insert` many times, which has poor performance.  Consider joining all columns at once using pd.concat(axis=1) instead. To get a de-fragmented frame, use `newframe = frame.copy()`\n",
      "  portfolio_cumulative_returns[n] = (1 + sim_df.fillna(0)).cumprod()\n",
      "C:\\Users\\ryanr\\Desktop\\FinTech-Workspace\\Challenges\\Module_05_Challenge\\financial_planner\\MCForecastTools.py:117: PerformanceWarning: DataFrame is highly fragmented.  This is usually the result of calling `frame.insert` many times, which has poor performance.  Consider joining all columns at once using pd.concat(axis=1) instead. To get a de-fragmented frame, use `newframe = frame.copy()`\n",
      "  portfolio_cumulative_returns[n] = (1 + sim_df.fillna(0)).cumprod()\n"
     ]
    },
    {
     "name": "stdout",
     "output_type": "stream",
     "text": [
      "Running Monte Carlo simulation number 270.\n"
     ]
    },
    {
     "name": "stderr",
     "output_type": "stream",
     "text": [
      "C:\\Users\\ryanr\\Desktop\\FinTech-Workspace\\Challenges\\Module_05_Challenge\\financial_planner\\MCForecastTools.py:117: PerformanceWarning: DataFrame is highly fragmented.  This is usually the result of calling `frame.insert` many times, which has poor performance.  Consider joining all columns at once using pd.concat(axis=1) instead. To get a de-fragmented frame, use `newframe = frame.copy()`\n",
      "  portfolio_cumulative_returns[n] = (1 + sim_df.fillna(0)).cumprod()\n",
      "C:\\Users\\ryanr\\Desktop\\FinTech-Workspace\\Challenges\\Module_05_Challenge\\financial_planner\\MCForecastTools.py:117: PerformanceWarning: DataFrame is highly fragmented.  This is usually the result of calling `frame.insert` many times, which has poor performance.  Consider joining all columns at once using pd.concat(axis=1) instead. To get a de-fragmented frame, use `newframe = frame.copy()`\n",
      "  portfolio_cumulative_returns[n] = (1 + sim_df.fillna(0)).cumprod()\n",
      "C:\\Users\\ryanr\\Desktop\\FinTech-Workspace\\Challenges\\Module_05_Challenge\\financial_planner\\MCForecastTools.py:117: PerformanceWarning: DataFrame is highly fragmented.  This is usually the result of calling `frame.insert` many times, which has poor performance.  Consider joining all columns at once using pd.concat(axis=1) instead. To get a de-fragmented frame, use `newframe = frame.copy()`\n",
      "  portfolio_cumulative_returns[n] = (1 + sim_df.fillna(0)).cumprod()\n",
      "C:\\Users\\ryanr\\Desktop\\FinTech-Workspace\\Challenges\\Module_05_Challenge\\financial_planner\\MCForecastTools.py:117: PerformanceWarning: DataFrame is highly fragmented.  This is usually the result of calling `frame.insert` many times, which has poor performance.  Consider joining all columns at once using pd.concat(axis=1) instead. To get a de-fragmented frame, use `newframe = frame.copy()`\n",
      "  portfolio_cumulative_returns[n] = (1 + sim_df.fillna(0)).cumprod()\n",
      "C:\\Users\\ryanr\\Desktop\\FinTech-Workspace\\Challenges\\Module_05_Challenge\\financial_planner\\MCForecastTools.py:117: PerformanceWarning: DataFrame is highly fragmented.  This is usually the result of calling `frame.insert` many times, which has poor performance.  Consider joining all columns at once using pd.concat(axis=1) instead. To get a de-fragmented frame, use `newframe = frame.copy()`\n",
      "  portfolio_cumulative_returns[n] = (1 + sim_df.fillna(0)).cumprod()\n",
      "C:\\Users\\ryanr\\Desktop\\FinTech-Workspace\\Challenges\\Module_05_Challenge\\financial_planner\\MCForecastTools.py:117: PerformanceWarning: DataFrame is highly fragmented.  This is usually the result of calling `frame.insert` many times, which has poor performance.  Consider joining all columns at once using pd.concat(axis=1) instead. To get a de-fragmented frame, use `newframe = frame.copy()`\n",
      "  portfolio_cumulative_returns[n] = (1 + sim_df.fillna(0)).cumprod()\n",
      "C:\\Users\\ryanr\\Desktop\\FinTech-Workspace\\Challenges\\Module_05_Challenge\\financial_planner\\MCForecastTools.py:117: PerformanceWarning: DataFrame is highly fragmented.  This is usually the result of calling `frame.insert` many times, which has poor performance.  Consider joining all columns at once using pd.concat(axis=1) instead. To get a de-fragmented frame, use `newframe = frame.copy()`\n",
      "  portfolio_cumulative_returns[n] = (1 + sim_df.fillna(0)).cumprod()\n",
      "C:\\Users\\ryanr\\Desktop\\FinTech-Workspace\\Challenges\\Module_05_Challenge\\financial_planner\\MCForecastTools.py:117: PerformanceWarning: DataFrame is highly fragmented.  This is usually the result of calling `frame.insert` many times, which has poor performance.  Consider joining all columns at once using pd.concat(axis=1) instead. To get a de-fragmented frame, use `newframe = frame.copy()`\n",
      "  portfolio_cumulative_returns[n] = (1 + sim_df.fillna(0)).cumprod()\n",
      "C:\\Users\\ryanr\\Desktop\\FinTech-Workspace\\Challenges\\Module_05_Challenge\\financial_planner\\MCForecastTools.py:117: PerformanceWarning: DataFrame is highly fragmented.  This is usually the result of calling `frame.insert` many times, which has poor performance.  Consider joining all columns at once using pd.concat(axis=1) instead. To get a de-fragmented frame, use `newframe = frame.copy()`\n",
      "  portfolio_cumulative_returns[n] = (1 + sim_df.fillna(0)).cumprod()\n",
      "C:\\Users\\ryanr\\Desktop\\FinTech-Workspace\\Challenges\\Module_05_Challenge\\financial_planner\\MCForecastTools.py:117: PerformanceWarning: DataFrame is highly fragmented.  This is usually the result of calling `frame.insert` many times, which has poor performance.  Consider joining all columns at once using pd.concat(axis=1) instead. To get a de-fragmented frame, use `newframe = frame.copy()`\n",
      "  portfolio_cumulative_returns[n] = (1 + sim_df.fillna(0)).cumprod()\n",
      "C:\\Users\\ryanr\\Desktop\\FinTech-Workspace\\Challenges\\Module_05_Challenge\\financial_planner\\MCForecastTools.py:117: PerformanceWarning: DataFrame is highly fragmented.  This is usually the result of calling `frame.insert` many times, which has poor performance.  Consider joining all columns at once using pd.concat(axis=1) instead. To get a de-fragmented frame, use `newframe = frame.copy()`\n",
      "  portfolio_cumulative_returns[n] = (1 + sim_df.fillna(0)).cumprod()\n"
     ]
    },
    {
     "name": "stdout",
     "output_type": "stream",
     "text": [
      "Running Monte Carlo simulation number 280.\n"
     ]
    },
    {
     "name": "stderr",
     "output_type": "stream",
     "text": [
      "C:\\Users\\ryanr\\Desktop\\FinTech-Workspace\\Challenges\\Module_05_Challenge\\financial_planner\\MCForecastTools.py:117: PerformanceWarning: DataFrame is highly fragmented.  This is usually the result of calling `frame.insert` many times, which has poor performance.  Consider joining all columns at once using pd.concat(axis=1) instead. To get a de-fragmented frame, use `newframe = frame.copy()`\n",
      "  portfolio_cumulative_returns[n] = (1 + sim_df.fillna(0)).cumprod()\n",
      "C:\\Users\\ryanr\\Desktop\\FinTech-Workspace\\Challenges\\Module_05_Challenge\\financial_planner\\MCForecastTools.py:117: PerformanceWarning: DataFrame is highly fragmented.  This is usually the result of calling `frame.insert` many times, which has poor performance.  Consider joining all columns at once using pd.concat(axis=1) instead. To get a de-fragmented frame, use `newframe = frame.copy()`\n",
      "  portfolio_cumulative_returns[n] = (1 + sim_df.fillna(0)).cumprod()\n",
      "C:\\Users\\ryanr\\Desktop\\FinTech-Workspace\\Challenges\\Module_05_Challenge\\financial_planner\\MCForecastTools.py:117: PerformanceWarning: DataFrame is highly fragmented.  This is usually the result of calling `frame.insert` many times, which has poor performance.  Consider joining all columns at once using pd.concat(axis=1) instead. To get a de-fragmented frame, use `newframe = frame.copy()`\n",
      "  portfolio_cumulative_returns[n] = (1 + sim_df.fillna(0)).cumprod()\n",
      "C:\\Users\\ryanr\\Desktop\\FinTech-Workspace\\Challenges\\Module_05_Challenge\\financial_planner\\MCForecastTools.py:117: PerformanceWarning: DataFrame is highly fragmented.  This is usually the result of calling `frame.insert` many times, which has poor performance.  Consider joining all columns at once using pd.concat(axis=1) instead. To get a de-fragmented frame, use `newframe = frame.copy()`\n",
      "  portfolio_cumulative_returns[n] = (1 + sim_df.fillna(0)).cumprod()\n",
      "C:\\Users\\ryanr\\Desktop\\FinTech-Workspace\\Challenges\\Module_05_Challenge\\financial_planner\\MCForecastTools.py:117: PerformanceWarning: DataFrame is highly fragmented.  This is usually the result of calling `frame.insert` many times, which has poor performance.  Consider joining all columns at once using pd.concat(axis=1) instead. To get a de-fragmented frame, use `newframe = frame.copy()`\n",
      "  portfolio_cumulative_returns[n] = (1 + sim_df.fillna(0)).cumprod()\n",
      "C:\\Users\\ryanr\\Desktop\\FinTech-Workspace\\Challenges\\Module_05_Challenge\\financial_planner\\MCForecastTools.py:117: PerformanceWarning: DataFrame is highly fragmented.  This is usually the result of calling `frame.insert` many times, which has poor performance.  Consider joining all columns at once using pd.concat(axis=1) instead. To get a de-fragmented frame, use `newframe = frame.copy()`\n",
      "  portfolio_cumulative_returns[n] = (1 + sim_df.fillna(0)).cumprod()\n",
      "C:\\Users\\ryanr\\Desktop\\FinTech-Workspace\\Challenges\\Module_05_Challenge\\financial_planner\\MCForecastTools.py:117: PerformanceWarning: DataFrame is highly fragmented.  This is usually the result of calling `frame.insert` many times, which has poor performance.  Consider joining all columns at once using pd.concat(axis=1) instead. To get a de-fragmented frame, use `newframe = frame.copy()`\n",
      "  portfolio_cumulative_returns[n] = (1 + sim_df.fillna(0)).cumprod()\n",
      "C:\\Users\\ryanr\\Desktop\\FinTech-Workspace\\Challenges\\Module_05_Challenge\\financial_planner\\MCForecastTools.py:117: PerformanceWarning: DataFrame is highly fragmented.  This is usually the result of calling `frame.insert` many times, which has poor performance.  Consider joining all columns at once using pd.concat(axis=1) instead. To get a de-fragmented frame, use `newframe = frame.copy()`\n",
      "  portfolio_cumulative_returns[n] = (1 + sim_df.fillna(0)).cumprod()\n"
     ]
    },
    {
     "name": "stdout",
     "output_type": "stream",
     "text": [
      "Running Monte Carlo simulation number 290.\n"
     ]
    },
    {
     "name": "stderr",
     "output_type": "stream",
     "text": [
      "C:\\Users\\ryanr\\Desktop\\FinTech-Workspace\\Challenges\\Module_05_Challenge\\financial_planner\\MCForecastTools.py:117: PerformanceWarning: DataFrame is highly fragmented.  This is usually the result of calling `frame.insert` many times, which has poor performance.  Consider joining all columns at once using pd.concat(axis=1) instead. To get a de-fragmented frame, use `newframe = frame.copy()`\n",
      "  portfolio_cumulative_returns[n] = (1 + sim_df.fillna(0)).cumprod()\n",
      "C:\\Users\\ryanr\\Desktop\\FinTech-Workspace\\Challenges\\Module_05_Challenge\\financial_planner\\MCForecastTools.py:117: PerformanceWarning: DataFrame is highly fragmented.  This is usually the result of calling `frame.insert` many times, which has poor performance.  Consider joining all columns at once using pd.concat(axis=1) instead. To get a de-fragmented frame, use `newframe = frame.copy()`\n",
      "  portfolio_cumulative_returns[n] = (1 + sim_df.fillna(0)).cumprod()\n",
      "C:\\Users\\ryanr\\Desktop\\FinTech-Workspace\\Challenges\\Module_05_Challenge\\financial_planner\\MCForecastTools.py:117: PerformanceWarning: DataFrame is highly fragmented.  This is usually the result of calling `frame.insert` many times, which has poor performance.  Consider joining all columns at once using pd.concat(axis=1) instead. To get a de-fragmented frame, use `newframe = frame.copy()`\n",
      "  portfolio_cumulative_returns[n] = (1 + sim_df.fillna(0)).cumprod()\n",
      "C:\\Users\\ryanr\\Desktop\\FinTech-Workspace\\Challenges\\Module_05_Challenge\\financial_planner\\MCForecastTools.py:117: PerformanceWarning: DataFrame is highly fragmented.  This is usually the result of calling `frame.insert` many times, which has poor performance.  Consider joining all columns at once using pd.concat(axis=1) instead. To get a de-fragmented frame, use `newframe = frame.copy()`\n",
      "  portfolio_cumulative_returns[n] = (1 + sim_df.fillna(0)).cumprod()\n",
      "C:\\Users\\ryanr\\Desktop\\FinTech-Workspace\\Challenges\\Module_05_Challenge\\financial_planner\\MCForecastTools.py:117: PerformanceWarning: DataFrame is highly fragmented.  This is usually the result of calling `frame.insert` many times, which has poor performance.  Consider joining all columns at once using pd.concat(axis=1) instead. To get a de-fragmented frame, use `newframe = frame.copy()`\n",
      "  portfolio_cumulative_returns[n] = (1 + sim_df.fillna(0)).cumprod()\n",
      "C:\\Users\\ryanr\\Desktop\\FinTech-Workspace\\Challenges\\Module_05_Challenge\\financial_planner\\MCForecastTools.py:117: PerformanceWarning: DataFrame is highly fragmented.  This is usually the result of calling `frame.insert` many times, which has poor performance.  Consider joining all columns at once using pd.concat(axis=1) instead. To get a de-fragmented frame, use `newframe = frame.copy()`\n",
      "  portfolio_cumulative_returns[n] = (1 + sim_df.fillna(0)).cumprod()\n",
      "C:\\Users\\ryanr\\Desktop\\FinTech-Workspace\\Challenges\\Module_05_Challenge\\financial_planner\\MCForecastTools.py:117: PerformanceWarning: DataFrame is highly fragmented.  This is usually the result of calling `frame.insert` many times, which has poor performance.  Consider joining all columns at once using pd.concat(axis=1) instead. To get a de-fragmented frame, use `newframe = frame.copy()`\n",
      "  portfolio_cumulative_returns[n] = (1 + sim_df.fillna(0)).cumprod()\n",
      "C:\\Users\\ryanr\\Desktop\\FinTech-Workspace\\Challenges\\Module_05_Challenge\\financial_planner\\MCForecastTools.py:117: PerformanceWarning: DataFrame is highly fragmented.  This is usually the result of calling `frame.insert` many times, which has poor performance.  Consider joining all columns at once using pd.concat(axis=1) instead. To get a de-fragmented frame, use `newframe = frame.copy()`\n",
      "  portfolio_cumulative_returns[n] = (1 + sim_df.fillna(0)).cumprod()\n",
      "C:\\Users\\ryanr\\Desktop\\FinTech-Workspace\\Challenges\\Module_05_Challenge\\financial_planner\\MCForecastTools.py:117: PerformanceWarning: DataFrame is highly fragmented.  This is usually the result of calling `frame.insert` many times, which has poor performance.  Consider joining all columns at once using pd.concat(axis=1) instead. To get a de-fragmented frame, use `newframe = frame.copy()`\n",
      "  portfolio_cumulative_returns[n] = (1 + sim_df.fillna(0)).cumprod()\n",
      "C:\\Users\\ryanr\\Desktop\\FinTech-Workspace\\Challenges\\Module_05_Challenge\\financial_planner\\MCForecastTools.py:117: PerformanceWarning: DataFrame is highly fragmented.  This is usually the result of calling `frame.insert` many times, which has poor performance.  Consider joining all columns at once using pd.concat(axis=1) instead. To get a de-fragmented frame, use `newframe = frame.copy()`\n",
      "  portfolio_cumulative_returns[n] = (1 + sim_df.fillna(0)).cumprod()\n",
      "C:\\Users\\ryanr\\Desktop\\FinTech-Workspace\\Challenges\\Module_05_Challenge\\financial_planner\\MCForecastTools.py:117: PerformanceWarning: DataFrame is highly fragmented.  This is usually the result of calling `frame.insert` many times, which has poor performance.  Consider joining all columns at once using pd.concat(axis=1) instead. To get a de-fragmented frame, use `newframe = frame.copy()`\n",
      "  portfolio_cumulative_returns[n] = (1 + sim_df.fillna(0)).cumprod()\n"
     ]
    },
    {
     "name": "stdout",
     "output_type": "stream",
     "text": [
      "Running Monte Carlo simulation number 300.\n"
     ]
    },
    {
     "name": "stderr",
     "output_type": "stream",
     "text": [
      "C:\\Users\\ryanr\\Desktop\\FinTech-Workspace\\Challenges\\Module_05_Challenge\\financial_planner\\MCForecastTools.py:117: PerformanceWarning: DataFrame is highly fragmented.  This is usually the result of calling `frame.insert` many times, which has poor performance.  Consider joining all columns at once using pd.concat(axis=1) instead. To get a de-fragmented frame, use `newframe = frame.copy()`\n",
      "  portfolio_cumulative_returns[n] = (1 + sim_df.fillna(0)).cumprod()\n",
      "C:\\Users\\ryanr\\Desktop\\FinTech-Workspace\\Challenges\\Module_05_Challenge\\financial_planner\\MCForecastTools.py:117: PerformanceWarning: DataFrame is highly fragmented.  This is usually the result of calling `frame.insert` many times, which has poor performance.  Consider joining all columns at once using pd.concat(axis=1) instead. To get a de-fragmented frame, use `newframe = frame.copy()`\n",
      "  portfolio_cumulative_returns[n] = (1 + sim_df.fillna(0)).cumprod()\n",
      "C:\\Users\\ryanr\\Desktop\\FinTech-Workspace\\Challenges\\Module_05_Challenge\\financial_planner\\MCForecastTools.py:117: PerformanceWarning: DataFrame is highly fragmented.  This is usually the result of calling `frame.insert` many times, which has poor performance.  Consider joining all columns at once using pd.concat(axis=1) instead. To get a de-fragmented frame, use `newframe = frame.copy()`\n",
      "  portfolio_cumulative_returns[n] = (1 + sim_df.fillna(0)).cumprod()\n",
      "C:\\Users\\ryanr\\Desktop\\FinTech-Workspace\\Challenges\\Module_05_Challenge\\financial_planner\\MCForecastTools.py:117: PerformanceWarning: DataFrame is highly fragmented.  This is usually the result of calling `frame.insert` many times, which has poor performance.  Consider joining all columns at once using pd.concat(axis=1) instead. To get a de-fragmented frame, use `newframe = frame.copy()`\n",
      "  portfolio_cumulative_returns[n] = (1 + sim_df.fillna(0)).cumprod()\n",
      "C:\\Users\\ryanr\\Desktop\\FinTech-Workspace\\Challenges\\Module_05_Challenge\\financial_planner\\MCForecastTools.py:117: PerformanceWarning: DataFrame is highly fragmented.  This is usually the result of calling `frame.insert` many times, which has poor performance.  Consider joining all columns at once using pd.concat(axis=1) instead. To get a de-fragmented frame, use `newframe = frame.copy()`\n",
      "  portfolio_cumulative_returns[n] = (1 + sim_df.fillna(0)).cumprod()\n",
      "C:\\Users\\ryanr\\Desktop\\FinTech-Workspace\\Challenges\\Module_05_Challenge\\financial_planner\\MCForecastTools.py:117: PerformanceWarning: DataFrame is highly fragmented.  This is usually the result of calling `frame.insert` many times, which has poor performance.  Consider joining all columns at once using pd.concat(axis=1) instead. To get a de-fragmented frame, use `newframe = frame.copy()`\n",
      "  portfolio_cumulative_returns[n] = (1 + sim_df.fillna(0)).cumprod()\n",
      "C:\\Users\\ryanr\\Desktop\\FinTech-Workspace\\Challenges\\Module_05_Challenge\\financial_planner\\MCForecastTools.py:117: PerformanceWarning: DataFrame is highly fragmented.  This is usually the result of calling `frame.insert` many times, which has poor performance.  Consider joining all columns at once using pd.concat(axis=1) instead. To get a de-fragmented frame, use `newframe = frame.copy()`\n",
      "  portfolio_cumulative_returns[n] = (1 + sim_df.fillna(0)).cumprod()\n",
      "C:\\Users\\ryanr\\Desktop\\FinTech-Workspace\\Challenges\\Module_05_Challenge\\financial_planner\\MCForecastTools.py:117: PerformanceWarning: DataFrame is highly fragmented.  This is usually the result of calling `frame.insert` many times, which has poor performance.  Consider joining all columns at once using pd.concat(axis=1) instead. To get a de-fragmented frame, use `newframe = frame.copy()`\n",
      "  portfolio_cumulative_returns[n] = (1 + sim_df.fillna(0)).cumprod()\n",
      "C:\\Users\\ryanr\\Desktop\\FinTech-Workspace\\Challenges\\Module_05_Challenge\\financial_planner\\MCForecastTools.py:117: PerformanceWarning: DataFrame is highly fragmented.  This is usually the result of calling `frame.insert` many times, which has poor performance.  Consider joining all columns at once using pd.concat(axis=1) instead. To get a de-fragmented frame, use `newframe = frame.copy()`\n",
      "  portfolio_cumulative_returns[n] = (1 + sim_df.fillna(0)).cumprod()\n"
     ]
    },
    {
     "name": "stdout",
     "output_type": "stream",
     "text": [
      "Running Monte Carlo simulation number 310.\n"
     ]
    },
    {
     "name": "stderr",
     "output_type": "stream",
     "text": [
      "C:\\Users\\ryanr\\Desktop\\FinTech-Workspace\\Challenges\\Module_05_Challenge\\financial_planner\\MCForecastTools.py:117: PerformanceWarning: DataFrame is highly fragmented.  This is usually the result of calling `frame.insert` many times, which has poor performance.  Consider joining all columns at once using pd.concat(axis=1) instead. To get a de-fragmented frame, use `newframe = frame.copy()`\n",
      "  portfolio_cumulative_returns[n] = (1 + sim_df.fillna(0)).cumprod()\n",
      "C:\\Users\\ryanr\\Desktop\\FinTech-Workspace\\Challenges\\Module_05_Challenge\\financial_planner\\MCForecastTools.py:117: PerformanceWarning: DataFrame is highly fragmented.  This is usually the result of calling `frame.insert` many times, which has poor performance.  Consider joining all columns at once using pd.concat(axis=1) instead. To get a de-fragmented frame, use `newframe = frame.copy()`\n",
      "  portfolio_cumulative_returns[n] = (1 + sim_df.fillna(0)).cumprod()\n",
      "C:\\Users\\ryanr\\Desktop\\FinTech-Workspace\\Challenges\\Module_05_Challenge\\financial_planner\\MCForecastTools.py:117: PerformanceWarning: DataFrame is highly fragmented.  This is usually the result of calling `frame.insert` many times, which has poor performance.  Consider joining all columns at once using pd.concat(axis=1) instead. To get a de-fragmented frame, use `newframe = frame.copy()`\n",
      "  portfolio_cumulative_returns[n] = (1 + sim_df.fillna(0)).cumprod()\n",
      "C:\\Users\\ryanr\\Desktop\\FinTech-Workspace\\Challenges\\Module_05_Challenge\\financial_planner\\MCForecastTools.py:117: PerformanceWarning: DataFrame is highly fragmented.  This is usually the result of calling `frame.insert` many times, which has poor performance.  Consider joining all columns at once using pd.concat(axis=1) instead. To get a de-fragmented frame, use `newframe = frame.copy()`\n",
      "  portfolio_cumulative_returns[n] = (1 + sim_df.fillna(0)).cumprod()\n",
      "C:\\Users\\ryanr\\Desktop\\FinTech-Workspace\\Challenges\\Module_05_Challenge\\financial_planner\\MCForecastTools.py:117: PerformanceWarning: DataFrame is highly fragmented.  This is usually the result of calling `frame.insert` many times, which has poor performance.  Consider joining all columns at once using pd.concat(axis=1) instead. To get a de-fragmented frame, use `newframe = frame.copy()`\n",
      "  portfolio_cumulative_returns[n] = (1 + sim_df.fillna(0)).cumprod()\n",
      "C:\\Users\\ryanr\\Desktop\\FinTech-Workspace\\Challenges\\Module_05_Challenge\\financial_planner\\MCForecastTools.py:117: PerformanceWarning: DataFrame is highly fragmented.  This is usually the result of calling `frame.insert` many times, which has poor performance.  Consider joining all columns at once using pd.concat(axis=1) instead. To get a de-fragmented frame, use `newframe = frame.copy()`\n",
      "  portfolio_cumulative_returns[n] = (1 + sim_df.fillna(0)).cumprod()\n",
      "C:\\Users\\ryanr\\Desktop\\FinTech-Workspace\\Challenges\\Module_05_Challenge\\financial_planner\\MCForecastTools.py:117: PerformanceWarning: DataFrame is highly fragmented.  This is usually the result of calling `frame.insert` many times, which has poor performance.  Consider joining all columns at once using pd.concat(axis=1) instead. To get a de-fragmented frame, use `newframe = frame.copy()`\n",
      "  portfolio_cumulative_returns[n] = (1 + sim_df.fillna(0)).cumprod()\n",
      "C:\\Users\\ryanr\\Desktop\\FinTech-Workspace\\Challenges\\Module_05_Challenge\\financial_planner\\MCForecastTools.py:117: PerformanceWarning: DataFrame is highly fragmented.  This is usually the result of calling `frame.insert` many times, which has poor performance.  Consider joining all columns at once using pd.concat(axis=1) instead. To get a de-fragmented frame, use `newframe = frame.copy()`\n",
      "  portfolio_cumulative_returns[n] = (1 + sim_df.fillna(0)).cumprod()\n",
      "C:\\Users\\ryanr\\Desktop\\FinTech-Workspace\\Challenges\\Module_05_Challenge\\financial_planner\\MCForecastTools.py:117: PerformanceWarning: DataFrame is highly fragmented.  This is usually the result of calling `frame.insert` many times, which has poor performance.  Consider joining all columns at once using pd.concat(axis=1) instead. To get a de-fragmented frame, use `newframe = frame.copy()`\n",
      "  portfolio_cumulative_returns[n] = (1 + sim_df.fillna(0)).cumprod()\n",
      "C:\\Users\\ryanr\\Desktop\\FinTech-Workspace\\Challenges\\Module_05_Challenge\\financial_planner\\MCForecastTools.py:117: PerformanceWarning: DataFrame is highly fragmented.  This is usually the result of calling `frame.insert` many times, which has poor performance.  Consider joining all columns at once using pd.concat(axis=1) instead. To get a de-fragmented frame, use `newframe = frame.copy()`\n",
      "  portfolio_cumulative_returns[n] = (1 + sim_df.fillna(0)).cumprod()\n",
      "C:\\Users\\ryanr\\Desktop\\FinTech-Workspace\\Challenges\\Module_05_Challenge\\financial_planner\\MCForecastTools.py:117: PerformanceWarning: DataFrame is highly fragmented.  This is usually the result of calling `frame.insert` many times, which has poor performance.  Consider joining all columns at once using pd.concat(axis=1) instead. To get a de-fragmented frame, use `newframe = frame.copy()`\n",
      "  portfolio_cumulative_returns[n] = (1 + sim_df.fillna(0)).cumprod()\n"
     ]
    },
    {
     "name": "stdout",
     "output_type": "stream",
     "text": [
      "Running Monte Carlo simulation number 320.\n"
     ]
    },
    {
     "name": "stderr",
     "output_type": "stream",
     "text": [
      "C:\\Users\\ryanr\\Desktop\\FinTech-Workspace\\Challenges\\Module_05_Challenge\\financial_planner\\MCForecastTools.py:117: PerformanceWarning: DataFrame is highly fragmented.  This is usually the result of calling `frame.insert` many times, which has poor performance.  Consider joining all columns at once using pd.concat(axis=1) instead. To get a de-fragmented frame, use `newframe = frame.copy()`\n",
      "  portfolio_cumulative_returns[n] = (1 + sim_df.fillna(0)).cumprod()\n",
      "C:\\Users\\ryanr\\Desktop\\FinTech-Workspace\\Challenges\\Module_05_Challenge\\financial_planner\\MCForecastTools.py:117: PerformanceWarning: DataFrame is highly fragmented.  This is usually the result of calling `frame.insert` many times, which has poor performance.  Consider joining all columns at once using pd.concat(axis=1) instead. To get a de-fragmented frame, use `newframe = frame.copy()`\n",
      "  portfolio_cumulative_returns[n] = (1 + sim_df.fillna(0)).cumprod()\n",
      "C:\\Users\\ryanr\\Desktop\\FinTech-Workspace\\Challenges\\Module_05_Challenge\\financial_planner\\MCForecastTools.py:117: PerformanceWarning: DataFrame is highly fragmented.  This is usually the result of calling `frame.insert` many times, which has poor performance.  Consider joining all columns at once using pd.concat(axis=1) instead. To get a de-fragmented frame, use `newframe = frame.copy()`\n",
      "  portfolio_cumulative_returns[n] = (1 + sim_df.fillna(0)).cumprod()\n",
      "C:\\Users\\ryanr\\Desktop\\FinTech-Workspace\\Challenges\\Module_05_Challenge\\financial_planner\\MCForecastTools.py:117: PerformanceWarning: DataFrame is highly fragmented.  This is usually the result of calling `frame.insert` many times, which has poor performance.  Consider joining all columns at once using pd.concat(axis=1) instead. To get a de-fragmented frame, use `newframe = frame.copy()`\n",
      "  portfolio_cumulative_returns[n] = (1 + sim_df.fillna(0)).cumprod()\n",
      "C:\\Users\\ryanr\\Desktop\\FinTech-Workspace\\Challenges\\Module_05_Challenge\\financial_planner\\MCForecastTools.py:117: PerformanceWarning: DataFrame is highly fragmented.  This is usually the result of calling `frame.insert` many times, which has poor performance.  Consider joining all columns at once using pd.concat(axis=1) instead. To get a de-fragmented frame, use `newframe = frame.copy()`\n",
      "  portfolio_cumulative_returns[n] = (1 + sim_df.fillna(0)).cumprod()\n",
      "C:\\Users\\ryanr\\Desktop\\FinTech-Workspace\\Challenges\\Module_05_Challenge\\financial_planner\\MCForecastTools.py:117: PerformanceWarning: DataFrame is highly fragmented.  This is usually the result of calling `frame.insert` many times, which has poor performance.  Consider joining all columns at once using pd.concat(axis=1) instead. To get a de-fragmented frame, use `newframe = frame.copy()`\n",
      "  portfolio_cumulative_returns[n] = (1 + sim_df.fillna(0)).cumprod()\n",
      "C:\\Users\\ryanr\\Desktop\\FinTech-Workspace\\Challenges\\Module_05_Challenge\\financial_planner\\MCForecastTools.py:117: PerformanceWarning: DataFrame is highly fragmented.  This is usually the result of calling `frame.insert` many times, which has poor performance.  Consider joining all columns at once using pd.concat(axis=1) instead. To get a de-fragmented frame, use `newframe = frame.copy()`\n",
      "  portfolio_cumulative_returns[n] = (1 + sim_df.fillna(0)).cumprod()\n",
      "C:\\Users\\ryanr\\Desktop\\FinTech-Workspace\\Challenges\\Module_05_Challenge\\financial_planner\\MCForecastTools.py:117: PerformanceWarning: DataFrame is highly fragmented.  This is usually the result of calling `frame.insert` many times, which has poor performance.  Consider joining all columns at once using pd.concat(axis=1) instead. To get a de-fragmented frame, use `newframe = frame.copy()`\n",
      "  portfolio_cumulative_returns[n] = (1 + sim_df.fillna(0)).cumprod()\n",
      "C:\\Users\\ryanr\\Desktop\\FinTech-Workspace\\Challenges\\Module_05_Challenge\\financial_planner\\MCForecastTools.py:117: PerformanceWarning: DataFrame is highly fragmented.  This is usually the result of calling `frame.insert` many times, which has poor performance.  Consider joining all columns at once using pd.concat(axis=1) instead. To get a de-fragmented frame, use `newframe = frame.copy()`\n",
      "  portfolio_cumulative_returns[n] = (1 + sim_df.fillna(0)).cumprod()\n"
     ]
    },
    {
     "name": "stdout",
     "output_type": "stream",
     "text": [
      "Running Monte Carlo simulation number 330.\n"
     ]
    },
    {
     "name": "stderr",
     "output_type": "stream",
     "text": [
      "C:\\Users\\ryanr\\Desktop\\FinTech-Workspace\\Challenges\\Module_05_Challenge\\financial_planner\\MCForecastTools.py:117: PerformanceWarning: DataFrame is highly fragmented.  This is usually the result of calling `frame.insert` many times, which has poor performance.  Consider joining all columns at once using pd.concat(axis=1) instead. To get a de-fragmented frame, use `newframe = frame.copy()`\n",
      "  portfolio_cumulative_returns[n] = (1 + sim_df.fillna(0)).cumprod()\n",
      "C:\\Users\\ryanr\\Desktop\\FinTech-Workspace\\Challenges\\Module_05_Challenge\\financial_planner\\MCForecastTools.py:117: PerformanceWarning: DataFrame is highly fragmented.  This is usually the result of calling `frame.insert` many times, which has poor performance.  Consider joining all columns at once using pd.concat(axis=1) instead. To get a de-fragmented frame, use `newframe = frame.copy()`\n",
      "  portfolio_cumulative_returns[n] = (1 + sim_df.fillna(0)).cumprod()\n",
      "C:\\Users\\ryanr\\Desktop\\FinTech-Workspace\\Challenges\\Module_05_Challenge\\financial_planner\\MCForecastTools.py:117: PerformanceWarning: DataFrame is highly fragmented.  This is usually the result of calling `frame.insert` many times, which has poor performance.  Consider joining all columns at once using pd.concat(axis=1) instead. To get a de-fragmented frame, use `newframe = frame.copy()`\n",
      "  portfolio_cumulative_returns[n] = (1 + sim_df.fillna(0)).cumprod()\n",
      "C:\\Users\\ryanr\\Desktop\\FinTech-Workspace\\Challenges\\Module_05_Challenge\\financial_planner\\MCForecastTools.py:117: PerformanceWarning: DataFrame is highly fragmented.  This is usually the result of calling `frame.insert` many times, which has poor performance.  Consider joining all columns at once using pd.concat(axis=1) instead. To get a de-fragmented frame, use `newframe = frame.copy()`\n",
      "  portfolio_cumulative_returns[n] = (1 + sim_df.fillna(0)).cumprod()\n",
      "C:\\Users\\ryanr\\Desktop\\FinTech-Workspace\\Challenges\\Module_05_Challenge\\financial_planner\\MCForecastTools.py:117: PerformanceWarning: DataFrame is highly fragmented.  This is usually the result of calling `frame.insert` many times, which has poor performance.  Consider joining all columns at once using pd.concat(axis=1) instead. To get a de-fragmented frame, use `newframe = frame.copy()`\n",
      "  portfolio_cumulative_returns[n] = (1 + sim_df.fillna(0)).cumprod()\n",
      "C:\\Users\\ryanr\\Desktop\\FinTech-Workspace\\Challenges\\Module_05_Challenge\\financial_planner\\MCForecastTools.py:117: PerformanceWarning: DataFrame is highly fragmented.  This is usually the result of calling `frame.insert` many times, which has poor performance.  Consider joining all columns at once using pd.concat(axis=1) instead. To get a de-fragmented frame, use `newframe = frame.copy()`\n",
      "  portfolio_cumulative_returns[n] = (1 + sim_df.fillna(0)).cumprod()\n",
      "C:\\Users\\ryanr\\Desktop\\FinTech-Workspace\\Challenges\\Module_05_Challenge\\financial_planner\\MCForecastTools.py:117: PerformanceWarning: DataFrame is highly fragmented.  This is usually the result of calling `frame.insert` many times, which has poor performance.  Consider joining all columns at once using pd.concat(axis=1) instead. To get a de-fragmented frame, use `newframe = frame.copy()`\n",
      "  portfolio_cumulative_returns[n] = (1 + sim_df.fillna(0)).cumprod()\n",
      "C:\\Users\\ryanr\\Desktop\\FinTech-Workspace\\Challenges\\Module_05_Challenge\\financial_planner\\MCForecastTools.py:117: PerformanceWarning: DataFrame is highly fragmented.  This is usually the result of calling `frame.insert` many times, which has poor performance.  Consider joining all columns at once using pd.concat(axis=1) instead. To get a de-fragmented frame, use `newframe = frame.copy()`\n",
      "  portfolio_cumulative_returns[n] = (1 + sim_df.fillna(0)).cumprod()\n",
      "C:\\Users\\ryanr\\Desktop\\FinTech-Workspace\\Challenges\\Module_05_Challenge\\financial_planner\\MCForecastTools.py:117: PerformanceWarning: DataFrame is highly fragmented.  This is usually the result of calling `frame.insert` many times, which has poor performance.  Consider joining all columns at once using pd.concat(axis=1) instead. To get a de-fragmented frame, use `newframe = frame.copy()`\n",
      "  portfolio_cumulative_returns[n] = (1 + sim_df.fillna(0)).cumprod()\n",
      "C:\\Users\\ryanr\\Desktop\\FinTech-Workspace\\Challenges\\Module_05_Challenge\\financial_planner\\MCForecastTools.py:117: PerformanceWarning: DataFrame is highly fragmented.  This is usually the result of calling `frame.insert` many times, which has poor performance.  Consider joining all columns at once using pd.concat(axis=1) instead. To get a de-fragmented frame, use `newframe = frame.copy()`\n",
      "  portfolio_cumulative_returns[n] = (1 + sim_df.fillna(0)).cumprod()\n"
     ]
    },
    {
     "name": "stdout",
     "output_type": "stream",
     "text": [
      "Running Monte Carlo simulation number 340.\n"
     ]
    },
    {
     "name": "stderr",
     "output_type": "stream",
     "text": [
      "C:\\Users\\ryanr\\Desktop\\FinTech-Workspace\\Challenges\\Module_05_Challenge\\financial_planner\\MCForecastTools.py:117: PerformanceWarning: DataFrame is highly fragmented.  This is usually the result of calling `frame.insert` many times, which has poor performance.  Consider joining all columns at once using pd.concat(axis=1) instead. To get a de-fragmented frame, use `newframe = frame.copy()`\n",
      "  portfolio_cumulative_returns[n] = (1 + sim_df.fillna(0)).cumprod()\n",
      "C:\\Users\\ryanr\\Desktop\\FinTech-Workspace\\Challenges\\Module_05_Challenge\\financial_planner\\MCForecastTools.py:117: PerformanceWarning: DataFrame is highly fragmented.  This is usually the result of calling `frame.insert` many times, which has poor performance.  Consider joining all columns at once using pd.concat(axis=1) instead. To get a de-fragmented frame, use `newframe = frame.copy()`\n",
      "  portfolio_cumulative_returns[n] = (1 + sim_df.fillna(0)).cumprod()\n",
      "C:\\Users\\ryanr\\Desktop\\FinTech-Workspace\\Challenges\\Module_05_Challenge\\financial_planner\\MCForecastTools.py:117: PerformanceWarning: DataFrame is highly fragmented.  This is usually the result of calling `frame.insert` many times, which has poor performance.  Consider joining all columns at once using pd.concat(axis=1) instead. To get a de-fragmented frame, use `newframe = frame.copy()`\n",
      "  portfolio_cumulative_returns[n] = (1 + sim_df.fillna(0)).cumprod()\n",
      "C:\\Users\\ryanr\\Desktop\\FinTech-Workspace\\Challenges\\Module_05_Challenge\\financial_planner\\MCForecastTools.py:117: PerformanceWarning: DataFrame is highly fragmented.  This is usually the result of calling `frame.insert` many times, which has poor performance.  Consider joining all columns at once using pd.concat(axis=1) instead. To get a de-fragmented frame, use `newframe = frame.copy()`\n",
      "  portfolio_cumulative_returns[n] = (1 + sim_df.fillna(0)).cumprod()\n",
      "C:\\Users\\ryanr\\Desktop\\FinTech-Workspace\\Challenges\\Module_05_Challenge\\financial_planner\\MCForecastTools.py:117: PerformanceWarning: DataFrame is highly fragmented.  This is usually the result of calling `frame.insert` many times, which has poor performance.  Consider joining all columns at once using pd.concat(axis=1) instead. To get a de-fragmented frame, use `newframe = frame.copy()`\n",
      "  portfolio_cumulative_returns[n] = (1 + sim_df.fillna(0)).cumprod()\n",
      "C:\\Users\\ryanr\\Desktop\\FinTech-Workspace\\Challenges\\Module_05_Challenge\\financial_planner\\MCForecastTools.py:117: PerformanceWarning: DataFrame is highly fragmented.  This is usually the result of calling `frame.insert` many times, which has poor performance.  Consider joining all columns at once using pd.concat(axis=1) instead. To get a de-fragmented frame, use `newframe = frame.copy()`\n",
      "  portfolio_cumulative_returns[n] = (1 + sim_df.fillna(0)).cumprod()\n",
      "C:\\Users\\ryanr\\Desktop\\FinTech-Workspace\\Challenges\\Module_05_Challenge\\financial_planner\\MCForecastTools.py:117: PerformanceWarning: DataFrame is highly fragmented.  This is usually the result of calling `frame.insert` many times, which has poor performance.  Consider joining all columns at once using pd.concat(axis=1) instead. To get a de-fragmented frame, use `newframe = frame.copy()`\n",
      "  portfolio_cumulative_returns[n] = (1 + sim_df.fillna(0)).cumprod()\n",
      "C:\\Users\\ryanr\\Desktop\\FinTech-Workspace\\Challenges\\Module_05_Challenge\\financial_planner\\MCForecastTools.py:117: PerformanceWarning: DataFrame is highly fragmented.  This is usually the result of calling `frame.insert` many times, which has poor performance.  Consider joining all columns at once using pd.concat(axis=1) instead. To get a de-fragmented frame, use `newframe = frame.copy()`\n",
      "  portfolio_cumulative_returns[n] = (1 + sim_df.fillna(0)).cumprod()\n",
      "C:\\Users\\ryanr\\Desktop\\FinTech-Workspace\\Challenges\\Module_05_Challenge\\financial_planner\\MCForecastTools.py:117: PerformanceWarning: DataFrame is highly fragmented.  This is usually the result of calling `frame.insert` many times, which has poor performance.  Consider joining all columns at once using pd.concat(axis=1) instead. To get a de-fragmented frame, use `newframe = frame.copy()`\n",
      "  portfolio_cumulative_returns[n] = (1 + sim_df.fillna(0)).cumprod()\n",
      "C:\\Users\\ryanr\\Desktop\\FinTech-Workspace\\Challenges\\Module_05_Challenge\\financial_planner\\MCForecastTools.py:117: PerformanceWarning: DataFrame is highly fragmented.  This is usually the result of calling `frame.insert` many times, which has poor performance.  Consider joining all columns at once using pd.concat(axis=1) instead. To get a de-fragmented frame, use `newframe = frame.copy()`\n",
      "  portfolio_cumulative_returns[n] = (1 + sim_df.fillna(0)).cumprod()\n",
      "C:\\Users\\ryanr\\Desktop\\FinTech-Workspace\\Challenges\\Module_05_Challenge\\financial_planner\\MCForecastTools.py:117: PerformanceWarning: DataFrame is highly fragmented.  This is usually the result of calling `frame.insert` many times, which has poor performance.  Consider joining all columns at once using pd.concat(axis=1) instead. To get a de-fragmented frame, use `newframe = frame.copy()`\n",
      "  portfolio_cumulative_returns[n] = (1 + sim_df.fillna(0)).cumprod()\n",
      "C:\\Users\\ryanr\\Desktop\\FinTech-Workspace\\Challenges\\Module_05_Challenge\\financial_planner\\MCForecastTools.py:117: PerformanceWarning: DataFrame is highly fragmented.  This is usually the result of calling `frame.insert` many times, which has poor performance.  Consider joining all columns at once using pd.concat(axis=1) instead. To get a de-fragmented frame, use `newframe = frame.copy()`\n",
      "  portfolio_cumulative_returns[n] = (1 + sim_df.fillna(0)).cumprod()\n"
     ]
    },
    {
     "name": "stdout",
     "output_type": "stream",
     "text": [
      "Running Monte Carlo simulation number 350.\n"
     ]
    },
    {
     "name": "stderr",
     "output_type": "stream",
     "text": [
      "C:\\Users\\ryanr\\Desktop\\FinTech-Workspace\\Challenges\\Module_05_Challenge\\financial_planner\\MCForecastTools.py:117: PerformanceWarning: DataFrame is highly fragmented.  This is usually the result of calling `frame.insert` many times, which has poor performance.  Consider joining all columns at once using pd.concat(axis=1) instead. To get a de-fragmented frame, use `newframe = frame.copy()`\n",
      "  portfolio_cumulative_returns[n] = (1 + sim_df.fillna(0)).cumprod()\n",
      "C:\\Users\\ryanr\\Desktop\\FinTech-Workspace\\Challenges\\Module_05_Challenge\\financial_planner\\MCForecastTools.py:117: PerformanceWarning: DataFrame is highly fragmented.  This is usually the result of calling `frame.insert` many times, which has poor performance.  Consider joining all columns at once using pd.concat(axis=1) instead. To get a de-fragmented frame, use `newframe = frame.copy()`\n",
      "  portfolio_cumulative_returns[n] = (1 + sim_df.fillna(0)).cumprod()\n",
      "C:\\Users\\ryanr\\Desktop\\FinTech-Workspace\\Challenges\\Module_05_Challenge\\financial_planner\\MCForecastTools.py:117: PerformanceWarning: DataFrame is highly fragmented.  This is usually the result of calling `frame.insert` many times, which has poor performance.  Consider joining all columns at once using pd.concat(axis=1) instead. To get a de-fragmented frame, use `newframe = frame.copy()`\n",
      "  portfolio_cumulative_returns[n] = (1 + sim_df.fillna(0)).cumprod()\n",
      "C:\\Users\\ryanr\\Desktop\\FinTech-Workspace\\Challenges\\Module_05_Challenge\\financial_planner\\MCForecastTools.py:117: PerformanceWarning: DataFrame is highly fragmented.  This is usually the result of calling `frame.insert` many times, which has poor performance.  Consider joining all columns at once using pd.concat(axis=1) instead. To get a de-fragmented frame, use `newframe = frame.copy()`\n",
      "  portfolio_cumulative_returns[n] = (1 + sim_df.fillna(0)).cumprod()\n",
      "C:\\Users\\ryanr\\Desktop\\FinTech-Workspace\\Challenges\\Module_05_Challenge\\financial_planner\\MCForecastTools.py:117: PerformanceWarning: DataFrame is highly fragmented.  This is usually the result of calling `frame.insert` many times, which has poor performance.  Consider joining all columns at once using pd.concat(axis=1) instead. To get a de-fragmented frame, use `newframe = frame.copy()`\n",
      "  portfolio_cumulative_returns[n] = (1 + sim_df.fillna(0)).cumprod()\n",
      "C:\\Users\\ryanr\\Desktop\\FinTech-Workspace\\Challenges\\Module_05_Challenge\\financial_planner\\MCForecastTools.py:117: PerformanceWarning: DataFrame is highly fragmented.  This is usually the result of calling `frame.insert` many times, which has poor performance.  Consider joining all columns at once using pd.concat(axis=1) instead. To get a de-fragmented frame, use `newframe = frame.copy()`\n",
      "  portfolio_cumulative_returns[n] = (1 + sim_df.fillna(0)).cumprod()\n",
      "C:\\Users\\ryanr\\Desktop\\FinTech-Workspace\\Challenges\\Module_05_Challenge\\financial_planner\\MCForecastTools.py:117: PerformanceWarning: DataFrame is highly fragmented.  This is usually the result of calling `frame.insert` many times, which has poor performance.  Consider joining all columns at once using pd.concat(axis=1) instead. To get a de-fragmented frame, use `newframe = frame.copy()`\n",
      "  portfolio_cumulative_returns[n] = (1 + sim_df.fillna(0)).cumprod()\n",
      "C:\\Users\\ryanr\\Desktop\\FinTech-Workspace\\Challenges\\Module_05_Challenge\\financial_planner\\MCForecastTools.py:117: PerformanceWarning: DataFrame is highly fragmented.  This is usually the result of calling `frame.insert` many times, which has poor performance.  Consider joining all columns at once using pd.concat(axis=1) instead. To get a de-fragmented frame, use `newframe = frame.copy()`\n",
      "  portfolio_cumulative_returns[n] = (1 + sim_df.fillna(0)).cumprod()\n"
     ]
    },
    {
     "name": "stdout",
     "output_type": "stream",
     "text": [
      "Running Monte Carlo simulation number 360.\n"
     ]
    },
    {
     "name": "stderr",
     "output_type": "stream",
     "text": [
      "C:\\Users\\ryanr\\Desktop\\FinTech-Workspace\\Challenges\\Module_05_Challenge\\financial_planner\\MCForecastTools.py:117: PerformanceWarning: DataFrame is highly fragmented.  This is usually the result of calling `frame.insert` many times, which has poor performance.  Consider joining all columns at once using pd.concat(axis=1) instead. To get a de-fragmented frame, use `newframe = frame.copy()`\n",
      "  portfolio_cumulative_returns[n] = (1 + sim_df.fillna(0)).cumprod()\n",
      "C:\\Users\\ryanr\\Desktop\\FinTech-Workspace\\Challenges\\Module_05_Challenge\\financial_planner\\MCForecastTools.py:117: PerformanceWarning: DataFrame is highly fragmented.  This is usually the result of calling `frame.insert` many times, which has poor performance.  Consider joining all columns at once using pd.concat(axis=1) instead. To get a de-fragmented frame, use `newframe = frame.copy()`\n",
      "  portfolio_cumulative_returns[n] = (1 + sim_df.fillna(0)).cumprod()\n",
      "C:\\Users\\ryanr\\Desktop\\FinTech-Workspace\\Challenges\\Module_05_Challenge\\financial_planner\\MCForecastTools.py:117: PerformanceWarning: DataFrame is highly fragmented.  This is usually the result of calling `frame.insert` many times, which has poor performance.  Consider joining all columns at once using pd.concat(axis=1) instead. To get a de-fragmented frame, use `newframe = frame.copy()`\n",
      "  portfolio_cumulative_returns[n] = (1 + sim_df.fillna(0)).cumprod()\n",
      "C:\\Users\\ryanr\\Desktop\\FinTech-Workspace\\Challenges\\Module_05_Challenge\\financial_planner\\MCForecastTools.py:117: PerformanceWarning: DataFrame is highly fragmented.  This is usually the result of calling `frame.insert` many times, which has poor performance.  Consider joining all columns at once using pd.concat(axis=1) instead. To get a de-fragmented frame, use `newframe = frame.copy()`\n",
      "  portfolio_cumulative_returns[n] = (1 + sim_df.fillna(0)).cumprod()\n",
      "C:\\Users\\ryanr\\Desktop\\FinTech-Workspace\\Challenges\\Module_05_Challenge\\financial_planner\\MCForecastTools.py:117: PerformanceWarning: DataFrame is highly fragmented.  This is usually the result of calling `frame.insert` many times, which has poor performance.  Consider joining all columns at once using pd.concat(axis=1) instead. To get a de-fragmented frame, use `newframe = frame.copy()`\n",
      "  portfolio_cumulative_returns[n] = (1 + sim_df.fillna(0)).cumprod()\n",
      "C:\\Users\\ryanr\\Desktop\\FinTech-Workspace\\Challenges\\Module_05_Challenge\\financial_planner\\MCForecastTools.py:117: PerformanceWarning: DataFrame is highly fragmented.  This is usually the result of calling `frame.insert` many times, which has poor performance.  Consider joining all columns at once using pd.concat(axis=1) instead. To get a de-fragmented frame, use `newframe = frame.copy()`\n",
      "  portfolio_cumulative_returns[n] = (1 + sim_df.fillna(0)).cumprod()\n",
      "C:\\Users\\ryanr\\Desktop\\FinTech-Workspace\\Challenges\\Module_05_Challenge\\financial_planner\\MCForecastTools.py:117: PerformanceWarning: DataFrame is highly fragmented.  This is usually the result of calling `frame.insert` many times, which has poor performance.  Consider joining all columns at once using pd.concat(axis=1) instead. To get a de-fragmented frame, use `newframe = frame.copy()`\n",
      "  portfolio_cumulative_returns[n] = (1 + sim_df.fillna(0)).cumprod()\n",
      "C:\\Users\\ryanr\\Desktop\\FinTech-Workspace\\Challenges\\Module_05_Challenge\\financial_planner\\MCForecastTools.py:117: PerformanceWarning: DataFrame is highly fragmented.  This is usually the result of calling `frame.insert` many times, which has poor performance.  Consider joining all columns at once using pd.concat(axis=1) instead. To get a de-fragmented frame, use `newframe = frame.copy()`\n",
      "  portfolio_cumulative_returns[n] = (1 + sim_df.fillna(0)).cumprod()\n",
      "C:\\Users\\ryanr\\Desktop\\FinTech-Workspace\\Challenges\\Module_05_Challenge\\financial_planner\\MCForecastTools.py:117: PerformanceWarning: DataFrame is highly fragmented.  This is usually the result of calling `frame.insert` many times, which has poor performance.  Consider joining all columns at once using pd.concat(axis=1) instead. To get a de-fragmented frame, use `newframe = frame.copy()`\n",
      "  portfolio_cumulative_returns[n] = (1 + sim_df.fillna(0)).cumprod()\n",
      "C:\\Users\\ryanr\\Desktop\\FinTech-Workspace\\Challenges\\Module_05_Challenge\\financial_planner\\MCForecastTools.py:117: PerformanceWarning: DataFrame is highly fragmented.  This is usually the result of calling `frame.insert` many times, which has poor performance.  Consider joining all columns at once using pd.concat(axis=1) instead. To get a de-fragmented frame, use `newframe = frame.copy()`\n",
      "  portfolio_cumulative_returns[n] = (1 + sim_df.fillna(0)).cumprod()\n",
      "C:\\Users\\ryanr\\Desktop\\FinTech-Workspace\\Challenges\\Module_05_Challenge\\financial_planner\\MCForecastTools.py:117: PerformanceWarning: DataFrame is highly fragmented.  This is usually the result of calling `frame.insert` many times, which has poor performance.  Consider joining all columns at once using pd.concat(axis=1) instead. To get a de-fragmented frame, use `newframe = frame.copy()`\n",
      "  portfolio_cumulative_returns[n] = (1 + sim_df.fillna(0)).cumprod()\n",
      "C:\\Users\\ryanr\\Desktop\\FinTech-Workspace\\Challenges\\Module_05_Challenge\\financial_planner\\MCForecastTools.py:117: PerformanceWarning: DataFrame is highly fragmented.  This is usually the result of calling `frame.insert` many times, which has poor performance.  Consider joining all columns at once using pd.concat(axis=1) instead. To get a de-fragmented frame, use `newframe = frame.copy()`\n",
      "  portfolio_cumulative_returns[n] = (1 + sim_df.fillna(0)).cumprod()\n"
     ]
    },
    {
     "name": "stdout",
     "output_type": "stream",
     "text": [
      "Running Monte Carlo simulation number 370.\n"
     ]
    },
    {
     "name": "stderr",
     "output_type": "stream",
     "text": [
      "C:\\Users\\ryanr\\Desktop\\FinTech-Workspace\\Challenges\\Module_05_Challenge\\financial_planner\\MCForecastTools.py:117: PerformanceWarning: DataFrame is highly fragmented.  This is usually the result of calling `frame.insert` many times, which has poor performance.  Consider joining all columns at once using pd.concat(axis=1) instead. To get a de-fragmented frame, use `newframe = frame.copy()`\n",
      "  portfolio_cumulative_returns[n] = (1 + sim_df.fillna(0)).cumprod()\n",
      "C:\\Users\\ryanr\\Desktop\\FinTech-Workspace\\Challenges\\Module_05_Challenge\\financial_planner\\MCForecastTools.py:117: PerformanceWarning: DataFrame is highly fragmented.  This is usually the result of calling `frame.insert` many times, which has poor performance.  Consider joining all columns at once using pd.concat(axis=1) instead. To get a de-fragmented frame, use `newframe = frame.copy()`\n",
      "  portfolio_cumulative_returns[n] = (1 + sim_df.fillna(0)).cumprod()\n",
      "C:\\Users\\ryanr\\Desktop\\FinTech-Workspace\\Challenges\\Module_05_Challenge\\financial_planner\\MCForecastTools.py:117: PerformanceWarning: DataFrame is highly fragmented.  This is usually the result of calling `frame.insert` many times, which has poor performance.  Consider joining all columns at once using pd.concat(axis=1) instead. To get a de-fragmented frame, use `newframe = frame.copy()`\n",
      "  portfolio_cumulative_returns[n] = (1 + sim_df.fillna(0)).cumprod()\n",
      "C:\\Users\\ryanr\\Desktop\\FinTech-Workspace\\Challenges\\Module_05_Challenge\\financial_planner\\MCForecastTools.py:117: PerformanceWarning: DataFrame is highly fragmented.  This is usually the result of calling `frame.insert` many times, which has poor performance.  Consider joining all columns at once using pd.concat(axis=1) instead. To get a de-fragmented frame, use `newframe = frame.copy()`\n",
      "  portfolio_cumulative_returns[n] = (1 + sim_df.fillna(0)).cumprod()\n",
      "C:\\Users\\ryanr\\Desktop\\FinTech-Workspace\\Challenges\\Module_05_Challenge\\financial_planner\\MCForecastTools.py:117: PerformanceWarning: DataFrame is highly fragmented.  This is usually the result of calling `frame.insert` many times, which has poor performance.  Consider joining all columns at once using pd.concat(axis=1) instead. To get a de-fragmented frame, use `newframe = frame.copy()`\n",
      "  portfolio_cumulative_returns[n] = (1 + sim_df.fillna(0)).cumprod()\n",
      "C:\\Users\\ryanr\\Desktop\\FinTech-Workspace\\Challenges\\Module_05_Challenge\\financial_planner\\MCForecastTools.py:117: PerformanceWarning: DataFrame is highly fragmented.  This is usually the result of calling `frame.insert` many times, which has poor performance.  Consider joining all columns at once using pd.concat(axis=1) instead. To get a de-fragmented frame, use `newframe = frame.copy()`\n",
      "  portfolio_cumulative_returns[n] = (1 + sim_df.fillna(0)).cumprod()\n",
      "C:\\Users\\ryanr\\Desktop\\FinTech-Workspace\\Challenges\\Module_05_Challenge\\financial_planner\\MCForecastTools.py:117: PerformanceWarning: DataFrame is highly fragmented.  This is usually the result of calling `frame.insert` many times, which has poor performance.  Consider joining all columns at once using pd.concat(axis=1) instead. To get a de-fragmented frame, use `newframe = frame.copy()`\n",
      "  portfolio_cumulative_returns[n] = (1 + sim_df.fillna(0)).cumprod()\n",
      "C:\\Users\\ryanr\\Desktop\\FinTech-Workspace\\Challenges\\Module_05_Challenge\\financial_planner\\MCForecastTools.py:117: PerformanceWarning: DataFrame is highly fragmented.  This is usually the result of calling `frame.insert` many times, which has poor performance.  Consider joining all columns at once using pd.concat(axis=1) instead. To get a de-fragmented frame, use `newframe = frame.copy()`\n",
      "  portfolio_cumulative_returns[n] = (1 + sim_df.fillna(0)).cumprod()\n"
     ]
    },
    {
     "name": "stdout",
     "output_type": "stream",
     "text": [
      "Running Monte Carlo simulation number 380.\n"
     ]
    },
    {
     "name": "stderr",
     "output_type": "stream",
     "text": [
      "C:\\Users\\ryanr\\Desktop\\FinTech-Workspace\\Challenges\\Module_05_Challenge\\financial_planner\\MCForecastTools.py:117: PerformanceWarning: DataFrame is highly fragmented.  This is usually the result of calling `frame.insert` many times, which has poor performance.  Consider joining all columns at once using pd.concat(axis=1) instead. To get a de-fragmented frame, use `newframe = frame.copy()`\n",
      "  portfolio_cumulative_returns[n] = (1 + sim_df.fillna(0)).cumprod()\n",
      "C:\\Users\\ryanr\\Desktop\\FinTech-Workspace\\Challenges\\Module_05_Challenge\\financial_planner\\MCForecastTools.py:117: PerformanceWarning: DataFrame is highly fragmented.  This is usually the result of calling `frame.insert` many times, which has poor performance.  Consider joining all columns at once using pd.concat(axis=1) instead. To get a de-fragmented frame, use `newframe = frame.copy()`\n",
      "  portfolio_cumulative_returns[n] = (1 + sim_df.fillna(0)).cumprod()\n",
      "C:\\Users\\ryanr\\Desktop\\FinTech-Workspace\\Challenges\\Module_05_Challenge\\financial_planner\\MCForecastTools.py:117: PerformanceWarning: DataFrame is highly fragmented.  This is usually the result of calling `frame.insert` many times, which has poor performance.  Consider joining all columns at once using pd.concat(axis=1) instead. To get a de-fragmented frame, use `newframe = frame.copy()`\n",
      "  portfolio_cumulative_returns[n] = (1 + sim_df.fillna(0)).cumprod()\n",
      "C:\\Users\\ryanr\\Desktop\\FinTech-Workspace\\Challenges\\Module_05_Challenge\\financial_planner\\MCForecastTools.py:117: PerformanceWarning: DataFrame is highly fragmented.  This is usually the result of calling `frame.insert` many times, which has poor performance.  Consider joining all columns at once using pd.concat(axis=1) instead. To get a de-fragmented frame, use `newframe = frame.copy()`\n",
      "  portfolio_cumulative_returns[n] = (1 + sim_df.fillna(0)).cumprod()\n",
      "C:\\Users\\ryanr\\Desktop\\FinTech-Workspace\\Challenges\\Module_05_Challenge\\financial_planner\\MCForecastTools.py:117: PerformanceWarning: DataFrame is highly fragmented.  This is usually the result of calling `frame.insert` many times, which has poor performance.  Consider joining all columns at once using pd.concat(axis=1) instead. To get a de-fragmented frame, use `newframe = frame.copy()`\n",
      "  portfolio_cumulative_returns[n] = (1 + sim_df.fillna(0)).cumprod()\n",
      "C:\\Users\\ryanr\\Desktop\\FinTech-Workspace\\Challenges\\Module_05_Challenge\\financial_planner\\MCForecastTools.py:117: PerformanceWarning: DataFrame is highly fragmented.  This is usually the result of calling `frame.insert` many times, which has poor performance.  Consider joining all columns at once using pd.concat(axis=1) instead. To get a de-fragmented frame, use `newframe = frame.copy()`\n",
      "  portfolio_cumulative_returns[n] = (1 + sim_df.fillna(0)).cumprod()\n",
      "C:\\Users\\ryanr\\Desktop\\FinTech-Workspace\\Challenges\\Module_05_Challenge\\financial_planner\\MCForecastTools.py:117: PerformanceWarning: DataFrame is highly fragmented.  This is usually the result of calling `frame.insert` many times, which has poor performance.  Consider joining all columns at once using pd.concat(axis=1) instead. To get a de-fragmented frame, use `newframe = frame.copy()`\n",
      "  portfolio_cumulative_returns[n] = (1 + sim_df.fillna(0)).cumprod()\n",
      "C:\\Users\\ryanr\\Desktop\\FinTech-Workspace\\Challenges\\Module_05_Challenge\\financial_planner\\MCForecastTools.py:117: PerformanceWarning: DataFrame is highly fragmented.  This is usually the result of calling `frame.insert` many times, which has poor performance.  Consider joining all columns at once using pd.concat(axis=1) instead. To get a de-fragmented frame, use `newframe = frame.copy()`\n",
      "  portfolio_cumulative_returns[n] = (1 + sim_df.fillna(0)).cumprod()\n",
      "C:\\Users\\ryanr\\Desktop\\FinTech-Workspace\\Challenges\\Module_05_Challenge\\financial_planner\\MCForecastTools.py:117: PerformanceWarning: DataFrame is highly fragmented.  This is usually the result of calling `frame.insert` many times, which has poor performance.  Consider joining all columns at once using pd.concat(axis=1) instead. To get a de-fragmented frame, use `newframe = frame.copy()`\n",
      "  portfolio_cumulative_returns[n] = (1 + sim_df.fillna(0)).cumprod()\n",
      "C:\\Users\\ryanr\\Desktop\\FinTech-Workspace\\Challenges\\Module_05_Challenge\\financial_planner\\MCForecastTools.py:117: PerformanceWarning: DataFrame is highly fragmented.  This is usually the result of calling `frame.insert` many times, which has poor performance.  Consider joining all columns at once using pd.concat(axis=1) instead. To get a de-fragmented frame, use `newframe = frame.copy()`\n",
      "  portfolio_cumulative_returns[n] = (1 + sim_df.fillna(0)).cumprod()\n"
     ]
    },
    {
     "name": "stdout",
     "output_type": "stream",
     "text": [
      "Running Monte Carlo simulation number 390.\n"
     ]
    },
    {
     "name": "stderr",
     "output_type": "stream",
     "text": [
      "C:\\Users\\ryanr\\Desktop\\FinTech-Workspace\\Challenges\\Module_05_Challenge\\financial_planner\\MCForecastTools.py:117: PerformanceWarning: DataFrame is highly fragmented.  This is usually the result of calling `frame.insert` many times, which has poor performance.  Consider joining all columns at once using pd.concat(axis=1) instead. To get a de-fragmented frame, use `newframe = frame.copy()`\n",
      "  portfolio_cumulative_returns[n] = (1 + sim_df.fillna(0)).cumprod()\n",
      "C:\\Users\\ryanr\\Desktop\\FinTech-Workspace\\Challenges\\Module_05_Challenge\\financial_planner\\MCForecastTools.py:117: PerformanceWarning: DataFrame is highly fragmented.  This is usually the result of calling `frame.insert` many times, which has poor performance.  Consider joining all columns at once using pd.concat(axis=1) instead. To get a de-fragmented frame, use `newframe = frame.copy()`\n",
      "  portfolio_cumulative_returns[n] = (1 + sim_df.fillna(0)).cumprod()\n",
      "C:\\Users\\ryanr\\Desktop\\FinTech-Workspace\\Challenges\\Module_05_Challenge\\financial_planner\\MCForecastTools.py:117: PerformanceWarning: DataFrame is highly fragmented.  This is usually the result of calling `frame.insert` many times, which has poor performance.  Consider joining all columns at once using pd.concat(axis=1) instead. To get a de-fragmented frame, use `newframe = frame.copy()`\n",
      "  portfolio_cumulative_returns[n] = (1 + sim_df.fillna(0)).cumprod()\n",
      "C:\\Users\\ryanr\\Desktop\\FinTech-Workspace\\Challenges\\Module_05_Challenge\\financial_planner\\MCForecastTools.py:117: PerformanceWarning: DataFrame is highly fragmented.  This is usually the result of calling `frame.insert` many times, which has poor performance.  Consider joining all columns at once using pd.concat(axis=1) instead. To get a de-fragmented frame, use `newframe = frame.copy()`\n",
      "  portfolio_cumulative_returns[n] = (1 + sim_df.fillna(0)).cumprod()\n",
      "C:\\Users\\ryanr\\Desktop\\FinTech-Workspace\\Challenges\\Module_05_Challenge\\financial_planner\\MCForecastTools.py:117: PerformanceWarning: DataFrame is highly fragmented.  This is usually the result of calling `frame.insert` many times, which has poor performance.  Consider joining all columns at once using pd.concat(axis=1) instead. To get a de-fragmented frame, use `newframe = frame.copy()`\n",
      "  portfolio_cumulative_returns[n] = (1 + sim_df.fillna(0)).cumprod()\n",
      "C:\\Users\\ryanr\\Desktop\\FinTech-Workspace\\Challenges\\Module_05_Challenge\\financial_planner\\MCForecastTools.py:117: PerformanceWarning: DataFrame is highly fragmented.  This is usually the result of calling `frame.insert` many times, which has poor performance.  Consider joining all columns at once using pd.concat(axis=1) instead. To get a de-fragmented frame, use `newframe = frame.copy()`\n",
      "  portfolio_cumulative_returns[n] = (1 + sim_df.fillna(0)).cumprod()\n",
      "C:\\Users\\ryanr\\Desktop\\FinTech-Workspace\\Challenges\\Module_05_Challenge\\financial_planner\\MCForecastTools.py:117: PerformanceWarning: DataFrame is highly fragmented.  This is usually the result of calling `frame.insert` many times, which has poor performance.  Consider joining all columns at once using pd.concat(axis=1) instead. To get a de-fragmented frame, use `newframe = frame.copy()`\n",
      "  portfolio_cumulative_returns[n] = (1 + sim_df.fillna(0)).cumprod()\n",
      "C:\\Users\\ryanr\\Desktop\\FinTech-Workspace\\Challenges\\Module_05_Challenge\\financial_planner\\MCForecastTools.py:117: PerformanceWarning: DataFrame is highly fragmented.  This is usually the result of calling `frame.insert` many times, which has poor performance.  Consider joining all columns at once using pd.concat(axis=1) instead. To get a de-fragmented frame, use `newframe = frame.copy()`\n",
      "  portfolio_cumulative_returns[n] = (1 + sim_df.fillna(0)).cumprod()\n",
      "C:\\Users\\ryanr\\Desktop\\FinTech-Workspace\\Challenges\\Module_05_Challenge\\financial_planner\\MCForecastTools.py:117: PerformanceWarning: DataFrame is highly fragmented.  This is usually the result of calling `frame.insert` many times, which has poor performance.  Consider joining all columns at once using pd.concat(axis=1) instead. To get a de-fragmented frame, use `newframe = frame.copy()`\n",
      "  portfolio_cumulative_returns[n] = (1 + sim_df.fillna(0)).cumprod()\n",
      "C:\\Users\\ryanr\\Desktop\\FinTech-Workspace\\Challenges\\Module_05_Challenge\\financial_planner\\MCForecastTools.py:117: PerformanceWarning: DataFrame is highly fragmented.  This is usually the result of calling `frame.insert` many times, which has poor performance.  Consider joining all columns at once using pd.concat(axis=1) instead. To get a de-fragmented frame, use `newframe = frame.copy()`\n",
      "  portfolio_cumulative_returns[n] = (1 + sim_df.fillna(0)).cumprod()\n"
     ]
    },
    {
     "name": "stdout",
     "output_type": "stream",
     "text": [
      "Running Monte Carlo simulation number 400.\n"
     ]
    },
    {
     "name": "stderr",
     "output_type": "stream",
     "text": [
      "C:\\Users\\ryanr\\Desktop\\FinTech-Workspace\\Challenges\\Module_05_Challenge\\financial_planner\\MCForecastTools.py:117: PerformanceWarning: DataFrame is highly fragmented.  This is usually the result of calling `frame.insert` many times, which has poor performance.  Consider joining all columns at once using pd.concat(axis=1) instead. To get a de-fragmented frame, use `newframe = frame.copy()`\n",
      "  portfolio_cumulative_returns[n] = (1 + sim_df.fillna(0)).cumprod()\n",
      "C:\\Users\\ryanr\\Desktop\\FinTech-Workspace\\Challenges\\Module_05_Challenge\\financial_planner\\MCForecastTools.py:117: PerformanceWarning: DataFrame is highly fragmented.  This is usually the result of calling `frame.insert` many times, which has poor performance.  Consider joining all columns at once using pd.concat(axis=1) instead. To get a de-fragmented frame, use `newframe = frame.copy()`\n",
      "  portfolio_cumulative_returns[n] = (1 + sim_df.fillna(0)).cumprod()\n",
      "C:\\Users\\ryanr\\Desktop\\FinTech-Workspace\\Challenges\\Module_05_Challenge\\financial_planner\\MCForecastTools.py:117: PerformanceWarning: DataFrame is highly fragmented.  This is usually the result of calling `frame.insert` many times, which has poor performance.  Consider joining all columns at once using pd.concat(axis=1) instead. To get a de-fragmented frame, use `newframe = frame.copy()`\n",
      "  portfolio_cumulative_returns[n] = (1 + sim_df.fillna(0)).cumprod()\n",
      "C:\\Users\\ryanr\\Desktop\\FinTech-Workspace\\Challenges\\Module_05_Challenge\\financial_planner\\MCForecastTools.py:117: PerformanceWarning: DataFrame is highly fragmented.  This is usually the result of calling `frame.insert` many times, which has poor performance.  Consider joining all columns at once using pd.concat(axis=1) instead. To get a de-fragmented frame, use `newframe = frame.copy()`\n",
      "  portfolio_cumulative_returns[n] = (1 + sim_df.fillna(0)).cumprod()\n",
      "C:\\Users\\ryanr\\Desktop\\FinTech-Workspace\\Challenges\\Module_05_Challenge\\financial_planner\\MCForecastTools.py:117: PerformanceWarning: DataFrame is highly fragmented.  This is usually the result of calling `frame.insert` many times, which has poor performance.  Consider joining all columns at once using pd.concat(axis=1) instead. To get a de-fragmented frame, use `newframe = frame.copy()`\n",
      "  portfolio_cumulative_returns[n] = (1 + sim_df.fillna(0)).cumprod()\n",
      "C:\\Users\\ryanr\\Desktop\\FinTech-Workspace\\Challenges\\Module_05_Challenge\\financial_planner\\MCForecastTools.py:117: PerformanceWarning: DataFrame is highly fragmented.  This is usually the result of calling `frame.insert` many times, which has poor performance.  Consider joining all columns at once using pd.concat(axis=1) instead. To get a de-fragmented frame, use `newframe = frame.copy()`\n",
      "  portfolio_cumulative_returns[n] = (1 + sim_df.fillna(0)).cumprod()\n",
      "C:\\Users\\ryanr\\Desktop\\FinTech-Workspace\\Challenges\\Module_05_Challenge\\financial_planner\\MCForecastTools.py:117: PerformanceWarning: DataFrame is highly fragmented.  This is usually the result of calling `frame.insert` many times, which has poor performance.  Consider joining all columns at once using pd.concat(axis=1) instead. To get a de-fragmented frame, use `newframe = frame.copy()`\n",
      "  portfolio_cumulative_returns[n] = (1 + sim_df.fillna(0)).cumprod()\n",
      "C:\\Users\\ryanr\\Desktop\\FinTech-Workspace\\Challenges\\Module_05_Challenge\\financial_planner\\MCForecastTools.py:117: PerformanceWarning: DataFrame is highly fragmented.  This is usually the result of calling `frame.insert` many times, which has poor performance.  Consider joining all columns at once using pd.concat(axis=1) instead. To get a de-fragmented frame, use `newframe = frame.copy()`\n",
      "  portfolio_cumulative_returns[n] = (1 + sim_df.fillna(0)).cumprod()\n",
      "C:\\Users\\ryanr\\Desktop\\FinTech-Workspace\\Challenges\\Module_05_Challenge\\financial_planner\\MCForecastTools.py:117: PerformanceWarning: DataFrame is highly fragmented.  This is usually the result of calling `frame.insert` many times, which has poor performance.  Consider joining all columns at once using pd.concat(axis=1) instead. To get a de-fragmented frame, use `newframe = frame.copy()`\n",
      "  portfolio_cumulative_returns[n] = (1 + sim_df.fillna(0)).cumprod()\n",
      "C:\\Users\\ryanr\\Desktop\\FinTech-Workspace\\Challenges\\Module_05_Challenge\\financial_planner\\MCForecastTools.py:117: PerformanceWarning: DataFrame is highly fragmented.  This is usually the result of calling `frame.insert` many times, which has poor performance.  Consider joining all columns at once using pd.concat(axis=1) instead. To get a de-fragmented frame, use `newframe = frame.copy()`\n",
      "  portfolio_cumulative_returns[n] = (1 + sim_df.fillna(0)).cumprod()\n"
     ]
    },
    {
     "name": "stdout",
     "output_type": "stream",
     "text": [
      "Running Monte Carlo simulation number 410.\n"
     ]
    },
    {
     "name": "stderr",
     "output_type": "stream",
     "text": [
      "C:\\Users\\ryanr\\Desktop\\FinTech-Workspace\\Challenges\\Module_05_Challenge\\financial_planner\\MCForecastTools.py:117: PerformanceWarning: DataFrame is highly fragmented.  This is usually the result of calling `frame.insert` many times, which has poor performance.  Consider joining all columns at once using pd.concat(axis=1) instead. To get a de-fragmented frame, use `newframe = frame.copy()`\n",
      "  portfolio_cumulative_returns[n] = (1 + sim_df.fillna(0)).cumprod()\n",
      "C:\\Users\\ryanr\\Desktop\\FinTech-Workspace\\Challenges\\Module_05_Challenge\\financial_planner\\MCForecastTools.py:117: PerformanceWarning: DataFrame is highly fragmented.  This is usually the result of calling `frame.insert` many times, which has poor performance.  Consider joining all columns at once using pd.concat(axis=1) instead. To get a de-fragmented frame, use `newframe = frame.copy()`\n",
      "  portfolio_cumulative_returns[n] = (1 + sim_df.fillna(0)).cumprod()\n",
      "C:\\Users\\ryanr\\Desktop\\FinTech-Workspace\\Challenges\\Module_05_Challenge\\financial_planner\\MCForecastTools.py:117: PerformanceWarning: DataFrame is highly fragmented.  This is usually the result of calling `frame.insert` many times, which has poor performance.  Consider joining all columns at once using pd.concat(axis=1) instead. To get a de-fragmented frame, use `newframe = frame.copy()`\n",
      "  portfolio_cumulative_returns[n] = (1 + sim_df.fillna(0)).cumprod()\n",
      "C:\\Users\\ryanr\\Desktop\\FinTech-Workspace\\Challenges\\Module_05_Challenge\\financial_planner\\MCForecastTools.py:117: PerformanceWarning: DataFrame is highly fragmented.  This is usually the result of calling `frame.insert` many times, which has poor performance.  Consider joining all columns at once using pd.concat(axis=1) instead. To get a de-fragmented frame, use `newframe = frame.copy()`\n",
      "  portfolio_cumulative_returns[n] = (1 + sim_df.fillna(0)).cumprod()\n",
      "C:\\Users\\ryanr\\Desktop\\FinTech-Workspace\\Challenges\\Module_05_Challenge\\financial_planner\\MCForecastTools.py:117: PerformanceWarning: DataFrame is highly fragmented.  This is usually the result of calling `frame.insert` many times, which has poor performance.  Consider joining all columns at once using pd.concat(axis=1) instead. To get a de-fragmented frame, use `newframe = frame.copy()`\n",
      "  portfolio_cumulative_returns[n] = (1 + sim_df.fillna(0)).cumprod()\n",
      "C:\\Users\\ryanr\\Desktop\\FinTech-Workspace\\Challenges\\Module_05_Challenge\\financial_planner\\MCForecastTools.py:117: PerformanceWarning: DataFrame is highly fragmented.  This is usually the result of calling `frame.insert` many times, which has poor performance.  Consider joining all columns at once using pd.concat(axis=1) instead. To get a de-fragmented frame, use `newframe = frame.copy()`\n",
      "  portfolio_cumulative_returns[n] = (1 + sim_df.fillna(0)).cumprod()\n",
      "C:\\Users\\ryanr\\Desktop\\FinTech-Workspace\\Challenges\\Module_05_Challenge\\financial_planner\\MCForecastTools.py:117: PerformanceWarning: DataFrame is highly fragmented.  This is usually the result of calling `frame.insert` many times, which has poor performance.  Consider joining all columns at once using pd.concat(axis=1) instead. To get a de-fragmented frame, use `newframe = frame.copy()`\n",
      "  portfolio_cumulative_returns[n] = (1 + sim_df.fillna(0)).cumprod()\n",
      "C:\\Users\\ryanr\\Desktop\\FinTech-Workspace\\Challenges\\Module_05_Challenge\\financial_planner\\MCForecastTools.py:117: PerformanceWarning: DataFrame is highly fragmented.  This is usually the result of calling `frame.insert` many times, which has poor performance.  Consider joining all columns at once using pd.concat(axis=1) instead. To get a de-fragmented frame, use `newframe = frame.copy()`\n",
      "  portfolio_cumulative_returns[n] = (1 + sim_df.fillna(0)).cumprod()\n",
      "C:\\Users\\ryanr\\Desktop\\FinTech-Workspace\\Challenges\\Module_05_Challenge\\financial_planner\\MCForecastTools.py:117: PerformanceWarning: DataFrame is highly fragmented.  This is usually the result of calling `frame.insert` many times, which has poor performance.  Consider joining all columns at once using pd.concat(axis=1) instead. To get a de-fragmented frame, use `newframe = frame.copy()`\n",
      "  portfolio_cumulative_returns[n] = (1 + sim_df.fillna(0)).cumprod()\n",
      "C:\\Users\\ryanr\\Desktop\\FinTech-Workspace\\Challenges\\Module_05_Challenge\\financial_planner\\MCForecastTools.py:117: PerformanceWarning: DataFrame is highly fragmented.  This is usually the result of calling `frame.insert` many times, which has poor performance.  Consider joining all columns at once using pd.concat(axis=1) instead. To get a de-fragmented frame, use `newframe = frame.copy()`\n",
      "  portfolio_cumulative_returns[n] = (1 + sim_df.fillna(0)).cumprod()\n"
     ]
    },
    {
     "name": "stdout",
     "output_type": "stream",
     "text": [
      "Running Monte Carlo simulation number 420.\n"
     ]
    },
    {
     "name": "stderr",
     "output_type": "stream",
     "text": [
      "C:\\Users\\ryanr\\Desktop\\FinTech-Workspace\\Challenges\\Module_05_Challenge\\financial_planner\\MCForecastTools.py:117: PerformanceWarning: DataFrame is highly fragmented.  This is usually the result of calling `frame.insert` many times, which has poor performance.  Consider joining all columns at once using pd.concat(axis=1) instead. To get a de-fragmented frame, use `newframe = frame.copy()`\n",
      "  portfolio_cumulative_returns[n] = (1 + sim_df.fillna(0)).cumprod()\n",
      "C:\\Users\\ryanr\\Desktop\\FinTech-Workspace\\Challenges\\Module_05_Challenge\\financial_planner\\MCForecastTools.py:117: PerformanceWarning: DataFrame is highly fragmented.  This is usually the result of calling `frame.insert` many times, which has poor performance.  Consider joining all columns at once using pd.concat(axis=1) instead. To get a de-fragmented frame, use `newframe = frame.copy()`\n",
      "  portfolio_cumulative_returns[n] = (1 + sim_df.fillna(0)).cumprod()\n",
      "C:\\Users\\ryanr\\Desktop\\FinTech-Workspace\\Challenges\\Module_05_Challenge\\financial_planner\\MCForecastTools.py:117: PerformanceWarning: DataFrame is highly fragmented.  This is usually the result of calling `frame.insert` many times, which has poor performance.  Consider joining all columns at once using pd.concat(axis=1) instead. To get a de-fragmented frame, use `newframe = frame.copy()`\n",
      "  portfolio_cumulative_returns[n] = (1 + sim_df.fillna(0)).cumprod()\n",
      "C:\\Users\\ryanr\\Desktop\\FinTech-Workspace\\Challenges\\Module_05_Challenge\\financial_planner\\MCForecastTools.py:117: PerformanceWarning: DataFrame is highly fragmented.  This is usually the result of calling `frame.insert` many times, which has poor performance.  Consider joining all columns at once using pd.concat(axis=1) instead. To get a de-fragmented frame, use `newframe = frame.copy()`\n",
      "  portfolio_cumulative_returns[n] = (1 + sim_df.fillna(0)).cumprod()\n",
      "C:\\Users\\ryanr\\Desktop\\FinTech-Workspace\\Challenges\\Module_05_Challenge\\financial_planner\\MCForecastTools.py:117: PerformanceWarning: DataFrame is highly fragmented.  This is usually the result of calling `frame.insert` many times, which has poor performance.  Consider joining all columns at once using pd.concat(axis=1) instead. To get a de-fragmented frame, use `newframe = frame.copy()`\n",
      "  portfolio_cumulative_returns[n] = (1 + sim_df.fillna(0)).cumprod()\n",
      "C:\\Users\\ryanr\\Desktop\\FinTech-Workspace\\Challenges\\Module_05_Challenge\\financial_planner\\MCForecastTools.py:117: PerformanceWarning: DataFrame is highly fragmented.  This is usually the result of calling `frame.insert` many times, which has poor performance.  Consider joining all columns at once using pd.concat(axis=1) instead. To get a de-fragmented frame, use `newframe = frame.copy()`\n",
      "  portfolio_cumulative_returns[n] = (1 + sim_df.fillna(0)).cumprod()\n",
      "C:\\Users\\ryanr\\Desktop\\FinTech-Workspace\\Challenges\\Module_05_Challenge\\financial_planner\\MCForecastTools.py:117: PerformanceWarning: DataFrame is highly fragmented.  This is usually the result of calling `frame.insert` many times, which has poor performance.  Consider joining all columns at once using pd.concat(axis=1) instead. To get a de-fragmented frame, use `newframe = frame.copy()`\n",
      "  portfolio_cumulative_returns[n] = (1 + sim_df.fillna(0)).cumprod()\n",
      "C:\\Users\\ryanr\\Desktop\\FinTech-Workspace\\Challenges\\Module_05_Challenge\\financial_planner\\MCForecastTools.py:117: PerformanceWarning: DataFrame is highly fragmented.  This is usually the result of calling `frame.insert` many times, which has poor performance.  Consider joining all columns at once using pd.concat(axis=1) instead. To get a de-fragmented frame, use `newframe = frame.copy()`\n",
      "  portfolio_cumulative_returns[n] = (1 + sim_df.fillna(0)).cumprod()\n",
      "C:\\Users\\ryanr\\Desktop\\FinTech-Workspace\\Challenges\\Module_05_Challenge\\financial_planner\\MCForecastTools.py:117: PerformanceWarning: DataFrame is highly fragmented.  This is usually the result of calling `frame.insert` many times, which has poor performance.  Consider joining all columns at once using pd.concat(axis=1) instead. To get a de-fragmented frame, use `newframe = frame.copy()`\n",
      "  portfolio_cumulative_returns[n] = (1 + sim_df.fillna(0)).cumprod()\n",
      "C:\\Users\\ryanr\\Desktop\\FinTech-Workspace\\Challenges\\Module_05_Challenge\\financial_planner\\MCForecastTools.py:117: PerformanceWarning: DataFrame is highly fragmented.  This is usually the result of calling `frame.insert` many times, which has poor performance.  Consider joining all columns at once using pd.concat(axis=1) instead. To get a de-fragmented frame, use `newframe = frame.copy()`\n",
      "  portfolio_cumulative_returns[n] = (1 + sim_df.fillna(0)).cumprod()\n",
      "C:\\Users\\ryanr\\Desktop\\FinTech-Workspace\\Challenges\\Module_05_Challenge\\financial_planner\\MCForecastTools.py:117: PerformanceWarning: DataFrame is highly fragmented.  This is usually the result of calling `frame.insert` many times, which has poor performance.  Consider joining all columns at once using pd.concat(axis=1) instead. To get a de-fragmented frame, use `newframe = frame.copy()`\n",
      "  portfolio_cumulative_returns[n] = (1 + sim_df.fillna(0)).cumprod()\n",
      "C:\\Users\\ryanr\\Desktop\\FinTech-Workspace\\Challenges\\Module_05_Challenge\\financial_planner\\MCForecastTools.py:117: PerformanceWarning: DataFrame is highly fragmented.  This is usually the result of calling `frame.insert` many times, which has poor performance.  Consider joining all columns at once using pd.concat(axis=1) instead. To get a de-fragmented frame, use `newframe = frame.copy()`\n",
      "  portfolio_cumulative_returns[n] = (1 + sim_df.fillna(0)).cumprod()\n"
     ]
    },
    {
     "name": "stdout",
     "output_type": "stream",
     "text": [
      "Running Monte Carlo simulation number 430.\n"
     ]
    },
    {
     "name": "stderr",
     "output_type": "stream",
     "text": [
      "C:\\Users\\ryanr\\Desktop\\FinTech-Workspace\\Challenges\\Module_05_Challenge\\financial_planner\\MCForecastTools.py:117: PerformanceWarning: DataFrame is highly fragmented.  This is usually the result of calling `frame.insert` many times, which has poor performance.  Consider joining all columns at once using pd.concat(axis=1) instead. To get a de-fragmented frame, use `newframe = frame.copy()`\n",
      "  portfolio_cumulative_returns[n] = (1 + sim_df.fillna(0)).cumprod()\n",
      "C:\\Users\\ryanr\\Desktop\\FinTech-Workspace\\Challenges\\Module_05_Challenge\\financial_planner\\MCForecastTools.py:117: PerformanceWarning: DataFrame is highly fragmented.  This is usually the result of calling `frame.insert` many times, which has poor performance.  Consider joining all columns at once using pd.concat(axis=1) instead. To get a de-fragmented frame, use `newframe = frame.copy()`\n",
      "  portfolio_cumulative_returns[n] = (1 + sim_df.fillna(0)).cumprod()\n",
      "C:\\Users\\ryanr\\Desktop\\FinTech-Workspace\\Challenges\\Module_05_Challenge\\financial_planner\\MCForecastTools.py:117: PerformanceWarning: DataFrame is highly fragmented.  This is usually the result of calling `frame.insert` many times, which has poor performance.  Consider joining all columns at once using pd.concat(axis=1) instead. To get a de-fragmented frame, use `newframe = frame.copy()`\n",
      "  portfolio_cumulative_returns[n] = (1 + sim_df.fillna(0)).cumprod()\n",
      "C:\\Users\\ryanr\\Desktop\\FinTech-Workspace\\Challenges\\Module_05_Challenge\\financial_planner\\MCForecastTools.py:117: PerformanceWarning: DataFrame is highly fragmented.  This is usually the result of calling `frame.insert` many times, which has poor performance.  Consider joining all columns at once using pd.concat(axis=1) instead. To get a de-fragmented frame, use `newframe = frame.copy()`\n",
      "  portfolio_cumulative_returns[n] = (1 + sim_df.fillna(0)).cumprod()\n",
      "C:\\Users\\ryanr\\Desktop\\FinTech-Workspace\\Challenges\\Module_05_Challenge\\financial_planner\\MCForecastTools.py:117: PerformanceWarning: DataFrame is highly fragmented.  This is usually the result of calling `frame.insert` many times, which has poor performance.  Consider joining all columns at once using pd.concat(axis=1) instead. To get a de-fragmented frame, use `newframe = frame.copy()`\n",
      "  portfolio_cumulative_returns[n] = (1 + sim_df.fillna(0)).cumprod()\n",
      "C:\\Users\\ryanr\\Desktop\\FinTech-Workspace\\Challenges\\Module_05_Challenge\\financial_planner\\MCForecastTools.py:117: PerformanceWarning: DataFrame is highly fragmented.  This is usually the result of calling `frame.insert` many times, which has poor performance.  Consider joining all columns at once using pd.concat(axis=1) instead. To get a de-fragmented frame, use `newframe = frame.copy()`\n",
      "  portfolio_cumulative_returns[n] = (1 + sim_df.fillna(0)).cumprod()\n",
      "C:\\Users\\ryanr\\Desktop\\FinTech-Workspace\\Challenges\\Module_05_Challenge\\financial_planner\\MCForecastTools.py:117: PerformanceWarning: DataFrame is highly fragmented.  This is usually the result of calling `frame.insert` many times, which has poor performance.  Consider joining all columns at once using pd.concat(axis=1) instead. To get a de-fragmented frame, use `newframe = frame.copy()`\n",
      "  portfolio_cumulative_returns[n] = (1 + sim_df.fillna(0)).cumprod()\n",
      "C:\\Users\\ryanr\\Desktop\\FinTech-Workspace\\Challenges\\Module_05_Challenge\\financial_planner\\MCForecastTools.py:117: PerformanceWarning: DataFrame is highly fragmented.  This is usually the result of calling `frame.insert` many times, which has poor performance.  Consider joining all columns at once using pd.concat(axis=1) instead. To get a de-fragmented frame, use `newframe = frame.copy()`\n",
      "  portfolio_cumulative_returns[n] = (1 + sim_df.fillna(0)).cumprod()\n",
      "C:\\Users\\ryanr\\Desktop\\FinTech-Workspace\\Challenges\\Module_05_Challenge\\financial_planner\\MCForecastTools.py:117: PerformanceWarning: DataFrame is highly fragmented.  This is usually the result of calling `frame.insert` many times, which has poor performance.  Consider joining all columns at once using pd.concat(axis=1) instead. To get a de-fragmented frame, use `newframe = frame.copy()`\n",
      "  portfolio_cumulative_returns[n] = (1 + sim_df.fillna(0)).cumprod()\n"
     ]
    },
    {
     "name": "stdout",
     "output_type": "stream",
     "text": [
      "Running Monte Carlo simulation number 440.\n"
     ]
    },
    {
     "name": "stderr",
     "output_type": "stream",
     "text": [
      "C:\\Users\\ryanr\\Desktop\\FinTech-Workspace\\Challenges\\Module_05_Challenge\\financial_planner\\MCForecastTools.py:117: PerformanceWarning: DataFrame is highly fragmented.  This is usually the result of calling `frame.insert` many times, which has poor performance.  Consider joining all columns at once using pd.concat(axis=1) instead. To get a de-fragmented frame, use `newframe = frame.copy()`\n",
      "  portfolio_cumulative_returns[n] = (1 + sim_df.fillna(0)).cumprod()\n",
      "C:\\Users\\ryanr\\Desktop\\FinTech-Workspace\\Challenges\\Module_05_Challenge\\financial_planner\\MCForecastTools.py:117: PerformanceWarning: DataFrame is highly fragmented.  This is usually the result of calling `frame.insert` many times, which has poor performance.  Consider joining all columns at once using pd.concat(axis=1) instead. To get a de-fragmented frame, use `newframe = frame.copy()`\n",
      "  portfolio_cumulative_returns[n] = (1 + sim_df.fillna(0)).cumprod()\n",
      "C:\\Users\\ryanr\\Desktop\\FinTech-Workspace\\Challenges\\Module_05_Challenge\\financial_planner\\MCForecastTools.py:117: PerformanceWarning: DataFrame is highly fragmented.  This is usually the result of calling `frame.insert` many times, which has poor performance.  Consider joining all columns at once using pd.concat(axis=1) instead. To get a de-fragmented frame, use `newframe = frame.copy()`\n",
      "  portfolio_cumulative_returns[n] = (1 + sim_df.fillna(0)).cumprod()\n",
      "C:\\Users\\ryanr\\Desktop\\FinTech-Workspace\\Challenges\\Module_05_Challenge\\financial_planner\\MCForecastTools.py:117: PerformanceWarning: DataFrame is highly fragmented.  This is usually the result of calling `frame.insert` many times, which has poor performance.  Consider joining all columns at once using pd.concat(axis=1) instead. To get a de-fragmented frame, use `newframe = frame.copy()`\n",
      "  portfolio_cumulative_returns[n] = (1 + sim_df.fillna(0)).cumprod()\n",
      "C:\\Users\\ryanr\\Desktop\\FinTech-Workspace\\Challenges\\Module_05_Challenge\\financial_planner\\MCForecastTools.py:117: PerformanceWarning: DataFrame is highly fragmented.  This is usually the result of calling `frame.insert` many times, which has poor performance.  Consider joining all columns at once using pd.concat(axis=1) instead. To get a de-fragmented frame, use `newframe = frame.copy()`\n",
      "  portfolio_cumulative_returns[n] = (1 + sim_df.fillna(0)).cumprod()\n",
      "C:\\Users\\ryanr\\Desktop\\FinTech-Workspace\\Challenges\\Module_05_Challenge\\financial_planner\\MCForecastTools.py:117: PerformanceWarning: DataFrame is highly fragmented.  This is usually the result of calling `frame.insert` many times, which has poor performance.  Consider joining all columns at once using pd.concat(axis=1) instead. To get a de-fragmented frame, use `newframe = frame.copy()`\n",
      "  portfolio_cumulative_returns[n] = (1 + sim_df.fillna(0)).cumprod()\n",
      "C:\\Users\\ryanr\\Desktop\\FinTech-Workspace\\Challenges\\Module_05_Challenge\\financial_planner\\MCForecastTools.py:117: PerformanceWarning: DataFrame is highly fragmented.  This is usually the result of calling `frame.insert` many times, which has poor performance.  Consider joining all columns at once using pd.concat(axis=1) instead. To get a de-fragmented frame, use `newframe = frame.copy()`\n",
      "  portfolio_cumulative_returns[n] = (1 + sim_df.fillna(0)).cumprod()\n",
      "C:\\Users\\ryanr\\Desktop\\FinTech-Workspace\\Challenges\\Module_05_Challenge\\financial_planner\\MCForecastTools.py:117: PerformanceWarning: DataFrame is highly fragmented.  This is usually the result of calling `frame.insert` many times, which has poor performance.  Consider joining all columns at once using pd.concat(axis=1) instead. To get a de-fragmented frame, use `newframe = frame.copy()`\n",
      "  portfolio_cumulative_returns[n] = (1 + sim_df.fillna(0)).cumprod()\n",
      "C:\\Users\\ryanr\\Desktop\\FinTech-Workspace\\Challenges\\Module_05_Challenge\\financial_planner\\MCForecastTools.py:117: PerformanceWarning: DataFrame is highly fragmented.  This is usually the result of calling `frame.insert` many times, which has poor performance.  Consider joining all columns at once using pd.concat(axis=1) instead. To get a de-fragmented frame, use `newframe = frame.copy()`\n",
      "  portfolio_cumulative_returns[n] = (1 + sim_df.fillna(0)).cumprod()\n"
     ]
    },
    {
     "name": "stdout",
     "output_type": "stream",
     "text": [
      "Running Monte Carlo simulation number 450.\n"
     ]
    },
    {
     "name": "stderr",
     "output_type": "stream",
     "text": [
      "C:\\Users\\ryanr\\Desktop\\FinTech-Workspace\\Challenges\\Module_05_Challenge\\financial_planner\\MCForecastTools.py:117: PerformanceWarning: DataFrame is highly fragmented.  This is usually the result of calling `frame.insert` many times, which has poor performance.  Consider joining all columns at once using pd.concat(axis=1) instead. To get a de-fragmented frame, use `newframe = frame.copy()`\n",
      "  portfolio_cumulative_returns[n] = (1 + sim_df.fillna(0)).cumprod()\n",
      "C:\\Users\\ryanr\\Desktop\\FinTech-Workspace\\Challenges\\Module_05_Challenge\\financial_planner\\MCForecastTools.py:117: PerformanceWarning: DataFrame is highly fragmented.  This is usually the result of calling `frame.insert` many times, which has poor performance.  Consider joining all columns at once using pd.concat(axis=1) instead. To get a de-fragmented frame, use `newframe = frame.copy()`\n",
      "  portfolio_cumulative_returns[n] = (1 + sim_df.fillna(0)).cumprod()\n",
      "C:\\Users\\ryanr\\Desktop\\FinTech-Workspace\\Challenges\\Module_05_Challenge\\financial_planner\\MCForecastTools.py:117: PerformanceWarning: DataFrame is highly fragmented.  This is usually the result of calling `frame.insert` many times, which has poor performance.  Consider joining all columns at once using pd.concat(axis=1) instead. To get a de-fragmented frame, use `newframe = frame.copy()`\n",
      "  portfolio_cumulative_returns[n] = (1 + sim_df.fillna(0)).cumprod()\n",
      "C:\\Users\\ryanr\\Desktop\\FinTech-Workspace\\Challenges\\Module_05_Challenge\\financial_planner\\MCForecastTools.py:117: PerformanceWarning: DataFrame is highly fragmented.  This is usually the result of calling `frame.insert` many times, which has poor performance.  Consider joining all columns at once using pd.concat(axis=1) instead. To get a de-fragmented frame, use `newframe = frame.copy()`\n",
      "  portfolio_cumulative_returns[n] = (1 + sim_df.fillna(0)).cumprod()\n",
      "C:\\Users\\ryanr\\Desktop\\FinTech-Workspace\\Challenges\\Module_05_Challenge\\financial_planner\\MCForecastTools.py:117: PerformanceWarning: DataFrame is highly fragmented.  This is usually the result of calling `frame.insert` many times, which has poor performance.  Consider joining all columns at once using pd.concat(axis=1) instead. To get a de-fragmented frame, use `newframe = frame.copy()`\n",
      "  portfolio_cumulative_returns[n] = (1 + sim_df.fillna(0)).cumprod()\n",
      "C:\\Users\\ryanr\\Desktop\\FinTech-Workspace\\Challenges\\Module_05_Challenge\\financial_planner\\MCForecastTools.py:117: PerformanceWarning: DataFrame is highly fragmented.  This is usually the result of calling `frame.insert` many times, which has poor performance.  Consider joining all columns at once using pd.concat(axis=1) instead. To get a de-fragmented frame, use `newframe = frame.copy()`\n",
      "  portfolio_cumulative_returns[n] = (1 + sim_df.fillna(0)).cumprod()\n",
      "C:\\Users\\ryanr\\Desktop\\FinTech-Workspace\\Challenges\\Module_05_Challenge\\financial_planner\\MCForecastTools.py:117: PerformanceWarning: DataFrame is highly fragmented.  This is usually the result of calling `frame.insert` many times, which has poor performance.  Consider joining all columns at once using pd.concat(axis=1) instead. To get a de-fragmented frame, use `newframe = frame.copy()`\n",
      "  portfolio_cumulative_returns[n] = (1 + sim_df.fillna(0)).cumprod()\n",
      "C:\\Users\\ryanr\\Desktop\\FinTech-Workspace\\Challenges\\Module_05_Challenge\\financial_planner\\MCForecastTools.py:117: PerformanceWarning: DataFrame is highly fragmented.  This is usually the result of calling `frame.insert` many times, which has poor performance.  Consider joining all columns at once using pd.concat(axis=1) instead. To get a de-fragmented frame, use `newframe = frame.copy()`\n",
      "  portfolio_cumulative_returns[n] = (1 + sim_df.fillna(0)).cumprod()\n",
      "C:\\Users\\ryanr\\Desktop\\FinTech-Workspace\\Challenges\\Module_05_Challenge\\financial_planner\\MCForecastTools.py:117: PerformanceWarning: DataFrame is highly fragmented.  This is usually the result of calling `frame.insert` many times, which has poor performance.  Consider joining all columns at once using pd.concat(axis=1) instead. To get a de-fragmented frame, use `newframe = frame.copy()`\n",
      "  portfolio_cumulative_returns[n] = (1 + sim_df.fillna(0)).cumprod()\n",
      "C:\\Users\\ryanr\\Desktop\\FinTech-Workspace\\Challenges\\Module_05_Challenge\\financial_planner\\MCForecastTools.py:117: PerformanceWarning: DataFrame is highly fragmented.  This is usually the result of calling `frame.insert` many times, which has poor performance.  Consider joining all columns at once using pd.concat(axis=1) instead. To get a de-fragmented frame, use `newframe = frame.copy()`\n",
      "  portfolio_cumulative_returns[n] = (1 + sim_df.fillna(0)).cumprod()\n"
     ]
    },
    {
     "name": "stdout",
     "output_type": "stream",
     "text": [
      "Running Monte Carlo simulation number 460.\n"
     ]
    },
    {
     "name": "stderr",
     "output_type": "stream",
     "text": [
      "C:\\Users\\ryanr\\Desktop\\FinTech-Workspace\\Challenges\\Module_05_Challenge\\financial_planner\\MCForecastTools.py:117: PerformanceWarning: DataFrame is highly fragmented.  This is usually the result of calling `frame.insert` many times, which has poor performance.  Consider joining all columns at once using pd.concat(axis=1) instead. To get a de-fragmented frame, use `newframe = frame.copy()`\n",
      "  portfolio_cumulative_returns[n] = (1 + sim_df.fillna(0)).cumprod()\n",
      "C:\\Users\\ryanr\\Desktop\\FinTech-Workspace\\Challenges\\Module_05_Challenge\\financial_planner\\MCForecastTools.py:117: PerformanceWarning: DataFrame is highly fragmented.  This is usually the result of calling `frame.insert` many times, which has poor performance.  Consider joining all columns at once using pd.concat(axis=1) instead. To get a de-fragmented frame, use `newframe = frame.copy()`\n",
      "  portfolio_cumulative_returns[n] = (1 + sim_df.fillna(0)).cumprod()\n",
      "C:\\Users\\ryanr\\Desktop\\FinTech-Workspace\\Challenges\\Module_05_Challenge\\financial_planner\\MCForecastTools.py:117: PerformanceWarning: DataFrame is highly fragmented.  This is usually the result of calling `frame.insert` many times, which has poor performance.  Consider joining all columns at once using pd.concat(axis=1) instead. To get a de-fragmented frame, use `newframe = frame.copy()`\n",
      "  portfolio_cumulative_returns[n] = (1 + sim_df.fillna(0)).cumprod()\n",
      "C:\\Users\\ryanr\\Desktop\\FinTech-Workspace\\Challenges\\Module_05_Challenge\\financial_planner\\MCForecastTools.py:117: PerformanceWarning: DataFrame is highly fragmented.  This is usually the result of calling `frame.insert` many times, which has poor performance.  Consider joining all columns at once using pd.concat(axis=1) instead. To get a de-fragmented frame, use `newframe = frame.copy()`\n",
      "  portfolio_cumulative_returns[n] = (1 + sim_df.fillna(0)).cumprod()\n",
      "C:\\Users\\ryanr\\Desktop\\FinTech-Workspace\\Challenges\\Module_05_Challenge\\financial_planner\\MCForecastTools.py:117: PerformanceWarning: DataFrame is highly fragmented.  This is usually the result of calling `frame.insert` many times, which has poor performance.  Consider joining all columns at once using pd.concat(axis=1) instead. To get a de-fragmented frame, use `newframe = frame.copy()`\n",
      "  portfolio_cumulative_returns[n] = (1 + sim_df.fillna(0)).cumprod()\n",
      "C:\\Users\\ryanr\\Desktop\\FinTech-Workspace\\Challenges\\Module_05_Challenge\\financial_planner\\MCForecastTools.py:117: PerformanceWarning: DataFrame is highly fragmented.  This is usually the result of calling `frame.insert` many times, which has poor performance.  Consider joining all columns at once using pd.concat(axis=1) instead. To get a de-fragmented frame, use `newframe = frame.copy()`\n",
      "  portfolio_cumulative_returns[n] = (1 + sim_df.fillna(0)).cumprod()\n",
      "C:\\Users\\ryanr\\Desktop\\FinTech-Workspace\\Challenges\\Module_05_Challenge\\financial_planner\\MCForecastTools.py:117: PerformanceWarning: DataFrame is highly fragmented.  This is usually the result of calling `frame.insert` many times, which has poor performance.  Consider joining all columns at once using pd.concat(axis=1) instead. To get a de-fragmented frame, use `newframe = frame.copy()`\n",
      "  portfolio_cumulative_returns[n] = (1 + sim_df.fillna(0)).cumprod()\n",
      "C:\\Users\\ryanr\\Desktop\\FinTech-Workspace\\Challenges\\Module_05_Challenge\\financial_planner\\MCForecastTools.py:117: PerformanceWarning: DataFrame is highly fragmented.  This is usually the result of calling `frame.insert` many times, which has poor performance.  Consider joining all columns at once using pd.concat(axis=1) instead. To get a de-fragmented frame, use `newframe = frame.copy()`\n",
      "  portfolio_cumulative_returns[n] = (1 + sim_df.fillna(0)).cumprod()\n",
      "C:\\Users\\ryanr\\Desktop\\FinTech-Workspace\\Challenges\\Module_05_Challenge\\financial_planner\\MCForecastTools.py:117: PerformanceWarning: DataFrame is highly fragmented.  This is usually the result of calling `frame.insert` many times, which has poor performance.  Consider joining all columns at once using pd.concat(axis=1) instead. To get a de-fragmented frame, use `newframe = frame.copy()`\n",
      "  portfolio_cumulative_returns[n] = (1 + sim_df.fillna(0)).cumprod()\n",
      "C:\\Users\\ryanr\\Desktop\\FinTech-Workspace\\Challenges\\Module_05_Challenge\\financial_planner\\MCForecastTools.py:117: PerformanceWarning: DataFrame is highly fragmented.  This is usually the result of calling `frame.insert` many times, which has poor performance.  Consider joining all columns at once using pd.concat(axis=1) instead. To get a de-fragmented frame, use `newframe = frame.copy()`\n",
      "  portfolio_cumulative_returns[n] = (1 + sim_df.fillna(0)).cumprod()\n"
     ]
    },
    {
     "name": "stdout",
     "output_type": "stream",
     "text": [
      "Running Monte Carlo simulation number 470.\n"
     ]
    },
    {
     "name": "stderr",
     "output_type": "stream",
     "text": [
      "C:\\Users\\ryanr\\Desktop\\FinTech-Workspace\\Challenges\\Module_05_Challenge\\financial_planner\\MCForecastTools.py:117: PerformanceWarning: DataFrame is highly fragmented.  This is usually the result of calling `frame.insert` many times, which has poor performance.  Consider joining all columns at once using pd.concat(axis=1) instead. To get a de-fragmented frame, use `newframe = frame.copy()`\n",
      "  portfolio_cumulative_returns[n] = (1 + sim_df.fillna(0)).cumprod()\n",
      "C:\\Users\\ryanr\\Desktop\\FinTech-Workspace\\Challenges\\Module_05_Challenge\\financial_planner\\MCForecastTools.py:117: PerformanceWarning: DataFrame is highly fragmented.  This is usually the result of calling `frame.insert` many times, which has poor performance.  Consider joining all columns at once using pd.concat(axis=1) instead. To get a de-fragmented frame, use `newframe = frame.copy()`\n",
      "  portfolio_cumulative_returns[n] = (1 + sim_df.fillna(0)).cumprod()\n",
      "C:\\Users\\ryanr\\Desktop\\FinTech-Workspace\\Challenges\\Module_05_Challenge\\financial_planner\\MCForecastTools.py:117: PerformanceWarning: DataFrame is highly fragmented.  This is usually the result of calling `frame.insert` many times, which has poor performance.  Consider joining all columns at once using pd.concat(axis=1) instead. To get a de-fragmented frame, use `newframe = frame.copy()`\n",
      "  portfolio_cumulative_returns[n] = (1 + sim_df.fillna(0)).cumprod()\n",
      "C:\\Users\\ryanr\\Desktop\\FinTech-Workspace\\Challenges\\Module_05_Challenge\\financial_planner\\MCForecastTools.py:117: PerformanceWarning: DataFrame is highly fragmented.  This is usually the result of calling `frame.insert` many times, which has poor performance.  Consider joining all columns at once using pd.concat(axis=1) instead. To get a de-fragmented frame, use `newframe = frame.copy()`\n",
      "  portfolio_cumulative_returns[n] = (1 + sim_df.fillna(0)).cumprod()\n",
      "C:\\Users\\ryanr\\Desktop\\FinTech-Workspace\\Challenges\\Module_05_Challenge\\financial_planner\\MCForecastTools.py:117: PerformanceWarning: DataFrame is highly fragmented.  This is usually the result of calling `frame.insert` many times, which has poor performance.  Consider joining all columns at once using pd.concat(axis=1) instead. To get a de-fragmented frame, use `newframe = frame.copy()`\n",
      "  portfolio_cumulative_returns[n] = (1 + sim_df.fillna(0)).cumprod()\n",
      "C:\\Users\\ryanr\\Desktop\\FinTech-Workspace\\Challenges\\Module_05_Challenge\\financial_planner\\MCForecastTools.py:117: PerformanceWarning: DataFrame is highly fragmented.  This is usually the result of calling `frame.insert` many times, which has poor performance.  Consider joining all columns at once using pd.concat(axis=1) instead. To get a de-fragmented frame, use `newframe = frame.copy()`\n",
      "  portfolio_cumulative_returns[n] = (1 + sim_df.fillna(0)).cumprod()\n",
      "C:\\Users\\ryanr\\Desktop\\FinTech-Workspace\\Challenges\\Module_05_Challenge\\financial_planner\\MCForecastTools.py:117: PerformanceWarning: DataFrame is highly fragmented.  This is usually the result of calling `frame.insert` many times, which has poor performance.  Consider joining all columns at once using pd.concat(axis=1) instead. To get a de-fragmented frame, use `newframe = frame.copy()`\n",
      "  portfolio_cumulative_returns[n] = (1 + sim_df.fillna(0)).cumprod()\n",
      "C:\\Users\\ryanr\\Desktop\\FinTech-Workspace\\Challenges\\Module_05_Challenge\\financial_planner\\MCForecastTools.py:117: PerformanceWarning: DataFrame is highly fragmented.  This is usually the result of calling `frame.insert` many times, which has poor performance.  Consider joining all columns at once using pd.concat(axis=1) instead. To get a de-fragmented frame, use `newframe = frame.copy()`\n",
      "  portfolio_cumulative_returns[n] = (1 + sim_df.fillna(0)).cumprod()\n",
      "C:\\Users\\ryanr\\Desktop\\FinTech-Workspace\\Challenges\\Module_05_Challenge\\financial_planner\\MCForecastTools.py:117: PerformanceWarning: DataFrame is highly fragmented.  This is usually the result of calling `frame.insert` many times, which has poor performance.  Consider joining all columns at once using pd.concat(axis=1) instead. To get a de-fragmented frame, use `newframe = frame.copy()`\n",
      "  portfolio_cumulative_returns[n] = (1 + sim_df.fillna(0)).cumprod()\n",
      "C:\\Users\\ryanr\\Desktop\\FinTech-Workspace\\Challenges\\Module_05_Challenge\\financial_planner\\MCForecastTools.py:117: PerformanceWarning: DataFrame is highly fragmented.  This is usually the result of calling `frame.insert` many times, which has poor performance.  Consider joining all columns at once using pd.concat(axis=1) instead. To get a de-fragmented frame, use `newframe = frame.copy()`\n",
      "  portfolio_cumulative_returns[n] = (1 + sim_df.fillna(0)).cumprod()\n",
      "C:\\Users\\ryanr\\Desktop\\FinTech-Workspace\\Challenges\\Module_05_Challenge\\financial_planner\\MCForecastTools.py:117: PerformanceWarning: DataFrame is highly fragmented.  This is usually the result of calling `frame.insert` many times, which has poor performance.  Consider joining all columns at once using pd.concat(axis=1) instead. To get a de-fragmented frame, use `newframe = frame.copy()`\n",
      "  portfolio_cumulative_returns[n] = (1 + sim_df.fillna(0)).cumprod()\n",
      "C:\\Users\\ryanr\\Desktop\\FinTech-Workspace\\Challenges\\Module_05_Challenge\\financial_planner\\MCForecastTools.py:117: PerformanceWarning: DataFrame is highly fragmented.  This is usually the result of calling `frame.insert` many times, which has poor performance.  Consider joining all columns at once using pd.concat(axis=1) instead. To get a de-fragmented frame, use `newframe = frame.copy()`\n",
      "  portfolio_cumulative_returns[n] = (1 + sim_df.fillna(0)).cumprod()\n"
     ]
    },
    {
     "name": "stdout",
     "output_type": "stream",
     "text": [
      "Running Monte Carlo simulation number 480.\n"
     ]
    },
    {
     "name": "stderr",
     "output_type": "stream",
     "text": [
      "C:\\Users\\ryanr\\Desktop\\FinTech-Workspace\\Challenges\\Module_05_Challenge\\financial_planner\\MCForecastTools.py:117: PerformanceWarning: DataFrame is highly fragmented.  This is usually the result of calling `frame.insert` many times, which has poor performance.  Consider joining all columns at once using pd.concat(axis=1) instead. To get a de-fragmented frame, use `newframe = frame.copy()`\n",
      "  portfolio_cumulative_returns[n] = (1 + sim_df.fillna(0)).cumprod()\n",
      "C:\\Users\\ryanr\\Desktop\\FinTech-Workspace\\Challenges\\Module_05_Challenge\\financial_planner\\MCForecastTools.py:117: PerformanceWarning: DataFrame is highly fragmented.  This is usually the result of calling `frame.insert` many times, which has poor performance.  Consider joining all columns at once using pd.concat(axis=1) instead. To get a de-fragmented frame, use `newframe = frame.copy()`\n",
      "  portfolio_cumulative_returns[n] = (1 + sim_df.fillna(0)).cumprod()\n",
      "C:\\Users\\ryanr\\Desktop\\FinTech-Workspace\\Challenges\\Module_05_Challenge\\financial_planner\\MCForecastTools.py:117: PerformanceWarning: DataFrame is highly fragmented.  This is usually the result of calling `frame.insert` many times, which has poor performance.  Consider joining all columns at once using pd.concat(axis=1) instead. To get a de-fragmented frame, use `newframe = frame.copy()`\n",
      "  portfolio_cumulative_returns[n] = (1 + sim_df.fillna(0)).cumprod()\n",
      "C:\\Users\\ryanr\\Desktop\\FinTech-Workspace\\Challenges\\Module_05_Challenge\\financial_planner\\MCForecastTools.py:117: PerformanceWarning: DataFrame is highly fragmented.  This is usually the result of calling `frame.insert` many times, which has poor performance.  Consider joining all columns at once using pd.concat(axis=1) instead. To get a de-fragmented frame, use `newframe = frame.copy()`\n",
      "  portfolio_cumulative_returns[n] = (1 + sim_df.fillna(0)).cumprod()\n",
      "C:\\Users\\ryanr\\Desktop\\FinTech-Workspace\\Challenges\\Module_05_Challenge\\financial_planner\\MCForecastTools.py:117: PerformanceWarning: DataFrame is highly fragmented.  This is usually the result of calling `frame.insert` many times, which has poor performance.  Consider joining all columns at once using pd.concat(axis=1) instead. To get a de-fragmented frame, use `newframe = frame.copy()`\n",
      "  portfolio_cumulative_returns[n] = (1 + sim_df.fillna(0)).cumprod()\n",
      "C:\\Users\\ryanr\\Desktop\\FinTech-Workspace\\Challenges\\Module_05_Challenge\\financial_planner\\MCForecastTools.py:117: PerformanceWarning: DataFrame is highly fragmented.  This is usually the result of calling `frame.insert` many times, which has poor performance.  Consider joining all columns at once using pd.concat(axis=1) instead. To get a de-fragmented frame, use `newframe = frame.copy()`\n",
      "  portfolio_cumulative_returns[n] = (1 + sim_df.fillna(0)).cumprod()\n",
      "C:\\Users\\ryanr\\Desktop\\FinTech-Workspace\\Challenges\\Module_05_Challenge\\financial_planner\\MCForecastTools.py:117: PerformanceWarning: DataFrame is highly fragmented.  This is usually the result of calling `frame.insert` many times, which has poor performance.  Consider joining all columns at once using pd.concat(axis=1) instead. To get a de-fragmented frame, use `newframe = frame.copy()`\n",
      "  portfolio_cumulative_returns[n] = (1 + sim_df.fillna(0)).cumprod()\n",
      "C:\\Users\\ryanr\\Desktop\\FinTech-Workspace\\Challenges\\Module_05_Challenge\\financial_planner\\MCForecastTools.py:117: PerformanceWarning: DataFrame is highly fragmented.  This is usually the result of calling `frame.insert` many times, which has poor performance.  Consider joining all columns at once using pd.concat(axis=1) instead. To get a de-fragmented frame, use `newframe = frame.copy()`\n",
      "  portfolio_cumulative_returns[n] = (1 + sim_df.fillna(0)).cumprod()\n",
      "C:\\Users\\ryanr\\Desktop\\FinTech-Workspace\\Challenges\\Module_05_Challenge\\financial_planner\\MCForecastTools.py:117: PerformanceWarning: DataFrame is highly fragmented.  This is usually the result of calling `frame.insert` many times, which has poor performance.  Consider joining all columns at once using pd.concat(axis=1) instead. To get a de-fragmented frame, use `newframe = frame.copy()`\n",
      "  portfolio_cumulative_returns[n] = (1 + sim_df.fillna(0)).cumprod()\n"
     ]
    },
    {
     "name": "stdout",
     "output_type": "stream",
     "text": [
      "Running Monte Carlo simulation number 490.\n"
     ]
    },
    {
     "name": "stderr",
     "output_type": "stream",
     "text": [
      "C:\\Users\\ryanr\\Desktop\\FinTech-Workspace\\Challenges\\Module_05_Challenge\\financial_planner\\MCForecastTools.py:117: PerformanceWarning: DataFrame is highly fragmented.  This is usually the result of calling `frame.insert` many times, which has poor performance.  Consider joining all columns at once using pd.concat(axis=1) instead. To get a de-fragmented frame, use `newframe = frame.copy()`\n",
      "  portfolio_cumulative_returns[n] = (1 + sim_df.fillna(0)).cumprod()\n",
      "C:\\Users\\ryanr\\Desktop\\FinTech-Workspace\\Challenges\\Module_05_Challenge\\financial_planner\\MCForecastTools.py:117: PerformanceWarning: DataFrame is highly fragmented.  This is usually the result of calling `frame.insert` many times, which has poor performance.  Consider joining all columns at once using pd.concat(axis=1) instead. To get a de-fragmented frame, use `newframe = frame.copy()`\n",
      "  portfolio_cumulative_returns[n] = (1 + sim_df.fillna(0)).cumprod()\n",
      "C:\\Users\\ryanr\\Desktop\\FinTech-Workspace\\Challenges\\Module_05_Challenge\\financial_planner\\MCForecastTools.py:117: PerformanceWarning: DataFrame is highly fragmented.  This is usually the result of calling `frame.insert` many times, which has poor performance.  Consider joining all columns at once using pd.concat(axis=1) instead. To get a de-fragmented frame, use `newframe = frame.copy()`\n",
      "  portfolio_cumulative_returns[n] = (1 + sim_df.fillna(0)).cumprod()\n",
      "C:\\Users\\ryanr\\Desktop\\FinTech-Workspace\\Challenges\\Module_05_Challenge\\financial_planner\\MCForecastTools.py:117: PerformanceWarning: DataFrame is highly fragmented.  This is usually the result of calling `frame.insert` many times, which has poor performance.  Consider joining all columns at once using pd.concat(axis=1) instead. To get a de-fragmented frame, use `newframe = frame.copy()`\n",
      "  portfolio_cumulative_returns[n] = (1 + sim_df.fillna(0)).cumprod()\n",
      "C:\\Users\\ryanr\\Desktop\\FinTech-Workspace\\Challenges\\Module_05_Challenge\\financial_planner\\MCForecastTools.py:117: PerformanceWarning: DataFrame is highly fragmented.  This is usually the result of calling `frame.insert` many times, which has poor performance.  Consider joining all columns at once using pd.concat(axis=1) instead. To get a de-fragmented frame, use `newframe = frame.copy()`\n",
      "  portfolio_cumulative_returns[n] = (1 + sim_df.fillna(0)).cumprod()\n",
      "C:\\Users\\ryanr\\Desktop\\FinTech-Workspace\\Challenges\\Module_05_Challenge\\financial_planner\\MCForecastTools.py:117: PerformanceWarning: DataFrame is highly fragmented.  This is usually the result of calling `frame.insert` many times, which has poor performance.  Consider joining all columns at once using pd.concat(axis=1) instead. To get a de-fragmented frame, use `newframe = frame.copy()`\n",
      "  portfolio_cumulative_returns[n] = (1 + sim_df.fillna(0)).cumprod()\n",
      "C:\\Users\\ryanr\\Desktop\\FinTech-Workspace\\Challenges\\Module_05_Challenge\\financial_planner\\MCForecastTools.py:117: PerformanceWarning: DataFrame is highly fragmented.  This is usually the result of calling `frame.insert` many times, which has poor performance.  Consider joining all columns at once using pd.concat(axis=1) instead. To get a de-fragmented frame, use `newframe = frame.copy()`\n",
      "  portfolio_cumulative_returns[n] = (1 + sim_df.fillna(0)).cumprod()\n",
      "C:\\Users\\ryanr\\Desktop\\FinTech-Workspace\\Challenges\\Module_05_Challenge\\financial_planner\\MCForecastTools.py:117: PerformanceWarning: DataFrame is highly fragmented.  This is usually the result of calling `frame.insert` many times, which has poor performance.  Consider joining all columns at once using pd.concat(axis=1) instead. To get a de-fragmented frame, use `newframe = frame.copy()`\n",
      "  portfolio_cumulative_returns[n] = (1 + sim_df.fillna(0)).cumprod()\n",
      "C:\\Users\\ryanr\\Desktop\\FinTech-Workspace\\Challenges\\Module_05_Challenge\\financial_planner\\MCForecastTools.py:117: PerformanceWarning: DataFrame is highly fragmented.  This is usually the result of calling `frame.insert` many times, which has poor performance.  Consider joining all columns at once using pd.concat(axis=1) instead. To get a de-fragmented frame, use `newframe = frame.copy()`\n",
      "  portfolio_cumulative_returns[n] = (1 + sim_df.fillna(0)).cumprod()\n"
     ]
    },
    {
     "data": {
      "text/html": [
       "<div>\n",
       "<style scoped>\n",
       "    .dataframe tbody tr th:only-of-type {\n",
       "        vertical-align: middle;\n",
       "    }\n",
       "\n",
       "    .dataframe tbody tr th {\n",
       "        vertical-align: top;\n",
       "    }\n",
       "\n",
       "    .dataframe thead th {\n",
       "        text-align: right;\n",
       "    }\n",
       "</style>\n",
       "<table border=\"1\" class=\"dataframe\">\n",
       "  <thead>\n",
       "    <tr style=\"text-align: right;\">\n",
       "      <th></th>\n",
       "      <th>0</th>\n",
       "      <th>1</th>\n",
       "      <th>2</th>\n",
       "      <th>3</th>\n",
       "      <th>4</th>\n",
       "      <th>5</th>\n",
       "      <th>6</th>\n",
       "      <th>7</th>\n",
       "      <th>8</th>\n",
       "      <th>9</th>\n",
       "      <th>...</th>\n",
       "      <th>490</th>\n",
       "      <th>491</th>\n",
       "      <th>492</th>\n",
       "      <th>493</th>\n",
       "      <th>494</th>\n",
       "      <th>495</th>\n",
       "      <th>496</th>\n",
       "      <th>497</th>\n",
       "      <th>498</th>\n",
       "      <th>499</th>\n",
       "    </tr>\n",
       "  </thead>\n",
       "  <tbody>\n",
       "    <tr>\n",
       "      <th>0</th>\n",
       "      <td>1.000000</td>\n",
       "      <td>1.000000</td>\n",
       "      <td>1.000000</td>\n",
       "      <td>1.000000</td>\n",
       "      <td>1.000000</td>\n",
       "      <td>1.000000</td>\n",
       "      <td>1.000000</td>\n",
       "      <td>1.000000</td>\n",
       "      <td>1.000000</td>\n",
       "      <td>1.000000</td>\n",
       "      <td>...</td>\n",
       "      <td>1.000000</td>\n",
       "      <td>1.000000</td>\n",
       "      <td>1.000000</td>\n",
       "      <td>1.000000</td>\n",
       "      <td>1.000000</td>\n",
       "      <td>1.000000</td>\n",
       "      <td>1.000000</td>\n",
       "      <td>1.000000</td>\n",
       "      <td>1.000000</td>\n",
       "      <td>1.000000</td>\n",
       "    </tr>\n",
       "    <tr>\n",
       "      <th>1</th>\n",
       "      <td>1.005149</td>\n",
       "      <td>0.995208</td>\n",
       "      <td>1.004761</td>\n",
       "      <td>0.988330</td>\n",
       "      <td>0.979102</td>\n",
       "      <td>0.992140</td>\n",
       "      <td>1.014109</td>\n",
       "      <td>1.003089</td>\n",
       "      <td>1.003383</td>\n",
       "      <td>0.998675</td>\n",
       "      <td>...</td>\n",
       "      <td>1.000178</td>\n",
       "      <td>0.998293</td>\n",
       "      <td>1.003668</td>\n",
       "      <td>1.007879</td>\n",
       "      <td>1.008456</td>\n",
       "      <td>0.992509</td>\n",
       "      <td>1.013651</td>\n",
       "      <td>0.995257</td>\n",
       "      <td>0.998793</td>\n",
       "      <td>0.994923</td>\n",
       "    </tr>\n",
       "    <tr>\n",
       "      <th>2</th>\n",
       "      <td>1.017182</td>\n",
       "      <td>0.985297</td>\n",
       "      <td>0.998259</td>\n",
       "      <td>0.989547</td>\n",
       "      <td>0.967578</td>\n",
       "      <td>0.989984</td>\n",
       "      <td>1.013735</td>\n",
       "      <td>1.003744</td>\n",
       "      <td>1.010695</td>\n",
       "      <td>0.989381</td>\n",
       "      <td>...</td>\n",
       "      <td>1.013025</td>\n",
       "      <td>0.996346</td>\n",
       "      <td>0.997543</td>\n",
       "      <td>1.020166</td>\n",
       "      <td>1.002882</td>\n",
       "      <td>0.980921</td>\n",
       "      <td>1.003769</td>\n",
       "      <td>1.001357</td>\n",
       "      <td>0.997302</td>\n",
       "      <td>0.983333</td>\n",
       "    </tr>\n",
       "    <tr>\n",
       "      <th>3</th>\n",
       "      <td>1.011924</td>\n",
       "      <td>0.980665</td>\n",
       "      <td>1.002351</td>\n",
       "      <td>0.989175</td>\n",
       "      <td>0.963778</td>\n",
       "      <td>0.996559</td>\n",
       "      <td>1.005636</td>\n",
       "      <td>0.994317</td>\n",
       "      <td>1.003039</td>\n",
       "      <td>0.980857</td>\n",
       "      <td>...</td>\n",
       "      <td>1.006201</td>\n",
       "      <td>1.013877</td>\n",
       "      <td>0.999974</td>\n",
       "      <td>1.011884</td>\n",
       "      <td>1.003789</td>\n",
       "      <td>0.982342</td>\n",
       "      <td>1.014343</td>\n",
       "      <td>0.972377</td>\n",
       "      <td>0.999090</td>\n",
       "      <td>0.994334</td>\n",
       "    </tr>\n",
       "    <tr>\n",
       "      <th>4</th>\n",
       "      <td>1.007520</td>\n",
       "      <td>0.977637</td>\n",
       "      <td>1.003317</td>\n",
       "      <td>0.989370</td>\n",
       "      <td>0.970058</td>\n",
       "      <td>1.006446</td>\n",
       "      <td>0.995063</td>\n",
       "      <td>0.988658</td>\n",
       "      <td>0.996352</td>\n",
       "      <td>1.004275</td>\n",
       "      <td>...</td>\n",
       "      <td>0.993950</td>\n",
       "      <td>1.016685</td>\n",
       "      <td>1.003418</td>\n",
       "      <td>0.991206</td>\n",
       "      <td>0.997389</td>\n",
       "      <td>0.973460</td>\n",
       "      <td>1.003874</td>\n",
       "      <td>0.974034</td>\n",
       "      <td>1.012444</td>\n",
       "      <td>1.006735</td>\n",
       "    </tr>\n",
       "    <tr>\n",
       "      <th>...</th>\n",
       "      <td>...</td>\n",
       "      <td>...</td>\n",
       "      <td>...</td>\n",
       "      <td>...</td>\n",
       "      <td>...</td>\n",
       "      <td>...</td>\n",
       "      <td>...</td>\n",
       "      <td>...</td>\n",
       "      <td>...</td>\n",
       "      <td>...</td>\n",
       "      <td>...</td>\n",
       "      <td>...</td>\n",
       "      <td>...</td>\n",
       "      <td>...</td>\n",
       "      <td>...</td>\n",
       "      <td>...</td>\n",
       "      <td>...</td>\n",
       "      <td>...</td>\n",
       "      <td>...</td>\n",
       "      <td>...</td>\n",
       "      <td>...</td>\n",
       "    </tr>\n",
       "    <tr>\n",
       "      <th>2516</th>\n",
       "      <td>4.876306</td>\n",
       "      <td>1.259347</td>\n",
       "      <td>3.969092</td>\n",
       "      <td>2.328250</td>\n",
       "      <td>2.667505</td>\n",
       "      <td>3.072751</td>\n",
       "      <td>3.891183</td>\n",
       "      <td>1.404540</td>\n",
       "      <td>2.758196</td>\n",
       "      <td>2.752272</td>\n",
       "      <td>...</td>\n",
       "      <td>1.321001</td>\n",
       "      <td>3.115248</td>\n",
       "      <td>3.361179</td>\n",
       "      <td>3.421239</td>\n",
       "      <td>3.651350</td>\n",
       "      <td>2.531181</td>\n",
       "      <td>2.758272</td>\n",
       "      <td>4.450717</td>\n",
       "      <td>4.674220</td>\n",
       "      <td>2.339364</td>\n",
       "    </tr>\n",
       "    <tr>\n",
       "      <th>2517</th>\n",
       "      <td>4.919857</td>\n",
       "      <td>1.255037</td>\n",
       "      <td>4.008841</td>\n",
       "      <td>2.372502</td>\n",
       "      <td>2.632763</td>\n",
       "      <td>3.059842</td>\n",
       "      <td>3.870869</td>\n",
       "      <td>1.404878</td>\n",
       "      <td>2.721746</td>\n",
       "      <td>2.770282</td>\n",
       "      <td>...</td>\n",
       "      <td>1.328123</td>\n",
       "      <td>3.146551</td>\n",
       "      <td>3.326715</td>\n",
       "      <td>3.387141</td>\n",
       "      <td>3.623743</td>\n",
       "      <td>2.480689</td>\n",
       "      <td>2.786559</td>\n",
       "      <td>4.454478</td>\n",
       "      <td>4.671679</td>\n",
       "      <td>2.326785</td>\n",
       "    </tr>\n",
       "    <tr>\n",
       "      <th>2518</th>\n",
       "      <td>4.950361</td>\n",
       "      <td>1.236572</td>\n",
       "      <td>4.006581</td>\n",
       "      <td>2.336578</td>\n",
       "      <td>2.657805</td>\n",
       "      <td>3.067217</td>\n",
       "      <td>3.855785</td>\n",
       "      <td>1.416100</td>\n",
       "      <td>2.726970</td>\n",
       "      <td>2.798156</td>\n",
       "      <td>...</td>\n",
       "      <td>1.307765</td>\n",
       "      <td>3.178346</td>\n",
       "      <td>3.395562</td>\n",
       "      <td>3.370450</td>\n",
       "      <td>3.642872</td>\n",
       "      <td>2.479237</td>\n",
       "      <td>2.751654</td>\n",
       "      <td>4.426775</td>\n",
       "      <td>4.750084</td>\n",
       "      <td>2.309910</td>\n",
       "    </tr>\n",
       "    <tr>\n",
       "      <th>2519</th>\n",
       "      <td>4.948567</td>\n",
       "      <td>1.245856</td>\n",
       "      <td>3.987003</td>\n",
       "      <td>2.355751</td>\n",
       "      <td>2.649449</td>\n",
       "      <td>3.047690</td>\n",
       "      <td>3.934595</td>\n",
       "      <td>1.413163</td>\n",
       "      <td>2.700278</td>\n",
       "      <td>2.802152</td>\n",
       "      <td>...</td>\n",
       "      <td>1.314285</td>\n",
       "      <td>3.149951</td>\n",
       "      <td>3.438016</td>\n",
       "      <td>3.353772</td>\n",
       "      <td>3.652243</td>\n",
       "      <td>2.492284</td>\n",
       "      <td>2.753392</td>\n",
       "      <td>4.424949</td>\n",
       "      <td>4.758799</td>\n",
       "      <td>2.305895</td>\n",
       "    </tr>\n",
       "    <tr>\n",
       "      <th>2520</th>\n",
       "      <td>4.937027</td>\n",
       "      <td>1.234821</td>\n",
       "      <td>4.007917</td>\n",
       "      <td>2.348058</td>\n",
       "      <td>2.605882</td>\n",
       "      <td>3.027014</td>\n",
       "      <td>3.915032</td>\n",
       "      <td>1.423363</td>\n",
       "      <td>2.716023</td>\n",
       "      <td>2.783741</td>\n",
       "      <td>...</td>\n",
       "      <td>1.331505</td>\n",
       "      <td>3.105344</td>\n",
       "      <td>3.413484</td>\n",
       "      <td>3.348177</td>\n",
       "      <td>3.583815</td>\n",
       "      <td>2.492207</td>\n",
       "      <td>2.758083</td>\n",
       "      <td>4.434181</td>\n",
       "      <td>4.670777</td>\n",
       "      <td>2.298316</td>\n",
       "    </tr>\n",
       "  </tbody>\n",
       "</table>\n",
       "<p>2521 rows × 500 columns</p>\n",
       "</div>"
      ],
      "text/plain": [
       "           0         1         2         3         4         5         6    \\\n",
       "0     1.000000  1.000000  1.000000  1.000000  1.000000  1.000000  1.000000   \n",
       "1     1.005149  0.995208  1.004761  0.988330  0.979102  0.992140  1.014109   \n",
       "2     1.017182  0.985297  0.998259  0.989547  0.967578  0.989984  1.013735   \n",
       "3     1.011924  0.980665  1.002351  0.989175  0.963778  0.996559  1.005636   \n",
       "4     1.007520  0.977637  1.003317  0.989370  0.970058  1.006446  0.995063   \n",
       "...        ...       ...       ...       ...       ...       ...       ...   \n",
       "2516  4.876306  1.259347  3.969092  2.328250  2.667505  3.072751  3.891183   \n",
       "2517  4.919857  1.255037  4.008841  2.372502  2.632763  3.059842  3.870869   \n",
       "2518  4.950361  1.236572  4.006581  2.336578  2.657805  3.067217  3.855785   \n",
       "2519  4.948567  1.245856  3.987003  2.355751  2.649449  3.047690  3.934595   \n",
       "2520  4.937027  1.234821  4.007917  2.348058  2.605882  3.027014  3.915032   \n",
       "\n",
       "           7         8         9    ...       490       491       492  \\\n",
       "0     1.000000  1.000000  1.000000  ...  1.000000  1.000000  1.000000   \n",
       "1     1.003089  1.003383  0.998675  ...  1.000178  0.998293  1.003668   \n",
       "2     1.003744  1.010695  0.989381  ...  1.013025  0.996346  0.997543   \n",
       "3     0.994317  1.003039  0.980857  ...  1.006201  1.013877  0.999974   \n",
       "4     0.988658  0.996352  1.004275  ...  0.993950  1.016685  1.003418   \n",
       "...        ...       ...       ...  ...       ...       ...       ...   \n",
       "2516  1.404540  2.758196  2.752272  ...  1.321001  3.115248  3.361179   \n",
       "2517  1.404878  2.721746  2.770282  ...  1.328123  3.146551  3.326715   \n",
       "2518  1.416100  2.726970  2.798156  ...  1.307765  3.178346  3.395562   \n",
       "2519  1.413163  2.700278  2.802152  ...  1.314285  3.149951  3.438016   \n",
       "2520  1.423363  2.716023  2.783741  ...  1.331505  3.105344  3.413484   \n",
       "\n",
       "           493       494       495       496       497       498       499  \n",
       "0     1.000000  1.000000  1.000000  1.000000  1.000000  1.000000  1.000000  \n",
       "1     1.007879  1.008456  0.992509  1.013651  0.995257  0.998793  0.994923  \n",
       "2     1.020166  1.002882  0.980921  1.003769  1.001357  0.997302  0.983333  \n",
       "3     1.011884  1.003789  0.982342  1.014343  0.972377  0.999090  0.994334  \n",
       "4     0.991206  0.997389  0.973460  1.003874  0.974034  1.012444  1.006735  \n",
       "...        ...       ...       ...       ...       ...       ...       ...  \n",
       "2516  3.421239  3.651350  2.531181  2.758272  4.450717  4.674220  2.339364  \n",
       "2517  3.387141  3.623743  2.480689  2.786559  4.454478  4.671679  2.326785  \n",
       "2518  3.370450  3.642872  2.479237  2.751654  4.426775  4.750084  2.309910  \n",
       "2519  3.353772  3.652243  2.492284  2.753392  4.424949  4.758799  2.305895  \n",
       "2520  3.348177  3.583815  2.492207  2.758083  4.434181  4.670777  2.298316  \n",
       "\n",
       "[2521 rows x 500 columns]"
      ]
     },
     "execution_count": 148,
     "metadata": {},
     "output_type": "execute_result"
    }
   ],
   "source": [
    "# Run the Monte Carlo simulation to forecast 10 years cumulative returns\n",
    "mc_20_80_10year.calc_cumulative_return()"
   ]
  },
  {
   "cell_type": "code",
   "execution_count": 149,
   "metadata": {},
   "outputs": [
    {
     "data": {
      "text/plain": [
       "<AxesSubplot:title={'center':'500 Simulations of Cumulative Portfolio Return Trajectories Over the Next 2520 Trading Days.'}>"
      ]
     },
     "execution_count": 149,
     "metadata": {},
     "output_type": "execute_result"
    },
    {
     "data": {
      "image/png": "[encoded data removed]",
      "text/plain": [
       "<Figure size 432x288 with 1 Axes>"
      ]
     },
     "metadata": {
      "needs_background": "light"
     },
     "output_type": "display_data"
    }
   ],
   "source": [
    "# Visualize the 10-year Monte Carlo simulation by creating an\n",
    "# overlay line plot\n",
    "mc_20_80_10year.plot_simulation()"
   ]
  },
  {
   "cell_type": "code",
   "execution_count": 150,
   "metadata": {},
   "outputs": [
    {
     "data": {
      "text/plain": [
       "<AxesSubplot:title={'center':'Distribution of Final Cumuluative Returns Across All 500 Simulations'}, ylabel='Frequency'>"
      ]
     },
     "execution_count": 150,
     "metadata": {},
     "output_type": "execute_result"
    },
    {
     "data": {
      "image/png": "[encoded data removed]",
      "text/plain": [
       "<Figure size 432x288 with 1 Axes>"
      ]
     },
     "metadata": {
      "needs_background": "light"
     },
     "output_type": "display_data"
    }
   ],
   "source": [
    "# Visualize the probability distribution of the 10-year Monte Carlo simulation \n",
    "# by plotting a histogram\n",
    "mc_20_80_10year.plot_distribution()"
   ]
  },
  {
   "cell_type": "code",
   "execution_count": 151,
   "metadata": {},
   "outputs": [
    {
     "name": "stderr",
     "output_type": "stream",
     "text": [
      "C:\\Users\\ryanr\\Desktop\\FinTech-Workspace\\Challenges\\Module_05_Challenge\\financial_planner\\MCForecastTools.py:172: FutureWarning: The series.append method is deprecated and will be removed from pandas in a future version. Use pandas.concat instead.\n",
      "  return metrics.append(ci_series)\n"
     ]
    },
    {
     "data": {
      "text/plain": [
       "count           500.000000\n",
       "mean              4.242434\n",
       "std               2.710990\n",
       "min               0.880267\n",
       "25%               2.465358\n",
       "50%               3.411483\n",
       "75%               5.095244\n",
       "max              19.692758\n",
       "95% CI Lower      1.290957\n",
       "95% CI Upper     11.746156\n",
       "Name: 2520, dtype: float64"
      ]
     },
     "execution_count": 151,
     "metadata": {},
     "output_type": "execute_result"
    }
   ],
   "source": [
    "# Generate summary statistics from the 10-year Monte Carlo simulation results\n",
    "# Save the results as a variable\n",
    "mc_20_80_10year_summary = mc_20_80_10year.summarize_cumulative_return()\n",
    "\n",
    "# Review the 10-year Monte Carlo summary statistics\n",
    "mc_20_80_10year_summary"
   ]
  },
  {
   "cell_type": "markdown",
   "metadata": {},
   "source": [
    "### Answer the following questions:"
   ]
  },
  {
   "cell_type": "markdown",
   "metadata": {},
   "source": [
    "#### Question: Using the current value of only the stock and bond portion of the member's portfolio and the summary statistics that you generated from the new Monte Carlo simulation, what are the lower and upper bounds for the expected value of the portfolio (with the new weights) with a 95% confidence interval?"
   ]
  },
  {
   "cell_type": "code",
   "execution_count": 152,
   "metadata": {},
   "outputs": [
    {
     "name": "stdout",
     "output_type": "stream",
     "text": [
      "The current balance of the stock and bond portion of your portfolio is: $ 70517.20\n"
     ]
    }
   ],
   "source": [
    "# Print the current balance of the stock and bond portion of the members portfolio\n",
    "print(f\"The current balance of the stock and bond portion of your portfolio is: ${total_stocks_bonds: .2f}\")"
   ]
  },
  {
   "cell_type": "code",
   "execution_count": 154,
   "metadata": {},
   "outputs": [
    {
     "name": "stdout",
     "output_type": "stream",
     "text": [
      "There is a 95% chance that your stock and bond portfolio, currently valued at $ 70517.20, with a 20% bond weighting and 80% stock weighting over the next 10 years will grow within the range of $91034.65 and $828306.02. With an average expected value of $ 299164.58\n"
     ]
    }
   ],
   "source": [
    "# Use the lower and upper `95%` confidence intervals to calculate the range of the possible outcomes for the current stock/bond portfolio\n",
    "ci_lower_ten_cumulative_return = round(mc_20_80_10year_summary[8] * total_stocks_bonds,2)\n",
    "ci_upper_ten_cumulative_return = round(mc_20_80_10year_summary[9] * total_stocks_bonds,2)\n",
    "\n",
    "# Print the result of your calculations\n",
    "print(f\"There is a 95% chance that your stock and bond portfolio, currently valued at ${total_stocks_bonds: .2f}, \"\n",
    "      f\"with a 20% bond weighting and 80% stock weighting over the next 10 years will grow within the range of \"\n",
    "      f\"${ci_lower_ten_cumulative_return} and ${ci_upper_ten_cumulative_return}. With an average expected value of ${(mc_20_80_10year_summary[1] * total_stocks_bonds): .2f}\")"
   ]
  },
  {
   "cell_type": "markdown",
   "metadata": {},
   "source": [
    "#### Question: Will weighting the portfolio more heavily to stocks allow the credit union members to retire after only 10 years?"
   ]
  },
  {
   "cell_type": "raw",
   "metadata": {},
   "source": [
    "**Answer** No, the max return of $828k and average of only $299k is not enough to retire with in today's economic climate"
   ]
  },
  {
   "cell_type": "code",
   "execution_count": null,
   "metadata": {},
   "outputs": [],
   "source": []
  }
 ],
 "metadata": {
  "kernelspec": {
   "display_name": "Python 3 (ipykernel)",
   "language": "python",
   "name": "python3"
  },
  "language_info": {
   "codemirror_mode": {
    "name": "ipython",
    "version": 3
   },
   "file_extension": ".py",
   "mimetype": "text/x-python",
   "name": "python",
   "nbconvert_exporter": "python",
   "pygments_lexer": "ipython3",
   "version": "3.9.7"
  }
 },
 "nbformat": 4,
 "nbformat_minor": 4
}
